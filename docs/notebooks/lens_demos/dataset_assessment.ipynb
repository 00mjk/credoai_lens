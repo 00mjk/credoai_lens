{
 "cells": [
  {
   "cell_type": "markdown",
   "metadata": {},
   "source": [
    "# Structured Dataset Assessment with Lens\n",
    "\n",
    "## What is Covered <a name=\"What-is-Covered\"></a>\n",
    "* **Domain:**\n",
    "  * Applications that rely on structured datasets with sensitive attributes.\n",
    "\n",
    "\n",
    "* **ML task:**\n",
    "  * Model training, validation, and testing with structured datasets.\n",
    "  \n",
    "### Find the code\n",
    "This notebook can be found on [github](https://github.com/credo-ai/credoai_lens/blob/develop/docs/notebooks/lens_demos/dataset_assessment.ipynb)."
   ]
  },
  {
   "cell_type": "markdown",
   "metadata": {},
   "source": [
    "## Introduction <a name=\"Introduction\"></a>\n",
    "Structured data conforms to a tabular format with relationship between the different rows and columns. Many machine learning models are trained, validated, and tested on structured datasets.\n",
    "\n",
    "Biases in data might result in biased algorithmic outcomes. Structured Dataset Assessment tool enables the assessment of a structured dataset for biases. It assesses a dataset for the representation of demographic groups and presence of proxies. It is demonstrated here on the [Census Adult Dataset](https://archive.ics.uci.edu/ml/datasets/adult)."
   ]
  },
  {
   "cell_type": "markdown",
   "metadata": {},
   "source": [
    "## Dataset <a name=\"Dataset\"></a>\n",
    "The [Census Adult Dataset](https://archive.ics.uci.edu/ml/datasets/adult) is from the Census Bureau and the label is whether a given adult makes more than $50K a year based attributes such as sex and education.\n",
    "\n",
    "The dataset provides 13 input variables that are a mixture of categorical, ordinal, and numerical data types. The complete list of variables is as follows:\n",
    "\n",
    "Age, Workclass, Education, Education Number of Years, Marital-status, Occupation, Relationship, Race, Sex, Capital-gain, Capital-loss, Hours-per-week, and Native-country."
   ]
  },
  {
   "cell_type": "code",
   "execution_count": 1,
   "metadata": {},
   "outputs": [],
   "source": [
    "# Imports for demo data\n",
    "from credoai.data import fetch_censusincome\n",
    "\n",
    "# Base Lens imports\n",
    "import credoai.lens as cl\n",
    "\n",
    "\n",
    "# set default format for image displays. Change to 'png' if 'svg' is failing\n",
    "%config InlineBackend.figure_formats = ['svg']"
   ]
  },
  {
   "cell_type": "code",
   "execution_count": 2,
   "metadata": {},
   "outputs": [],
   "source": [
    "data = fetch_censusincome()\n",
    "df = data['data'].copy()\n",
    "df['target'] = data['target']"
   ]
  },
  {
   "cell_type": "code",
   "execution_count": 3,
   "metadata": {},
   "outputs": [
    {
     "data": {
      "text/html": [
       "<div>\n",
       "<style scoped>\n",
       "    .dataframe tbody tr th:only-of-type {\n",
       "        vertical-align: middle;\n",
       "    }\n",
       "\n",
       "    .dataframe tbody tr th {\n",
       "        vertical-align: top;\n",
       "    }\n",
       "\n",
       "    .dataframe thead th {\n",
       "        text-align: right;\n",
       "    }\n",
       "</style>\n",
       "<table border=\"1\" class=\"dataframe\">\n",
       "  <thead>\n",
       "    <tr style=\"text-align: right;\">\n",
       "      <th></th>\n",
       "      <th>age</th>\n",
       "      <th>workclass</th>\n",
       "      <th>education</th>\n",
       "      <th>education.num</th>\n",
       "      <th>marital.status</th>\n",
       "      <th>occupation</th>\n",
       "      <th>relationship</th>\n",
       "      <th>race</th>\n",
       "      <th>sex</th>\n",
       "      <th>capital.gain</th>\n",
       "      <th>capital.loss</th>\n",
       "      <th>hours.per.week</th>\n",
       "      <th>native.country</th>\n",
       "      <th>target</th>\n",
       "    </tr>\n",
       "  </thead>\n",
       "  <tbody>\n",
       "    <tr>\n",
       "      <th>0</th>\n",
       "      <td>39.0</td>\n",
       "      <td>State-gov</td>\n",
       "      <td>Bachelors</td>\n",
       "      <td>13.0</td>\n",
       "      <td>Never-married</td>\n",
       "      <td>Adm-clerical</td>\n",
       "      <td>Not-in-family</td>\n",
       "      <td>White</td>\n",
       "      <td>Male</td>\n",
       "      <td>2174.0</td>\n",
       "      <td>0.0</td>\n",
       "      <td>40.0</td>\n",
       "      <td>United-States</td>\n",
       "      <td>0</td>\n",
       "    </tr>\n",
       "    <tr>\n",
       "      <th>1</th>\n",
       "      <td>50.0</td>\n",
       "      <td>Self-emp-not-inc</td>\n",
       "      <td>Bachelors</td>\n",
       "      <td>13.0</td>\n",
       "      <td>Married-civ-spouse</td>\n",
       "      <td>Exec-managerial</td>\n",
       "      <td>Husband</td>\n",
       "      <td>White</td>\n",
       "      <td>Male</td>\n",
       "      <td>0.0</td>\n",
       "      <td>0.0</td>\n",
       "      <td>13.0</td>\n",
       "      <td>United-States</td>\n",
       "      <td>0</td>\n",
       "    </tr>\n",
       "    <tr>\n",
       "      <th>2</th>\n",
       "      <td>38.0</td>\n",
       "      <td>Private</td>\n",
       "      <td>HS-grad</td>\n",
       "      <td>9.0</td>\n",
       "      <td>Divorced</td>\n",
       "      <td>Handlers-cleaners</td>\n",
       "      <td>Not-in-family</td>\n",
       "      <td>White</td>\n",
       "      <td>Male</td>\n",
       "      <td>0.0</td>\n",
       "      <td>0.0</td>\n",
       "      <td>40.0</td>\n",
       "      <td>United-States</td>\n",
       "      <td>0</td>\n",
       "    </tr>\n",
       "  </tbody>\n",
       "</table>\n",
       "</div>"
      ],
      "text/plain": [
       "    age         workclass  education  education.num      marital.status  \\\n",
       "0  39.0         State-gov  Bachelors           13.0       Never-married   \n",
       "1  50.0  Self-emp-not-inc  Bachelors           13.0  Married-civ-spouse   \n",
       "2  38.0           Private    HS-grad            9.0            Divorced   \n",
       "\n",
       "          occupation   relationship   race   sex  capital.gain  capital.loss  \\\n",
       "0       Adm-clerical  Not-in-family  White  Male        2174.0           0.0   \n",
       "1    Exec-managerial        Husband  White  Male           0.0           0.0   \n",
       "2  Handlers-cleaners  Not-in-family  White  Male           0.0           0.0   \n",
       "\n",
       "   hours.per.week native.country target  \n",
       "0            40.0  United-States      0  \n",
       "1            13.0  United-States      0  \n",
       "2            40.0  United-States      0  "
      ]
     },
     "execution_count": 3,
     "metadata": {},
     "output_type": "execute_result"
    }
   ],
   "source": [
    "df.head(3)"
   ]
  },
  {
   "cell_type": "markdown",
   "metadata": {},
   "source": [
    "The dataset contains missing values that are marked with a question mark character (?). Let's drop samples with missing values."
   ]
  },
  {
   "cell_type": "code",
   "execution_count": 4,
   "metadata": {},
   "outputs": [],
   "source": [
    "df = df[(df != '?').all(axis=1)]"
   ]
  },
  {
   "cell_type": "markdown",
   "metadata": {},
   "source": [
    "## Running Lens <a name=\"Running-Lens\"></a>\n",
    "First step is creating a Lens CredoData artifact. This will hold the structured dataset and the meta information needed for doing the assessment. CredoData has the following paramters:\n",
    "\n",
    "`name` : an arbitrary name that you want to assign to the object (str)\n",
    "\n",
    "\n",
    "`data` : dataset dataframe that includes all features and labels (pd.DataFrame)\n",
    "\n",
    "\n",
    "`sensitive_feature_key` : name of the sensitive feature column in your data, like 'race' or 'gender' (str)\n",
    "\n",
    "\n",
    "`label_key` : name of the label column in your data, like 'label' (str)\n",
    "\n",
    "\n",
    "`categorical_features_keys` : names of the categorical features in your data (including the sensitive feature, if applicable). If not provided, Lens will automatically estimate them (list[str], optional )"
   ]
  },
  {
   "cell_type": "markdown",
   "metadata": {},
   "source": [
    "### Sex as Sensitive Feature  <a name=\"Gender-as-Sensitive-Feature\"></a>\n",
    "Let's perform the assessment with `sex` as the sensitive attributes. We also specify the categorical features as it is always safer to do so when they are known."
   ]
  },
  {
   "cell_type": "code",
   "execution_count": 5,
   "metadata": {},
   "outputs": [],
   "source": [
    "sensitive_feature_key = 'sex'\n",
    "label_key = 'target'\n",
    "categorical_features_keys = ['workclass', 'education', 'marital.status', 'occupation', 'relationship', 'race', 'sex', 'native.country']\n",
    "\n",
    "# Set up the data artifact\n",
    "credo_data = cl.CredoData(name='census-income',\n",
    "                          data=df, \n",
    "                          sensitive_feature_key=sensitive_feature_key,\n",
    "                          label_key=label_key,\n",
    "                          categorical_features_keys=categorical_features_keys)"
   ]
  },
  {
   "cell_type": "markdown",
   "metadata": {},
   "source": [
    "Let's run the assessment now. The output `results` object will contain the assessment results. "
   ]
  },
  {
   "cell_type": "code",
   "execution_count": 6,
   "metadata": {},
   "outputs": [],
   "source": [
    "lens = cl.Lens(data=credo_data).run_assessments()"
   ]
  },
  {
   "cell_type": "markdown",
   "metadata": {},
   "source": [
    "Now we use the Lens visualization capabilities to visualize the assessment results."
   ]
  },
  {
   "cell_type": "code",
   "execution_count": 7,
   "metadata": {},
   "outputs": [
    {
     "data": {
      "text/html": [
       "<h3 id=\"DatasetFairness-SAMPLE-BALANCE\"><span style=\"font-size:1em; text-align: left\">SAMPLE BALANCE</span></h3>"
      ],
      "text/plain": [
       "<IPython.core.display.HTML object>"
      ]
     },
     "metadata": {},
     "output_type": "display_data"
    },
    {
     "data": {
      "text/html": [
       "<div>\n",
       "<style scoped>\n",
       "    .dataframe tbody tr th:only-of-type {\n",
       "        vertical-align: middle;\n",
       "    }\n",
       "\n",
       "    .dataframe tbody tr th {\n",
       "        vertical-align: top;\n",
       "    }\n",
       "\n",
       "    .dataframe thead th {\n",
       "        text-align: right;\n",
       "    }\n",
       "</style>\n",
       "<table border=\"1\" class=\"dataframe\">\n",
       "  <thead>\n",
       "    <tr style=\"text-align: right;\">\n",
       "      <th></th>\n",
       "      <th>sex</th>\n",
       "      <th>count</th>\n",
       "      <th>percentage</th>\n",
       "    </tr>\n",
       "  </thead>\n",
       "  <tbody>\n",
       "    <tr>\n",
       "      <th>0</th>\n",
       "      <td>Female</td>\n",
       "      <td>9782</td>\n",
       "      <td>32.431536</td>\n",
       "    </tr>\n",
       "    <tr>\n",
       "      <th>1</th>\n",
       "      <td>Male</td>\n",
       "      <td>20380</td>\n",
       "      <td>67.568464</td>\n",
       "    </tr>\n",
       "  </tbody>\n",
       "</table>\n",
       "</div>"
      ],
      "text/plain": [
       "      sex  count  percentage\n",
       "0  Female   9782   32.431536\n",
       "1    Male  20380   67.568464"
      ]
     },
     "metadata": {},
     "output_type": "display_data"
    },
    {
     "name": "stdout",
     "output_type": "stream",
     "text": [
      "\n",
      "\n"
     ]
    },
    {
     "data": {
      "text/html": [
       "<h3 id=\"DatasetFairness-LABEL-BALANCE\"><span style=\"font-size:1em; text-align: left\">LABEL BALANCE</span></h3>"
      ],
      "text/plain": [
       "<IPython.core.display.HTML object>"
      ]
     },
     "metadata": {},
     "output_type": "display_data"
    },
    {
     "data": {
      "text/html": [
       "<div>\n",
       "<style scoped>\n",
       "    .dataframe tbody tr th:only-of-type {\n",
       "        vertical-align: middle;\n",
       "    }\n",
       "\n",
       "    .dataframe tbody tr th {\n",
       "        vertical-align: top;\n",
       "    }\n",
       "\n",
       "    .dataframe thead th {\n",
       "        text-align: right;\n",
       "    }\n",
       "</style>\n",
       "<table border=\"1\" class=\"dataframe\">\n",
       "  <thead>\n",
       "    <tr style=\"text-align: right;\">\n",
       "      <th></th>\n",
       "      <th>sex</th>\n",
       "      <th>target</th>\n",
       "      <th>count</th>\n",
       "    </tr>\n",
       "  </thead>\n",
       "  <tbody>\n",
       "    <tr>\n",
       "      <th>0</th>\n",
       "      <td>Female</td>\n",
       "      <td>0</td>\n",
       "      <td>8670</td>\n",
       "    </tr>\n",
       "    <tr>\n",
       "      <th>1</th>\n",
       "      <td>Female</td>\n",
       "      <td>1</td>\n",
       "      <td>1112</td>\n",
       "    </tr>\n",
       "    <tr>\n",
       "      <th>2</th>\n",
       "      <td>Male</td>\n",
       "      <td>0</td>\n",
       "      <td>13984</td>\n",
       "    </tr>\n",
       "    <tr>\n",
       "      <th>3</th>\n",
       "      <td>Male</td>\n",
       "      <td>1</td>\n",
       "      <td>6396</td>\n",
       "    </tr>\n",
       "  </tbody>\n",
       "</table>\n",
       "</div>"
      ],
      "text/plain": [
       "      sex  target  count\n",
       "0  Female       0   8670\n",
       "1  Female       1   1112\n",
       "2    Male       0  13984\n",
       "3    Male       1   6396"
      ]
     },
     "metadata": {},
     "output_type": "display_data"
    },
    {
     "name": "stdout",
     "output_type": "stream",
     "text": [
      "\n",
      "\n"
     ]
    },
    {
     "data": {
      "text/html": [
       "<h3 id=\"DatasetFairness-DEMOGRAPHIC-PARITY-DIFFERENCE\"><span style=\"font-size:1em; text-align: left\">DEMOGRAPHIC PARITY DIFFERENCE</span></h3>"
      ],
      "text/plain": [
       "<IPython.core.display.HTML object>"
      ]
     },
     "metadata": {},
     "output_type": "display_data"
    },
    {
     "data": {
      "text/html": [
       "<div>\n",
       "<style scoped>\n",
       "    .dataframe tbody tr th:only-of-type {\n",
       "        vertical-align: middle;\n",
       "    }\n",
       "\n",
       "    .dataframe tbody tr th {\n",
       "        vertical-align: top;\n",
       "    }\n",
       "\n",
       "    .dataframe thead th {\n",
       "        text-align: right;\n",
       "    }\n",
       "</style>\n",
       "<table border=\"1\" class=\"dataframe\">\n",
       "  <thead>\n",
       "    <tr style=\"text-align: right;\">\n",
       "      <th></th>\n",
       "      <th>target</th>\n",
       "      <th>value</th>\n",
       "    </tr>\n",
       "  </thead>\n",
       "  <tbody>\n",
       "    <tr>\n",
       "      <th>0</th>\n",
       "      <td>0</td>\n",
       "      <td>0.200159</td>\n",
       "    </tr>\n",
       "    <tr>\n",
       "      <th>1</th>\n",
       "      <td>1</td>\n",
       "      <td>0.200159</td>\n",
       "    </tr>\n",
       "  </tbody>\n",
       "</table>\n",
       "</div>"
      ],
      "text/plain": [
       "   target     value\n",
       "0       0  0.200159\n",
       "1       1  0.200159"
      ]
     },
     "metadata": {},
     "output_type": "display_data"
    },
    {
     "name": "stdout",
     "output_type": "stream",
     "text": [
      "\n",
      "\n"
     ]
    },
    {
     "data": {
      "text/html": [
       "<h3 id=\"DatasetFairness-DEMOGRAPHIC-PARITY-RATIO\"><span style=\"font-size:1em; text-align: left\">DEMOGRAPHIC PARITY RATIO</span></h3>"
      ],
      "text/plain": [
       "<IPython.core.display.HTML object>"
      ]
     },
     "metadata": {},
     "output_type": "display_data"
    },
    {
     "data": {
      "text/html": [
       "<div>\n",
       "<style scoped>\n",
       "    .dataframe tbody tr th:only-of-type {\n",
       "        vertical-align: middle;\n",
       "    }\n",
       "\n",
       "    .dataframe tbody tr th {\n",
       "        vertical-align: top;\n",
       "    }\n",
       "\n",
       "    .dataframe thead th {\n",
       "        text-align: right;\n",
       "    }\n",
       "</style>\n",
       "<table border=\"1\" class=\"dataframe\">\n",
       "  <thead>\n",
       "    <tr style=\"text-align: right;\">\n",
       "      <th></th>\n",
       "      <th>target</th>\n",
       "      <th>value</th>\n",
       "    </tr>\n",
       "  </thead>\n",
       "  <tbody>\n",
       "    <tr>\n",
       "      <th>0</th>\n",
       "      <td>0</td>\n",
       "      <td>0.774169</td>\n",
       "    </tr>\n",
       "    <tr>\n",
       "      <th>1</th>\n",
       "      <td>1</td>\n",
       "      <td>0.362220</td>\n",
       "    </tr>\n",
       "  </tbody>\n",
       "</table>\n",
       "</div>"
      ],
      "text/plain": [
       "   target     value\n",
       "0       0  0.774169\n",
       "1       1  0.362220"
      ]
     },
     "metadata": {},
     "output_type": "display_data"
    },
    {
     "name": "stdout",
     "output_type": "stream",
     "text": [
      "\n",
      "\n"
     ]
    },
    {
     "data": {
      "text/html": [
       "<h3 id=\"DatasetFairness-SENSITIVE-FEATURE-PREDICTION-SCORE\"><span style=\"font-size:1em; text-align: left\">SENSITIVE FEATURE PREDICTION\n",
       "SCORE</span></h3>"
      ],
      "text/plain": [
       "<IPython.core.display.HTML object>"
      ]
     },
     "metadata": {},
     "output_type": "display_data"
    },
    {
     "data": {
      "text/html": [
       "<div>\n",
       "<style scoped>\n",
       "    .dataframe tbody tr th:only-of-type {\n",
       "        vertical-align: middle;\n",
       "    }\n",
       "\n",
       "    .dataframe tbody tr th {\n",
       "        vertical-align: top;\n",
       "    }\n",
       "\n",
       "    .dataframe thead th {\n",
       "        text-align: right;\n",
       "    }\n",
       "</style>\n",
       "<table border=\"1\" class=\"dataframe\">\n",
       "  <thead>\n",
       "    <tr style=\"text-align: right;\">\n",
       "      <th></th>\n",
       "      <th>0</th>\n",
       "    </tr>\n",
       "  </thead>\n",
       "  <tbody>\n",
       "    <tr>\n",
       "      <th>0</th>\n",
       "      <td>0.935799</td>\n",
       "    </tr>\n",
       "  </tbody>\n",
       "</table>\n",
       "</div>"
      ],
      "text/plain": [
       "          0\n",
       "0  0.935799"
      ]
     },
     "metadata": {},
     "output_type": "display_data"
    },
    {
     "name": "stdout",
     "output_type": "stream",
     "text": [
      "\n",
      "\n"
     ]
    },
    {
     "data": {
      "text/html": [
       "<h3 id=\"DatasetFairness-SENSITIVE-FEATURE-PREDICTION-FEATURE-IMPORTANCES\"><span style=\"font-size:1em; text-align: left\">SENSITIVE FEATURE PREDICTION\n",
       "FEATURE IMPORTANCES</span></h3>"
      ],
      "text/plain": [
       "<IPython.core.display.HTML object>"
      ]
     },
     "metadata": {},
     "output_type": "display_data"
    },
    {
     "data": {
      "text/html": [
       "<div>\n",
       "<style scoped>\n",
       "    .dataframe tbody tr th:only-of-type {\n",
       "        vertical-align: middle;\n",
       "    }\n",
       "\n",
       "    .dataframe tbody tr th {\n",
       "        vertical-align: top;\n",
       "    }\n",
       "\n",
       "    .dataframe thead th {\n",
       "        text-align: right;\n",
       "    }\n",
       "</style>\n",
       "<table border=\"1\" class=\"dataframe\">\n",
       "  <thead>\n",
       "    <tr style=\"text-align: right;\">\n",
       "      <th></th>\n",
       "      <th>0</th>\n",
       "    </tr>\n",
       "  </thead>\n",
       "  <tbody>\n",
       "    <tr>\n",
       "      <th>relationship_Husband</th>\n",
       "      <td>0.599812</td>\n",
       "    </tr>\n",
       "    <tr>\n",
       "      <th>relationship_Wife</th>\n",
       "      <td>0.077830</td>\n",
       "    </tr>\n",
       "    <tr>\n",
       "      <th>occupation_Craft-repair</th>\n",
       "      <td>0.061974</td>\n",
       "    </tr>\n",
       "    <tr>\n",
       "      <th>relationship_Unmarried</th>\n",
       "      <td>0.045185</td>\n",
       "    </tr>\n",
       "    <tr>\n",
       "      <th>occupation_Adm-clerical</th>\n",
       "      <td>0.042664</td>\n",
       "    </tr>\n",
       "    <tr>\n",
       "      <th>...</th>\n",
       "      <td>...</td>\n",
       "    </tr>\n",
       "    <tr>\n",
       "      <th>native.country_England</th>\n",
       "      <td>0.000000</td>\n",
       "    </tr>\n",
       "    <tr>\n",
       "      <th>native.country_France</th>\n",
       "      <td>0.000000</td>\n",
       "    </tr>\n",
       "    <tr>\n",
       "      <th>native.country_Greece</th>\n",
       "      <td>0.000000</td>\n",
       "    </tr>\n",
       "    <tr>\n",
       "      <th>native.country_Guatemala</th>\n",
       "      <td>0.000000</td>\n",
       "    </tr>\n",
       "    <tr>\n",
       "      <th>race_Amer-Indian-Eskimo</th>\n",
       "      <td>0.000000</td>\n",
       "    </tr>\n",
       "  </tbody>\n",
       "</table>\n",
       "<p>101 rows × 1 columns</p>\n",
       "</div>"
      ],
      "text/plain": [
       "                                 0\n",
       "relationship_Husband      0.599812\n",
       "relationship_Wife         0.077830\n",
       "occupation_Craft-repair   0.061974\n",
       "relationship_Unmarried    0.045185\n",
       "occupation_Adm-clerical   0.042664\n",
       "...                            ...\n",
       "native.country_England    0.000000\n",
       "native.country_France     0.000000\n",
       "native.country_Greece     0.000000\n",
       "native.country_Guatemala  0.000000\n",
       "race_Amer-Indian-Eskimo   0.000000\n",
       "\n",
       "[101 rows x 1 columns]"
      ]
     },
     "metadata": {},
     "output_type": "display_data"
    },
    {
     "name": "stdout",
     "output_type": "stream",
     "text": [
      "\n",
      "\n"
     ]
    },
    {
     "data": {
      "text/html": [
       "<h3 id=\"DatasetFairness-STANDARDIZED-GROUP-DIFFS\"><span style=\"font-size:1em; text-align: left\">STANDARDIZED GROUP DIFFS</span></h3>"
      ],
      "text/plain": [
       "<IPython.core.display.HTML object>"
      ]
     },
     "metadata": {},
     "output_type": "display_data"
    },
    {
     "data": {
      "text/html": [
       "<div>\n",
       "<style scoped>\n",
       "    .dataframe tbody tr th:only-of-type {\n",
       "        vertical-align: middle;\n",
       "    }\n",
       "\n",
       "    .dataframe tbody tr th {\n",
       "        vertical-align: top;\n",
       "    }\n",
       "\n",
       "    .dataframe thead th {\n",
       "        text-align: right;\n",
       "    }\n",
       "</style>\n",
       "<table border=\"1\" class=\"dataframe\">\n",
       "  <thead>\n",
       "    <tr style=\"text-align: right;\">\n",
       "      <th></th>\n",
       "      <th>Female-Male</th>\n",
       "    </tr>\n",
       "  </thead>\n",
       "  <tbody>\n",
       "    <tr>\n",
       "      <th>age</th>\n",
       "      <td>-0.175151</td>\n",
       "    </tr>\n",
       "    <tr>\n",
       "      <th>capital.gain</th>\n",
       "      <td>-0.104275</td>\n",
       "    </tr>\n",
       "    <tr>\n",
       "      <th>capital.loss</th>\n",
       "      <td>-0.100424</td>\n",
       "    </tr>\n",
       "    <tr>\n",
       "      <th>education.num</th>\n",
       "      <td>-0.013152</td>\n",
       "    </tr>\n",
       "    <tr>\n",
       "      <th>hours.per.week</th>\n",
       "      <td>-0.494029</td>\n",
       "    </tr>\n",
       "  </tbody>\n",
       "</table>\n",
       "</div>"
      ],
      "text/plain": [
       "                Female-Male\n",
       "age               -0.175151\n",
       "capital.gain      -0.104275\n",
       "capital.loss      -0.100424\n",
       "education.num     -0.013152\n",
       "hours.per.week    -0.494029"
      ]
     },
     "metadata": {},
     "output_type": "display_data"
    },
    {
     "name": "stdout",
     "output_type": "stream",
     "text": [
      "\n",
      "\n"
     ]
    },
    {
     "data": {
      "text/html": [
       "<h3 id=\"DatasetFairness-NORMALIZED-MUTUAL-INFORMATION\"><span style=\"font-size:1em; text-align: left\">NORMALIZED MUTUAL INFORMATION</span></h3>"
      ],
      "text/plain": [
       "<IPython.core.display.HTML object>"
      ]
     },
     "metadata": {},
     "output_type": "display_data"
    },
    {
     "data": {
      "text/html": [
       "<div>\n",
       "<style scoped>\n",
       "    .dataframe tbody tr th:only-of-type {\n",
       "        vertical-align: middle;\n",
       "    }\n",
       "\n",
       "    .dataframe tbody tr th {\n",
       "        vertical-align: top;\n",
       "    }\n",
       "\n",
       "    .dataframe thead th {\n",
       "        text-align: right;\n",
       "    }\n",
       "</style>\n",
       "<table border=\"1\" class=\"dataframe\">\n",
       "  <thead>\n",
       "    <tr style=\"text-align: right;\">\n",
       "      <th></th>\n",
       "      <th>age</th>\n",
       "      <th>capital.gain</th>\n",
       "      <th>capital.loss</th>\n",
       "      <th>education</th>\n",
       "      <th>education.num</th>\n",
       "      <th>hours.per.week</th>\n",
       "      <th>marital.status</th>\n",
       "      <th>native.country</th>\n",
       "      <th>occupation</th>\n",
       "      <th>race</th>\n",
       "      <th>relationship</th>\n",
       "      <th>workclass</th>\n",
       "    </tr>\n",
       "  </thead>\n",
       "  <tbody>\n",
       "    <tr>\n",
       "      <th>value</th>\n",
       "      <td>0.004726</td>\n",
       "      <td>0.006991</td>\n",
       "      <td>0.012028</td>\n",
       "      <td>0.006839</td>\n",
       "      <td>0.002656</td>\n",
       "      <td>0.062949</td>\n",
       "      <td>0.183229</td>\n",
       "      <td>0.003921</td>\n",
       "      <td>0.164595</td>\n",
       "      <td>0.010806</td>\n",
       "      <td>0.433481</td>\n",
       "      <td>0.018835</td>\n",
       "    </tr>\n",
       "    <tr>\n",
       "      <th>feature_type</th>\n",
       "      <td>continuous</td>\n",
       "      <td>continuous</td>\n",
       "      <td>continuous</td>\n",
       "      <td>categorical</td>\n",
       "      <td>continuous</td>\n",
       "      <td>continuous</td>\n",
       "      <td>categorical</td>\n",
       "      <td>categorical</td>\n",
       "      <td>categorical</td>\n",
       "      <td>categorical</td>\n",
       "      <td>categorical</td>\n",
       "      <td>categorical</td>\n",
       "    </tr>\n",
       "  </tbody>\n",
       "</table>\n",
       "</div>"
      ],
      "text/plain": [
       "                     age capital.gain capital.loss    education education.num  \\\n",
       "value           0.004726     0.006991     0.012028     0.006839      0.002656   \n",
       "feature_type  continuous   continuous   continuous  categorical    continuous   \n",
       "\n",
       "             hours.per.week marital.status native.country   occupation  \\\n",
       "value              0.062949       0.183229       0.003921     0.164595   \n",
       "feature_type     continuous    categorical    categorical  categorical   \n",
       "\n",
       "                     race relationship    workclass  \n",
       "value            0.010806     0.433481     0.018835  \n",
       "feature_type  categorical  categorical  categorical  "
      ]
     },
     "metadata": {},
     "output_type": "display_data"
    },
    {
     "name": "stdout",
     "output_type": "stream",
     "text": [
      "\n",
      "\n"
     ]
    },
    {
     "data": {
      "image/svg+xml": "<?xml version=\"1.0\" encoding=\"utf-8\" standalone=\"no\"?>\n<!DOCTYPE svg PUBLIC \"-//W3C//DTD SVG 1.1//EN\"\n  \"http://www.w3.org/Graphics/SVG/1.1/DTD/svg11.dtd\">\n<svg xmlns:xlink=\"http://www.w3.org/1999/xlink\" width=\"463.000362pt\" height=\"338.843596pt\" viewBox=\"0 0 463.000362 338.843596\" xmlns=\"http://www.w3.org/2000/svg\" version=\"1.1\">\n <metadata>\n  <rdf:RDF xmlns:dc=\"http://purl.org/dc/elements/1.1/\" xmlns:cc=\"http://creativecommons.org/ns#\" xmlns:rdf=\"http://www.w3.org/1999/02/22-rdf-syntax-ns#\">\n   <cc:Work>\n    <dc:type rdf:resource=\"http://purl.org/dc/dcmitype/StillImage\"/>\n    <dc:date>2022-03-15T20:59:28.499025</dc:date>\n    <dc:format>image/svg+xml</dc:format>\n    <dc:creator>\n     <cc:Agent>\n      <dc:title>Matplotlib v3.5.1, https://matplotlib.org/</dc:title>\n     </cc:Agent>\n    </dc:creator>\n   </cc:Work>\n  </rdf:RDF>\n </metadata>\n <defs>\n  <style type=\"text/css\">*{stroke-linejoin: round; stroke-linecap: butt}</style>\n </defs>\n <g id=\"figure_1\">\n  <g id=\"patch_1\">\n   <path d=\"M 0 338.843596 \nL 463.000362 338.843596 \nL 463.000362 0 \nL 0 0 \nz\n\" style=\"fill: #ffffff\"/>\n  </g>\n  <g id=\"axes_1\">\n   <g id=\"patch_2\">\n    <path d=\"M 99.998946 65.220412 \nL 378.998946 65.220412 \nL 378.998946 24.038594 \nL 99.998946 24.038594 \nz\n\" style=\"fill: #ffffff\"/>\n   </g>\n   <g id=\"patch_3\">\n    <path d=\"M 99.998946 26.097685 \nL 227.536588 26.097685 \nL 227.536588 42.570412 \nL 99.998946 42.570412 \nz\n\" clip-path=\"url(#pc5036b9adf)\" style=\"fill: #441d9e\"/>\n   </g>\n   <g id=\"patch_4\">\n    <path d=\"M 99.998946 46.688594 \nL 365.713232 46.688594 \nL 365.713232 63.161321 \nL 99.998946 63.161321 \nz\n\" clip-path=\"url(#pc5036b9adf)\" style=\"fill: #441d9e\"/>\n   </g>\n   <g id=\"matplotlib.axis_1\">\n    <g id=\"xtick_1\">\n     <g id=\"line2d_1\">\n      <defs>\n       <path id=\"mcf48736aff\" d=\"M 0 0 \nL 0 10 \n\" style=\"stroke: #000000; stroke-width: 1.25\"/>\n      </defs>\n      <g>\n       <use xlink:href=\"#mcf48736aff\" x=\"99.998946\" y=\"65.220412\" style=\"stroke: #000000; stroke-width: 1.25\"/>\n      </g>\n     </g>\n     <g id=\"text_1\">\n      <!-- 0 -->\n      <g transform=\"translate(98.01146 84.967536)scale(0.062475 -0.062475)\">\n       <defs>\n        <path id=\"DejaVuSans-30\" d=\"M 2034 4250 \nQ 1547 4250 1301 3770 \nQ 1056 3291 1056 2328 \nQ 1056 1369 1301 889 \nQ 1547 409 2034 409 \nQ 2525 409 2770 889 \nQ 3016 1369 3016 2328 \nQ 3016 3291 2770 3770 \nQ 2525 4250 2034 4250 \nz\nM 2034 4750 \nQ 2819 4750 3233 4129 \nQ 3647 3509 3647 2328 \nQ 3647 1150 3233 529 \nQ 2819 -91 2034 -91 \nQ 1250 -91 836 529 \nQ 422 1150 422 2328 \nQ 422 3509 836 4129 \nQ 1250 4750 2034 4750 \nz\n\" transform=\"scale(0.015625)\"/>\n       </defs>\n       <use xlink:href=\"#DejaVuSans-30\"/>\n      </g>\n     </g>\n    </g>\n    <g id=\"xtick_2\">\n     <g id=\"line2d_2\">\n      <g>\n       <use xlink:href=\"#mcf48736aff\" x=\"132.593927\" y=\"65.220412\" style=\"stroke: #000000; stroke-width: 1.25\"/>\n      </g>\n     </g>\n     <g id=\"text_2\">\n      <!-- 2500 -->\n      <g transform=\"translate(124.643983 84.967536)scale(0.062475 -0.062475)\">\n       <defs>\n        <path id=\"DejaVuSans-32\" d=\"M 1228 531 \nL 3431 531 \nL 3431 0 \nL 469 0 \nL 469 531 \nQ 828 903 1448 1529 \nQ 2069 2156 2228 2338 \nQ 2531 2678 2651 2914 \nQ 2772 3150 2772 3378 \nQ 2772 3750 2511 3984 \nQ 2250 4219 1831 4219 \nQ 1534 4219 1204 4116 \nQ 875 4013 500 3803 \nL 500 4441 \nQ 881 4594 1212 4672 \nQ 1544 4750 1819 4750 \nQ 2544 4750 2975 4387 \nQ 3406 4025 3406 3419 \nQ 3406 3131 3298 2873 \nQ 3191 2616 2906 2266 \nQ 2828 2175 2409 1742 \nQ 1991 1309 1228 531 \nz\n\" transform=\"scale(0.015625)\"/>\n        <path id=\"DejaVuSans-35\" d=\"M 691 4666 \nL 3169 4666 \nL 3169 4134 \nL 1269 4134 \nL 1269 2991 \nQ 1406 3038 1543 3061 \nQ 1681 3084 1819 3084 \nQ 2600 3084 3056 2656 \nQ 3513 2228 3513 1497 \nQ 3513 744 3044 326 \nQ 2575 -91 1722 -91 \nQ 1428 -91 1123 -41 \nQ 819 9 494 109 \nL 494 744 \nQ 775 591 1075 516 \nQ 1375 441 1709 441 \nQ 2250 441 2565 725 \nQ 2881 1009 2881 1497 \nQ 2881 1984 2565 2268 \nQ 2250 2553 1709 2553 \nQ 1456 2553 1204 2497 \nQ 953 2441 691 2322 \nL 691 4666 \nz\n\" transform=\"scale(0.015625)\"/>\n       </defs>\n       <use xlink:href=\"#DejaVuSans-32\"/>\n       <use xlink:href=\"#DejaVuSans-35\" x=\"63.623047\"/>\n       <use xlink:href=\"#DejaVuSans-30\" x=\"127.246094\"/>\n       <use xlink:href=\"#DejaVuSans-30\" x=\"190.869141\"/>\n      </g>\n     </g>\n    </g>\n    <g id=\"xtick_3\">\n     <g id=\"line2d_3\">\n      <g>\n       <use xlink:href=\"#mcf48736aff\" x=\"165.188908\" y=\"65.220412\" style=\"stroke: #000000; stroke-width: 1.25\"/>\n      </g>\n     </g>\n     <g id=\"text_3\">\n      <!-- 5000 -->\n      <g transform=\"translate(157.238964 84.967536)scale(0.062475 -0.062475)\">\n       <use xlink:href=\"#DejaVuSans-35\"/>\n       <use xlink:href=\"#DejaVuSans-30\" x=\"63.623047\"/>\n       <use xlink:href=\"#DejaVuSans-30\" x=\"127.246094\"/>\n       <use xlink:href=\"#DejaVuSans-30\" x=\"190.869141\"/>\n      </g>\n     </g>\n    </g>\n    <g id=\"xtick_4\">\n     <g id=\"line2d_4\">\n      <g>\n       <use xlink:href=\"#mcf48736aff\" x=\"197.783889\" y=\"65.220412\" style=\"stroke: #000000; stroke-width: 1.25\"/>\n      </g>\n     </g>\n     <g id=\"text_4\">\n      <!-- 7500 -->\n      <g transform=\"translate(189.833946 84.967536)scale(0.062475 -0.062475)\">\n       <defs>\n        <path id=\"DejaVuSans-37\" d=\"M 525 4666 \nL 3525 4666 \nL 3525 4397 \nL 1831 0 \nL 1172 0 \nL 2766 4134 \nL 525 4134 \nL 525 4666 \nz\n\" transform=\"scale(0.015625)\"/>\n       </defs>\n       <use xlink:href=\"#DejaVuSans-37\"/>\n       <use xlink:href=\"#DejaVuSans-35\" x=\"63.623047\"/>\n       <use xlink:href=\"#DejaVuSans-30\" x=\"127.246094\"/>\n       <use xlink:href=\"#DejaVuSans-30\" x=\"190.869141\"/>\n      </g>\n     </g>\n    </g>\n    <g id=\"xtick_5\">\n     <g id=\"line2d_5\">\n      <g>\n       <use xlink:href=\"#mcf48736aff\" x=\"230.37887\" y=\"65.220412\" style=\"stroke: #000000; stroke-width: 1.25\"/>\n      </g>\n     </g>\n     <g id=\"text_5\">\n      <!-- 10000 -->\n      <g transform=\"translate(220.441441 84.967536)scale(0.062475 -0.062475)\">\n       <defs>\n        <path id=\"DejaVuSans-31\" d=\"M 794 531 \nL 1825 531 \nL 1825 4091 \nL 703 3866 \nL 703 4441 \nL 1819 4666 \nL 2450 4666 \nL 2450 531 \nL 3481 531 \nL 3481 0 \nL 794 0 \nL 794 531 \nz\n\" transform=\"scale(0.015625)\"/>\n       </defs>\n       <use xlink:href=\"#DejaVuSans-31\"/>\n       <use xlink:href=\"#DejaVuSans-30\" x=\"63.623047\"/>\n       <use xlink:href=\"#DejaVuSans-30\" x=\"127.246094\"/>\n       <use xlink:href=\"#DejaVuSans-30\" x=\"190.869141\"/>\n       <use xlink:href=\"#DejaVuSans-30\" x=\"254.492188\"/>\n      </g>\n     </g>\n    </g>\n    <g id=\"xtick_6\">\n     <g id=\"line2d_6\">\n      <g>\n       <use xlink:href=\"#mcf48736aff\" x=\"262.973851\" y=\"65.220412\" style=\"stroke: #000000; stroke-width: 1.25\"/>\n      </g>\n     </g>\n     <g id=\"text_6\">\n      <!-- 12500 -->\n      <g transform=\"translate(253.036422 84.967536)scale(0.062475 -0.062475)\">\n       <use xlink:href=\"#DejaVuSans-31\"/>\n       <use xlink:href=\"#DejaVuSans-32\" x=\"63.623047\"/>\n       <use xlink:href=\"#DejaVuSans-35\" x=\"127.246094\"/>\n       <use xlink:href=\"#DejaVuSans-30\" x=\"190.869141\"/>\n       <use xlink:href=\"#DejaVuSans-30\" x=\"254.492188\"/>\n      </g>\n     </g>\n    </g>\n    <g id=\"xtick_7\">\n     <g id=\"line2d_7\">\n      <g>\n       <use xlink:href=\"#mcf48736aff\" x=\"295.568833\" y=\"65.220412\" style=\"stroke: #000000; stroke-width: 1.25\"/>\n      </g>\n     </g>\n     <g id=\"text_7\">\n      <!-- 15000 -->\n      <g transform=\"translate(285.631403 84.967536)scale(0.062475 -0.062475)\">\n       <use xlink:href=\"#DejaVuSans-31\"/>\n       <use xlink:href=\"#DejaVuSans-35\" x=\"63.623047\"/>\n       <use xlink:href=\"#DejaVuSans-30\" x=\"127.246094\"/>\n       <use xlink:href=\"#DejaVuSans-30\" x=\"190.869141\"/>\n       <use xlink:href=\"#DejaVuSans-30\" x=\"254.492188\"/>\n      </g>\n     </g>\n    </g>\n    <g id=\"xtick_8\">\n     <g id=\"line2d_8\">\n      <g>\n       <use xlink:href=\"#mcf48736aff\" x=\"328.163814\" y=\"65.220412\" style=\"stroke: #000000; stroke-width: 1.25\"/>\n      </g>\n     </g>\n     <g id=\"text_8\">\n      <!-- 17500 -->\n      <g transform=\"translate(318.226384 84.967536)scale(0.062475 -0.062475)\">\n       <use xlink:href=\"#DejaVuSans-31\"/>\n       <use xlink:href=\"#DejaVuSans-37\" x=\"63.623047\"/>\n       <use xlink:href=\"#DejaVuSans-35\" x=\"127.246094\"/>\n       <use xlink:href=\"#DejaVuSans-30\" x=\"190.869141\"/>\n       <use xlink:href=\"#DejaVuSans-30\" x=\"254.492188\"/>\n      </g>\n     </g>\n    </g>\n    <g id=\"xtick_9\">\n     <g id=\"line2d_9\">\n      <g>\n       <use xlink:href=\"#mcf48736aff\" x=\"360.758795\" y=\"65.220412\" style=\"stroke: #000000; stroke-width: 1.25\"/>\n      </g>\n     </g>\n     <g id=\"text_9\">\n      <!-- 20000 -->\n      <g transform=\"translate(350.821365 84.967536)scale(0.062475 -0.062475)\">\n       <use xlink:href=\"#DejaVuSans-32\"/>\n       <use xlink:href=\"#DejaVuSans-30\" x=\"63.623047\"/>\n       <use xlink:href=\"#DejaVuSans-30\" x=\"127.246094\"/>\n       <use xlink:href=\"#DejaVuSans-30\" x=\"190.869141\"/>\n       <use xlink:href=\"#DejaVuSans-30\" x=\"254.492188\"/>\n      </g>\n     </g>\n    </g>\n    <g id=\"text_10\">\n     <!-- Number of data samples -->\n     <g transform=\"translate(193.209884 99.465649)scale(0.075 -0.075)\">\n      <defs>\n       <path id=\"DejaVuSans-4e\" d=\"M 628 4666 \nL 1478 4666 \nL 3547 763 \nL 3547 4666 \nL 4159 4666 \nL 4159 0 \nL 3309 0 \nL 1241 3903 \nL 1241 0 \nL 628 0 \nL 628 4666 \nz\n\" transform=\"scale(0.015625)\"/>\n       <path id=\"DejaVuSans-75\" d=\"M 544 1381 \nL 544 3500 \nL 1119 3500 \nL 1119 1403 \nQ 1119 906 1312 657 \nQ 1506 409 1894 409 \nQ 2359 409 2629 706 \nQ 2900 1003 2900 1516 \nL 2900 3500 \nL 3475 3500 \nL 3475 0 \nL 2900 0 \nL 2900 538 \nQ 2691 219 2414 64 \nQ 2138 -91 1772 -91 \nQ 1169 -91 856 284 \nQ 544 659 544 1381 \nz\nM 1991 3584 \nL 1991 3584 \nz\n\" transform=\"scale(0.015625)\"/>\n       <path id=\"DejaVuSans-6d\" d=\"M 3328 2828 \nQ 3544 3216 3844 3400 \nQ 4144 3584 4550 3584 \nQ 5097 3584 5394 3201 \nQ 5691 2819 5691 2113 \nL 5691 0 \nL 5113 0 \nL 5113 2094 \nQ 5113 2597 4934 2840 \nQ 4756 3084 4391 3084 \nQ 3944 3084 3684 2787 \nQ 3425 2491 3425 1978 \nL 3425 0 \nL 2847 0 \nL 2847 2094 \nQ 2847 2600 2669 2842 \nQ 2491 3084 2119 3084 \nQ 1678 3084 1418 2786 \nQ 1159 2488 1159 1978 \nL 1159 0 \nL 581 0 \nL 581 3500 \nL 1159 3500 \nL 1159 2956 \nQ 1356 3278 1631 3431 \nQ 1906 3584 2284 3584 \nQ 2666 3584 2933 3390 \nQ 3200 3197 3328 2828 \nz\n\" transform=\"scale(0.015625)\"/>\n       <path id=\"DejaVuSans-62\" d=\"M 3116 1747 \nQ 3116 2381 2855 2742 \nQ 2594 3103 2138 3103 \nQ 1681 3103 1420 2742 \nQ 1159 2381 1159 1747 \nQ 1159 1113 1420 752 \nQ 1681 391 2138 391 \nQ 2594 391 2855 752 \nQ 3116 1113 3116 1747 \nz\nM 1159 2969 \nQ 1341 3281 1617 3432 \nQ 1894 3584 2278 3584 \nQ 2916 3584 3314 3078 \nQ 3713 2572 3713 1747 \nQ 3713 922 3314 415 \nQ 2916 -91 2278 -91 \nQ 1894 -91 1617 61 \nQ 1341 213 1159 525 \nL 1159 0 \nL 581 0 \nL 581 4863 \nL 1159 4863 \nL 1159 2969 \nz\n\" transform=\"scale(0.015625)\"/>\n       <path id=\"DejaVuSans-65\" d=\"M 3597 1894 \nL 3597 1613 \nL 953 1613 \nQ 991 1019 1311 708 \nQ 1631 397 2203 397 \nQ 2534 397 2845 478 \nQ 3156 559 3463 722 \nL 3463 178 \nQ 3153 47 2828 -22 \nQ 2503 -91 2169 -91 \nQ 1331 -91 842 396 \nQ 353 884 353 1716 \nQ 353 2575 817 3079 \nQ 1281 3584 2069 3584 \nQ 2775 3584 3186 3129 \nQ 3597 2675 3597 1894 \nz\nM 3022 2063 \nQ 3016 2534 2758 2815 \nQ 2500 3097 2075 3097 \nQ 1594 3097 1305 2825 \nQ 1016 2553 972 2059 \nL 3022 2063 \nz\n\" transform=\"scale(0.015625)\"/>\n       <path id=\"DejaVuSans-72\" d=\"M 2631 2963 \nQ 2534 3019 2420 3045 \nQ 2306 3072 2169 3072 \nQ 1681 3072 1420 2755 \nQ 1159 2438 1159 1844 \nL 1159 0 \nL 581 0 \nL 581 3500 \nL 1159 3500 \nL 1159 2956 \nQ 1341 3275 1631 3429 \nQ 1922 3584 2338 3584 \nQ 2397 3584 2469 3576 \nQ 2541 3569 2628 3553 \nL 2631 2963 \nz\n\" transform=\"scale(0.015625)\"/>\n       <path id=\"DejaVuSans-20\" transform=\"scale(0.015625)\"/>\n       <path id=\"DejaVuSans-6f\" d=\"M 1959 3097 \nQ 1497 3097 1228 2736 \nQ 959 2375 959 1747 \nQ 959 1119 1226 758 \nQ 1494 397 1959 397 \nQ 2419 397 2687 759 \nQ 2956 1122 2956 1747 \nQ 2956 2369 2687 2733 \nQ 2419 3097 1959 3097 \nz\nM 1959 3584 \nQ 2709 3584 3137 3096 \nQ 3566 2609 3566 1747 \nQ 3566 888 3137 398 \nQ 2709 -91 1959 -91 \nQ 1206 -91 779 398 \nQ 353 888 353 1747 \nQ 353 2609 779 3096 \nQ 1206 3584 1959 3584 \nz\n\" transform=\"scale(0.015625)\"/>\n       <path id=\"DejaVuSans-66\" d=\"M 2375 4863 \nL 2375 4384 \nL 1825 4384 \nQ 1516 4384 1395 4259 \nQ 1275 4134 1275 3809 \nL 1275 3500 \nL 2222 3500 \nL 2222 3053 \nL 1275 3053 \nL 1275 0 \nL 697 0 \nL 697 3053 \nL 147 3053 \nL 147 3500 \nL 697 3500 \nL 697 3744 \nQ 697 4328 969 4595 \nQ 1241 4863 1831 4863 \nL 2375 4863 \nz\n\" transform=\"scale(0.015625)\"/>\n       <path id=\"DejaVuSans-64\" d=\"M 2906 2969 \nL 2906 4863 \nL 3481 4863 \nL 3481 0 \nL 2906 0 \nL 2906 525 \nQ 2725 213 2448 61 \nQ 2172 -91 1784 -91 \nQ 1150 -91 751 415 \nQ 353 922 353 1747 \nQ 353 2572 751 3078 \nQ 1150 3584 1784 3584 \nQ 2172 3584 2448 3432 \nQ 2725 3281 2906 2969 \nz\nM 947 1747 \nQ 947 1113 1208 752 \nQ 1469 391 1925 391 \nQ 2381 391 2643 752 \nQ 2906 1113 2906 1747 \nQ 2906 2381 2643 2742 \nQ 2381 3103 1925 3103 \nQ 1469 3103 1208 2742 \nQ 947 2381 947 1747 \nz\n\" transform=\"scale(0.015625)\"/>\n       <path id=\"DejaVuSans-61\" d=\"M 2194 1759 \nQ 1497 1759 1228 1600 \nQ 959 1441 959 1056 \nQ 959 750 1161 570 \nQ 1363 391 1709 391 \nQ 2188 391 2477 730 \nQ 2766 1069 2766 1631 \nL 2766 1759 \nL 2194 1759 \nz\nM 3341 1997 \nL 3341 0 \nL 2766 0 \nL 2766 531 \nQ 2569 213 2275 61 \nQ 1981 -91 1556 -91 \nQ 1019 -91 701 211 \nQ 384 513 384 1019 \nQ 384 1609 779 1909 \nQ 1175 2209 1959 2209 \nL 2766 2209 \nL 2766 2266 \nQ 2766 2663 2505 2880 \nQ 2244 3097 1772 3097 \nQ 1472 3097 1187 3025 \nQ 903 2953 641 2809 \nL 641 3341 \nQ 956 3463 1253 3523 \nQ 1550 3584 1831 3584 \nQ 2591 3584 2966 3190 \nQ 3341 2797 3341 1997 \nz\n\" transform=\"scale(0.015625)\"/>\n       <path id=\"DejaVuSans-74\" d=\"M 1172 4494 \nL 1172 3500 \nL 2356 3500 \nL 2356 3053 \nL 1172 3053 \nL 1172 1153 \nQ 1172 725 1289 603 \nQ 1406 481 1766 481 \nL 2356 481 \nL 2356 0 \nL 1766 0 \nQ 1100 0 847 248 \nQ 594 497 594 1153 \nL 594 3053 \nL 172 3053 \nL 172 3500 \nL 594 3500 \nL 594 4494 \nL 1172 4494 \nz\n\" transform=\"scale(0.015625)\"/>\n       <path id=\"DejaVuSans-73\" d=\"M 2834 3397 \nL 2834 2853 \nQ 2591 2978 2328 3040 \nQ 2066 3103 1784 3103 \nQ 1356 3103 1142 2972 \nQ 928 2841 928 2578 \nQ 928 2378 1081 2264 \nQ 1234 2150 1697 2047 \nL 1894 2003 \nQ 2506 1872 2764 1633 \nQ 3022 1394 3022 966 \nQ 3022 478 2636 193 \nQ 2250 -91 1575 -91 \nQ 1294 -91 989 -36 \nQ 684 19 347 128 \nL 347 722 \nQ 666 556 975 473 \nQ 1284 391 1588 391 \nQ 1994 391 2212 530 \nQ 2431 669 2431 922 \nQ 2431 1156 2273 1281 \nQ 2116 1406 1581 1522 \nL 1381 1569 \nQ 847 1681 609 1914 \nQ 372 2147 372 2553 \nQ 372 3047 722 3315 \nQ 1072 3584 1716 3584 \nQ 2034 3584 2315 3537 \nQ 2597 3491 2834 3397 \nz\n\" transform=\"scale(0.015625)\"/>\n       <path id=\"DejaVuSans-70\" d=\"M 1159 525 \nL 1159 -1331 \nL 581 -1331 \nL 581 3500 \nL 1159 3500 \nL 1159 2969 \nQ 1341 3281 1617 3432 \nQ 1894 3584 2278 3584 \nQ 2916 3584 3314 3078 \nQ 3713 2572 3713 1747 \nQ 3713 922 3314 415 \nQ 2916 -91 2278 -91 \nQ 1894 -91 1617 61 \nQ 1341 213 1159 525 \nz\nM 3116 1747 \nQ 3116 2381 2855 2742 \nQ 2594 3103 2138 3103 \nQ 1681 3103 1420 2742 \nQ 1159 2381 1159 1747 \nQ 1159 1113 1420 752 \nQ 1681 391 2138 391 \nQ 2594 391 2855 752 \nQ 3116 1113 3116 1747 \nz\n\" transform=\"scale(0.015625)\"/>\n       <path id=\"DejaVuSans-6c\" d=\"M 603 4863 \nL 1178 4863 \nL 1178 0 \nL 603 0 \nL 603 4863 \nz\n\" transform=\"scale(0.015625)\"/>\n      </defs>\n      <use xlink:href=\"#DejaVuSans-4e\"/>\n      <use xlink:href=\"#DejaVuSans-75\" x=\"74.804688\"/>\n      <use xlink:href=\"#DejaVuSans-6d\" x=\"138.183594\"/>\n      <use xlink:href=\"#DejaVuSans-62\" x=\"235.595703\"/>\n      <use xlink:href=\"#DejaVuSans-65\" x=\"299.072266\"/>\n      <use xlink:href=\"#DejaVuSans-72\" x=\"360.595703\"/>\n      <use xlink:href=\"#DejaVuSans-20\" x=\"401.708984\"/>\n      <use xlink:href=\"#DejaVuSans-6f\" x=\"433.496094\"/>\n      <use xlink:href=\"#DejaVuSans-66\" x=\"494.677734\"/>\n      <use xlink:href=\"#DejaVuSans-20\" x=\"529.882812\"/>\n      <use xlink:href=\"#DejaVuSans-64\" x=\"561.669922\"/>\n      <use xlink:href=\"#DejaVuSans-61\" x=\"625.146484\"/>\n      <use xlink:href=\"#DejaVuSans-74\" x=\"686.425781\"/>\n      <use xlink:href=\"#DejaVuSans-61\" x=\"725.634766\"/>\n      <use xlink:href=\"#DejaVuSans-20\" x=\"786.914062\"/>\n      <use xlink:href=\"#DejaVuSans-73\" x=\"818.701172\"/>\n      <use xlink:href=\"#DejaVuSans-61\" x=\"870.800781\"/>\n      <use xlink:href=\"#DejaVuSans-6d\" x=\"932.080078\"/>\n      <use xlink:href=\"#DejaVuSans-70\" x=\"1029.492188\"/>\n      <use xlink:href=\"#DejaVuSans-6c\" x=\"1092.96875\"/>\n      <use xlink:href=\"#DejaVuSans-65\" x=\"1120.751953\"/>\n      <use xlink:href=\"#DejaVuSans-73\" x=\"1182.275391\"/>\n     </g>\n    </g>\n   </g>\n   <g id=\"matplotlib.axis_2\">\n    <g id=\"ytick_1\">\n     <g id=\"line2d_10\">\n      <defs>\n       <path id=\"mbc0b3d2bdf\" d=\"M 0 0 \nL -10 0 \n\" style=\"stroke: #000000; stroke-width: 1.25\"/>\n      </defs>\n      <g>\n       <use xlink:href=\"#mbc0b3d2bdf\" x=\"99.998946\" y=\"34.334048\" style=\"stroke: #000000; stroke-width: 1.25\"/>\n      </g>\n     </g>\n     <g id=\"text_11\">\n      <!-- Female -->\n      <g transform=\"translate(62.411305 36.70761)scale(0.062475 -0.062475)\">\n       <defs>\n        <path id=\"DejaVuSans-46\" d=\"M 628 4666 \nL 3309 4666 \nL 3309 4134 \nL 1259 4134 \nL 1259 2759 \nL 3109 2759 \nL 3109 2228 \nL 1259 2228 \nL 1259 0 \nL 628 0 \nL 628 4666 \nz\n\" transform=\"scale(0.015625)\"/>\n       </defs>\n       <use xlink:href=\"#DejaVuSans-46\"/>\n       <use xlink:href=\"#DejaVuSans-65\" x=\"52.019531\"/>\n       <use xlink:href=\"#DejaVuSans-6d\" x=\"113.542969\"/>\n       <use xlink:href=\"#DejaVuSans-61\" x=\"210.955078\"/>\n       <use xlink:href=\"#DejaVuSans-6c\" x=\"272.234375\"/>\n       <use xlink:href=\"#DejaVuSans-65\" x=\"300.017578\"/>\n      </g>\n     </g>\n    </g>\n    <g id=\"ytick_2\">\n     <g id=\"line2d_11\">\n      <g>\n       <use xlink:href=\"#mbc0b3d2bdf\" x=\"99.998946\" y=\"54.924957\" style=\"stroke: #000000; stroke-width: 1.25\"/>\n      </g>\n     </g>\n     <g id=\"text_12\">\n      <!-- Male -->\n      <g transform=\"translate(70.20018 57.298519)scale(0.062475 -0.062475)\">\n       <defs>\n        <path id=\"DejaVuSans-4d\" d=\"M 628 4666 \nL 1569 4666 \nL 2759 1491 \nL 3956 4666 \nL 4897 4666 \nL 4897 0 \nL 4281 0 \nL 4281 4097 \nL 3078 897 \nL 2444 897 \nL 1241 4097 \nL 1241 0 \nL 628 0 \nL 628 4666 \nz\n\" transform=\"scale(0.015625)\"/>\n       </defs>\n       <use xlink:href=\"#DejaVuSans-4d\"/>\n       <use xlink:href=\"#DejaVuSans-61\" x=\"86.279297\"/>\n       <use xlink:href=\"#DejaVuSans-6c\" x=\"147.558594\"/>\n       <use xlink:href=\"#DejaVuSans-65\" x=\"175.341797\"/>\n      </g>\n     </g>\n    </g>\n   </g>\n   <g id=\"line2d_12\">\n    <path clip-path=\"url(#pc5036b9adf)\" style=\"fill: none; stroke: #424242; stroke-width: 3; stroke-linecap: square\"/>\n   </g>\n   <g id=\"line2d_13\">\n    <path clip-path=\"url(#pc5036b9adf)\" style=\"fill: none; stroke: #424242; stroke-width: 3; stroke-linecap: square\"/>\n   </g>\n   <g id=\"patch_5\">\n    <path d=\"M 99.998946 65.220412 \nL 99.998946 24.038594 \n\" style=\"fill: none; stroke: #000000; stroke-width: 1.666667; stroke-linejoin: miter; stroke-linecap: square\"/>\n   </g>\n   <g id=\"patch_6\">\n    <path d=\"M 99.998946 65.220412 \nL 378.998946 65.220412 \n\" style=\"fill: none; stroke: #000000; stroke-width: 1.666667; stroke-linejoin: miter; stroke-linecap: square\"/>\n   </g>\n   <g id=\"text_13\">\n    <!-- Data balance across sex subgroups -->\n    <g transform=\"translate(159.731524 14.038594)scale(0.09 -0.09)\">\n     <defs>\n      <path id=\"DejaVuSans-44\" d=\"M 1259 4147 \nL 1259 519 \nL 2022 519 \nQ 2988 519 3436 956 \nQ 3884 1394 3884 2338 \nQ 3884 3275 3436 3711 \nQ 2988 4147 2022 4147 \nL 1259 4147 \nz\nM 628 4666 \nL 1925 4666 \nQ 3281 4666 3915 4102 \nQ 4550 3538 4550 2338 \nQ 4550 1131 3912 565 \nQ 3275 0 1925 0 \nL 628 0 \nL 628 4666 \nz\n\" transform=\"scale(0.015625)\"/>\n      <path id=\"DejaVuSans-6e\" d=\"M 3513 2113 \nL 3513 0 \nL 2938 0 \nL 2938 2094 \nQ 2938 2591 2744 2837 \nQ 2550 3084 2163 3084 \nQ 1697 3084 1428 2787 \nQ 1159 2491 1159 1978 \nL 1159 0 \nL 581 0 \nL 581 3500 \nL 1159 3500 \nL 1159 2956 \nQ 1366 3272 1645 3428 \nQ 1925 3584 2291 3584 \nQ 2894 3584 3203 3211 \nQ 3513 2838 3513 2113 \nz\n\" transform=\"scale(0.015625)\"/>\n      <path id=\"DejaVuSans-63\" d=\"M 3122 3366 \nL 3122 2828 \nQ 2878 2963 2633 3030 \nQ 2388 3097 2138 3097 \nQ 1578 3097 1268 2742 \nQ 959 2388 959 1747 \nQ 959 1106 1268 751 \nQ 1578 397 2138 397 \nQ 2388 397 2633 464 \nQ 2878 531 3122 666 \nL 3122 134 \nQ 2881 22 2623 -34 \nQ 2366 -91 2075 -91 \nQ 1284 -91 818 406 \nQ 353 903 353 1747 \nQ 353 2603 823 3093 \nQ 1294 3584 2113 3584 \nQ 2378 3584 2631 3529 \nQ 2884 3475 3122 3366 \nz\n\" transform=\"scale(0.015625)\"/>\n      <path id=\"DejaVuSans-78\" d=\"M 3513 3500 \nL 2247 1797 \nL 3578 0 \nL 2900 0 \nL 1881 1375 \nL 863 0 \nL 184 0 \nL 1544 1831 \nL 300 3500 \nL 978 3500 \nL 1906 2253 \nL 2834 3500 \nL 3513 3500 \nz\n\" transform=\"scale(0.015625)\"/>\n      <path id=\"DejaVuSans-67\" d=\"M 2906 1791 \nQ 2906 2416 2648 2759 \nQ 2391 3103 1925 3103 \nQ 1463 3103 1205 2759 \nQ 947 2416 947 1791 \nQ 947 1169 1205 825 \nQ 1463 481 1925 481 \nQ 2391 481 2648 825 \nQ 2906 1169 2906 1791 \nz\nM 3481 434 \nQ 3481 -459 3084 -895 \nQ 2688 -1331 1869 -1331 \nQ 1566 -1331 1297 -1286 \nQ 1028 -1241 775 -1147 \nL 775 -588 \nQ 1028 -725 1275 -790 \nQ 1522 -856 1778 -856 \nQ 2344 -856 2625 -561 \nQ 2906 -266 2906 331 \nL 2906 616 \nQ 2728 306 2450 153 \nQ 2172 0 1784 0 \nQ 1141 0 747 490 \nQ 353 981 353 1791 \nQ 353 2603 747 3093 \nQ 1141 3584 1784 3584 \nQ 2172 3584 2450 3431 \nQ 2728 3278 2906 2969 \nL 2906 3500 \nL 3481 3500 \nL 3481 434 \nz\n\" transform=\"scale(0.015625)\"/>\n     </defs>\n     <use xlink:href=\"#DejaVuSans-44\"/>\n     <use xlink:href=\"#DejaVuSans-61\" x=\"77.001953\"/>\n     <use xlink:href=\"#DejaVuSans-74\" x=\"138.28125\"/>\n     <use xlink:href=\"#DejaVuSans-61\" x=\"177.490234\"/>\n     <use xlink:href=\"#DejaVuSans-20\" x=\"238.769531\"/>\n     <use xlink:href=\"#DejaVuSans-62\" x=\"270.556641\"/>\n     <use xlink:href=\"#DejaVuSans-61\" x=\"334.033203\"/>\n     <use xlink:href=\"#DejaVuSans-6c\" x=\"395.3125\"/>\n     <use xlink:href=\"#DejaVuSans-61\" x=\"423.095703\"/>\n     <use xlink:href=\"#DejaVuSans-6e\" x=\"484.375\"/>\n     <use xlink:href=\"#DejaVuSans-63\" x=\"547.753906\"/>\n     <use xlink:href=\"#DejaVuSans-65\" x=\"602.734375\"/>\n     <use xlink:href=\"#DejaVuSans-20\" x=\"664.257812\"/>\n     <use xlink:href=\"#DejaVuSans-61\" x=\"696.044922\"/>\n     <use xlink:href=\"#DejaVuSans-63\" x=\"757.324219\"/>\n     <use xlink:href=\"#DejaVuSans-72\" x=\"812.304688\"/>\n     <use xlink:href=\"#DejaVuSans-6f\" x=\"851.167969\"/>\n     <use xlink:href=\"#DejaVuSans-73\" x=\"912.349609\"/>\n     <use xlink:href=\"#DejaVuSans-73\" x=\"964.449219\"/>\n     <use xlink:href=\"#DejaVuSans-20\" x=\"1016.548828\"/>\n     <use xlink:href=\"#DejaVuSans-73\" x=\"1048.335938\"/>\n     <use xlink:href=\"#DejaVuSans-65\" x=\"1100.435547\"/>\n     <use xlink:href=\"#DejaVuSans-78\" x=\"1160.208984\"/>\n     <use xlink:href=\"#DejaVuSans-20\" x=\"1219.388672\"/>\n     <use xlink:href=\"#DejaVuSans-73\" x=\"1251.175781\"/>\n     <use xlink:href=\"#DejaVuSans-75\" x=\"1303.275391\"/>\n     <use xlink:href=\"#DejaVuSans-62\" x=\"1366.654297\"/>\n     <use xlink:href=\"#DejaVuSans-67\" x=\"1430.130859\"/>\n     <use xlink:href=\"#DejaVuSans-72\" x=\"1493.607422\"/>\n     <use xlink:href=\"#DejaVuSans-6f\" x=\"1532.470703\"/>\n     <use xlink:href=\"#DejaVuSans-75\" x=\"1593.652344\"/>\n     <use xlink:href=\"#DejaVuSans-70\" x=\"1657.03125\"/>\n     <use xlink:href=\"#DejaVuSans-73\" x=\"1720.507812\"/>\n    </g>\n   </g>\n  </g>\n  <g id=\"axes_2\">\n   <g id=\"patch_7\">\n    <path d=\"M 99.998946 180.529503 \nL 378.998946 180.529503 \nL 378.998946 139.347685 \nL 99.998946 139.347685 \nz\n\" style=\"fill: #ffffff\"/>\n   </g>\n   <g id=\"patch_8\">\n    <path d=\"M 99.998946 141.406776 \nL 264.740283 141.406776 \nL 264.740283 149.643139 \nL 99.998946 149.643139 \nz\n\" clip-path=\"url(#pc050d47350)\" style=\"fill: #441d9e\"/>\n   </g>\n   <g id=\"patch_9\">\n    <path d=\"M 99.998946 161.997685 \nL 365.713232 161.997685 \nL 365.713232 170.234048 \nL 99.998946 170.234048 \nz\n\" clip-path=\"url(#pc050d47350)\" style=\"fill: #441d9e\"/>\n   </g>\n   <g id=\"patch_10\">\n    <path d=\"M 99.998946 149.643139 \nL 121.1284 149.643139 \nL 121.1284 157.879503 \nL 99.998946 157.879503 \nz\n\" clip-path=\"url(#pc050d47350)\" style=\"fill: #e03e87\"/>\n   </g>\n   <g id=\"patch_11\">\n    <path d=\"M 99.998946 170.234048 \nL 221.53131 170.234048 \nL 221.53131 178.470412 \nL 99.998946 178.470412 \nz\n\" clip-path=\"url(#pc050d47350)\" style=\"fill: #e03e87\"/>\n   </g>\n   <g id=\"matplotlib.axis_3\">\n    <g id=\"xtick_10\">\n     <g id=\"line2d_14\">\n      <g>\n       <use xlink:href=\"#mcf48736aff\" x=\"99.998946\" y=\"180.529503\" style=\"stroke: #000000; stroke-width: 1.25\"/>\n      </g>\n     </g>\n     <g id=\"text_14\">\n      <!-- 0 -->\n      <g transform=\"translate(98.01146 200.276627)scale(0.062475 -0.062475)\">\n       <use xlink:href=\"#DejaVuSans-30\"/>\n      </g>\n     </g>\n    </g>\n    <g id=\"xtick_11\">\n     <g id=\"line2d_15\">\n      <g>\n       <use xlink:href=\"#mcf48736aff\" x=\"138.001561\" y=\"180.529503\" style=\"stroke: #000000; stroke-width: 1.25\"/>\n      </g>\n     </g>\n     <g id=\"text_15\">\n      <!-- 2000 -->\n      <g transform=\"translate(130.051618 200.276627)scale(0.062475 -0.062475)\">\n       <use xlink:href=\"#DejaVuSans-32\"/>\n       <use xlink:href=\"#DejaVuSans-30\" x=\"63.623047\"/>\n       <use xlink:href=\"#DejaVuSans-30\" x=\"127.246094\"/>\n       <use xlink:href=\"#DejaVuSans-30\" x=\"190.869141\"/>\n      </g>\n     </g>\n    </g>\n    <g id=\"xtick_12\">\n     <g id=\"line2d_16\">\n      <g>\n       <use xlink:href=\"#mcf48736aff\" x=\"176.004177\" y=\"180.529503\" style=\"stroke: #000000; stroke-width: 1.25\"/>\n      </g>\n     </g>\n     <g id=\"text_16\">\n      <!-- 4000 -->\n      <g transform=\"translate(168.054233 200.276627)scale(0.062475 -0.062475)\">\n       <defs>\n        <path id=\"DejaVuSans-34\" d=\"M 2419 4116 \nL 825 1625 \nL 2419 1625 \nL 2419 4116 \nz\nM 2253 4666 \nL 3047 4666 \nL 3047 1625 \nL 3713 1625 \nL 3713 1100 \nL 3047 1100 \nL 3047 0 \nL 2419 0 \nL 2419 1100 \nL 313 1100 \nL 313 1709 \nL 2253 4666 \nz\n\" transform=\"scale(0.015625)\"/>\n       </defs>\n       <use xlink:href=\"#DejaVuSans-34\"/>\n       <use xlink:href=\"#DejaVuSans-30\" x=\"63.623047\"/>\n       <use xlink:href=\"#DejaVuSans-30\" x=\"127.246094\"/>\n       <use xlink:href=\"#DejaVuSans-30\" x=\"190.869141\"/>\n      </g>\n     </g>\n    </g>\n    <g id=\"xtick_13\">\n     <g id=\"line2d_17\">\n      <g>\n       <use xlink:href=\"#mcf48736aff\" x=\"214.006792\" y=\"180.529503\" style=\"stroke: #000000; stroke-width: 1.25\"/>\n      </g>\n     </g>\n     <g id=\"text_17\">\n      <!-- 6000 -->\n      <g transform=\"translate(206.056848 200.276627)scale(0.062475 -0.062475)\">\n       <defs>\n        <path id=\"DejaVuSans-36\" d=\"M 2113 2584 \nQ 1688 2584 1439 2293 \nQ 1191 2003 1191 1497 \nQ 1191 994 1439 701 \nQ 1688 409 2113 409 \nQ 2538 409 2786 701 \nQ 3034 994 3034 1497 \nQ 3034 2003 2786 2293 \nQ 2538 2584 2113 2584 \nz\nM 3366 4563 \nL 3366 3988 \nQ 3128 4100 2886 4159 \nQ 2644 4219 2406 4219 \nQ 1781 4219 1451 3797 \nQ 1122 3375 1075 2522 \nQ 1259 2794 1537 2939 \nQ 1816 3084 2150 3084 \nQ 2853 3084 3261 2657 \nQ 3669 2231 3669 1497 \nQ 3669 778 3244 343 \nQ 2819 -91 2113 -91 \nQ 1303 -91 875 529 \nQ 447 1150 447 2328 \nQ 447 3434 972 4092 \nQ 1497 4750 2381 4750 \nQ 2619 4750 2861 4703 \nQ 3103 4656 3366 4563 \nz\n\" transform=\"scale(0.015625)\"/>\n       </defs>\n       <use xlink:href=\"#DejaVuSans-36\"/>\n       <use xlink:href=\"#DejaVuSans-30\" x=\"63.623047\"/>\n       <use xlink:href=\"#DejaVuSans-30\" x=\"127.246094\"/>\n       <use xlink:href=\"#DejaVuSans-30\" x=\"190.869141\"/>\n      </g>\n     </g>\n    </g>\n    <g id=\"xtick_14\">\n     <g id=\"line2d_18\">\n      <g>\n       <use xlink:href=\"#mcf48736aff\" x=\"252.009407\" y=\"180.529503\" style=\"stroke: #000000; stroke-width: 1.25\"/>\n      </g>\n     </g>\n     <g id=\"text_18\">\n      <!-- 8000 -->\n      <g transform=\"translate(244.059463 200.276627)scale(0.062475 -0.062475)\">\n       <defs>\n        <path id=\"DejaVuSans-38\" d=\"M 2034 2216 \nQ 1584 2216 1326 1975 \nQ 1069 1734 1069 1313 \nQ 1069 891 1326 650 \nQ 1584 409 2034 409 \nQ 2484 409 2743 651 \nQ 3003 894 3003 1313 \nQ 3003 1734 2745 1975 \nQ 2488 2216 2034 2216 \nz\nM 1403 2484 \nQ 997 2584 770 2862 \nQ 544 3141 544 3541 \nQ 544 4100 942 4425 \nQ 1341 4750 2034 4750 \nQ 2731 4750 3128 4425 \nQ 3525 4100 3525 3541 \nQ 3525 3141 3298 2862 \nQ 3072 2584 2669 2484 \nQ 3125 2378 3379 2068 \nQ 3634 1759 3634 1313 \nQ 3634 634 3220 271 \nQ 2806 -91 2034 -91 \nQ 1263 -91 848 271 \nQ 434 634 434 1313 \nQ 434 1759 690 2068 \nQ 947 2378 1403 2484 \nz\nM 1172 3481 \nQ 1172 3119 1398 2916 \nQ 1625 2713 2034 2713 \nQ 2441 2713 2670 2916 \nQ 2900 3119 2900 3481 \nQ 2900 3844 2670 4047 \nQ 2441 4250 2034 4250 \nQ 1625 4250 1398 4047 \nQ 1172 3844 1172 3481 \nz\n\" transform=\"scale(0.015625)\"/>\n       </defs>\n       <use xlink:href=\"#DejaVuSans-38\"/>\n       <use xlink:href=\"#DejaVuSans-30\" x=\"63.623047\"/>\n       <use xlink:href=\"#DejaVuSans-30\" x=\"127.246094\"/>\n       <use xlink:href=\"#DejaVuSans-30\" x=\"190.869141\"/>\n      </g>\n     </g>\n    </g>\n    <g id=\"xtick_15\">\n     <g id=\"line2d_19\">\n      <g>\n       <use xlink:href=\"#mcf48736aff\" x=\"290.012022\" y=\"180.529503\" style=\"stroke: #000000; stroke-width: 1.25\"/>\n      </g>\n     </g>\n     <g id=\"text_19\">\n      <!-- 10000 -->\n      <g transform=\"translate(280.074593 200.276627)scale(0.062475 -0.062475)\">\n       <use xlink:href=\"#DejaVuSans-31\"/>\n       <use xlink:href=\"#DejaVuSans-30\" x=\"63.623047\"/>\n       <use xlink:href=\"#DejaVuSans-30\" x=\"127.246094\"/>\n       <use xlink:href=\"#DejaVuSans-30\" x=\"190.869141\"/>\n       <use xlink:href=\"#DejaVuSans-30\" x=\"254.492188\"/>\n      </g>\n     </g>\n    </g>\n    <g id=\"xtick_16\">\n     <g id=\"line2d_20\">\n      <g>\n       <use xlink:href=\"#mcf48736aff\" x=\"328.014637\" y=\"180.529503\" style=\"stroke: #000000; stroke-width: 1.25\"/>\n      </g>\n     </g>\n     <g id=\"text_20\">\n      <!-- 12000 -->\n      <g transform=\"translate(318.077208 200.276627)scale(0.062475 -0.062475)\">\n       <use xlink:href=\"#DejaVuSans-31\"/>\n       <use xlink:href=\"#DejaVuSans-32\" x=\"63.623047\"/>\n       <use xlink:href=\"#DejaVuSans-30\" x=\"127.246094\"/>\n       <use xlink:href=\"#DejaVuSans-30\" x=\"190.869141\"/>\n       <use xlink:href=\"#DejaVuSans-30\" x=\"254.492188\"/>\n      </g>\n     </g>\n    </g>\n    <g id=\"xtick_17\">\n     <g id=\"line2d_21\">\n      <g>\n       <use xlink:href=\"#mcf48736aff\" x=\"366.017253\" y=\"180.529503\" style=\"stroke: #000000; stroke-width: 1.25\"/>\n      </g>\n     </g>\n     <g id=\"text_21\">\n      <!-- 14000 -->\n      <g transform=\"translate(356.079823 200.276627)scale(0.062475 -0.062475)\">\n       <use xlink:href=\"#DejaVuSans-31\"/>\n       <use xlink:href=\"#DejaVuSans-34\" x=\"63.623047\"/>\n       <use xlink:href=\"#DejaVuSans-30\" x=\"127.246094\"/>\n       <use xlink:href=\"#DejaVuSans-30\" x=\"190.869141\"/>\n       <use xlink:href=\"#DejaVuSans-30\" x=\"254.492188\"/>\n      </g>\n     </g>\n    </g>\n    <g id=\"text_22\">\n     <!-- Number of data samples -->\n     <g transform=\"translate(193.209884 214.77474)scale(0.075 -0.075)\">\n      <use xlink:href=\"#DejaVuSans-4e\"/>\n      <use xlink:href=\"#DejaVuSans-75\" x=\"74.804688\"/>\n      <use xlink:href=\"#DejaVuSans-6d\" x=\"138.183594\"/>\n      <use xlink:href=\"#DejaVuSans-62\" x=\"235.595703\"/>\n      <use xlink:href=\"#DejaVuSans-65\" x=\"299.072266\"/>\n      <use xlink:href=\"#DejaVuSans-72\" x=\"360.595703\"/>\n      <use xlink:href=\"#DejaVuSans-20\" x=\"401.708984\"/>\n      <use xlink:href=\"#DejaVuSans-6f\" x=\"433.496094\"/>\n      <use xlink:href=\"#DejaVuSans-66\" x=\"494.677734\"/>\n      <use xlink:href=\"#DejaVuSans-20\" x=\"529.882812\"/>\n      <use xlink:href=\"#DejaVuSans-64\" x=\"561.669922\"/>\n      <use xlink:href=\"#DejaVuSans-61\" x=\"625.146484\"/>\n      <use xlink:href=\"#DejaVuSans-74\" x=\"686.425781\"/>\n      <use xlink:href=\"#DejaVuSans-61\" x=\"725.634766\"/>\n      <use xlink:href=\"#DejaVuSans-20\" x=\"786.914062\"/>\n      <use xlink:href=\"#DejaVuSans-73\" x=\"818.701172\"/>\n      <use xlink:href=\"#DejaVuSans-61\" x=\"870.800781\"/>\n      <use xlink:href=\"#DejaVuSans-6d\" x=\"932.080078\"/>\n      <use xlink:href=\"#DejaVuSans-70\" x=\"1029.492188\"/>\n      <use xlink:href=\"#DejaVuSans-6c\" x=\"1092.96875\"/>\n      <use xlink:href=\"#DejaVuSans-65\" x=\"1120.751953\"/>\n      <use xlink:href=\"#DejaVuSans-73\" x=\"1182.275391\"/>\n     </g>\n    </g>\n   </g>\n   <g id=\"matplotlib.axis_4\">\n    <g id=\"ytick_3\">\n     <g id=\"line2d_22\">\n      <g>\n       <use xlink:href=\"#mbc0b3d2bdf\" x=\"99.998946\" y=\"149.643139\" style=\"stroke: #000000; stroke-width: 1.25\"/>\n      </g>\n     </g>\n     <g id=\"text_23\">\n      <!-- Female -->\n      <g transform=\"translate(62.411305 152.016701)scale(0.062475 -0.062475)\">\n       <use xlink:href=\"#DejaVuSans-46\"/>\n       <use xlink:href=\"#DejaVuSans-65\" x=\"52.019531\"/>\n       <use xlink:href=\"#DejaVuSans-6d\" x=\"113.542969\"/>\n       <use xlink:href=\"#DejaVuSans-61\" x=\"210.955078\"/>\n       <use xlink:href=\"#DejaVuSans-6c\" x=\"272.234375\"/>\n       <use xlink:href=\"#DejaVuSans-65\" x=\"300.017578\"/>\n      </g>\n     </g>\n    </g>\n    <g id=\"ytick_4\">\n     <g id=\"line2d_23\">\n      <g>\n       <use xlink:href=\"#mbc0b3d2bdf\" x=\"99.998946\" y=\"170.234048\" style=\"stroke: #000000; stroke-width: 1.25\"/>\n      </g>\n     </g>\n     <g id=\"text_24\">\n      <!-- Male -->\n      <g transform=\"translate(70.20018 172.60761)scale(0.062475 -0.062475)\">\n       <use xlink:href=\"#DejaVuSans-4d\"/>\n       <use xlink:href=\"#DejaVuSans-61\" x=\"86.279297\"/>\n       <use xlink:href=\"#DejaVuSans-6c\" x=\"147.558594\"/>\n       <use xlink:href=\"#DejaVuSans-65\" x=\"175.341797\"/>\n      </g>\n     </g>\n    </g>\n   </g>\n   <g id=\"line2d_24\">\n    <path clip-path=\"url(#pc050d47350)\" style=\"fill: none; stroke: #424242; stroke-width: 3; stroke-linecap: square\"/>\n   </g>\n   <g id=\"line2d_25\">\n    <path clip-path=\"url(#pc050d47350)\" style=\"fill: none; stroke: #424242; stroke-width: 3; stroke-linecap: square\"/>\n   </g>\n   <g id=\"line2d_26\">\n    <path clip-path=\"url(#pc050d47350)\" style=\"fill: none; stroke: #424242; stroke-width: 3; stroke-linecap: square\"/>\n   </g>\n   <g id=\"line2d_27\">\n    <path clip-path=\"url(#pc050d47350)\" style=\"fill: none; stroke: #424242; stroke-width: 3; stroke-linecap: square\"/>\n   </g>\n   <g id=\"patch_12\">\n    <path d=\"M 99.998946 180.529503 \nL 99.998946 139.347685 \n\" style=\"fill: none; stroke: #000000; stroke-width: 1.666667; stroke-linejoin: miter; stroke-linecap: square\"/>\n   </g>\n   <g id=\"patch_13\">\n    <path d=\"M 99.998946 180.529503 \nL 378.998946 180.529503 \n\" style=\"fill: none; stroke: #000000; stroke-width: 1.666667; stroke-linejoin: miter; stroke-linecap: square\"/>\n   </g>\n   <g id=\"text_25\">\n    <!-- Data balance across sex subgroups and label values -->\n    <g transform=\"translate(121.454805 129.347685)scale(0.09 -0.09)\">\n     <defs>\n      <path id=\"DejaVuSans-76\" d=\"M 191 3500 \nL 800 3500 \nL 1894 563 \nL 2988 3500 \nL 3597 3500 \nL 2284 0 \nL 1503 0 \nL 191 3500 \nz\n\" transform=\"scale(0.015625)\"/>\n     </defs>\n     <use xlink:href=\"#DejaVuSans-44\"/>\n     <use xlink:href=\"#DejaVuSans-61\" x=\"77.001953\"/>\n     <use xlink:href=\"#DejaVuSans-74\" x=\"138.28125\"/>\n     <use xlink:href=\"#DejaVuSans-61\" x=\"177.490234\"/>\n     <use xlink:href=\"#DejaVuSans-20\" x=\"238.769531\"/>\n     <use xlink:href=\"#DejaVuSans-62\" x=\"270.556641\"/>\n     <use xlink:href=\"#DejaVuSans-61\" x=\"334.033203\"/>\n     <use xlink:href=\"#DejaVuSans-6c\" x=\"395.3125\"/>\n     <use xlink:href=\"#DejaVuSans-61\" x=\"423.095703\"/>\n     <use xlink:href=\"#DejaVuSans-6e\" x=\"484.375\"/>\n     <use xlink:href=\"#DejaVuSans-63\" x=\"547.753906\"/>\n     <use xlink:href=\"#DejaVuSans-65\" x=\"602.734375\"/>\n     <use xlink:href=\"#DejaVuSans-20\" x=\"664.257812\"/>\n     <use xlink:href=\"#DejaVuSans-61\" x=\"696.044922\"/>\n     <use xlink:href=\"#DejaVuSans-63\" x=\"757.324219\"/>\n     <use xlink:href=\"#DejaVuSans-72\" x=\"812.304688\"/>\n     <use xlink:href=\"#DejaVuSans-6f\" x=\"851.167969\"/>\n     <use xlink:href=\"#DejaVuSans-73\" x=\"912.349609\"/>\n     <use xlink:href=\"#DejaVuSans-73\" x=\"964.449219\"/>\n     <use xlink:href=\"#DejaVuSans-20\" x=\"1016.548828\"/>\n     <use xlink:href=\"#DejaVuSans-73\" x=\"1048.335938\"/>\n     <use xlink:href=\"#DejaVuSans-65\" x=\"1100.435547\"/>\n     <use xlink:href=\"#DejaVuSans-78\" x=\"1160.208984\"/>\n     <use xlink:href=\"#DejaVuSans-20\" x=\"1219.388672\"/>\n     <use xlink:href=\"#DejaVuSans-73\" x=\"1251.175781\"/>\n     <use xlink:href=\"#DejaVuSans-75\" x=\"1303.275391\"/>\n     <use xlink:href=\"#DejaVuSans-62\" x=\"1366.654297\"/>\n     <use xlink:href=\"#DejaVuSans-67\" x=\"1430.130859\"/>\n     <use xlink:href=\"#DejaVuSans-72\" x=\"1493.607422\"/>\n     <use xlink:href=\"#DejaVuSans-6f\" x=\"1532.470703\"/>\n     <use xlink:href=\"#DejaVuSans-75\" x=\"1593.652344\"/>\n     <use xlink:href=\"#DejaVuSans-70\" x=\"1657.03125\"/>\n     <use xlink:href=\"#DejaVuSans-73\" x=\"1720.507812\"/>\n     <use xlink:href=\"#DejaVuSans-20\" x=\"1772.607422\"/>\n     <use xlink:href=\"#DejaVuSans-61\" x=\"1804.394531\"/>\n     <use xlink:href=\"#DejaVuSans-6e\" x=\"1865.673828\"/>\n     <use xlink:href=\"#DejaVuSans-64\" x=\"1929.052734\"/>\n     <use xlink:href=\"#DejaVuSans-20\" x=\"1992.529297\"/>\n     <use xlink:href=\"#DejaVuSans-6c\" x=\"2024.316406\"/>\n     <use xlink:href=\"#DejaVuSans-61\" x=\"2052.099609\"/>\n     <use xlink:href=\"#DejaVuSans-62\" x=\"2113.378906\"/>\n     <use xlink:href=\"#DejaVuSans-65\" x=\"2176.855469\"/>\n     <use xlink:href=\"#DejaVuSans-6c\" x=\"2238.378906\"/>\n     <use xlink:href=\"#DejaVuSans-20\" x=\"2266.162109\"/>\n     <use xlink:href=\"#DejaVuSans-76\" x=\"2297.949219\"/>\n     <use xlink:href=\"#DejaVuSans-61\" x=\"2357.128906\"/>\n     <use xlink:href=\"#DejaVuSans-6c\" x=\"2418.408203\"/>\n     <use xlink:href=\"#DejaVuSans-75\" x=\"2446.191406\"/>\n     <use xlink:href=\"#DejaVuSans-65\" x=\"2509.570312\"/>\n     <use xlink:href=\"#DejaVuSans-73\" x=\"2571.09375\"/>\n    </g>\n   </g>\n  </g>\n  <g id=\"axes_3\">\n   <g id=\"patch_14\">\n    <path d=\"M 99.998946 295.838594 \nL 378.998946 295.838594 \nL 378.998946 254.656776 \nL 99.998946 254.656776 \nz\n\" style=\"fill: #ffffff\"/>\n   </g>\n   <g id=\"patch_15\">\n    <path d=\"M 99.998946 258.774957 \nL 365.713232 258.774957 \nL 365.713232 275.247685 \nL 99.998946 275.247685 \nz\n\" clip-path=\"url(#pf95453b6d7)\" style=\"fill: #441d9e\"/>\n   </g>\n   <g id=\"patch_16\">\n    <path d=\"M 99.998946 275.247685 \nL 224.322083 275.247685 \nL 224.322083 291.720412 \nL 99.998946 291.720412 \nz\n\" clip-path=\"url(#pf95453b6d7)\" style=\"fill: #e03e87\"/>\n   </g>\n   <g id=\"matplotlib.axis_5\">\n    <g id=\"xtick_18\">\n     <g id=\"line2d_28\">\n      <g>\n       <use xlink:href=\"#mcf48736aff\" x=\"99.998946\" y=\"295.838594\" style=\"stroke: #000000; stroke-width: 1.25\"/>\n      </g>\n     </g>\n     <g id=\"text_26\">\n      <!-- 0.0 -->\n      <g transform=\"translate(95.031207 315.585718)scale(0.062475 -0.062475)\">\n       <defs>\n        <path id=\"DejaVuSans-2e\" d=\"M 684 794 \nL 1344 794 \nL 1344 0 \nL 684 0 \nL 684 794 \nz\n\" transform=\"scale(0.015625)\"/>\n       </defs>\n       <use xlink:href=\"#DejaVuSans-30\"/>\n       <use xlink:href=\"#DejaVuSans-2e\" x=\"63.623047\"/>\n       <use xlink:href=\"#DejaVuSans-30\" x=\"95.410156\"/>\n      </g>\n     </g>\n    </g>\n    <g id=\"xtick_19\">\n     <g id=\"line2d_29\">\n      <g>\n       <use xlink:href=\"#mcf48736aff\" x=\"134.321461\" y=\"295.838594\" style=\"stroke: #000000; stroke-width: 1.25\"/>\n      </g>\n     </g>\n     <g id=\"text_27\">\n      <!-- 0.1 -->\n      <g transform=\"translate(129.353723 315.585718)scale(0.062475 -0.062475)\">\n       <use xlink:href=\"#DejaVuSans-30\"/>\n       <use xlink:href=\"#DejaVuSans-2e\" x=\"63.623047\"/>\n       <use xlink:href=\"#DejaVuSans-31\" x=\"95.410156\"/>\n      </g>\n     </g>\n    </g>\n    <g id=\"xtick_20\">\n     <g id=\"line2d_30\">\n      <g>\n       <use xlink:href=\"#mcf48736aff\" x=\"168.643977\" y=\"295.838594\" style=\"stroke: #000000; stroke-width: 1.25\"/>\n      </g>\n     </g>\n     <g id=\"text_28\">\n      <!-- 0.2 -->\n      <g transform=\"translate(163.676238 315.585718)scale(0.062475 -0.062475)\">\n       <use xlink:href=\"#DejaVuSans-30\"/>\n       <use xlink:href=\"#DejaVuSans-2e\" x=\"63.623047\"/>\n       <use xlink:href=\"#DejaVuSans-32\" x=\"95.410156\"/>\n      </g>\n     </g>\n    </g>\n    <g id=\"xtick_21\">\n     <g id=\"line2d_31\">\n      <g>\n       <use xlink:href=\"#mcf48736aff\" x=\"202.966492\" y=\"295.838594\" style=\"stroke: #000000; stroke-width: 1.25\"/>\n      </g>\n     </g>\n     <g id=\"text_29\">\n      <!-- 0.3 -->\n      <g transform=\"translate(197.998753 315.585718)scale(0.062475 -0.062475)\">\n       <defs>\n        <path id=\"DejaVuSans-33\" d=\"M 2597 2516 \nQ 3050 2419 3304 2112 \nQ 3559 1806 3559 1356 \nQ 3559 666 3084 287 \nQ 2609 -91 1734 -91 \nQ 1441 -91 1130 -33 \nQ 819 25 488 141 \nL 488 750 \nQ 750 597 1062 519 \nQ 1375 441 1716 441 \nQ 2309 441 2620 675 \nQ 2931 909 2931 1356 \nQ 2931 1769 2642 2001 \nQ 2353 2234 1838 2234 \nL 1294 2234 \nL 1294 2753 \nL 1863 2753 \nQ 2328 2753 2575 2939 \nQ 2822 3125 2822 3475 \nQ 2822 3834 2567 4026 \nQ 2313 4219 1838 4219 \nQ 1578 4219 1281 4162 \nQ 984 4106 628 3988 \nL 628 4550 \nQ 988 4650 1302 4700 \nQ 1616 4750 1894 4750 \nQ 2613 4750 3031 4423 \nQ 3450 4097 3450 3541 \nQ 3450 3153 3228 2886 \nQ 3006 2619 2597 2516 \nz\n\" transform=\"scale(0.015625)\"/>\n       </defs>\n       <use xlink:href=\"#DejaVuSans-30\"/>\n       <use xlink:href=\"#DejaVuSans-2e\" x=\"63.623047\"/>\n       <use xlink:href=\"#DejaVuSans-33\" x=\"95.410156\"/>\n      </g>\n     </g>\n    </g>\n    <g id=\"xtick_22\">\n     <g id=\"line2d_32\">\n      <g>\n       <use xlink:href=\"#mcf48736aff\" x=\"237.289007\" y=\"295.838594\" style=\"stroke: #000000; stroke-width: 1.25\"/>\n      </g>\n     </g>\n     <g id=\"text_30\">\n      <!-- 0.4 -->\n      <g transform=\"translate(232.321269 315.585718)scale(0.062475 -0.062475)\">\n       <use xlink:href=\"#DejaVuSans-30\"/>\n       <use xlink:href=\"#DejaVuSans-2e\" x=\"63.623047\"/>\n       <use xlink:href=\"#DejaVuSans-34\" x=\"95.410156\"/>\n      </g>\n     </g>\n    </g>\n    <g id=\"xtick_23\">\n     <g id=\"line2d_33\">\n      <g>\n       <use xlink:href=\"#mcf48736aff\" x=\"271.611523\" y=\"295.838594\" style=\"stroke: #000000; stroke-width: 1.25\"/>\n      </g>\n     </g>\n     <g id=\"text_31\">\n      <!-- 0.5 -->\n      <g transform=\"translate(266.643784 315.585718)scale(0.062475 -0.062475)\">\n       <use xlink:href=\"#DejaVuSans-30\"/>\n       <use xlink:href=\"#DejaVuSans-2e\" x=\"63.623047\"/>\n       <use xlink:href=\"#DejaVuSans-35\" x=\"95.410156\"/>\n      </g>\n     </g>\n    </g>\n    <g id=\"xtick_24\">\n     <g id=\"line2d_34\">\n      <g>\n       <use xlink:href=\"#mcf48736aff\" x=\"305.934038\" y=\"295.838594\" style=\"stroke: #000000; stroke-width: 1.25\"/>\n      </g>\n     </g>\n     <g id=\"text_32\">\n      <!-- 0.6 -->\n      <g transform=\"translate(300.966299 315.585718)scale(0.062475 -0.062475)\">\n       <use xlink:href=\"#DejaVuSans-30\"/>\n       <use xlink:href=\"#DejaVuSans-2e\" x=\"63.623047\"/>\n       <use xlink:href=\"#DejaVuSans-36\" x=\"95.410156\"/>\n      </g>\n     </g>\n    </g>\n    <g id=\"xtick_25\">\n     <g id=\"line2d_35\">\n      <g>\n       <use xlink:href=\"#mcf48736aff\" x=\"340.256553\" y=\"295.838594\" style=\"stroke: #000000; stroke-width: 1.25\"/>\n      </g>\n     </g>\n     <g id=\"text_33\">\n      <!-- 0.7 -->\n      <g transform=\"translate(335.288815 315.585718)scale(0.062475 -0.062475)\">\n       <use xlink:href=\"#DejaVuSans-30\"/>\n       <use xlink:href=\"#DejaVuSans-2e\" x=\"63.623047\"/>\n       <use xlink:href=\"#DejaVuSans-37\" x=\"95.410156\"/>\n      </g>\n     </g>\n    </g>\n    <g id=\"xtick_26\">\n     <g id=\"line2d_36\">\n      <g>\n       <use xlink:href=\"#mcf48736aff\" x=\"374.579069\" y=\"295.838594\" style=\"stroke: #000000; stroke-width: 1.25\"/>\n      </g>\n     </g>\n     <g id=\"text_34\">\n      <!-- 0.8 -->\n      <g transform=\"translate(369.61133 315.585718)scale(0.062475 -0.062475)\">\n       <use xlink:href=\"#DejaVuSans-30\"/>\n       <use xlink:href=\"#DejaVuSans-2e\" x=\"63.623047\"/>\n       <use xlink:href=\"#DejaVuSans-38\" x=\"95.410156\"/>\n      </g>\n     </g>\n    </g>\n    <g id=\"text_35\">\n     <!-- Value -->\n     <g transform=\"translate(229.200509 330.08383)scale(0.075 -0.075)\">\n      <defs>\n       <path id=\"DejaVuSans-56\" d=\"M 1831 0 \nL 50 4666 \nL 709 4666 \nL 2188 738 \nL 3669 4666 \nL 4325 4666 \nL 2547 0 \nL 1831 0 \nz\n\" transform=\"scale(0.015625)\"/>\n      </defs>\n      <use xlink:href=\"#DejaVuSans-56\"/>\n      <use xlink:href=\"#DejaVuSans-61\" x=\"60.658203\"/>\n      <use xlink:href=\"#DejaVuSans-6c\" x=\"121.9375\"/>\n      <use xlink:href=\"#DejaVuSans-75\" x=\"149.720703\"/>\n      <use xlink:href=\"#DejaVuSans-65\" x=\"213.099609\"/>\n     </g>\n    </g>\n   </g>\n   <g id=\"matplotlib.axis_6\">\n    <g id=\"ytick_5\">\n     <g id=\"line2d_37\">\n      <g>\n       <use xlink:href=\"#mbc0b3d2bdf\" x=\"99.998946\" y=\"275.247685\" style=\"stroke: #000000; stroke-width: 1.25\"/>\n      </g>\n     </g>\n     <g id=\"text_36\">\n      <!-- demographic parity ratio -->\n      <g transform=\"translate(7.2 277.621247)scale(0.062475 -0.062475)\">\n       <defs>\n        <path id=\"DejaVuSans-68\" d=\"M 3513 2113 \nL 3513 0 \nL 2938 0 \nL 2938 2094 \nQ 2938 2591 2744 2837 \nQ 2550 3084 2163 3084 \nQ 1697 3084 1428 2787 \nQ 1159 2491 1159 1978 \nL 1159 0 \nL 581 0 \nL 581 4863 \nL 1159 4863 \nL 1159 2956 \nQ 1366 3272 1645 3428 \nQ 1925 3584 2291 3584 \nQ 2894 3584 3203 3211 \nQ 3513 2838 3513 2113 \nz\n\" transform=\"scale(0.015625)\"/>\n        <path id=\"DejaVuSans-69\" d=\"M 603 3500 \nL 1178 3500 \nL 1178 0 \nL 603 0 \nL 603 3500 \nz\nM 603 4863 \nL 1178 4863 \nL 1178 4134 \nL 603 4134 \nL 603 4863 \nz\n\" transform=\"scale(0.015625)\"/>\n        <path id=\"DejaVuSans-79\" d=\"M 2059 -325 \nQ 1816 -950 1584 -1140 \nQ 1353 -1331 966 -1331 \nL 506 -1331 \nL 506 -850 \nL 844 -850 \nQ 1081 -850 1212 -737 \nQ 1344 -625 1503 -206 \nL 1606 56 \nL 191 3500 \nL 800 3500 \nL 1894 763 \nL 2988 3500 \nL 3597 3500 \nL 2059 -325 \nz\n\" transform=\"scale(0.015625)\"/>\n       </defs>\n       <use xlink:href=\"#DejaVuSans-64\"/>\n       <use xlink:href=\"#DejaVuSans-65\" x=\"63.476562\"/>\n       <use xlink:href=\"#DejaVuSans-6d\" x=\"125\"/>\n       <use xlink:href=\"#DejaVuSans-6f\" x=\"222.412109\"/>\n       <use xlink:href=\"#DejaVuSans-67\" x=\"283.59375\"/>\n       <use xlink:href=\"#DejaVuSans-72\" x=\"347.070312\"/>\n       <use xlink:href=\"#DejaVuSans-61\" x=\"388.183594\"/>\n       <use xlink:href=\"#DejaVuSans-70\" x=\"449.462891\"/>\n       <use xlink:href=\"#DejaVuSans-68\" x=\"512.939453\"/>\n       <use xlink:href=\"#DejaVuSans-69\" x=\"576.318359\"/>\n       <use xlink:href=\"#DejaVuSans-63\" x=\"604.101562\"/>\n       <use xlink:href=\"#DejaVuSans-20\" x=\"659.082031\"/>\n       <use xlink:href=\"#DejaVuSans-70\" x=\"690.869141\"/>\n       <use xlink:href=\"#DejaVuSans-61\" x=\"754.345703\"/>\n       <use xlink:href=\"#DejaVuSans-72\" x=\"815.625\"/>\n       <use xlink:href=\"#DejaVuSans-69\" x=\"856.738281\"/>\n       <use xlink:href=\"#DejaVuSans-74\" x=\"884.521484\"/>\n       <use xlink:href=\"#DejaVuSans-79\" x=\"923.730469\"/>\n       <use xlink:href=\"#DejaVuSans-20\" x=\"982.910156\"/>\n       <use xlink:href=\"#DejaVuSans-72\" x=\"1014.697266\"/>\n       <use xlink:href=\"#DejaVuSans-61\" x=\"1055.810547\"/>\n       <use xlink:href=\"#DejaVuSans-74\" x=\"1117.089844\"/>\n       <use xlink:href=\"#DejaVuSans-69\" x=\"1156.298828\"/>\n       <use xlink:href=\"#DejaVuSans-6f\" x=\"1184.082031\"/>\n      </g>\n     </g>\n    </g>\n   </g>\n   <g id=\"line2d_38\">\n    <path clip-path=\"url(#pf95453b6d7)\" style=\"fill: none; stroke: #424242; stroke-width: 3; stroke-linecap: square\"/>\n   </g>\n   <g id=\"line2d_39\">\n    <path clip-path=\"url(#pf95453b6d7)\" style=\"fill: none; stroke: #424242; stroke-width: 3; stroke-linecap: square\"/>\n   </g>\n   <g id=\"patch_17\">\n    <path d=\"M 99.998946 295.838594 \nL 99.998946 254.656776 \n\" style=\"fill: none; stroke: #000000; stroke-width: 1.666667; stroke-linejoin: miter; stroke-linecap: square\"/>\n   </g>\n   <g id=\"patch_18\">\n    <path d=\"M 99.998946 295.838594 \nL 378.998946 295.838594 \n\" style=\"fill: none; stroke: #000000; stroke-width: 1.666667; stroke-linejoin: miter; stroke-linecap: square\"/>\n   </g>\n   <g id=\"text_37\">\n    <!-- Parity metrics for different preferred label value possibilities -->\n    <g transform=\"translate(104.159337 244.656776)scale(0.09 -0.09)\">\n     <defs>\n      <path id=\"DejaVuSans-50\" d=\"M 1259 4147 \nL 1259 2394 \nL 2053 2394 \nQ 2494 2394 2734 2622 \nQ 2975 2850 2975 3272 \nQ 2975 3691 2734 3919 \nQ 2494 4147 2053 4147 \nL 1259 4147 \nz\nM 628 4666 \nL 2053 4666 \nQ 2838 4666 3239 4311 \nQ 3641 3956 3641 3272 \nQ 3641 2581 3239 2228 \nQ 2838 1875 2053 1875 \nL 1259 1875 \nL 1259 0 \nL 628 0 \nL 628 4666 \nz\n\" transform=\"scale(0.015625)\"/>\n     </defs>\n     <use xlink:href=\"#DejaVuSans-50\"/>\n     <use xlink:href=\"#DejaVuSans-61\" x=\"55.802734\"/>\n     <use xlink:href=\"#DejaVuSans-72\" x=\"117.082031\"/>\n     <use xlink:href=\"#DejaVuSans-69\" x=\"158.195312\"/>\n     <use xlink:href=\"#DejaVuSans-74\" x=\"185.978516\"/>\n     <use xlink:href=\"#DejaVuSans-79\" x=\"225.1875\"/>\n     <use xlink:href=\"#DejaVuSans-20\" x=\"284.367188\"/>\n     <use xlink:href=\"#DejaVuSans-6d\" x=\"316.154297\"/>\n     <use xlink:href=\"#DejaVuSans-65\" x=\"413.566406\"/>\n     <use xlink:href=\"#DejaVuSans-74\" x=\"475.089844\"/>\n     <use xlink:href=\"#DejaVuSans-72\" x=\"514.298828\"/>\n     <use xlink:href=\"#DejaVuSans-69\" x=\"555.412109\"/>\n     <use xlink:href=\"#DejaVuSans-63\" x=\"583.195312\"/>\n     <use xlink:href=\"#DejaVuSans-73\" x=\"638.175781\"/>\n     <use xlink:href=\"#DejaVuSans-20\" x=\"690.275391\"/>\n     <use xlink:href=\"#DejaVuSans-66\" x=\"722.0625\"/>\n     <use xlink:href=\"#DejaVuSans-6f\" x=\"757.267578\"/>\n     <use xlink:href=\"#DejaVuSans-72\" x=\"818.449219\"/>\n     <use xlink:href=\"#DejaVuSans-20\" x=\"859.5625\"/>\n     <use xlink:href=\"#DejaVuSans-64\" x=\"891.349609\"/>\n     <use xlink:href=\"#DejaVuSans-69\" x=\"954.826172\"/>\n     <use xlink:href=\"#DejaVuSans-66\" x=\"982.609375\"/>\n     <use xlink:href=\"#DejaVuSans-66\" x=\"1017.814453\"/>\n     <use xlink:href=\"#DejaVuSans-65\" x=\"1053.019531\"/>\n     <use xlink:href=\"#DejaVuSans-72\" x=\"1114.542969\"/>\n     <use xlink:href=\"#DejaVuSans-65\" x=\"1153.40625\"/>\n     <use xlink:href=\"#DejaVuSans-6e\" x=\"1214.929688\"/>\n     <use xlink:href=\"#DejaVuSans-74\" x=\"1278.308594\"/>\n     <use xlink:href=\"#DejaVuSans-20\" x=\"1317.517578\"/>\n     <use xlink:href=\"#DejaVuSans-70\" x=\"1349.304688\"/>\n     <use xlink:href=\"#DejaVuSans-72\" x=\"1412.78125\"/>\n     <use xlink:href=\"#DejaVuSans-65\" x=\"1451.644531\"/>\n     <use xlink:href=\"#DejaVuSans-66\" x=\"1513.167969\"/>\n     <use xlink:href=\"#DejaVuSans-65\" x=\"1548.373047\"/>\n     <use xlink:href=\"#DejaVuSans-72\" x=\"1609.896484\"/>\n     <use xlink:href=\"#DejaVuSans-72\" x=\"1649.259766\"/>\n     <use xlink:href=\"#DejaVuSans-65\" x=\"1688.123047\"/>\n     <use xlink:href=\"#DejaVuSans-64\" x=\"1749.646484\"/>\n     <use xlink:href=\"#DejaVuSans-20\" x=\"1813.123047\"/>\n     <use xlink:href=\"#DejaVuSans-6c\" x=\"1844.910156\"/>\n     <use xlink:href=\"#DejaVuSans-61\" x=\"1872.693359\"/>\n     <use xlink:href=\"#DejaVuSans-62\" x=\"1933.972656\"/>\n     <use xlink:href=\"#DejaVuSans-65\" x=\"1997.449219\"/>\n     <use xlink:href=\"#DejaVuSans-6c\" x=\"2058.972656\"/>\n     <use xlink:href=\"#DejaVuSans-20\" x=\"2086.755859\"/>\n     <use xlink:href=\"#DejaVuSans-76\" x=\"2118.542969\"/>\n     <use xlink:href=\"#DejaVuSans-61\" x=\"2177.722656\"/>\n     <use xlink:href=\"#DejaVuSans-6c\" x=\"2239.001953\"/>\n     <use xlink:href=\"#DejaVuSans-75\" x=\"2266.785156\"/>\n     <use xlink:href=\"#DejaVuSans-65\" x=\"2330.164062\"/>\n     <use xlink:href=\"#DejaVuSans-20\" x=\"2391.6875\"/>\n     <use xlink:href=\"#DejaVuSans-70\" x=\"2423.474609\"/>\n     <use xlink:href=\"#DejaVuSans-6f\" x=\"2486.951172\"/>\n     <use xlink:href=\"#DejaVuSans-73\" x=\"2548.132812\"/>\n     <use xlink:href=\"#DejaVuSans-73\" x=\"2600.232422\"/>\n     <use xlink:href=\"#DejaVuSans-69\" x=\"2652.332031\"/>\n     <use xlink:href=\"#DejaVuSans-62\" x=\"2680.115234\"/>\n     <use xlink:href=\"#DejaVuSans-69\" x=\"2743.591797\"/>\n     <use xlink:href=\"#DejaVuSans-6c\" x=\"2771.375\"/>\n     <use xlink:href=\"#DejaVuSans-69\" x=\"2799.158203\"/>\n     <use xlink:href=\"#DejaVuSans-74\" x=\"2826.941406\"/>\n     <use xlink:href=\"#DejaVuSans-69\" x=\"2866.150391\"/>\n     <use xlink:href=\"#DejaVuSans-65\" x=\"2893.933594\"/>\n     <use xlink:href=\"#DejaVuSans-73\" x=\"2955.457031\"/>\n    </g>\n   </g>\n   <g id=\"legend_1\">\n    <g id=\"text_38\">\n     <!-- target -->\n     <g transform=\"translate(426.88572 273.496951)scale(0.05205 -0.05205)\">\n      <use xlink:href=\"#DejaVuSans-74\"/>\n      <use xlink:href=\"#DejaVuSans-61\" x=\"39.208984\"/>\n      <use xlink:href=\"#DejaVuSans-72\" x=\"100.488281\"/>\n      <use xlink:href=\"#DejaVuSans-67\" x=\"139.851562\"/>\n      <use xlink:href=\"#DejaVuSans-65\" x=\"203.328125\"/>\n      <use xlink:href=\"#DejaVuSans-74\" x=\"264.851562\"/>\n     </g>\n    </g>\n    <g id=\"patch_19\">\n     <path d=\"M 415.53453 280.0503 \nL 424.21953 280.0503 \nL 424.21953 277.01055 \nL 415.53453 277.01055 \nz\n\" style=\"fill: #441d9e\"/>\n    </g>\n    <g id=\"text_39\">\n     <!-- 0 -->\n     <g transform=\"translate(427.69353 280.0503)scale(0.043425 -0.043425)\">\n      <use xlink:href=\"#DejaVuSans-30\"/>\n     </g>\n    </g>\n    <g id=\"patch_20\">\n     <path d=\"M 439.141446 280.0503 \nL 447.826446 280.0503 \nL 447.826446 277.01055 \nL 439.141446 277.01055 \nz\n\" style=\"fill: #e03e87\"/>\n    </g>\n    <g id=\"text_40\">\n     <!-- 1 -->\n     <g transform=\"translate(451.300446 280.0503)scale(0.043425 -0.043425)\">\n      <use xlink:href=\"#DejaVuSans-31\"/>\n     </g>\n    </g>\n   </g>\n  </g>\n </g>\n <defs>\n  <clipPath id=\"pc5036b9adf\">\n   <rect x=\"99.998946\" y=\"24.038594\" width=\"279\" height=\"41.181818\"/>\n  </clipPath>\n  <clipPath id=\"pc050d47350\">\n   <rect x=\"99.998946\" y=\"139.347685\" width=\"279\" height=\"41.181818\"/>\n  </clipPath>\n  <clipPath id=\"pf95453b6d7\">\n   <rect x=\"99.998946\" y=\"254.656776\" width=\"279\" height=\"41.181818\"/>\n  </clipPath>\n </defs>\n</svg>\n",
      "text/plain": [
       "<Figure size 1500x1500 with 3 Axes>"
      ]
     },
     "metadata": {},
     "output_type": "display_data"
    },
    {
     "data": {
      "image/svg+xml": "<?xml version=\"1.0\" encoding=\"utf-8\" standalone=\"no\"?>\n<!DOCTYPE svg PUBLIC \"-//W3C//DTD SVG 1.1//EN\"\n  \"http://www.w3.org/Graphics/SVG/1.1/DTD/svg11.dtd\">\n<svg xmlns:xlink=\"http://www.w3.org/1999/xlink\" width=\"370.588596pt\" height=\"359.011668pt\" viewBox=\"0 0 370.588596 359.011668\" xmlns=\"http://www.w3.org/2000/svg\" version=\"1.1\">\n <metadata>\n  <rdf:RDF xmlns:dc=\"http://purl.org/dc/elements/1.1/\" xmlns:cc=\"http://creativecommons.org/ns#\" xmlns:rdf=\"http://www.w3.org/1999/02/22-rdf-syntax-ns#\">\n   <cc:Work>\n    <dc:type rdf:resource=\"http://purl.org/dc/dcmitype/StillImage\"/>\n    <dc:date>2022-03-15T20:59:28.560725</dc:date>\n    <dc:format>image/svg+xml</dc:format>\n    <dc:creator>\n     <cc:Agent>\n      <dc:title>Matplotlib v3.5.1, https://matplotlib.org/</dc:title>\n     </cc:Agent>\n    </dc:creator>\n   </cc:Work>\n  </rdf:RDF>\n </metadata>\n <defs>\n  <style type=\"text/css\">*{stroke-linejoin: round; stroke-linecap: butt}</style>\n </defs>\n <g id=\"figure_1\">\n  <g id=\"patch_1\">\n   <path d=\"M 0 359.011668 \nL 370.588596 359.011668 \nL 370.588596 0 \nL 0 0 \nz\n\" style=\"fill: #ffffff\"/>\n  </g>\n  <g id=\"axes_1\">\n   <g id=\"patch_2\">\n    <path d=\"M 79.939221 241.29325 \nL 358.939221 241.29325 \nL 358.939221 51.03325 \nL 79.939221 51.03325 \nz\n\" style=\"fill: #ffffff\"/>\n   </g>\n   <g id=\"patch_3\">\n    <path d=\"M 82.264221 241.29325 \nL 100.864221 241.29325 \nL 100.864221 158.819087 \nL 82.264221 158.819087 \nz\n\" clip-path=\"url(#p2405a554bf)\" style=\"fill: #441d9e\"/>\n   </g>\n   <g id=\"patch_4\">\n    <path d=\"M 105.514221 241.29325 \nL 124.114221 241.29325 \nL 124.114221 206.432131 \nL 105.514221 206.432131 \nz\n\" clip-path=\"url(#p2405a554bf)\" style=\"fill: #441d9e\"/>\n   </g>\n   <g id=\"patch_5\">\n    <path d=\"M 128.764221 241.29325 \nL 147.364221 241.29325 \nL 147.364221 209.977385 \nL 128.764221 209.977385 \nz\n\" clip-path=\"url(#p2405a554bf)\" style=\"fill: #441d9e\"/>\n   </g>\n   <g id=\"patch_6\">\n    <path d=\"M 152.014221 241.29325 \nL 170.614221 241.29325 \nL 170.614221 237.709641 \nL 152.014221 237.709641 \nz\n\" clip-path=\"url(#p2405a554bf)\" style=\"fill: #441d9e\"/>\n   </g>\n   <g id=\"patch_7\">\n    <path d=\"M 175.264221 241.29325 \nL 193.864221 241.29325 \nL 193.864221 239.237384 \nL 175.264221 239.237384 \nz\n\" clip-path=\"url(#p2405a554bf)\" style=\"fill: #441d9e\"/>\n   </g>\n   <g id=\"patch_8\">\n    <path d=\"M 198.514221 241.29325 \nL 217.114221 241.29325 \nL 217.114221 239.992046 \nL 198.514221 239.992046 \nz\n\" clip-path=\"url(#p2405a554bf)\" style=\"fill: #441d9e\"/>\n   </g>\n   <g id=\"patch_9\">\n    <path d=\"M 221.764221 241.29325 \nL 240.364221 241.29325 \nL 240.364221 240.547171 \nL 221.764221 240.547171 \nz\n\" clip-path=\"url(#p2405a554bf)\" style=\"fill: #441d9e\"/>\n   </g>\n   <g id=\"patch_10\">\n    <path d=\"M 0 0 \nz\n\" clip-path=\"url(#p2405a554bf)\" style=\"fill: #441d9e\"/>\n   </g>\n   <g id=\"patch_11\">\n    <path d=\"M 0 0 \nz\n\" clip-path=\"url(#p2405a554bf)\" style=\"fill: #441d9e\"/>\n   </g>\n   <g id=\"patch_12\">\n    <path d=\"M 0 0 \nz\n\" clip-path=\"url(#p2405a554bf)\" style=\"fill: #441d9e\"/>\n   </g>\n   <g id=\"patch_13\">\n    <path d=\"M 0 0 \nz\n\" clip-path=\"url(#p2405a554bf)\" style=\"fill: #441d9e\"/>\n   </g>\n   <g id=\"patch_14\">\n    <path d=\"M 0 0 \nz\n\" clip-path=\"url(#p2405a554bf)\" style=\"fill: #441d9e\"/>\n   </g>\n   <g id=\"patch_15\">\n    <path d=\"M 0 0 \nz\n\" clip-path=\"url(#p2405a554bf)\" style=\"fill: #e03e87\"/>\n   </g>\n   <g id=\"patch_16\">\n    <path d=\"M 0 0 \nz\n\" clip-path=\"url(#p2405a554bf)\" style=\"fill: #e03e87\"/>\n   </g>\n   <g id=\"patch_17\">\n    <path d=\"M 0 0 \nz\n\" clip-path=\"url(#p2405a554bf)\" style=\"fill: #e03e87\"/>\n   </g>\n   <g id=\"patch_18\">\n    <path d=\"M 0 0 \nz\n\" clip-path=\"url(#p2405a554bf)\" style=\"fill: #e03e87\"/>\n   </g>\n   <g id=\"patch_19\">\n    <path d=\"M 0 0 \nz\n\" clip-path=\"url(#p2405a554bf)\" style=\"fill: #e03e87\"/>\n   </g>\n   <g id=\"patch_20\">\n    <path d=\"M 0 0 \nz\n\" clip-path=\"url(#p2405a554bf)\" style=\"fill: #e03e87\"/>\n   </g>\n   <g id=\"patch_21\">\n    <path d=\"M 0 0 \nz\n\" clip-path=\"url(#p2405a554bf)\" style=\"fill: #e03e87\"/>\n   </g>\n   <g id=\"patch_22\">\n    <path d=\"M 245.014221 241.29325 \nL 263.614221 241.29325 \nL 263.614221 229.316537 \nL 245.014221 229.316537 \nz\n\" clip-path=\"url(#p2405a554bf)\" style=\"fill: #e03e87\"/>\n   </g>\n   <g id=\"patch_23\">\n    <path d=\"M 268.264221 241.29325 \nL 286.864221 241.29325 \nL 286.864221 239.004804 \nL 268.264221 239.004804 \nz\n\" clip-path=\"url(#p2405a554bf)\" style=\"fill: #e03e87\"/>\n   </g>\n   <g id=\"patch_24\">\n    <path d=\"M 291.514221 241.29325 \nL 310.114221 241.29325 \nL 310.114221 239.963136 \nL 291.514221 239.963136 \nz\n\" clip-path=\"url(#p2405a554bf)\" style=\"fill: #e03e87\"/>\n   </g>\n   <g id=\"patch_25\">\n    <path d=\"M 314.764221 241.29325 \nL 333.364221 241.29325 \nL 333.364221 240.394028 \nL 314.764221 240.394028 \nz\n\" clip-path=\"url(#p2405a554bf)\" style=\"fill: #e03e87\"/>\n   </g>\n   <g id=\"patch_26\">\n    <path d=\"M 338.014221 241.29325 \nL 356.614221 241.29325 \nL 356.614221 240.787904 \nL 338.014221 240.787904 \nz\n\" clip-path=\"url(#p2405a554bf)\" style=\"fill: #e03e87\"/>\n   </g>\n   <g id=\"matplotlib.axis_1\">\n    <g id=\"xtick_1\">\n     <g id=\"line2d_1\">\n      <defs>\n       <path id=\"mda1ae82117\" d=\"M 0 0 \nL 0 10 \n\" style=\"stroke: #000000; stroke-width: 1.25\"/>\n      </defs>\n      <g>\n       <use xlink:href=\"#mda1ae82117\" x=\"91.564221\" y=\"241.29325\" style=\"stroke: #000000; stroke-width: 1.25\"/>\n      </g>\n     </g>\n     <g id=\"text_1\">\n      <!-- relationship -->\n      <g transform=\"translate(95.01206 329.73066)rotate(-90)scale(0.12495 -0.12495)\">\n       <defs>\n        <path id=\"DejaVuSans-72\" d=\"M 2631 2963 \nQ 2534 3019 2420 3045 \nQ 2306 3072 2169 3072 \nQ 1681 3072 1420 2755 \nQ 1159 2438 1159 1844 \nL 1159 0 \nL 581 0 \nL 581 3500 \nL 1159 3500 \nL 1159 2956 \nQ 1341 3275 1631 3429 \nQ 1922 3584 2338 3584 \nQ 2397 3584 2469 3576 \nQ 2541 3569 2628 3553 \nL 2631 2963 \nz\n\" transform=\"scale(0.015625)\"/>\n        <path id=\"DejaVuSans-65\" d=\"M 3597 1894 \nL 3597 1613 \nL 953 1613 \nQ 991 1019 1311 708 \nQ 1631 397 2203 397 \nQ 2534 397 2845 478 \nQ 3156 559 3463 722 \nL 3463 178 \nQ 3153 47 2828 -22 \nQ 2503 -91 2169 -91 \nQ 1331 -91 842 396 \nQ 353 884 353 1716 \nQ 353 2575 817 3079 \nQ 1281 3584 2069 3584 \nQ 2775 3584 3186 3129 \nQ 3597 2675 3597 1894 \nz\nM 3022 2063 \nQ 3016 2534 2758 2815 \nQ 2500 3097 2075 3097 \nQ 1594 3097 1305 2825 \nQ 1016 2553 972 2059 \nL 3022 2063 \nz\n\" transform=\"scale(0.015625)\"/>\n        <path id=\"DejaVuSans-6c\" d=\"M 603 4863 \nL 1178 4863 \nL 1178 0 \nL 603 0 \nL 603 4863 \nz\n\" transform=\"scale(0.015625)\"/>\n        <path id=\"DejaVuSans-61\" d=\"M 2194 1759 \nQ 1497 1759 1228 1600 \nQ 959 1441 959 1056 \nQ 959 750 1161 570 \nQ 1363 391 1709 391 \nQ 2188 391 2477 730 \nQ 2766 1069 2766 1631 \nL 2766 1759 \nL 2194 1759 \nz\nM 3341 1997 \nL 3341 0 \nL 2766 0 \nL 2766 531 \nQ 2569 213 2275 61 \nQ 1981 -91 1556 -91 \nQ 1019 -91 701 211 \nQ 384 513 384 1019 \nQ 384 1609 779 1909 \nQ 1175 2209 1959 2209 \nL 2766 2209 \nL 2766 2266 \nQ 2766 2663 2505 2880 \nQ 2244 3097 1772 3097 \nQ 1472 3097 1187 3025 \nQ 903 2953 641 2809 \nL 641 3341 \nQ 956 3463 1253 3523 \nQ 1550 3584 1831 3584 \nQ 2591 3584 2966 3190 \nQ 3341 2797 3341 1997 \nz\n\" transform=\"scale(0.015625)\"/>\n        <path id=\"DejaVuSans-74\" d=\"M 1172 4494 \nL 1172 3500 \nL 2356 3500 \nL 2356 3053 \nL 1172 3053 \nL 1172 1153 \nQ 1172 725 1289 603 \nQ 1406 481 1766 481 \nL 2356 481 \nL 2356 0 \nL 1766 0 \nQ 1100 0 847 248 \nQ 594 497 594 1153 \nL 594 3053 \nL 172 3053 \nL 172 3500 \nL 594 3500 \nL 594 4494 \nL 1172 4494 \nz\n\" transform=\"scale(0.015625)\"/>\n        <path id=\"DejaVuSans-69\" d=\"M 603 3500 \nL 1178 3500 \nL 1178 0 \nL 603 0 \nL 603 3500 \nz\nM 603 4863 \nL 1178 4863 \nL 1178 4134 \nL 603 4134 \nL 603 4863 \nz\n\" transform=\"scale(0.015625)\"/>\n        <path id=\"DejaVuSans-6f\" d=\"M 1959 3097 \nQ 1497 3097 1228 2736 \nQ 959 2375 959 1747 \nQ 959 1119 1226 758 \nQ 1494 397 1959 397 \nQ 2419 397 2687 759 \nQ 2956 1122 2956 1747 \nQ 2956 2369 2687 2733 \nQ 2419 3097 1959 3097 \nz\nM 1959 3584 \nQ 2709 3584 3137 3096 \nQ 3566 2609 3566 1747 \nQ 3566 888 3137 398 \nQ 2709 -91 1959 -91 \nQ 1206 -91 779 398 \nQ 353 888 353 1747 \nQ 353 2609 779 3096 \nQ 1206 3584 1959 3584 \nz\n\" transform=\"scale(0.015625)\"/>\n        <path id=\"DejaVuSans-6e\" d=\"M 3513 2113 \nL 3513 0 \nL 2938 0 \nL 2938 2094 \nQ 2938 2591 2744 2837 \nQ 2550 3084 2163 3084 \nQ 1697 3084 1428 2787 \nQ 1159 2491 1159 1978 \nL 1159 0 \nL 581 0 \nL 581 3500 \nL 1159 3500 \nL 1159 2956 \nQ 1366 3272 1645 3428 \nQ 1925 3584 2291 3584 \nQ 2894 3584 3203 3211 \nQ 3513 2838 3513 2113 \nz\n\" transform=\"scale(0.015625)\"/>\n        <path id=\"DejaVuSans-73\" d=\"M 2834 3397 \nL 2834 2853 \nQ 2591 2978 2328 3040 \nQ 2066 3103 1784 3103 \nQ 1356 3103 1142 2972 \nQ 928 2841 928 2578 \nQ 928 2378 1081 2264 \nQ 1234 2150 1697 2047 \nL 1894 2003 \nQ 2506 1872 2764 1633 \nQ 3022 1394 3022 966 \nQ 3022 478 2636 193 \nQ 2250 -91 1575 -91 \nQ 1294 -91 989 -36 \nQ 684 19 347 128 \nL 347 722 \nQ 666 556 975 473 \nQ 1284 391 1588 391 \nQ 1994 391 2212 530 \nQ 2431 669 2431 922 \nQ 2431 1156 2273 1281 \nQ 2116 1406 1581 1522 \nL 1381 1569 \nQ 847 1681 609 1914 \nQ 372 2147 372 2553 \nQ 372 3047 722 3315 \nQ 1072 3584 1716 3584 \nQ 2034 3584 2315 3537 \nQ 2597 3491 2834 3397 \nz\n\" transform=\"scale(0.015625)\"/>\n        <path id=\"DejaVuSans-68\" d=\"M 3513 2113 \nL 3513 0 \nL 2938 0 \nL 2938 2094 \nQ 2938 2591 2744 2837 \nQ 2550 3084 2163 3084 \nQ 1697 3084 1428 2787 \nQ 1159 2491 1159 1978 \nL 1159 0 \nL 581 0 \nL 581 4863 \nL 1159 4863 \nL 1159 2956 \nQ 1366 3272 1645 3428 \nQ 1925 3584 2291 3584 \nQ 2894 3584 3203 3211 \nQ 3513 2838 3513 2113 \nz\n\" transform=\"scale(0.015625)\"/>\n        <path id=\"DejaVuSans-70\" d=\"M 1159 525 \nL 1159 -1331 \nL 581 -1331 \nL 581 3500 \nL 1159 3500 \nL 1159 2969 \nQ 1341 3281 1617 3432 \nQ 1894 3584 2278 3584 \nQ 2916 3584 3314 3078 \nQ 3713 2572 3713 1747 \nQ 3713 922 3314 415 \nQ 2916 -91 2278 -91 \nQ 1894 -91 1617 61 \nQ 1341 213 1159 525 \nz\nM 3116 1747 \nQ 3116 2381 2855 2742 \nQ 2594 3103 2138 3103 \nQ 1681 3103 1420 2742 \nQ 1159 2381 1159 1747 \nQ 1159 1113 1420 752 \nQ 1681 391 2138 391 \nQ 2594 391 2855 752 \nQ 3116 1113 3116 1747 \nz\n\" transform=\"scale(0.015625)\"/>\n       </defs>\n       <use xlink:href=\"#DejaVuSans-72\"/>\n       <use xlink:href=\"#DejaVuSans-65\" x=\"38.863281\"/>\n       <use xlink:href=\"#DejaVuSans-6c\" x=\"100.386719\"/>\n       <use xlink:href=\"#DejaVuSans-61\" x=\"128.169922\"/>\n       <use xlink:href=\"#DejaVuSans-74\" x=\"189.449219\"/>\n       <use xlink:href=\"#DejaVuSans-69\" x=\"228.658203\"/>\n       <use xlink:href=\"#DejaVuSans-6f\" x=\"256.441406\"/>\n       <use xlink:href=\"#DejaVuSans-6e\" x=\"317.623047\"/>\n       <use xlink:href=\"#DejaVuSans-73\" x=\"381.001953\"/>\n       <use xlink:href=\"#DejaVuSans-68\" x=\"433.101562\"/>\n       <use xlink:href=\"#DejaVuSans-69\" x=\"496.480469\"/>\n       <use xlink:href=\"#DejaVuSans-70\" x=\"524.263672\"/>\n      </g>\n     </g>\n    </g>\n    <g id=\"xtick_2\">\n     <g id=\"line2d_2\">\n      <g>\n       <use xlink:href=\"#mda1ae82117\" x=\"114.814221\" y=\"241.29325\" style=\"stroke: #000000; stroke-width: 1.25\"/>\n      </g>\n     </g>\n     <g id=\"text_2\">\n      <!-- marital.status -->\n      <g transform=\"translate(118.26206 343.117881)rotate(-90)scale(0.12495 -0.12495)\">\n       <defs>\n        <path id=\"DejaVuSans-6d\" d=\"M 3328 2828 \nQ 3544 3216 3844 3400 \nQ 4144 3584 4550 3584 \nQ 5097 3584 5394 3201 \nQ 5691 2819 5691 2113 \nL 5691 0 \nL 5113 0 \nL 5113 2094 \nQ 5113 2597 4934 2840 \nQ 4756 3084 4391 3084 \nQ 3944 3084 3684 2787 \nQ 3425 2491 3425 1978 \nL 3425 0 \nL 2847 0 \nL 2847 2094 \nQ 2847 2600 2669 2842 \nQ 2491 3084 2119 3084 \nQ 1678 3084 1418 2786 \nQ 1159 2488 1159 1978 \nL 1159 0 \nL 581 0 \nL 581 3500 \nL 1159 3500 \nL 1159 2956 \nQ 1356 3278 1631 3431 \nQ 1906 3584 2284 3584 \nQ 2666 3584 2933 3390 \nQ 3200 3197 3328 2828 \nz\n\" transform=\"scale(0.015625)\"/>\n        <path id=\"DejaVuSans-2e\" d=\"M 684 794 \nL 1344 794 \nL 1344 0 \nL 684 0 \nL 684 794 \nz\n\" transform=\"scale(0.015625)\"/>\n        <path id=\"DejaVuSans-75\" d=\"M 544 1381 \nL 544 3500 \nL 1119 3500 \nL 1119 1403 \nQ 1119 906 1312 657 \nQ 1506 409 1894 409 \nQ 2359 409 2629 706 \nQ 2900 1003 2900 1516 \nL 2900 3500 \nL 3475 3500 \nL 3475 0 \nL 2900 0 \nL 2900 538 \nQ 2691 219 2414 64 \nQ 2138 -91 1772 -91 \nQ 1169 -91 856 284 \nQ 544 659 544 1381 \nz\nM 1991 3584 \nL 1991 3584 \nz\n\" transform=\"scale(0.015625)\"/>\n       </defs>\n       <use xlink:href=\"#DejaVuSans-6d\"/>\n       <use xlink:href=\"#DejaVuSans-61\" x=\"97.412109\"/>\n       <use xlink:href=\"#DejaVuSans-72\" x=\"158.691406\"/>\n       <use xlink:href=\"#DejaVuSans-69\" x=\"199.804688\"/>\n       <use xlink:href=\"#DejaVuSans-74\" x=\"227.587891\"/>\n       <use xlink:href=\"#DejaVuSans-61\" x=\"266.796875\"/>\n       <use xlink:href=\"#DejaVuSans-6c\" x=\"328.076172\"/>\n       <use xlink:href=\"#DejaVuSans-2e\" x=\"355.859375\"/>\n       <use xlink:href=\"#DejaVuSans-73\" x=\"387.646484\"/>\n       <use xlink:href=\"#DejaVuSans-74\" x=\"439.746094\"/>\n       <use xlink:href=\"#DejaVuSans-61\" x=\"478.955078\"/>\n       <use xlink:href=\"#DejaVuSans-74\" x=\"540.234375\"/>\n       <use xlink:href=\"#DejaVuSans-75\" x=\"579.443359\"/>\n       <use xlink:href=\"#DejaVuSans-73\" x=\"642.822266\"/>\n      </g>\n     </g>\n    </g>\n    <g id=\"xtick_3\">\n     <g id=\"line2d_3\">\n      <g>\n       <use xlink:href=\"#mda1ae82117\" x=\"138.064221\" y=\"241.29325\" style=\"stroke: #000000; stroke-width: 1.25\"/>\n      </g>\n     </g>\n     <g id=\"text_3\">\n      <!-- occupation -->\n      <g transform=\"translate(141.51206 325.121177)rotate(-90)scale(0.12495 -0.12495)\">\n       <defs>\n        <path id=\"DejaVuSans-63\" d=\"M 3122 3366 \nL 3122 2828 \nQ 2878 2963 2633 3030 \nQ 2388 3097 2138 3097 \nQ 1578 3097 1268 2742 \nQ 959 2388 959 1747 \nQ 959 1106 1268 751 \nQ 1578 397 2138 397 \nQ 2388 397 2633 464 \nQ 2878 531 3122 666 \nL 3122 134 \nQ 2881 22 2623 -34 \nQ 2366 -91 2075 -91 \nQ 1284 -91 818 406 \nQ 353 903 353 1747 \nQ 353 2603 823 3093 \nQ 1294 3584 2113 3584 \nQ 2378 3584 2631 3529 \nQ 2884 3475 3122 3366 \nz\n\" transform=\"scale(0.015625)\"/>\n       </defs>\n       <use xlink:href=\"#DejaVuSans-6f\"/>\n       <use xlink:href=\"#DejaVuSans-63\" x=\"61.181641\"/>\n       <use xlink:href=\"#DejaVuSans-63\" x=\"116.162109\"/>\n       <use xlink:href=\"#DejaVuSans-75\" x=\"171.142578\"/>\n       <use xlink:href=\"#DejaVuSans-70\" x=\"234.521484\"/>\n       <use xlink:href=\"#DejaVuSans-61\" x=\"297.998047\"/>\n       <use xlink:href=\"#DejaVuSans-74\" x=\"359.277344\"/>\n       <use xlink:href=\"#DejaVuSans-69\" x=\"398.486328\"/>\n       <use xlink:href=\"#DejaVuSans-6f\" x=\"426.269531\"/>\n       <use xlink:href=\"#DejaVuSans-6e\" x=\"487.451172\"/>\n      </g>\n     </g>\n    </g>\n    <g id=\"xtick_4\">\n     <g id=\"line2d_4\">\n      <g>\n       <use xlink:href=\"#mda1ae82117\" x=\"161.314221\" y=\"241.29325\" style=\"stroke: #000000; stroke-width: 1.25\"/>\n      </g>\n     </g>\n     <g id=\"text_4\">\n      <!-- workclass -->\n      <g transform=\"translate(164.76206 317.546083)rotate(-90)scale(0.12495 -0.12495)\">\n       <defs>\n        <path id=\"DejaVuSans-77\" d=\"M 269 3500 \nL 844 3500 \nL 1563 769 \nL 2278 3500 \nL 2956 3500 \nL 3675 769 \nL 4391 3500 \nL 4966 3500 \nL 4050 0 \nL 3372 0 \nL 2619 2869 \nL 1863 0 \nL 1184 0 \nL 269 3500 \nz\n\" transform=\"scale(0.015625)\"/>\n        <path id=\"DejaVuSans-6b\" d=\"M 581 4863 \nL 1159 4863 \nL 1159 1991 \nL 2875 3500 \nL 3609 3500 \nL 1753 1863 \nL 3688 0 \nL 2938 0 \nL 1159 1709 \nL 1159 0 \nL 581 0 \nL 581 4863 \nz\n\" transform=\"scale(0.015625)\"/>\n       </defs>\n       <use xlink:href=\"#DejaVuSans-77\"/>\n       <use xlink:href=\"#DejaVuSans-6f\" x=\"81.787109\"/>\n       <use xlink:href=\"#DejaVuSans-72\" x=\"142.96875\"/>\n       <use xlink:href=\"#DejaVuSans-6b\" x=\"184.082031\"/>\n       <use xlink:href=\"#DejaVuSans-63\" x=\"241.992188\"/>\n       <use xlink:href=\"#DejaVuSans-6c\" x=\"296.972656\"/>\n       <use xlink:href=\"#DejaVuSans-61\" x=\"324.755859\"/>\n       <use xlink:href=\"#DejaVuSans-73\" x=\"386.035156\"/>\n       <use xlink:href=\"#DejaVuSans-73\" x=\"438.134766\"/>\n      </g>\n     </g>\n    </g>\n    <g id=\"xtick_5\">\n     <g id=\"line2d_5\">\n      <g>\n       <use xlink:href=\"#mda1ae82117\" x=\"184.564221\" y=\"241.29325\" style=\"stroke: #000000; stroke-width: 1.25\"/>\n      </g>\n     </g>\n     <g id=\"text_5\">\n      <!-- race -->\n      <g transform=\"translate(188.01206 283.645586)rotate(-90)scale(0.12495 -0.12495)\">\n       <use xlink:href=\"#DejaVuSans-72\"/>\n       <use xlink:href=\"#DejaVuSans-61\" x=\"41.113281\"/>\n       <use xlink:href=\"#DejaVuSans-63\" x=\"102.392578\"/>\n       <use xlink:href=\"#DejaVuSans-65\" x=\"157.373047\"/>\n      </g>\n     </g>\n    </g>\n    <g id=\"xtick_6\">\n     <g id=\"line2d_6\">\n      <g>\n       <use xlink:href=\"#mda1ae82117\" x=\"207.814221\" y=\"241.29325\" style=\"stroke: #000000; stroke-width: 1.25\"/>\n      </g>\n     </g>\n     <g id=\"text_6\">\n      <!-- education -->\n      <g transform=\"translate(211.26206 318.29383)rotate(-90)scale(0.12495 -0.12495)\">\n       <defs>\n        <path id=\"DejaVuSans-64\" d=\"M 2906 2969 \nL 2906 4863 \nL 3481 4863 \nL 3481 0 \nL 2906 0 \nL 2906 525 \nQ 2725 213 2448 61 \nQ 2172 -91 1784 -91 \nQ 1150 -91 751 415 \nQ 353 922 353 1747 \nQ 353 2572 751 3078 \nQ 1150 3584 1784 3584 \nQ 2172 3584 2448 3432 \nQ 2725 3281 2906 2969 \nz\nM 947 1747 \nQ 947 1113 1208 752 \nQ 1469 391 1925 391 \nQ 2381 391 2643 752 \nQ 2906 1113 2906 1747 \nQ 2906 2381 2643 2742 \nQ 2381 3103 1925 3103 \nQ 1469 3103 1208 2742 \nQ 947 2381 947 1747 \nz\n\" transform=\"scale(0.015625)\"/>\n       </defs>\n       <use xlink:href=\"#DejaVuSans-65\"/>\n       <use xlink:href=\"#DejaVuSans-64\" x=\"61.523438\"/>\n       <use xlink:href=\"#DejaVuSans-75\" x=\"125\"/>\n       <use xlink:href=\"#DejaVuSans-63\" x=\"188.378906\"/>\n       <use xlink:href=\"#DejaVuSans-61\" x=\"243.359375\"/>\n       <use xlink:href=\"#DejaVuSans-74\" x=\"304.638672\"/>\n       <use xlink:href=\"#DejaVuSans-69\" x=\"343.847656\"/>\n       <use xlink:href=\"#DejaVuSans-6f\" x=\"371.630859\"/>\n       <use xlink:href=\"#DejaVuSans-6e\" x=\"432.8125\"/>\n      </g>\n     </g>\n    </g>\n    <g id=\"xtick_7\">\n     <g id=\"line2d_7\">\n      <g>\n       <use xlink:href=\"#mda1ae82117\" x=\"231.064221\" y=\"241.29325\" style=\"stroke: #000000; stroke-width: 1.25\"/>\n      </g>\n     </g>\n     <g id=\"text_7\">\n      <!-- native.country -->\n      <g transform=\"translate(234.51206 347.077234)rotate(-90)scale(0.12495 -0.12495)\">\n       <defs>\n        <path id=\"DejaVuSans-76\" d=\"M 191 3500 \nL 800 3500 \nL 1894 563 \nL 2988 3500 \nL 3597 3500 \nL 2284 0 \nL 1503 0 \nL 191 3500 \nz\n\" transform=\"scale(0.015625)\"/>\n        <path id=\"DejaVuSans-79\" d=\"M 2059 -325 \nQ 1816 -950 1584 -1140 \nQ 1353 -1331 966 -1331 \nL 506 -1331 \nL 506 -850 \nL 844 -850 \nQ 1081 -850 1212 -737 \nQ 1344 -625 1503 -206 \nL 1606 56 \nL 191 3500 \nL 800 3500 \nL 1894 763 \nL 2988 3500 \nL 3597 3500 \nL 2059 -325 \nz\n\" transform=\"scale(0.015625)\"/>\n       </defs>\n       <use xlink:href=\"#DejaVuSans-6e\"/>\n       <use xlink:href=\"#DejaVuSans-61\" x=\"63.378906\"/>\n       <use xlink:href=\"#DejaVuSans-74\" x=\"124.658203\"/>\n       <use xlink:href=\"#DejaVuSans-69\" x=\"163.867188\"/>\n       <use xlink:href=\"#DejaVuSans-76\" x=\"191.650391\"/>\n       <use xlink:href=\"#DejaVuSans-65\" x=\"250.830078\"/>\n       <use xlink:href=\"#DejaVuSans-2e\" x=\"312.353516\"/>\n       <use xlink:href=\"#DejaVuSans-63\" x=\"344.140625\"/>\n       <use xlink:href=\"#DejaVuSans-6f\" x=\"399.121094\"/>\n       <use xlink:href=\"#DejaVuSans-75\" x=\"460.302734\"/>\n       <use xlink:href=\"#DejaVuSans-6e\" x=\"523.681641\"/>\n       <use xlink:href=\"#DejaVuSans-74\" x=\"587.060547\"/>\n       <use xlink:href=\"#DejaVuSans-72\" x=\"626.269531\"/>\n       <use xlink:href=\"#DejaVuSans-79\" x=\"667.382812\"/>\n      </g>\n     </g>\n    </g>\n    <g id=\"xtick_8\">\n     <g id=\"line2d_8\">\n      <g>\n       <use xlink:href=\"#mda1ae82117\" x=\"254.314221\" y=\"241.29325\" style=\"stroke: #000000; stroke-width: 1.25\"/>\n      </g>\n     </g>\n     <g id=\"text_8\">\n      <!-- hours.per.week -->\n      <g transform=\"translate(257.76206 351.811668)rotate(-90)scale(0.12495 -0.12495)\">\n       <use xlink:href=\"#DejaVuSans-68\"/>\n       <use xlink:href=\"#DejaVuSans-6f\" x=\"63.378906\"/>\n       <use xlink:href=\"#DejaVuSans-75\" x=\"124.560547\"/>\n       <use xlink:href=\"#DejaVuSans-72\" x=\"187.939453\"/>\n       <use xlink:href=\"#DejaVuSans-73\" x=\"229.052734\"/>\n       <use xlink:href=\"#DejaVuSans-2e\" x=\"281.152344\"/>\n       <use xlink:href=\"#DejaVuSans-70\" x=\"312.939453\"/>\n       <use xlink:href=\"#DejaVuSans-65\" x=\"376.416016\"/>\n       <use xlink:href=\"#DejaVuSans-72\" x=\"437.939453\"/>\n       <use xlink:href=\"#DejaVuSans-2e\" x=\"469.927734\"/>\n       <use xlink:href=\"#DejaVuSans-77\" x=\"501.714844\"/>\n       <use xlink:href=\"#DejaVuSans-65\" x=\"583.501953\"/>\n       <use xlink:href=\"#DejaVuSans-65\" x=\"645.025391\"/>\n       <use xlink:href=\"#DejaVuSans-6b\" x=\"706.548828\"/>\n      </g>\n     </g>\n    </g>\n    <g id=\"xtick_9\">\n     <g id=\"line2d_9\">\n      <g>\n       <use xlink:href=\"#mda1ae82117\" x=\"277.564221\" y=\"241.29325\" style=\"stroke: #000000; stroke-width: 1.25\"/>\n      </g>\n     </g>\n     <g id=\"text_9\">\n      <!-- capital.loss -->\n      <g transform=\"translate(281.01206 326.35701)rotate(-90)scale(0.12495 -0.12495)\">\n       <use xlink:href=\"#DejaVuSans-63\"/>\n       <use xlink:href=\"#DejaVuSans-61\" x=\"54.980469\"/>\n       <use xlink:href=\"#DejaVuSans-70\" x=\"116.259766\"/>\n       <use xlink:href=\"#DejaVuSans-69\" x=\"179.736328\"/>\n       <use xlink:href=\"#DejaVuSans-74\" x=\"207.519531\"/>\n       <use xlink:href=\"#DejaVuSans-61\" x=\"246.728516\"/>\n       <use xlink:href=\"#DejaVuSans-6c\" x=\"308.007812\"/>\n       <use xlink:href=\"#DejaVuSans-2e\" x=\"335.791016\"/>\n       <use xlink:href=\"#DejaVuSans-6c\" x=\"367.578125\"/>\n       <use xlink:href=\"#DejaVuSans-6f\" x=\"395.361328\"/>\n       <use xlink:href=\"#DejaVuSans-73\" x=\"456.542969\"/>\n       <use xlink:href=\"#DejaVuSans-73\" x=\"508.642578\"/>\n      </g>\n     </g>\n    </g>\n    <g id=\"xtick_10\">\n     <g id=\"line2d_10\">\n      <g>\n       <use xlink:href=\"#mda1ae82117\" x=\"300.814221\" y=\"241.29325\" style=\"stroke: #000000; stroke-width: 1.25\"/>\n      </g>\n     </g>\n     <g id=\"text_10\">\n      <!-- capital.gain -->\n      <g transform=\"translate(304.26206 329.201575)rotate(-90)scale(0.12495 -0.12495)\">\n       <defs>\n        <path id=\"DejaVuSans-67\" d=\"M 2906 1791 \nQ 2906 2416 2648 2759 \nQ 2391 3103 1925 3103 \nQ 1463 3103 1205 2759 \nQ 947 2416 947 1791 \nQ 947 1169 1205 825 \nQ 1463 481 1925 481 \nQ 2391 481 2648 825 \nQ 2906 1169 2906 1791 \nz\nM 3481 434 \nQ 3481 -459 3084 -895 \nQ 2688 -1331 1869 -1331 \nQ 1566 -1331 1297 -1286 \nQ 1028 -1241 775 -1147 \nL 775 -588 \nQ 1028 -725 1275 -790 \nQ 1522 -856 1778 -856 \nQ 2344 -856 2625 -561 \nQ 2906 -266 2906 331 \nL 2906 616 \nQ 2728 306 2450 153 \nQ 2172 0 1784 0 \nQ 1141 0 747 490 \nQ 353 981 353 1791 \nQ 353 2603 747 3093 \nQ 1141 3584 1784 3584 \nQ 2172 3584 2450 3431 \nQ 2728 3278 2906 2969 \nL 2906 3500 \nL 3481 3500 \nL 3481 434 \nz\n\" transform=\"scale(0.015625)\"/>\n       </defs>\n       <use xlink:href=\"#DejaVuSans-63\"/>\n       <use xlink:href=\"#DejaVuSans-61\" x=\"54.980469\"/>\n       <use xlink:href=\"#DejaVuSans-70\" x=\"116.259766\"/>\n       <use xlink:href=\"#DejaVuSans-69\" x=\"179.736328\"/>\n       <use xlink:href=\"#DejaVuSans-74\" x=\"207.519531\"/>\n       <use xlink:href=\"#DejaVuSans-61\" x=\"246.728516\"/>\n       <use xlink:href=\"#DejaVuSans-6c\" x=\"308.007812\"/>\n       <use xlink:href=\"#DejaVuSans-2e\" x=\"335.791016\"/>\n       <use xlink:href=\"#DejaVuSans-67\" x=\"367.578125\"/>\n       <use xlink:href=\"#DejaVuSans-61\" x=\"431.054688\"/>\n       <use xlink:href=\"#DejaVuSans-69\" x=\"492.333984\"/>\n       <use xlink:href=\"#DejaVuSans-6e\" x=\"520.117188\"/>\n      </g>\n     </g>\n    </g>\n    <g id=\"xtick_11\">\n     <g id=\"line2d_11\">\n      <g>\n       <use xlink:href=\"#mda1ae82117\" x=\"324.064221\" y=\"241.29325\" style=\"stroke: #000000; stroke-width: 1.25\"/>\n      </g>\n     </g>\n     <g id=\"text_11\">\n      <!-- age -->\n      <g transform=\"translate(327.51206 279.571045)rotate(-90)scale(0.12495 -0.12495)\">\n       <use xlink:href=\"#DejaVuSans-61\"/>\n       <use xlink:href=\"#DejaVuSans-67\" x=\"61.279297\"/>\n       <use xlink:href=\"#DejaVuSans-65\" x=\"124.755859\"/>\n      </g>\n     </g>\n    </g>\n    <g id=\"xtick_12\">\n     <g id=\"line2d_12\">\n      <g>\n       <use xlink:href=\"#mda1ae82117\" x=\"347.314221\" y=\"241.29325\" style=\"stroke: #000000; stroke-width: 1.25\"/>\n      </g>\n     </g>\n     <g id=\"text_12\">\n      <!-- education.num -->\n      <g transform=\"translate(350.76206 350.273221)rotate(-90)scale(0.12495 -0.12495)\">\n       <use xlink:href=\"#DejaVuSans-65\"/>\n       <use xlink:href=\"#DejaVuSans-64\" x=\"61.523438\"/>\n       <use xlink:href=\"#DejaVuSans-75\" x=\"125\"/>\n       <use xlink:href=\"#DejaVuSans-63\" x=\"188.378906\"/>\n       <use xlink:href=\"#DejaVuSans-61\" x=\"243.359375\"/>\n       <use xlink:href=\"#DejaVuSans-74\" x=\"304.638672\"/>\n       <use xlink:href=\"#DejaVuSans-69\" x=\"343.847656\"/>\n       <use xlink:href=\"#DejaVuSans-6f\" x=\"371.630859\"/>\n       <use xlink:href=\"#DejaVuSans-6e\" x=\"432.8125\"/>\n       <use xlink:href=\"#DejaVuSans-2e\" x=\"496.191406\"/>\n       <use xlink:href=\"#DejaVuSans-6e\" x=\"527.978516\"/>\n       <use xlink:href=\"#DejaVuSans-75\" x=\"591.357422\"/>\n       <use xlink:href=\"#DejaVuSans-6d\" x=\"654.736328\"/>\n      </g>\n     </g>\n    </g>\n   </g>\n   <g id=\"matplotlib.axis_2\">\n    <g id=\"ytick_1\">\n     <g id=\"line2d_13\">\n      <defs>\n       <path id=\"m1f1242228f\" d=\"M 0 0 \nL -10 0 \n\" style=\"stroke: #000000; stroke-width: 1.25\"/>\n      </defs>\n      <g>\n       <use xlink:href=\"#m1f1242228f\" x=\"79.939221\" y=\"241.29325\" style=\"stroke: #000000; stroke-width: 1.25\"/>\n      </g>\n     </g>\n     <g id=\"text_13\">\n      <!-- 0% -->\n      <g transform=\"translate(45.117075 246.040374)scale(0.12495 -0.12495)\">\n       <defs>\n        <path id=\"DejaVuSans-30\" d=\"M 2034 4250 \nQ 1547 4250 1301 3770 \nQ 1056 3291 1056 2328 \nQ 1056 1369 1301 889 \nQ 1547 409 2034 409 \nQ 2525 409 2770 889 \nQ 3016 1369 3016 2328 \nQ 3016 3291 2770 3770 \nQ 2525 4250 2034 4250 \nz\nM 2034 4750 \nQ 2819 4750 3233 4129 \nQ 3647 3509 3647 2328 \nQ 3647 1150 3233 529 \nQ 2819 -91 2034 -91 \nQ 1250 -91 836 529 \nQ 422 1150 422 2328 \nQ 422 3509 836 4129 \nQ 1250 4750 2034 4750 \nz\n\" transform=\"scale(0.015625)\"/>\n        <path id=\"DejaVuSans-25\" d=\"M 4653 2053 \nQ 4381 2053 4226 1822 \nQ 4072 1591 4072 1178 \nQ 4072 772 4226 539 \nQ 4381 306 4653 306 \nQ 4919 306 5073 539 \nQ 5228 772 5228 1178 \nQ 5228 1588 5073 1820 \nQ 4919 2053 4653 2053 \nz\nM 4653 2450 \nQ 5147 2450 5437 2106 \nQ 5728 1763 5728 1178 \nQ 5728 594 5436 251 \nQ 5144 -91 4653 -91 \nQ 4153 -91 3862 251 \nQ 3572 594 3572 1178 \nQ 3572 1766 3864 2108 \nQ 4156 2450 4653 2450 \nz\nM 1428 4353 \nQ 1159 4353 1004 4120 \nQ 850 3888 850 3481 \nQ 850 3069 1003 2837 \nQ 1156 2606 1428 2606 \nQ 1700 2606 1854 2837 \nQ 2009 3069 2009 3481 \nQ 2009 3884 1853 4118 \nQ 1697 4353 1428 4353 \nz\nM 4250 4750 \nL 4750 4750 \nL 1831 -91 \nL 1331 -91 \nL 4250 4750 \nz\nM 1428 4750 \nQ 1922 4750 2215 4408 \nQ 2509 4066 2509 3481 \nQ 2509 2891 2217 2550 \nQ 1925 2209 1428 2209 \nQ 931 2209 642 2551 \nQ 353 2894 353 3481 \nQ 353 4063 643 4406 \nQ 934 4750 1428 4750 \nz\n\" transform=\"scale(0.015625)\"/>\n       </defs>\n       <use xlink:href=\"#DejaVuSans-30\"/>\n       <use xlink:href=\"#DejaVuSans-25\" x=\"63.623047\"/>\n      </g>\n     </g>\n    </g>\n    <g id=\"ytick_2\">\n     <g id=\"line2d_14\">\n      <g>\n       <use xlink:href=\"#m1f1242228f\" x=\"79.939221\" y=\"203.24125\" style=\"stroke: #000000; stroke-width: 1.25\"/>\n      </g>\n     </g>\n     <g id=\"text_14\">\n      <!-- 20% -->\n      <g transform=\"translate(37.167131 207.988374)scale(0.12495 -0.12495)\">\n       <defs>\n        <path id=\"DejaVuSans-32\" d=\"M 1228 531 \nL 3431 531 \nL 3431 0 \nL 469 0 \nL 469 531 \nQ 828 903 1448 1529 \nQ 2069 2156 2228 2338 \nQ 2531 2678 2651 2914 \nQ 2772 3150 2772 3378 \nQ 2772 3750 2511 3984 \nQ 2250 4219 1831 4219 \nQ 1534 4219 1204 4116 \nQ 875 4013 500 3803 \nL 500 4441 \nQ 881 4594 1212 4672 \nQ 1544 4750 1819 4750 \nQ 2544 4750 2975 4387 \nQ 3406 4025 3406 3419 \nQ 3406 3131 3298 2873 \nQ 3191 2616 2906 2266 \nQ 2828 2175 2409 1742 \nQ 1991 1309 1228 531 \nz\n\" transform=\"scale(0.015625)\"/>\n       </defs>\n       <use xlink:href=\"#DejaVuSans-32\"/>\n       <use xlink:href=\"#DejaVuSans-30\" x=\"63.623047\"/>\n       <use xlink:href=\"#DejaVuSans-25\" x=\"127.246094\"/>\n      </g>\n     </g>\n    </g>\n    <g id=\"ytick_3\">\n     <g id=\"line2d_15\">\n      <g>\n       <use xlink:href=\"#m1f1242228f\" x=\"79.939221\" y=\"165.18925\" style=\"stroke: #000000; stroke-width: 1.25\"/>\n      </g>\n     </g>\n     <g id=\"text_15\">\n      <!-- 40% -->\n      <g transform=\"translate(37.167131 169.936374)scale(0.12495 -0.12495)\">\n       <defs>\n        <path id=\"DejaVuSans-34\" d=\"M 2419 4116 \nL 825 1625 \nL 2419 1625 \nL 2419 4116 \nz\nM 2253 4666 \nL 3047 4666 \nL 3047 1625 \nL 3713 1625 \nL 3713 1100 \nL 3047 1100 \nL 3047 0 \nL 2419 0 \nL 2419 1100 \nL 313 1100 \nL 313 1709 \nL 2253 4666 \nz\n\" transform=\"scale(0.015625)\"/>\n       </defs>\n       <use xlink:href=\"#DejaVuSans-34\"/>\n       <use xlink:href=\"#DejaVuSans-30\" x=\"63.623047\"/>\n       <use xlink:href=\"#DejaVuSans-25\" x=\"127.246094\"/>\n      </g>\n     </g>\n    </g>\n    <g id=\"ytick_4\">\n     <g id=\"line2d_16\">\n      <g>\n       <use xlink:href=\"#m1f1242228f\" x=\"79.939221\" y=\"127.13725\" style=\"stroke: #000000; stroke-width: 1.25\"/>\n      </g>\n     </g>\n     <g id=\"text_16\">\n      <!-- 60% -->\n      <g transform=\"translate(37.167131 131.884374)scale(0.12495 -0.12495)\">\n       <defs>\n        <path id=\"DejaVuSans-36\" d=\"M 2113 2584 \nQ 1688 2584 1439 2293 \nQ 1191 2003 1191 1497 \nQ 1191 994 1439 701 \nQ 1688 409 2113 409 \nQ 2538 409 2786 701 \nQ 3034 994 3034 1497 \nQ 3034 2003 2786 2293 \nQ 2538 2584 2113 2584 \nz\nM 3366 4563 \nL 3366 3988 \nQ 3128 4100 2886 4159 \nQ 2644 4219 2406 4219 \nQ 1781 4219 1451 3797 \nQ 1122 3375 1075 2522 \nQ 1259 2794 1537 2939 \nQ 1816 3084 2150 3084 \nQ 2853 3084 3261 2657 \nQ 3669 2231 3669 1497 \nQ 3669 778 3244 343 \nQ 2819 -91 2113 -91 \nQ 1303 -91 875 529 \nQ 447 1150 447 2328 \nQ 447 3434 972 4092 \nQ 1497 4750 2381 4750 \nQ 2619 4750 2861 4703 \nQ 3103 4656 3366 4563 \nz\n\" transform=\"scale(0.015625)\"/>\n       </defs>\n       <use xlink:href=\"#DejaVuSans-36\"/>\n       <use xlink:href=\"#DejaVuSans-30\" x=\"63.623047\"/>\n       <use xlink:href=\"#DejaVuSans-25\" x=\"127.246094\"/>\n      </g>\n     </g>\n    </g>\n    <g id=\"ytick_5\">\n     <g id=\"line2d_17\">\n      <g>\n       <use xlink:href=\"#m1f1242228f\" x=\"79.939221\" y=\"89.08525\" style=\"stroke: #000000; stroke-width: 1.25\"/>\n      </g>\n     </g>\n     <g id=\"text_17\">\n      <!-- 80% -->\n      <g transform=\"translate(37.167131 93.832374)scale(0.12495 -0.12495)\">\n       <defs>\n        <path id=\"DejaVuSans-38\" d=\"M 2034 2216 \nQ 1584 2216 1326 1975 \nQ 1069 1734 1069 1313 \nQ 1069 891 1326 650 \nQ 1584 409 2034 409 \nQ 2484 409 2743 651 \nQ 3003 894 3003 1313 \nQ 3003 1734 2745 1975 \nQ 2488 2216 2034 2216 \nz\nM 1403 2484 \nQ 997 2584 770 2862 \nQ 544 3141 544 3541 \nQ 544 4100 942 4425 \nQ 1341 4750 2034 4750 \nQ 2731 4750 3128 4425 \nQ 3525 4100 3525 3541 \nQ 3525 3141 3298 2862 \nQ 3072 2584 2669 2484 \nQ 3125 2378 3379 2068 \nQ 3634 1759 3634 1313 \nQ 3634 634 3220 271 \nQ 2806 -91 2034 -91 \nQ 1263 -91 848 271 \nQ 434 634 434 1313 \nQ 434 1759 690 2068 \nQ 947 2378 1403 2484 \nz\nM 1172 3481 \nQ 1172 3119 1398 2916 \nQ 1625 2713 2034 2713 \nQ 2441 2713 2670 2916 \nQ 2900 3119 2900 3481 \nQ 2900 3844 2670 4047 \nQ 2441 4250 2034 4250 \nQ 1625 4250 1398 4047 \nQ 1172 3844 1172 3481 \nz\n\" transform=\"scale(0.015625)\"/>\n       </defs>\n       <use xlink:href=\"#DejaVuSans-38\"/>\n       <use xlink:href=\"#DejaVuSans-30\" x=\"63.623047\"/>\n       <use xlink:href=\"#DejaVuSans-25\" x=\"127.246094\"/>\n      </g>\n     </g>\n    </g>\n    <g id=\"ytick_6\">\n     <g id=\"line2d_18\">\n      <g>\n       <use xlink:href=\"#m1f1242228f\" x=\"79.939221\" y=\"51.03325\" style=\"stroke: #000000; stroke-width: 1.25\"/>\n      </g>\n     </g>\n     <g id=\"text_18\">\n      <!-- 100% -->\n      <g transform=\"translate(29.217188 55.780374)scale(0.12495 -0.12495)\">\n       <defs>\n        <path id=\"DejaVuSans-31\" d=\"M 794 531 \nL 1825 531 \nL 1825 4091 \nL 703 3866 \nL 703 4441 \nL 1819 4666 \nL 2450 4666 \nL 2450 531 \nL 3481 531 \nL 3481 0 \nL 794 0 \nL 794 531 \nz\n\" transform=\"scale(0.015625)\"/>\n       </defs>\n       <use xlink:href=\"#DejaVuSans-31\"/>\n       <use xlink:href=\"#DejaVuSans-30\" x=\"63.623047\"/>\n       <use xlink:href=\"#DejaVuSans-30\" x=\"127.246094\"/>\n       <use xlink:href=\"#DejaVuSans-25\" x=\"190.869141\"/>\n      </g>\n     </g>\n    </g>\n    <g id=\"text_19\">\n     <!-- Normalized mutual information -->\n     <g transform=\"translate(18.597656 263.180828)rotate(-90)scale(0.15 -0.15)\">\n      <defs>\n       <path id=\"DejaVuSans-4e\" d=\"M 628 4666 \nL 1478 4666 \nL 3547 763 \nL 3547 4666 \nL 4159 4666 \nL 4159 0 \nL 3309 0 \nL 1241 3903 \nL 1241 0 \nL 628 0 \nL 628 4666 \nz\n\" transform=\"scale(0.015625)\"/>\n       <path id=\"DejaVuSans-7a\" d=\"M 353 3500 \nL 3084 3500 \nL 3084 2975 \nL 922 459 \nL 3084 459 \nL 3084 0 \nL 275 0 \nL 275 525 \nL 2438 3041 \nL 353 3041 \nL 353 3500 \nz\n\" transform=\"scale(0.015625)\"/>\n       <path id=\"DejaVuSans-20\" transform=\"scale(0.015625)\"/>\n       <path id=\"DejaVuSans-66\" d=\"M 2375 4863 \nL 2375 4384 \nL 1825 4384 \nQ 1516 4384 1395 4259 \nQ 1275 4134 1275 3809 \nL 1275 3500 \nL 2222 3500 \nL 2222 3053 \nL 1275 3053 \nL 1275 0 \nL 697 0 \nL 697 3053 \nL 147 3053 \nL 147 3500 \nL 697 3500 \nL 697 3744 \nQ 697 4328 969 4595 \nQ 1241 4863 1831 4863 \nL 2375 4863 \nz\n\" transform=\"scale(0.015625)\"/>\n      </defs>\n      <use xlink:href=\"#DejaVuSans-4e\"/>\n      <use xlink:href=\"#DejaVuSans-6f\" x=\"74.804688\"/>\n      <use xlink:href=\"#DejaVuSans-72\" x=\"135.986328\"/>\n      <use xlink:href=\"#DejaVuSans-6d\" x=\"175.349609\"/>\n      <use xlink:href=\"#DejaVuSans-61\" x=\"272.761719\"/>\n      <use xlink:href=\"#DejaVuSans-6c\" x=\"334.041016\"/>\n      <use xlink:href=\"#DejaVuSans-69\" x=\"361.824219\"/>\n      <use xlink:href=\"#DejaVuSans-7a\" x=\"389.607422\"/>\n      <use xlink:href=\"#DejaVuSans-65\" x=\"442.097656\"/>\n      <use xlink:href=\"#DejaVuSans-64\" x=\"503.621094\"/>\n      <use xlink:href=\"#DejaVuSans-20\" x=\"567.097656\"/>\n      <use xlink:href=\"#DejaVuSans-6d\" x=\"598.884766\"/>\n      <use xlink:href=\"#DejaVuSans-75\" x=\"696.296875\"/>\n      <use xlink:href=\"#DejaVuSans-74\" x=\"759.675781\"/>\n      <use xlink:href=\"#DejaVuSans-75\" x=\"798.884766\"/>\n      <use xlink:href=\"#DejaVuSans-61\" x=\"862.263672\"/>\n      <use xlink:href=\"#DejaVuSans-6c\" x=\"923.542969\"/>\n      <use xlink:href=\"#DejaVuSans-20\" x=\"951.326172\"/>\n      <use xlink:href=\"#DejaVuSans-69\" x=\"983.113281\"/>\n      <use xlink:href=\"#DejaVuSans-6e\" x=\"1010.896484\"/>\n      <use xlink:href=\"#DejaVuSans-66\" x=\"1074.275391\"/>\n      <use xlink:href=\"#DejaVuSans-6f\" x=\"1109.480469\"/>\n      <use xlink:href=\"#DejaVuSans-72\" x=\"1170.662109\"/>\n      <use xlink:href=\"#DejaVuSans-6d\" x=\"1210.025391\"/>\n      <use xlink:href=\"#DejaVuSans-61\" x=\"1307.4375\"/>\n      <use xlink:href=\"#DejaVuSans-74\" x=\"1368.716797\"/>\n      <use xlink:href=\"#DejaVuSans-69\" x=\"1407.925781\"/>\n      <use xlink:href=\"#DejaVuSans-6f\" x=\"1435.708984\"/>\n      <use xlink:href=\"#DejaVuSans-6e\" x=\"1496.890625\"/>\n     </g>\n    </g>\n   </g>\n   <g id=\"line2d_19\">\n    <path clip-path=\"url(#p2405a554bf)\" style=\"fill: none; stroke: #424242; stroke-width: 3; stroke-linecap: square\"/>\n   </g>\n   <g id=\"line2d_20\">\n    <path clip-path=\"url(#p2405a554bf)\" style=\"fill: none; stroke: #424242; stroke-width: 3; stroke-linecap: square\"/>\n   </g>\n   <g id=\"line2d_21\">\n    <path clip-path=\"url(#p2405a554bf)\" style=\"fill: none; stroke: #424242; stroke-width: 3; stroke-linecap: square\"/>\n   </g>\n   <g id=\"line2d_22\">\n    <path clip-path=\"url(#p2405a554bf)\" style=\"fill: none; stroke: #424242; stroke-width: 3; stroke-linecap: square\"/>\n   </g>\n   <g id=\"line2d_23\">\n    <path clip-path=\"url(#p2405a554bf)\" style=\"fill: none; stroke: #424242; stroke-width: 3; stroke-linecap: square\"/>\n   </g>\n   <g id=\"line2d_24\">\n    <path clip-path=\"url(#p2405a554bf)\" style=\"fill: none; stroke: #424242; stroke-width: 3; stroke-linecap: square\"/>\n   </g>\n   <g id=\"line2d_25\">\n    <path clip-path=\"url(#p2405a554bf)\" style=\"fill: none; stroke: #424242; stroke-width: 3; stroke-linecap: square\"/>\n   </g>\n   <g id=\"line2d_26\">\n    <path clip-path=\"url(#p2405a554bf)\" style=\"fill: none; stroke: #424242; stroke-width: 3; stroke-linecap: square\"/>\n   </g>\n   <g id=\"line2d_27\">\n    <path clip-path=\"url(#p2405a554bf)\" style=\"fill: none; stroke: #424242; stroke-width: 3; stroke-linecap: square\"/>\n   </g>\n   <g id=\"line2d_28\">\n    <path clip-path=\"url(#p2405a554bf)\" style=\"fill: none; stroke: #424242; stroke-width: 3; stroke-linecap: square\"/>\n   </g>\n   <g id=\"line2d_29\">\n    <path clip-path=\"url(#p2405a554bf)\" style=\"fill: none; stroke: #424242; stroke-width: 3; stroke-linecap: square\"/>\n   </g>\n   <g id=\"line2d_30\">\n    <path clip-path=\"url(#p2405a554bf)\" style=\"fill: none; stroke: #424242; stroke-width: 3; stroke-linecap: square\"/>\n   </g>\n   <g id=\"line2d_31\">\n    <path clip-path=\"url(#p2405a554bf)\" style=\"fill: none; stroke: #424242; stroke-width: 3; stroke-linecap: square\"/>\n   </g>\n   <g id=\"line2d_32\">\n    <path clip-path=\"url(#p2405a554bf)\" style=\"fill: none; stroke: #424242; stroke-width: 3; stroke-linecap: square\"/>\n   </g>\n   <g id=\"line2d_33\">\n    <path clip-path=\"url(#p2405a554bf)\" style=\"fill: none; stroke: #424242; stroke-width: 3; stroke-linecap: square\"/>\n   </g>\n   <g id=\"line2d_34\">\n    <path clip-path=\"url(#p2405a554bf)\" style=\"fill: none; stroke: #424242; stroke-width: 3; stroke-linecap: square\"/>\n   </g>\n   <g id=\"line2d_35\">\n    <path clip-path=\"url(#p2405a554bf)\" style=\"fill: none; stroke: #424242; stroke-width: 3; stroke-linecap: square\"/>\n   </g>\n   <g id=\"line2d_36\">\n    <path clip-path=\"url(#p2405a554bf)\" style=\"fill: none; stroke: #424242; stroke-width: 3; stroke-linecap: square\"/>\n   </g>\n   <g id=\"line2d_37\">\n    <path clip-path=\"url(#p2405a554bf)\" style=\"fill: none; stroke: #424242; stroke-width: 3; stroke-linecap: square\"/>\n   </g>\n   <g id=\"line2d_38\">\n    <path clip-path=\"url(#p2405a554bf)\" style=\"fill: none; stroke: #424242; stroke-width: 3; stroke-linecap: square\"/>\n   </g>\n   <g id=\"line2d_39\">\n    <path clip-path=\"url(#p2405a554bf)\" style=\"fill: none; stroke: #424242; stroke-width: 3; stroke-linecap: square\"/>\n   </g>\n   <g id=\"line2d_40\">\n    <path clip-path=\"url(#p2405a554bf)\" style=\"fill: none; stroke: #424242; stroke-width: 3; stroke-linecap: square\"/>\n   </g>\n   <g id=\"line2d_41\">\n    <path clip-path=\"url(#p2405a554bf)\" style=\"fill: none; stroke: #424242; stroke-width: 3; stroke-linecap: square\"/>\n   </g>\n   <g id=\"line2d_42\">\n    <path clip-path=\"url(#p2405a554bf)\" style=\"fill: none; stroke: #424242; stroke-width: 3; stroke-linecap: square\"/>\n   </g>\n   <g id=\"line2d_43\">\n    <path d=\"M 79.939221 241.29325 \nL 358.939221 241.29325 \n\" clip-path=\"url(#p2405a554bf)\" style=\"fill: none; stroke: #000000; stroke-width: 0.833333; stroke-linecap: square\"/>\n   </g>\n   <g id=\"patch_27\">\n    <path d=\"M 79.939221 241.29325 \nL 79.939221 51.03325 \n\" style=\"fill: none; stroke: #000000; stroke-width: 1.666667; stroke-linejoin: miter; stroke-linecap: square\"/>\n   </g>\n   <g id=\"patch_28\">\n    <path d=\"M 79.939221 241.29325 \nL 358.939221 241.29325 \n\" style=\"fill: none; stroke: #000000; stroke-width: 1.666667; stroke-linejoin: miter; stroke-linecap: square\"/>\n   </g>\n   <g id=\"text_20\">\n    <!-- Normalized mututal information -->\n    <g transform=\"translate(75.489846 20.877187)scale(0.18 -0.18)\">\n     <use xlink:href=\"#DejaVuSans-4e\"/>\n     <use xlink:href=\"#DejaVuSans-6f\" x=\"74.804688\"/>\n     <use xlink:href=\"#DejaVuSans-72\" x=\"135.986328\"/>\n     <use xlink:href=\"#DejaVuSans-6d\" x=\"175.349609\"/>\n     <use xlink:href=\"#DejaVuSans-61\" x=\"272.761719\"/>\n     <use xlink:href=\"#DejaVuSans-6c\" x=\"334.041016\"/>\n     <use xlink:href=\"#DejaVuSans-69\" x=\"361.824219\"/>\n     <use xlink:href=\"#DejaVuSans-7a\" x=\"389.607422\"/>\n     <use xlink:href=\"#DejaVuSans-65\" x=\"442.097656\"/>\n     <use xlink:href=\"#DejaVuSans-64\" x=\"503.621094\"/>\n     <use xlink:href=\"#DejaVuSans-20\" x=\"567.097656\"/>\n     <use xlink:href=\"#DejaVuSans-6d\" x=\"598.884766\"/>\n     <use xlink:href=\"#DejaVuSans-75\" x=\"696.296875\"/>\n     <use xlink:href=\"#DejaVuSans-74\" x=\"759.675781\"/>\n     <use xlink:href=\"#DejaVuSans-75\" x=\"798.884766\"/>\n     <use xlink:href=\"#DejaVuSans-74\" x=\"862.263672\"/>\n     <use xlink:href=\"#DejaVuSans-61\" x=\"901.472656\"/>\n     <use xlink:href=\"#DejaVuSans-6c\" x=\"962.751953\"/>\n     <use xlink:href=\"#DejaVuSans-20\" x=\"990.535156\"/>\n     <use xlink:href=\"#DejaVuSans-69\" x=\"1022.322266\"/>\n     <use xlink:href=\"#DejaVuSans-6e\" x=\"1050.105469\"/>\n     <use xlink:href=\"#DejaVuSans-66\" x=\"1113.484375\"/>\n     <use xlink:href=\"#DejaVuSans-6f\" x=\"1148.689453\"/>\n     <use xlink:href=\"#DejaVuSans-72\" x=\"1209.871094\"/>\n     <use xlink:href=\"#DejaVuSans-6d\" x=\"1249.234375\"/>\n     <use xlink:href=\"#DejaVuSans-61\" x=\"1346.646484\"/>\n     <use xlink:href=\"#DejaVuSans-74\" x=\"1407.925781\"/>\n     <use xlink:href=\"#DejaVuSans-69\" x=\"1447.134766\"/>\n     <use xlink:href=\"#DejaVuSans-6f\" x=\"1474.917969\"/>\n     <use xlink:href=\"#DejaVuSans-6e\" x=\"1536.099609\"/>\n    </g>\n    <!--  with feature: sex -->\n    <g transform=\"translate(140.849534 41.03325)scale(0.18 -0.18)\">\n     <defs>\n      <path id=\"DejaVuSans-3a\" d=\"M 750 794 \nL 1409 794 \nL 1409 0 \nL 750 0 \nL 750 794 \nz\nM 750 3309 \nL 1409 3309 \nL 1409 2516 \nL 750 2516 \nL 750 3309 \nz\n\" transform=\"scale(0.015625)\"/>\n      <path id=\"DejaVuSans-78\" d=\"M 3513 3500 \nL 2247 1797 \nL 3578 0 \nL 2900 0 \nL 1881 1375 \nL 863 0 \nL 184 0 \nL 1544 1831 \nL 300 3500 \nL 978 3500 \nL 1906 2253 \nL 2834 3500 \nL 3513 3500 \nz\n\" transform=\"scale(0.015625)\"/>\n     </defs>\n     <use xlink:href=\"#DejaVuSans-20\"/>\n     <use xlink:href=\"#DejaVuSans-77\" x=\"31.787109\"/>\n     <use xlink:href=\"#DejaVuSans-69\" x=\"113.574219\"/>\n     <use xlink:href=\"#DejaVuSans-74\" x=\"141.357422\"/>\n     <use xlink:href=\"#DejaVuSans-68\" x=\"180.566406\"/>\n     <use xlink:href=\"#DejaVuSans-20\" x=\"243.945312\"/>\n     <use xlink:href=\"#DejaVuSans-66\" x=\"275.732422\"/>\n     <use xlink:href=\"#DejaVuSans-65\" x=\"310.9375\"/>\n     <use xlink:href=\"#DejaVuSans-61\" x=\"372.460938\"/>\n     <use xlink:href=\"#DejaVuSans-74\" x=\"433.740234\"/>\n     <use xlink:href=\"#DejaVuSans-75\" x=\"472.949219\"/>\n     <use xlink:href=\"#DejaVuSans-72\" x=\"536.328125\"/>\n     <use xlink:href=\"#DejaVuSans-65\" x=\"575.191406\"/>\n     <use xlink:href=\"#DejaVuSans-3a\" x=\"636.714844\"/>\n     <use xlink:href=\"#DejaVuSans-20\" x=\"670.40625\"/>\n     <use xlink:href=\"#DejaVuSans-73\" x=\"702.193359\"/>\n     <use xlink:href=\"#DejaVuSans-65\" x=\"754.292969\"/>\n     <use xlink:href=\"#DejaVuSans-78\" x=\"814.066406\"/>\n    </g>\n   </g>\n   <g id=\"legend_1\">\n    <g id=\"patch_29\">\n     <path d=\"M 276.899897 83.477153 \nL 352.859721 83.477153 \nQ 354.596721 83.477153 354.596721 81.740153 \nL 354.596721 57.11275 \nQ 354.596721 55.37575 352.859721 55.37575 \nL 276.899897 55.37575 \nQ 275.162897 55.37575 275.162897 57.11275 \nL 275.162897 81.740153 \nQ 275.162897 83.477153 276.899897 83.477153 \nz\n\" style=\"fill: #ffffff; opacity: 0.8; stroke: #cccccc; stroke-linejoin: miter\"/>\n    </g>\n    <g id=\"patch_30\">\n     <path d=\"M 278.636897 65.448993 \nL 296.006897 65.448993 \nL 296.006897 59.369493 \nL 278.636897 59.369493 \nz\n\" style=\"fill: #441d9e\"/>\n    </g>\n    <g id=\"text_21\">\n     <!-- categorical -->\n     <g transform=\"translate(302.954897 65.448993)scale(0.08685 -0.08685)\">\n      <use xlink:href=\"#DejaVuSans-63\"/>\n      <use xlink:href=\"#DejaVuSans-61\" x=\"54.980469\"/>\n      <use xlink:href=\"#DejaVuSans-74\" x=\"116.259766\"/>\n      <use xlink:href=\"#DejaVuSans-65\" x=\"155.46875\"/>\n      <use xlink:href=\"#DejaVuSans-67\" x=\"216.992188\"/>\n      <use xlink:href=\"#DejaVuSans-6f\" x=\"280.46875\"/>\n      <use xlink:href=\"#DejaVuSans-72\" x=\"341.650391\"/>\n      <use xlink:href=\"#DejaVuSans-69\" x=\"382.763672\"/>\n      <use xlink:href=\"#DejaVuSans-63\" x=\"410.546875\"/>\n      <use xlink:href=\"#DejaVuSans-61\" x=\"465.527344\"/>\n      <use xlink:href=\"#DejaVuSans-6c\" x=\"526.806641\"/>\n     </g>\n    </g>\n    <g id=\"patch_31\">\n     <path d=\"M 278.636897 78.196945 \nL 296.006897 78.196945 \nL 296.006897 72.117445 \nL 278.636897 72.117445 \nz\n\" style=\"fill: #e03e87\"/>\n    </g>\n    <g id=\"text_22\">\n     <!-- continuous -->\n     <g transform=\"translate(302.954897 78.196945)scale(0.08685 -0.08685)\">\n      <use xlink:href=\"#DejaVuSans-63\"/>\n      <use xlink:href=\"#DejaVuSans-6f\" x=\"54.980469\"/>\n      <use xlink:href=\"#DejaVuSans-6e\" x=\"116.162109\"/>\n      <use xlink:href=\"#DejaVuSans-74\" x=\"179.541016\"/>\n      <use xlink:href=\"#DejaVuSans-69\" x=\"218.75\"/>\n      <use xlink:href=\"#DejaVuSans-6e\" x=\"246.533203\"/>\n      <use xlink:href=\"#DejaVuSans-75\" x=\"309.912109\"/>\n      <use xlink:href=\"#DejaVuSans-6f\" x=\"373.291016\"/>\n      <use xlink:href=\"#DejaVuSans-75\" x=\"434.472656\"/>\n      <use xlink:href=\"#DejaVuSans-73\" x=\"497.851562\"/>\n     </g>\n    </g>\n   </g>\n  </g>\n </g>\n <defs>\n  <clipPath id=\"p2405a554bf\">\n   <rect x=\"79.939221\" y=\"51.03325\" width=\"279\" height=\"190.26\"/>\n  </clipPath>\n </defs>\n</svg>\n",
      "text/plain": [
       "<Figure size 1500x1050 with 1 Axes>"
      ]
     },
     "metadata": {},
     "output_type": "display_data"
    },
    {
     "data": {
      "text/plain": [
       "<credoai.lens.Lens at 0x14cabdc70>"
      ]
     },
     "execution_count": 7,
     "metadata": {},
     "output_type": "execute_result"
    }
   ],
   "source": [
    "lens.display_results()"
   ]
  },
  {
   "cell_type": "markdown",
   "metadata": {},
   "source": [
    "## Step-by-Step\n",
    "\n",
    "Let's go through the results one by one and interpret them.\n",
    "\n",
    "#### Data balance\n",
    "The data balance assessment results help us gain insights into how the demographic groups are represented in the dataset. They are illustrated in the first figure.\n",
    "\n",
    "The first subplot shows that males are represented twice as more than females. Considering the target value of 1 (income greater than 50K) as the preferred label value, we can see from the second subplot that a higher proportion of males have a preferred label 1. This proportion for males (`m`) and females (`f`) can be formulated as\n",
    "\n",
    "$$q_m = \\frac{n_m^{(1)}}{n_m},  \\quad q_f = \\frac{n_f^{(1)}}{n_f}$$\n",
    "\n",
    "Demographic parity difference *DPD* (also called statistical parity) and demographic parity ratio *DPR* (also called disparate impact) are the difference and ratio of these proportions. They are illustrated in the third subplot.\n",
    "\n",
    "$$DPD = \\frac{q_f}{q_m}, \\quad DPR = q_m - q_f$$\n",
    "\n",
    "*DPD=0* and *DPR=1* indicate demographic parity.\n",
    "\n",
    "#### Group differences \n",
    "The group difference results shown in second figure are standardized mean differences calculated separately for each feature. For every numeric feature, its means across the groups are calculated and their difference is divided by the feature's standard deviation:\n",
    "\n",
    "$$\\theta =\\frac {\\mu_m - \\mu_f}{\\sigma }$$\n",
    "\n",
    "It shows how the distribution of other features are different across the demographic groups. It is closely related to [effect size](https://en.wikipedia.org/wiki/Effect_size).\n",
    "\n",
    "#### Proxy assessment \n",
    "Even if we don’t give the model access to a sensitive attribute directly, the model may learn to discriminate anyway by using a proxy that is correlated with the protected attribute. The proxy assessment stage assess the dataset for the presence of proxies in the dataset.\n",
    "\n",
    "**- Mutual information**\n",
    "\n",
    "[Mutual information](https://en.wikipedia.org/wiki/Mutual_information) is the \"amount of information\" obtained about the sensitive feature by observing another feature. The mutual information values range over the interval [0, ∞). They are therefore normalized via dividing by the mutual information between the sensitive feature and itself.\n",
    "\n",
    "The third figure indicates that 'relationship' feature has a 40% normalized mutual information with 'sex'. This feature therefore may be better omitted or used with caution for training purposes.\n",
    "\n",
    "**- Sensitive feature predictability**\n",
    "\n",
    "Other features collectively may serve as a proxy for the sensitive features. To assess this, Lens trains a gradient boosting model on the features to predict the sensitive attribute. Then it determines cross-validated ROC-AUC score. The score quantifies the performance of this prediction. A high score means the data collectively serves as a proxy. The ROC-AUC score values range over the interval [0, 1].\n",
    "\n",
    "The last figure indicates that this score is 0.93, which is significantly high. By looking at the `sensitive_feature_prediction_feature_importances` we can see that the feature \"relationship\" in the data is primarily responsible. This makes sense as the label \"Husband\" and \"Wife\" are highly indicative of sex!"
   ]
  },
  {
   "cell_type": "markdown",
   "metadata": {},
   "source": [
    "### Race as Sensitive Feature  <a name=\"Race-as-Sensitive-Feature\"></a>\n",
    "Let's repeat the assessment with `race` as the sensitive attributes."
   ]
  },
  {
   "cell_type": "code",
   "execution_count": 8,
   "metadata": {},
   "outputs": [],
   "source": [
    "sensitive_feature_key = 'race'\n",
    "\n",
    "# Set up the data artifact\n",
    "credo_data = cl.CredoData(name='census-income',\n",
    "                          data=df, \n",
    "                          sensitive_feature_key=sensitive_feature_key,\n",
    "                          label_key=label_key,\n",
    "                          categorical_features_keys=categorical_features_keys)"
   ]
  },
  {
   "cell_type": "code",
   "execution_count": 9,
   "metadata": {},
   "outputs": [
    {
     "data": {
      "text/html": [
       "<h3 id=\"DatasetFairness-SAMPLE-BALANCE\"><span style=\"font-size:1em; text-align: left\">SAMPLE BALANCE</span></h3>"
      ],
      "text/plain": [
       "<IPython.core.display.HTML object>"
      ]
     },
     "metadata": {},
     "output_type": "display_data"
    },
    {
     "data": {
      "text/html": [
       "<div>\n",
       "<style scoped>\n",
       "    .dataframe tbody tr th:only-of-type {\n",
       "        vertical-align: middle;\n",
       "    }\n",
       "\n",
       "    .dataframe tbody tr th {\n",
       "        vertical-align: top;\n",
       "    }\n",
       "\n",
       "    .dataframe thead th {\n",
       "        text-align: right;\n",
       "    }\n",
       "</style>\n",
       "<table border=\"1\" class=\"dataframe\">\n",
       "  <thead>\n",
       "    <tr style=\"text-align: right;\">\n",
       "      <th></th>\n",
       "      <th>race</th>\n",
       "      <th>count</th>\n",
       "      <th>percentage</th>\n",
       "    </tr>\n",
       "  </thead>\n",
       "  <tbody>\n",
       "    <tr>\n",
       "      <th>0</th>\n",
       "      <td>White</td>\n",
       "      <td>25933</td>\n",
       "      <td>85.979046</td>\n",
       "    </tr>\n",
       "    <tr>\n",
       "      <th>1</th>\n",
       "      <td>Asian-Pac-Islander</td>\n",
       "      <td>895</td>\n",
       "      <td>2.967310</td>\n",
       "    </tr>\n",
       "    <tr>\n",
       "      <th>2</th>\n",
       "      <td>Amer-Indian-Eskimo</td>\n",
       "      <td>286</td>\n",
       "      <td>0.948213</td>\n",
       "    </tr>\n",
       "    <tr>\n",
       "      <th>3</th>\n",
       "      <td>Other</td>\n",
       "      <td>231</td>\n",
       "      <td>0.765864</td>\n",
       "    </tr>\n",
       "    <tr>\n",
       "      <th>4</th>\n",
       "      <td>Black</td>\n",
       "      <td>2817</td>\n",
       "      <td>9.339566</td>\n",
       "    </tr>\n",
       "  </tbody>\n",
       "</table>\n",
       "</div>"
      ],
      "text/plain": [
       "                 race  count  percentage\n",
       "0               White  25933   85.979046\n",
       "1  Asian-Pac-Islander    895    2.967310\n",
       "2  Amer-Indian-Eskimo    286    0.948213\n",
       "3               Other    231    0.765864\n",
       "4               Black   2817    9.339566"
      ]
     },
     "metadata": {},
     "output_type": "display_data"
    },
    {
     "name": "stdout",
     "output_type": "stream",
     "text": [
      "\n",
      "\n"
     ]
    },
    {
     "data": {
      "text/html": [
       "<h3 id=\"DatasetFairness-LABEL-BALANCE\"><span style=\"font-size:1em; text-align: left\">LABEL BALANCE</span></h3>"
      ],
      "text/plain": [
       "<IPython.core.display.HTML object>"
      ]
     },
     "metadata": {},
     "output_type": "display_data"
    },
    {
     "data": {
      "text/html": [
       "<div>\n",
       "<style scoped>\n",
       "    .dataframe tbody tr th:only-of-type {\n",
       "        vertical-align: middle;\n",
       "    }\n",
       "\n",
       "    .dataframe tbody tr th {\n",
       "        vertical-align: top;\n",
       "    }\n",
       "\n",
       "    .dataframe thead th {\n",
       "        text-align: right;\n",
       "    }\n",
       "</style>\n",
       "<table border=\"1\" class=\"dataframe\">\n",
       "  <thead>\n",
       "    <tr style=\"text-align: right;\">\n",
       "      <th></th>\n",
       "      <th>race</th>\n",
       "      <th>target</th>\n",
       "      <th>count</th>\n",
       "    </tr>\n",
       "  </thead>\n",
       "  <tbody>\n",
       "    <tr>\n",
       "      <th>0</th>\n",
       "      <td>White</td>\n",
       "      <td>0</td>\n",
       "      <td>19094</td>\n",
       "    </tr>\n",
       "    <tr>\n",
       "      <th>1</th>\n",
       "      <td>White</td>\n",
       "      <td>1</td>\n",
       "      <td>6839</td>\n",
       "    </tr>\n",
       "    <tr>\n",
       "      <th>2</th>\n",
       "      <td>Asian-Pac-Islander</td>\n",
       "      <td>0</td>\n",
       "      <td>647</td>\n",
       "    </tr>\n",
       "    <tr>\n",
       "      <th>3</th>\n",
       "      <td>Asian-Pac-Islander</td>\n",
       "      <td>1</td>\n",
       "      <td>248</td>\n",
       "    </tr>\n",
       "    <tr>\n",
       "      <th>4</th>\n",
       "      <td>Amer-Indian-Eskimo</td>\n",
       "      <td>0</td>\n",
       "      <td>252</td>\n",
       "    </tr>\n",
       "    <tr>\n",
       "      <th>5</th>\n",
       "      <td>Amer-Indian-Eskimo</td>\n",
       "      <td>1</td>\n",
       "      <td>34</td>\n",
       "    </tr>\n",
       "    <tr>\n",
       "      <th>6</th>\n",
       "      <td>Other</td>\n",
       "      <td>0</td>\n",
       "      <td>210</td>\n",
       "    </tr>\n",
       "    <tr>\n",
       "      <th>7</th>\n",
       "      <td>Other</td>\n",
       "      <td>1</td>\n",
       "      <td>21</td>\n",
       "    </tr>\n",
       "    <tr>\n",
       "      <th>8</th>\n",
       "      <td>Black</td>\n",
       "      <td>0</td>\n",
       "      <td>2451</td>\n",
       "    </tr>\n",
       "    <tr>\n",
       "      <th>9</th>\n",
       "      <td>Black</td>\n",
       "      <td>1</td>\n",
       "      <td>366</td>\n",
       "    </tr>\n",
       "  </tbody>\n",
       "</table>\n",
       "</div>"
      ],
      "text/plain": [
       "                 race  target  count\n",
       "0               White       0  19094\n",
       "1               White       1   6839\n",
       "2  Asian-Pac-Islander       0    647\n",
       "3  Asian-Pac-Islander       1    248\n",
       "4  Amer-Indian-Eskimo       0    252\n",
       "5  Amer-Indian-Eskimo       1     34\n",
       "6               Other       0    210\n",
       "7               Other       1     21\n",
       "8               Black       0   2451\n",
       "9               Black       1    366"
      ]
     },
     "metadata": {},
     "output_type": "display_data"
    },
    {
     "name": "stdout",
     "output_type": "stream",
     "text": [
      "\n",
      "\n"
     ]
    },
    {
     "data": {
      "text/html": [
       "<h3 id=\"DatasetFairness-DEMOGRAPHIC-PARITY-DIFFERENCE\"><span style=\"font-size:1em; text-align: left\">DEMOGRAPHIC PARITY DIFFERENCE</span></h3>"
      ],
      "text/plain": [
       "<IPython.core.display.HTML object>"
      ]
     },
     "metadata": {},
     "output_type": "display_data"
    },
    {
     "data": {
      "text/html": [
       "<div>\n",
       "<style scoped>\n",
       "    .dataframe tbody tr th:only-of-type {\n",
       "        vertical-align: middle;\n",
       "    }\n",
       "\n",
       "    .dataframe tbody tr th {\n",
       "        vertical-align: top;\n",
       "    }\n",
       "\n",
       "    .dataframe thead th {\n",
       "        text-align: right;\n",
       "    }\n",
       "</style>\n",
       "<table border=\"1\" class=\"dataframe\">\n",
       "  <thead>\n",
       "    <tr style=\"text-align: right;\">\n",
       "      <th></th>\n",
       "      <th>target</th>\n",
       "      <th>value</th>\n",
       "    </tr>\n",
       "  </thead>\n",
       "  <tbody>\n",
       "    <tr>\n",
       "      <th>0</th>\n",
       "      <td>0</td>\n",
       "      <td>0.186186</td>\n",
       "    </tr>\n",
       "    <tr>\n",
       "      <th>1</th>\n",
       "      <td>1</td>\n",
       "      <td>0.186186</td>\n",
       "    </tr>\n",
       "  </tbody>\n",
       "</table>\n",
       "</div>"
      ],
      "text/plain": [
       "   target     value\n",
       "0       0  0.186186\n",
       "1       1  0.186186"
      ]
     },
     "metadata": {},
     "output_type": "display_data"
    },
    {
     "name": "stdout",
     "output_type": "stream",
     "text": [
      "\n",
      "\n"
     ]
    },
    {
     "data": {
      "text/html": [
       "<h3 id=\"DatasetFairness-DEMOGRAPHIC-PARITY-RATIO\"><span style=\"font-size:1em; text-align: left\">DEMOGRAPHIC PARITY RATIO</span></h3>"
      ],
      "text/plain": [
       "<IPython.core.display.HTML object>"
      ]
     },
     "metadata": {},
     "output_type": "display_data"
    },
    {
     "data": {
      "text/html": [
       "<div>\n",
       "<style scoped>\n",
       "    .dataframe tbody tr th:only-of-type {\n",
       "        vertical-align: middle;\n",
       "    }\n",
       "\n",
       "    .dataframe tbody tr th {\n",
       "        vertical-align: top;\n",
       "    }\n",
       "\n",
       "    .dataframe thead th {\n",
       "        text-align: right;\n",
       "    }\n",
       "</style>\n",
       "<table border=\"1\" class=\"dataframe\">\n",
       "  <thead>\n",
       "    <tr style=\"text-align: right;\">\n",
       "      <th></th>\n",
       "      <th>target</th>\n",
       "      <th>value</th>\n",
       "    </tr>\n",
       "  </thead>\n",
       "  <tbody>\n",
       "    <tr>\n",
       "      <th>0</th>\n",
       "      <td>0</td>\n",
       "      <td>0.795196</td>\n",
       "    </tr>\n",
       "    <tr>\n",
       "      <th>1</th>\n",
       "      <td>1</td>\n",
       "      <td>0.328079</td>\n",
       "    </tr>\n",
       "  </tbody>\n",
       "</table>\n",
       "</div>"
      ],
      "text/plain": [
       "   target     value\n",
       "0       0  0.795196\n",
       "1       1  0.328079"
      ]
     },
     "metadata": {},
     "output_type": "display_data"
    },
    {
     "name": "stdout",
     "output_type": "stream",
     "text": [
      "\n",
      "\n"
     ]
    },
    {
     "data": {
      "text/html": [
       "<h3 id=\"DatasetFairness-SENSITIVE-FEATURE-PREDICTION-SCORE\"><span style=\"font-size:1em; text-align: left\">SENSITIVE FEATURE PREDICTION\n",
       "SCORE</span></h3>"
      ],
      "text/plain": [
       "<IPython.core.display.HTML object>"
      ]
     },
     "metadata": {},
     "output_type": "display_data"
    },
    {
     "data": {
      "text/html": [
       "<div>\n",
       "<style scoped>\n",
       "    .dataframe tbody tr th:only-of-type {\n",
       "        vertical-align: middle;\n",
       "    }\n",
       "\n",
       "    .dataframe tbody tr th {\n",
       "        vertical-align: top;\n",
       "    }\n",
       "\n",
       "    .dataframe thead th {\n",
       "        text-align: right;\n",
       "    }\n",
       "</style>\n",
       "<table border=\"1\" class=\"dataframe\">\n",
       "  <thead>\n",
       "    <tr style=\"text-align: right;\">\n",
       "      <th></th>\n",
       "      <th>0</th>\n",
       "    </tr>\n",
       "  </thead>\n",
       "  <tbody>\n",
       "    <tr>\n",
       "      <th>0</th>\n",
       "      <td>0.763598</td>\n",
       "    </tr>\n",
       "  </tbody>\n",
       "</table>\n",
       "</div>"
      ],
      "text/plain": [
       "          0\n",
       "0  0.763598"
      ]
     },
     "metadata": {},
     "output_type": "display_data"
    },
    {
     "name": "stdout",
     "output_type": "stream",
     "text": [
      "\n",
      "\n"
     ]
    },
    {
     "data": {
      "text/html": [
       "<h3 id=\"DatasetFairness-SENSITIVE-FEATURE-PREDICTION-FEATURE-IMPORTANCES\"><span style=\"font-size:1em; text-align: left\">SENSITIVE FEATURE PREDICTION\n",
       "FEATURE IMPORTANCES</span></h3>"
      ],
      "text/plain": [
       "<IPython.core.display.HTML object>"
      ]
     },
     "metadata": {},
     "output_type": "display_data"
    },
    {
     "data": {
      "text/html": [
       "<div>\n",
       "<style scoped>\n",
       "    .dataframe tbody tr th:only-of-type {\n",
       "        vertical-align: middle;\n",
       "    }\n",
       "\n",
       "    .dataframe tbody tr th {\n",
       "        vertical-align: top;\n",
       "    }\n",
       "\n",
       "    .dataframe thead th {\n",
       "        text-align: right;\n",
       "    }\n",
       "</style>\n",
       "<table border=\"1\" class=\"dataframe\">\n",
       "  <thead>\n",
       "    <tr style=\"text-align: right;\">\n",
       "      <th></th>\n",
       "      <th>0</th>\n",
       "    </tr>\n",
       "  </thead>\n",
       "  <tbody>\n",
       "    <tr>\n",
       "      <th>native.country_United-States</th>\n",
       "      <td>0.124143</td>\n",
       "    </tr>\n",
       "    <tr>\n",
       "      <th>native.country_Philippines</th>\n",
       "      <td>0.079368</td>\n",
       "    </tr>\n",
       "    <tr>\n",
       "      <th>relationship_Unmarried</th>\n",
       "      <td>0.063048</td>\n",
       "    </tr>\n",
       "    <tr>\n",
       "      <th>native.country_Jamaica</th>\n",
       "      <td>0.054780</td>\n",
       "    </tr>\n",
       "    <tr>\n",
       "      <th>hours.per.week</th>\n",
       "      <td>0.050297</td>\n",
       "    </tr>\n",
       "    <tr>\n",
       "      <th>...</th>\n",
       "      <td>...</td>\n",
       "    </tr>\n",
       "    <tr>\n",
       "      <th>native.country_Ireland</th>\n",
       "      <td>0.000000</td>\n",
       "    </tr>\n",
       "    <tr>\n",
       "      <th>native.country_Holand-Netherlands</th>\n",
       "      <td>0.000000</td>\n",
       "    </tr>\n",
       "    <tr>\n",
       "      <th>native.country_Yugoslavia</th>\n",
       "      <td>0.000000</td>\n",
       "    </tr>\n",
       "    <tr>\n",
       "      <th>marital.status_Married-AF-spouse</th>\n",
       "      <td>0.000000</td>\n",
       "    </tr>\n",
       "    <tr>\n",
       "      <th>native.country_Hungary</th>\n",
       "      <td>0.000000</td>\n",
       "    </tr>\n",
       "  </tbody>\n",
       "</table>\n",
       "<p>98 rows × 1 columns</p>\n",
       "</div>"
      ],
      "text/plain": [
       "                                          0\n",
       "native.country_United-States       0.124143\n",
       "native.country_Philippines         0.079368\n",
       "relationship_Unmarried             0.063048\n",
       "native.country_Jamaica             0.054780\n",
       "hours.per.week                     0.050297\n",
       "...                                     ...\n",
       "native.country_Ireland             0.000000\n",
       "native.country_Holand-Netherlands  0.000000\n",
       "native.country_Yugoslavia          0.000000\n",
       "marital.status_Married-AF-spouse   0.000000\n",
       "native.country_Hungary             0.000000\n",
       "\n",
       "[98 rows x 1 columns]"
      ]
     },
     "metadata": {},
     "output_type": "display_data"
    },
    {
     "name": "stdout",
     "output_type": "stream",
     "text": [
      "\n",
      "\n"
     ]
    },
    {
     "data": {
      "text/html": [
       "<h3 id=\"DatasetFairness-STANDARDIZED-GROUP-DIFFS\"><span style=\"font-size:1em; text-align: left\">STANDARDIZED GROUP DIFFS</span></h3>"
      ],
      "text/plain": [
       "<IPython.core.display.HTML object>"
      ]
     },
     "metadata": {},
     "output_type": "display_data"
    },
    {
     "data": {
      "text/html": [
       "<div>\n",
       "<style scoped>\n",
       "    .dataframe tbody tr th:only-of-type {\n",
       "        vertical-align: middle;\n",
       "    }\n",
       "\n",
       "    .dataframe tbody tr th {\n",
       "        vertical-align: top;\n",
       "    }\n",
       "\n",
       "    .dataframe thead th {\n",
       "        text-align: right;\n",
       "    }\n",
       "</style>\n",
       "<table border=\"1\" class=\"dataframe\">\n",
       "  <thead>\n",
       "    <tr style=\"text-align: right;\">\n",
       "      <th></th>\n",
       "      <th>White-Asian-Pac-Islander</th>\n",
       "      <th>White-Amer-Indian-Eskimo</th>\n",
       "      <th>White-Other</th>\n",
       "      <th>White-Black</th>\n",
       "      <th>Asian-Pac-Islander-Amer-Indian-Eskimo</th>\n",
       "      <th>Asian-Pac-Islander-Other</th>\n",
       "      <th>Asian-Pac-Islander-Black</th>\n",
       "      <th>Amer-Indian-Eskimo-Other</th>\n",
       "      <th>Amer-Indian-Eskimo-Black</th>\n",
       "      <th>Other-Black</th>\n",
       "    </tr>\n",
       "  </thead>\n",
       "  <tbody>\n",
       "    <tr>\n",
       "      <th>age</th>\n",
       "      <td>0.051010</td>\n",
       "      <td>0.140304</td>\n",
       "      <td>0.379064</td>\n",
       "      <td>0.054799</td>\n",
       "      <td>0.089294</td>\n",
       "      <td>0.328054</td>\n",
       "      <td>0.003789</td>\n",
       "      <td>0.238760</td>\n",
       "      <td>-0.085505</td>\n",
       "      <td>-0.324265</td>\n",
       "    </tr>\n",
       "    <tr>\n",
       "      <th>education.num</th>\n",
       "      <td>-0.333415</td>\n",
       "      <td>0.321117</td>\n",
       "      <td>0.584906</td>\n",
       "      <td>0.252857</td>\n",
       "      <td>0.654533</td>\n",
       "      <td>0.918322</td>\n",
       "      <td>0.586273</td>\n",
       "      <td>0.263789</td>\n",
       "      <td>-0.068260</td>\n",
       "      <td>-0.332049</td>\n",
       "    </tr>\n",
       "    <tr>\n",
       "      <th>capital.gain</th>\n",
       "      <td>-0.021836</td>\n",
       "      <td>0.065128</td>\n",
       "      <td>0.011071</td>\n",
       "      <td>0.072631</td>\n",
       "      <td>0.086964</td>\n",
       "      <td>0.032907</td>\n",
       "      <td>0.094467</td>\n",
       "      <td>-0.054057</td>\n",
       "      <td>0.007503</td>\n",
       "      <td>0.061560</td>\n",
       "    </tr>\n",
       "    <tr>\n",
       "      <th>capital.loss</th>\n",
       "      <td>0.002389</td>\n",
       "      <td>0.137238</td>\n",
       "      <td>0.104762</td>\n",
       "      <td>0.089988</td>\n",
       "      <td>0.134850</td>\n",
       "      <td>0.102373</td>\n",
       "      <td>0.087599</td>\n",
       "      <td>-0.032476</td>\n",
       "      <td>-0.047251</td>\n",
       "      <td>-0.014774</td>\n",
       "    </tr>\n",
       "    <tr>\n",
       "      <th>hours.per.week</th>\n",
       "      <td>0.058727</td>\n",
       "      <td>0.064902</td>\n",
       "      <td>0.091114</td>\n",
       "      <td>0.211154</td>\n",
       "      <td>0.006176</td>\n",
       "      <td>0.032388</td>\n",
       "      <td>0.152428</td>\n",
       "      <td>0.026212</td>\n",
       "      <td>0.146252</td>\n",
       "      <td>0.120040</td>\n",
       "    </tr>\n",
       "  </tbody>\n",
       "</table>\n",
       "</div>"
      ],
      "text/plain": [
       "                White-Asian-Pac-Islander  White-Amer-Indian-Eskimo  \\\n",
       "age                             0.051010                  0.140304   \n",
       "education.num                  -0.333415                  0.321117   \n",
       "capital.gain                   -0.021836                  0.065128   \n",
       "capital.loss                    0.002389                  0.137238   \n",
       "hours.per.week                  0.058727                  0.064902   \n",
       "\n",
       "                White-Other  White-Black  \\\n",
       "age                0.379064     0.054799   \n",
       "education.num      0.584906     0.252857   \n",
       "capital.gain       0.011071     0.072631   \n",
       "capital.loss       0.104762     0.089988   \n",
       "hours.per.week     0.091114     0.211154   \n",
       "\n",
       "                Asian-Pac-Islander-Amer-Indian-Eskimo  \\\n",
       "age                                          0.089294   \n",
       "education.num                                0.654533   \n",
       "capital.gain                                 0.086964   \n",
       "capital.loss                                 0.134850   \n",
       "hours.per.week                               0.006176   \n",
       "\n",
       "                Asian-Pac-Islander-Other  Asian-Pac-Islander-Black  \\\n",
       "age                             0.328054                  0.003789   \n",
       "education.num                   0.918322                  0.586273   \n",
       "capital.gain                    0.032907                  0.094467   \n",
       "capital.loss                    0.102373                  0.087599   \n",
       "hours.per.week                  0.032388                  0.152428   \n",
       "\n",
       "                Amer-Indian-Eskimo-Other  Amer-Indian-Eskimo-Black  \\\n",
       "age                             0.238760                 -0.085505   \n",
       "education.num                   0.263789                 -0.068260   \n",
       "capital.gain                   -0.054057                  0.007503   \n",
       "capital.loss                   -0.032476                 -0.047251   \n",
       "hours.per.week                  0.026212                  0.146252   \n",
       "\n",
       "                Other-Black  \n",
       "age               -0.324265  \n",
       "education.num     -0.332049  \n",
       "capital.gain       0.061560  \n",
       "capital.loss      -0.014774  \n",
       "hours.per.week     0.120040  "
      ]
     },
     "metadata": {},
     "output_type": "display_data"
    },
    {
     "name": "stdout",
     "output_type": "stream",
     "text": [
      "\n",
      "\n"
     ]
    },
    {
     "data": {
      "text/html": [
       "<h3 id=\"DatasetFairness-NORMALIZED-MUTUAL-INFORMATION\"><span style=\"font-size:1em; text-align: left\">NORMALIZED MUTUAL INFORMATION</span></h3>"
      ],
      "text/plain": [
       "<IPython.core.display.HTML object>"
      ]
     },
     "metadata": {},
     "output_type": "display_data"
    },
    {
     "data": {
      "text/html": [
       "<div>\n",
       "<style scoped>\n",
       "    .dataframe tbody tr th:only-of-type {\n",
       "        vertical-align: middle;\n",
       "    }\n",
       "\n",
       "    .dataframe tbody tr th {\n",
       "        vertical-align: top;\n",
       "    }\n",
       "\n",
       "    .dataframe thead th {\n",
       "        text-align: right;\n",
       "    }\n",
       "</style>\n",
       "<table border=\"1\" class=\"dataframe\">\n",
       "  <thead>\n",
       "    <tr style=\"text-align: right;\">\n",
       "      <th></th>\n",
       "      <th>age</th>\n",
       "      <th>capital.gain</th>\n",
       "      <th>capital.loss</th>\n",
       "      <th>education</th>\n",
       "      <th>education.num</th>\n",
       "      <th>hours.per.week</th>\n",
       "      <th>marital.status</th>\n",
       "      <th>native.country</th>\n",
       "      <th>occupation</th>\n",
       "      <th>relationship</th>\n",
       "      <th>sex</th>\n",
       "      <th>workclass</th>\n",
       "    </tr>\n",
       "  </thead>\n",
       "  <tbody>\n",
       "    <tr>\n",
       "      <th>value</th>\n",
       "      <td>0.003139</td>\n",
       "      <td>0.0</td>\n",
       "      <td>0.002761</td>\n",
       "      <td>0.019169</td>\n",
       "      <td>0.020673</td>\n",
       "      <td>0.020716</td>\n",
       "      <td>0.023392</td>\n",
       "      <td>0.180026</td>\n",
       "      <td>0.024952</td>\n",
       "      <td>0.030662</td>\n",
       "      <td>0.012674</td>\n",
       "      <td>0.01347</td>\n",
       "    </tr>\n",
       "    <tr>\n",
       "      <th>feature_type</th>\n",
       "      <td>continuous</td>\n",
       "      <td>continuous</td>\n",
       "      <td>continuous</td>\n",
       "      <td>categorical</td>\n",
       "      <td>continuous</td>\n",
       "      <td>continuous</td>\n",
       "      <td>categorical</td>\n",
       "      <td>categorical</td>\n",
       "      <td>categorical</td>\n",
       "      <td>categorical</td>\n",
       "      <td>categorical</td>\n",
       "      <td>categorical</td>\n",
       "    </tr>\n",
       "  </tbody>\n",
       "</table>\n",
       "</div>"
      ],
      "text/plain": [
       "                     age capital.gain capital.loss    education education.num  \\\n",
       "value           0.003139          0.0     0.002761     0.019169      0.020673   \n",
       "feature_type  continuous   continuous   continuous  categorical    continuous   \n",
       "\n",
       "             hours.per.week marital.status native.country   occupation  \\\n",
       "value              0.020716       0.023392       0.180026     0.024952   \n",
       "feature_type     continuous    categorical    categorical  categorical   \n",
       "\n",
       "             relationship          sex    workclass  \n",
       "value            0.030662     0.012674      0.01347  \n",
       "feature_type  categorical  categorical  categorical  "
      ]
     },
     "metadata": {},
     "output_type": "display_data"
    },
    {
     "name": "stdout",
     "output_type": "stream",
     "text": [
      "\n",
      "\n"
     ]
    },
    {
     "data": {
      "image/svg+xml": "<?xml version=\"1.0\" encoding=\"utf-8\" standalone=\"no\"?>\n<!DOCTYPE svg PUBLIC \"-//W3C//DTD SVG 1.1//EN\"\n  \"http://www.w3.org/Graphics/SVG/1.1/DTD/svg11.dtd\">\n<svg xmlns:xlink=\"http://www.w3.org/1999/xlink\" width=\"463.000362pt\" height=\"338.843596pt\" viewBox=\"0 0 463.000362 338.843596\" xmlns=\"http://www.w3.org/2000/svg\" version=\"1.1\">\n <metadata>\n  <rdf:RDF xmlns:dc=\"http://purl.org/dc/elements/1.1/\" xmlns:cc=\"http://creativecommons.org/ns#\" xmlns:rdf=\"http://www.w3.org/1999/02/22-rdf-syntax-ns#\">\n   <cc:Work>\n    <dc:type rdf:resource=\"http://purl.org/dc/dcmitype/StillImage\"/>\n    <dc:date>2022-03-15T21:00:21.036307</dc:date>\n    <dc:format>image/svg+xml</dc:format>\n    <dc:creator>\n     <cc:Agent>\n      <dc:title>Matplotlib v3.5.1, https://matplotlib.org/</dc:title>\n     </cc:Agent>\n    </dc:creator>\n   </cc:Work>\n  </rdf:RDF>\n </metadata>\n <defs>\n  <style type=\"text/css\">*{stroke-linejoin: round; stroke-linecap: butt}</style>\n </defs>\n <g id=\"figure_1\">\n  <g id=\"patch_1\">\n   <path d=\"M 0 338.843596 \nL 463.000362 338.843596 \nL 463.000362 0 \nL 0 0 \nz\n\" style=\"fill: #ffffff\"/>\n  </g>\n  <g id=\"axes_1\">\n   <g id=\"patch_2\">\n    <path d=\"M 99.998946 65.220412 \nL 378.998946 65.220412 \nL 378.998946 24.038594 \nL 99.998946 24.038594 \nz\n\" style=\"fill: #ffffff\"/>\n   </g>\n   <g id=\"patch_3\">\n    <path d=\"M 99.998946 24.86223 \nL 365.713232 24.86223 \nL 365.713232 31.451321 \nL 99.998946 31.451321 \nz\n\" clip-path=\"url(#p0bad7df3bf)\" style=\"fill: #441d9e\"/>\n   </g>\n   <g id=\"patch_4\">\n    <path d=\"M 99.998946 33.098594 \nL 109.169281 33.098594 \nL 109.169281 39.687685 \nL 99.998946 39.687685 \nz\n\" clip-path=\"url(#p0bad7df3bf)\" style=\"fill: #441d9e\"/>\n   </g>\n   <g id=\"patch_5\">\n    <path d=\"M 99.998946 41.334957 \nL 102.929355 41.334957 \nL 102.929355 47.924048 \nL 99.998946 47.924048 \nz\n\" clip-path=\"url(#p0bad7df3bf)\" style=\"fill: #441d9e\"/>\n   </g>\n   <g id=\"patch_6\">\n    <path d=\"M 99.998946 49.571321 \nL 102.365815 49.571321 \nL 102.365815 56.160412 \nL 99.998946 56.160412 \nz\n\" clip-path=\"url(#p0bad7df3bf)\" style=\"fill: #441d9e\"/>\n   </g>\n   <g id=\"patch_7\">\n    <path d=\"M 99.998946 57.807685 \nL 128.862446 57.807685 \nL 128.862446 64.396776 \nL 99.998946 64.396776 \nz\n\" clip-path=\"url(#p0bad7df3bf)\" style=\"fill: #441d9e\"/>\n   </g>\n   <g id=\"matplotlib.axis_1\">\n    <g id=\"xtick_1\">\n     <g id=\"line2d_1\">\n      <defs>\n       <path id=\"m6bd17a76c5\" d=\"M 0 0 \nL 0 10 \n\" style=\"stroke: #000000; stroke-width: 1.25\"/>\n      </defs>\n      <g>\n       <use xlink:href=\"#m6bd17a76c5\" x=\"99.998946\" y=\"65.220412\" style=\"stroke: #000000; stroke-width: 1.25\"/>\n      </g>\n     </g>\n     <g id=\"text_1\">\n      <!-- 0 -->\n      <g transform=\"translate(98.01146 84.967536)scale(0.062475 -0.062475)\">\n       <defs>\n        <path id=\"DejaVuSans-30\" d=\"M 2034 4250 \nQ 1547 4250 1301 3770 \nQ 1056 3291 1056 2328 \nQ 1056 1369 1301 889 \nQ 1547 409 2034 409 \nQ 2525 409 2770 889 \nQ 3016 1369 3016 2328 \nQ 3016 3291 2770 3770 \nQ 2525 4250 2034 4250 \nz\nM 2034 4750 \nQ 2819 4750 3233 4129 \nQ 3647 3509 3647 2328 \nQ 3647 1150 3233 529 \nQ 2819 -91 2034 -91 \nQ 1250 -91 836 529 \nQ 422 1150 422 2328 \nQ 422 3509 836 4129 \nQ 1250 4750 2034 4750 \nz\n\" transform=\"scale(0.015625)\"/>\n       </defs>\n       <use xlink:href=\"#DejaVuSans-30\"/>\n      </g>\n     </g>\n    </g>\n    <g id=\"xtick_2\">\n     <g id=\"line2d_2\">\n      <g>\n       <use xlink:href=\"#m6bd17a76c5\" x=\"151.229865\" y=\"65.220412\" style=\"stroke: #000000; stroke-width: 1.25\"/>\n      </g>\n     </g>\n     <g id=\"text_2\">\n      <!-- 5000 -->\n      <g transform=\"translate(143.279922 84.967536)scale(0.062475 -0.062475)\">\n       <defs>\n        <path id=\"DejaVuSans-35\" d=\"M 691 4666 \nL 3169 4666 \nL 3169 4134 \nL 1269 4134 \nL 1269 2991 \nQ 1406 3038 1543 3061 \nQ 1681 3084 1819 3084 \nQ 2600 3084 3056 2656 \nQ 3513 2228 3513 1497 \nQ 3513 744 3044 326 \nQ 2575 -91 1722 -91 \nQ 1428 -91 1123 -41 \nQ 819 9 494 109 \nL 494 744 \nQ 775 591 1075 516 \nQ 1375 441 1709 441 \nQ 2250 441 2565 725 \nQ 2881 1009 2881 1497 \nQ 2881 1984 2565 2268 \nQ 2250 2553 1709 2553 \nQ 1456 2553 1204 2497 \nQ 953 2441 691 2322 \nL 691 4666 \nz\n\" transform=\"scale(0.015625)\"/>\n       </defs>\n       <use xlink:href=\"#DejaVuSans-35\"/>\n       <use xlink:href=\"#DejaVuSans-30\" x=\"63.623047\"/>\n       <use xlink:href=\"#DejaVuSans-30\" x=\"127.246094\"/>\n       <use xlink:href=\"#DejaVuSans-30\" x=\"190.869141\"/>\n      </g>\n     </g>\n    </g>\n    <g id=\"xtick_3\">\n     <g id=\"line2d_3\">\n      <g>\n       <use xlink:href=\"#m6bd17a76c5\" x=\"202.460785\" y=\"65.220412\" style=\"stroke: #000000; stroke-width: 1.25\"/>\n      </g>\n     </g>\n     <g id=\"text_3\">\n      <!-- 10000 -->\n      <g transform=\"translate(192.523355 84.967536)scale(0.062475 -0.062475)\">\n       <defs>\n        <path id=\"DejaVuSans-31\" d=\"M 794 531 \nL 1825 531 \nL 1825 4091 \nL 703 3866 \nL 703 4441 \nL 1819 4666 \nL 2450 4666 \nL 2450 531 \nL 3481 531 \nL 3481 0 \nL 794 0 \nL 794 531 \nz\n\" transform=\"scale(0.015625)\"/>\n       </defs>\n       <use xlink:href=\"#DejaVuSans-31\"/>\n       <use xlink:href=\"#DejaVuSans-30\" x=\"63.623047\"/>\n       <use xlink:href=\"#DejaVuSans-30\" x=\"127.246094\"/>\n       <use xlink:href=\"#DejaVuSans-30\" x=\"190.869141\"/>\n       <use xlink:href=\"#DejaVuSans-30\" x=\"254.492188\"/>\n      </g>\n     </g>\n    </g>\n    <g id=\"xtick_4\">\n     <g id=\"line2d_4\">\n      <g>\n       <use xlink:href=\"#m6bd17a76c5\" x=\"253.691704\" y=\"65.220412\" style=\"stroke: #000000; stroke-width: 1.25\"/>\n      </g>\n     </g>\n     <g id=\"text_4\">\n      <!-- 15000 -->\n      <g transform=\"translate(243.754274 84.967536)scale(0.062475 -0.062475)\">\n       <use xlink:href=\"#DejaVuSans-31\"/>\n       <use xlink:href=\"#DejaVuSans-35\" x=\"63.623047\"/>\n       <use xlink:href=\"#DejaVuSans-30\" x=\"127.246094\"/>\n       <use xlink:href=\"#DejaVuSans-30\" x=\"190.869141\"/>\n       <use xlink:href=\"#DejaVuSans-30\" x=\"254.492188\"/>\n      </g>\n     </g>\n    </g>\n    <g id=\"xtick_5\">\n     <g id=\"line2d_5\">\n      <g>\n       <use xlink:href=\"#m6bd17a76c5\" x=\"304.922623\" y=\"65.220412\" style=\"stroke: #000000; stroke-width: 1.25\"/>\n      </g>\n     </g>\n     <g id=\"text_5\">\n      <!-- 20000 -->\n      <g transform=\"translate(294.985193 84.967536)scale(0.062475 -0.062475)\">\n       <defs>\n        <path id=\"DejaVuSans-32\" d=\"M 1228 531 \nL 3431 531 \nL 3431 0 \nL 469 0 \nL 469 531 \nQ 828 903 1448 1529 \nQ 2069 2156 2228 2338 \nQ 2531 2678 2651 2914 \nQ 2772 3150 2772 3378 \nQ 2772 3750 2511 3984 \nQ 2250 4219 1831 4219 \nQ 1534 4219 1204 4116 \nQ 875 4013 500 3803 \nL 500 4441 \nQ 881 4594 1212 4672 \nQ 1544 4750 1819 4750 \nQ 2544 4750 2975 4387 \nQ 3406 4025 3406 3419 \nQ 3406 3131 3298 2873 \nQ 3191 2616 2906 2266 \nQ 2828 2175 2409 1742 \nQ 1991 1309 1228 531 \nz\n\" transform=\"scale(0.015625)\"/>\n       </defs>\n       <use xlink:href=\"#DejaVuSans-32\"/>\n       <use xlink:href=\"#DejaVuSans-30\" x=\"63.623047\"/>\n       <use xlink:href=\"#DejaVuSans-30\" x=\"127.246094\"/>\n       <use xlink:href=\"#DejaVuSans-30\" x=\"190.869141\"/>\n       <use xlink:href=\"#DejaVuSans-30\" x=\"254.492188\"/>\n      </g>\n     </g>\n    </g>\n    <g id=\"xtick_6\">\n     <g id=\"line2d_6\">\n      <g>\n       <use xlink:href=\"#m6bd17a76c5\" x=\"356.153542\" y=\"65.220412\" style=\"stroke: #000000; stroke-width: 1.25\"/>\n      </g>\n     </g>\n     <g id=\"text_6\">\n      <!-- 25000 -->\n      <g transform=\"translate(346.216113 84.967536)scale(0.062475 -0.062475)\">\n       <use xlink:href=\"#DejaVuSans-32\"/>\n       <use xlink:href=\"#DejaVuSans-35\" x=\"63.623047\"/>\n       <use xlink:href=\"#DejaVuSans-30\" x=\"127.246094\"/>\n       <use xlink:href=\"#DejaVuSans-30\" x=\"190.869141\"/>\n       <use xlink:href=\"#DejaVuSans-30\" x=\"254.492188\"/>\n      </g>\n     </g>\n    </g>\n    <g id=\"text_7\">\n     <!-- Number of data samples -->\n     <g transform=\"translate(193.209884 99.465649)scale(0.075 -0.075)\">\n      <defs>\n       <path id=\"DejaVuSans-4e\" d=\"M 628 4666 \nL 1478 4666 \nL 3547 763 \nL 3547 4666 \nL 4159 4666 \nL 4159 0 \nL 3309 0 \nL 1241 3903 \nL 1241 0 \nL 628 0 \nL 628 4666 \nz\n\" transform=\"scale(0.015625)\"/>\n       <path id=\"DejaVuSans-75\" d=\"M 544 1381 \nL 544 3500 \nL 1119 3500 \nL 1119 1403 \nQ 1119 906 1312 657 \nQ 1506 409 1894 409 \nQ 2359 409 2629 706 \nQ 2900 1003 2900 1516 \nL 2900 3500 \nL 3475 3500 \nL 3475 0 \nL 2900 0 \nL 2900 538 \nQ 2691 219 2414 64 \nQ 2138 -91 1772 -91 \nQ 1169 -91 856 284 \nQ 544 659 544 1381 \nz\nM 1991 3584 \nL 1991 3584 \nz\n\" transform=\"scale(0.015625)\"/>\n       <path id=\"DejaVuSans-6d\" d=\"M 3328 2828 \nQ 3544 3216 3844 3400 \nQ 4144 3584 4550 3584 \nQ 5097 3584 5394 3201 \nQ 5691 2819 5691 2113 \nL 5691 0 \nL 5113 0 \nL 5113 2094 \nQ 5113 2597 4934 2840 \nQ 4756 3084 4391 3084 \nQ 3944 3084 3684 2787 \nQ 3425 2491 3425 1978 \nL 3425 0 \nL 2847 0 \nL 2847 2094 \nQ 2847 2600 2669 2842 \nQ 2491 3084 2119 3084 \nQ 1678 3084 1418 2786 \nQ 1159 2488 1159 1978 \nL 1159 0 \nL 581 0 \nL 581 3500 \nL 1159 3500 \nL 1159 2956 \nQ 1356 3278 1631 3431 \nQ 1906 3584 2284 3584 \nQ 2666 3584 2933 3390 \nQ 3200 3197 3328 2828 \nz\n\" transform=\"scale(0.015625)\"/>\n       <path id=\"DejaVuSans-62\" d=\"M 3116 1747 \nQ 3116 2381 2855 2742 \nQ 2594 3103 2138 3103 \nQ 1681 3103 1420 2742 \nQ 1159 2381 1159 1747 \nQ 1159 1113 1420 752 \nQ 1681 391 2138 391 \nQ 2594 391 2855 752 \nQ 3116 1113 3116 1747 \nz\nM 1159 2969 \nQ 1341 3281 1617 3432 \nQ 1894 3584 2278 3584 \nQ 2916 3584 3314 3078 \nQ 3713 2572 3713 1747 \nQ 3713 922 3314 415 \nQ 2916 -91 2278 -91 \nQ 1894 -91 1617 61 \nQ 1341 213 1159 525 \nL 1159 0 \nL 581 0 \nL 581 4863 \nL 1159 4863 \nL 1159 2969 \nz\n\" transform=\"scale(0.015625)\"/>\n       <path id=\"DejaVuSans-65\" d=\"M 3597 1894 \nL 3597 1613 \nL 953 1613 \nQ 991 1019 1311 708 \nQ 1631 397 2203 397 \nQ 2534 397 2845 478 \nQ 3156 559 3463 722 \nL 3463 178 \nQ 3153 47 2828 -22 \nQ 2503 -91 2169 -91 \nQ 1331 -91 842 396 \nQ 353 884 353 1716 \nQ 353 2575 817 3079 \nQ 1281 3584 2069 3584 \nQ 2775 3584 3186 3129 \nQ 3597 2675 3597 1894 \nz\nM 3022 2063 \nQ 3016 2534 2758 2815 \nQ 2500 3097 2075 3097 \nQ 1594 3097 1305 2825 \nQ 1016 2553 972 2059 \nL 3022 2063 \nz\n\" transform=\"scale(0.015625)\"/>\n       <path id=\"DejaVuSans-72\" d=\"M 2631 2963 \nQ 2534 3019 2420 3045 \nQ 2306 3072 2169 3072 \nQ 1681 3072 1420 2755 \nQ 1159 2438 1159 1844 \nL 1159 0 \nL 581 0 \nL 581 3500 \nL 1159 3500 \nL 1159 2956 \nQ 1341 3275 1631 3429 \nQ 1922 3584 2338 3584 \nQ 2397 3584 2469 3576 \nQ 2541 3569 2628 3553 \nL 2631 2963 \nz\n\" transform=\"scale(0.015625)\"/>\n       <path id=\"DejaVuSans-20\" transform=\"scale(0.015625)\"/>\n       <path id=\"DejaVuSans-6f\" d=\"M 1959 3097 \nQ 1497 3097 1228 2736 \nQ 959 2375 959 1747 \nQ 959 1119 1226 758 \nQ 1494 397 1959 397 \nQ 2419 397 2687 759 \nQ 2956 1122 2956 1747 \nQ 2956 2369 2687 2733 \nQ 2419 3097 1959 3097 \nz\nM 1959 3584 \nQ 2709 3584 3137 3096 \nQ 3566 2609 3566 1747 \nQ 3566 888 3137 398 \nQ 2709 -91 1959 -91 \nQ 1206 -91 779 398 \nQ 353 888 353 1747 \nQ 353 2609 779 3096 \nQ 1206 3584 1959 3584 \nz\n\" transform=\"scale(0.015625)\"/>\n       <path id=\"DejaVuSans-66\" d=\"M 2375 4863 \nL 2375 4384 \nL 1825 4384 \nQ 1516 4384 1395 4259 \nQ 1275 4134 1275 3809 \nL 1275 3500 \nL 2222 3500 \nL 2222 3053 \nL 1275 3053 \nL 1275 0 \nL 697 0 \nL 697 3053 \nL 147 3053 \nL 147 3500 \nL 697 3500 \nL 697 3744 \nQ 697 4328 969 4595 \nQ 1241 4863 1831 4863 \nL 2375 4863 \nz\n\" transform=\"scale(0.015625)\"/>\n       <path id=\"DejaVuSans-64\" d=\"M 2906 2969 \nL 2906 4863 \nL 3481 4863 \nL 3481 0 \nL 2906 0 \nL 2906 525 \nQ 2725 213 2448 61 \nQ 2172 -91 1784 -91 \nQ 1150 -91 751 415 \nQ 353 922 353 1747 \nQ 353 2572 751 3078 \nQ 1150 3584 1784 3584 \nQ 2172 3584 2448 3432 \nQ 2725 3281 2906 2969 \nz\nM 947 1747 \nQ 947 1113 1208 752 \nQ 1469 391 1925 391 \nQ 2381 391 2643 752 \nQ 2906 1113 2906 1747 \nQ 2906 2381 2643 2742 \nQ 2381 3103 1925 3103 \nQ 1469 3103 1208 2742 \nQ 947 2381 947 1747 \nz\n\" transform=\"scale(0.015625)\"/>\n       <path id=\"DejaVuSans-61\" d=\"M 2194 1759 \nQ 1497 1759 1228 1600 \nQ 959 1441 959 1056 \nQ 959 750 1161 570 \nQ 1363 391 1709 391 \nQ 2188 391 2477 730 \nQ 2766 1069 2766 1631 \nL 2766 1759 \nL 2194 1759 \nz\nM 3341 1997 \nL 3341 0 \nL 2766 0 \nL 2766 531 \nQ 2569 213 2275 61 \nQ 1981 -91 1556 -91 \nQ 1019 -91 701 211 \nQ 384 513 384 1019 \nQ 384 1609 779 1909 \nQ 1175 2209 1959 2209 \nL 2766 2209 \nL 2766 2266 \nQ 2766 2663 2505 2880 \nQ 2244 3097 1772 3097 \nQ 1472 3097 1187 3025 \nQ 903 2953 641 2809 \nL 641 3341 \nQ 956 3463 1253 3523 \nQ 1550 3584 1831 3584 \nQ 2591 3584 2966 3190 \nQ 3341 2797 3341 1997 \nz\n\" transform=\"scale(0.015625)\"/>\n       <path id=\"DejaVuSans-74\" d=\"M 1172 4494 \nL 1172 3500 \nL 2356 3500 \nL 2356 3053 \nL 1172 3053 \nL 1172 1153 \nQ 1172 725 1289 603 \nQ 1406 481 1766 481 \nL 2356 481 \nL 2356 0 \nL 1766 0 \nQ 1100 0 847 248 \nQ 594 497 594 1153 \nL 594 3053 \nL 172 3053 \nL 172 3500 \nL 594 3500 \nL 594 4494 \nL 1172 4494 \nz\n\" transform=\"scale(0.015625)\"/>\n       <path id=\"DejaVuSans-73\" d=\"M 2834 3397 \nL 2834 2853 \nQ 2591 2978 2328 3040 \nQ 2066 3103 1784 3103 \nQ 1356 3103 1142 2972 \nQ 928 2841 928 2578 \nQ 928 2378 1081 2264 \nQ 1234 2150 1697 2047 \nL 1894 2003 \nQ 2506 1872 2764 1633 \nQ 3022 1394 3022 966 \nQ 3022 478 2636 193 \nQ 2250 -91 1575 -91 \nQ 1294 -91 989 -36 \nQ 684 19 347 128 \nL 347 722 \nQ 666 556 975 473 \nQ 1284 391 1588 391 \nQ 1994 391 2212 530 \nQ 2431 669 2431 922 \nQ 2431 1156 2273 1281 \nQ 2116 1406 1581 1522 \nL 1381 1569 \nQ 847 1681 609 1914 \nQ 372 2147 372 2553 \nQ 372 3047 722 3315 \nQ 1072 3584 1716 3584 \nQ 2034 3584 2315 3537 \nQ 2597 3491 2834 3397 \nz\n\" transform=\"scale(0.015625)\"/>\n       <path id=\"DejaVuSans-70\" d=\"M 1159 525 \nL 1159 -1331 \nL 581 -1331 \nL 581 3500 \nL 1159 3500 \nL 1159 2969 \nQ 1341 3281 1617 3432 \nQ 1894 3584 2278 3584 \nQ 2916 3584 3314 3078 \nQ 3713 2572 3713 1747 \nQ 3713 922 3314 415 \nQ 2916 -91 2278 -91 \nQ 1894 -91 1617 61 \nQ 1341 213 1159 525 \nz\nM 3116 1747 \nQ 3116 2381 2855 2742 \nQ 2594 3103 2138 3103 \nQ 1681 3103 1420 2742 \nQ 1159 2381 1159 1747 \nQ 1159 1113 1420 752 \nQ 1681 391 2138 391 \nQ 2594 391 2855 752 \nQ 3116 1113 3116 1747 \nz\n\" transform=\"scale(0.015625)\"/>\n       <path id=\"DejaVuSans-6c\" d=\"M 603 4863 \nL 1178 4863 \nL 1178 0 \nL 603 0 \nL 603 4863 \nz\n\" transform=\"scale(0.015625)\"/>\n      </defs>\n      <use xlink:href=\"#DejaVuSans-4e\"/>\n      <use xlink:href=\"#DejaVuSans-75\" x=\"74.804688\"/>\n      <use xlink:href=\"#DejaVuSans-6d\" x=\"138.183594\"/>\n      <use xlink:href=\"#DejaVuSans-62\" x=\"235.595703\"/>\n      <use xlink:href=\"#DejaVuSans-65\" x=\"299.072266\"/>\n      <use xlink:href=\"#DejaVuSans-72\" x=\"360.595703\"/>\n      <use xlink:href=\"#DejaVuSans-20\" x=\"401.708984\"/>\n      <use xlink:href=\"#DejaVuSans-6f\" x=\"433.496094\"/>\n      <use xlink:href=\"#DejaVuSans-66\" x=\"494.677734\"/>\n      <use xlink:href=\"#DejaVuSans-20\" x=\"529.882812\"/>\n      <use xlink:href=\"#DejaVuSans-64\" x=\"561.669922\"/>\n      <use xlink:href=\"#DejaVuSans-61\" x=\"625.146484\"/>\n      <use xlink:href=\"#DejaVuSans-74\" x=\"686.425781\"/>\n      <use xlink:href=\"#DejaVuSans-61\" x=\"725.634766\"/>\n      <use xlink:href=\"#DejaVuSans-20\" x=\"786.914062\"/>\n      <use xlink:href=\"#DejaVuSans-73\" x=\"818.701172\"/>\n      <use xlink:href=\"#DejaVuSans-61\" x=\"870.800781\"/>\n      <use xlink:href=\"#DejaVuSans-6d\" x=\"932.080078\"/>\n      <use xlink:href=\"#DejaVuSans-70\" x=\"1029.492188\"/>\n      <use xlink:href=\"#DejaVuSans-6c\" x=\"1092.96875\"/>\n      <use xlink:href=\"#DejaVuSans-65\" x=\"1120.751953\"/>\n      <use xlink:href=\"#DejaVuSans-73\" x=\"1182.275391\"/>\n     </g>\n    </g>\n   </g>\n   <g id=\"matplotlib.axis_2\">\n    <g id=\"ytick_1\">\n     <g id=\"line2d_7\">\n      <defs>\n       <path id=\"m59546118d0\" d=\"M 0 0 \nL -10 0 \n\" style=\"stroke: #000000; stroke-width: 1.25\"/>\n      </defs>\n      <g>\n       <use xlink:href=\"#m59546118d0\" x=\"99.998946\" y=\"28.156776\" style=\"stroke: #000000; stroke-width: 1.25\"/>\n      </g>\n     </g>\n     <g id=\"text_8\">\n      <!-- White -->\n      <g transform=\"translate(66.833364 30.530337)scale(0.062475 -0.062475)\">\n       <defs>\n        <path id=\"DejaVuSans-57\" d=\"M 213 4666 \nL 850 4666 \nL 1831 722 \nL 2809 4666 \nL 3519 4666 \nL 4500 722 \nL 5478 4666 \nL 6119 4666 \nL 4947 0 \nL 4153 0 \nL 3169 4050 \nL 2175 0 \nL 1381 0 \nL 213 4666 \nz\n\" transform=\"scale(0.015625)\"/>\n        <path id=\"DejaVuSans-68\" d=\"M 3513 2113 \nL 3513 0 \nL 2938 0 \nL 2938 2094 \nQ 2938 2591 2744 2837 \nQ 2550 3084 2163 3084 \nQ 1697 3084 1428 2787 \nQ 1159 2491 1159 1978 \nL 1159 0 \nL 581 0 \nL 581 4863 \nL 1159 4863 \nL 1159 2956 \nQ 1366 3272 1645 3428 \nQ 1925 3584 2291 3584 \nQ 2894 3584 3203 3211 \nQ 3513 2838 3513 2113 \nz\n\" transform=\"scale(0.015625)\"/>\n        <path id=\"DejaVuSans-69\" d=\"M 603 3500 \nL 1178 3500 \nL 1178 0 \nL 603 0 \nL 603 3500 \nz\nM 603 4863 \nL 1178 4863 \nL 1178 4134 \nL 603 4134 \nL 603 4863 \nz\n\" transform=\"scale(0.015625)\"/>\n       </defs>\n       <use xlink:href=\"#DejaVuSans-57\"/>\n       <use xlink:href=\"#DejaVuSans-68\" x=\"98.876953\"/>\n       <use xlink:href=\"#DejaVuSans-69\" x=\"162.255859\"/>\n       <use xlink:href=\"#DejaVuSans-74\" x=\"190.039062\"/>\n       <use xlink:href=\"#DejaVuSans-65\" x=\"229.248047\"/>\n      </g>\n     </g>\n    </g>\n    <g id=\"ytick_2\">\n     <g id=\"line2d_8\">\n      <g>\n       <use xlink:href=\"#m59546118d0\" x=\"99.998946\" y=\"36.393139\" style=\"stroke: #000000; stroke-width: 1.25\"/>\n      </g>\n     </g>\n     <g id=\"text_9\">\n      <!-- Asian-Pac-Islander -->\n      <g transform=\"translate(27.689848 38.766701)scale(0.062475 -0.062475)\">\n       <defs>\n        <path id=\"DejaVuSans-41\" d=\"M 2188 4044 \nL 1331 1722 \nL 3047 1722 \nL 2188 4044 \nz\nM 1831 4666 \nL 2547 4666 \nL 4325 0 \nL 3669 0 \nL 3244 1197 \nL 1141 1197 \nL 716 0 \nL 50 0 \nL 1831 4666 \nz\n\" transform=\"scale(0.015625)\"/>\n        <path id=\"DejaVuSans-6e\" d=\"M 3513 2113 \nL 3513 0 \nL 2938 0 \nL 2938 2094 \nQ 2938 2591 2744 2837 \nQ 2550 3084 2163 3084 \nQ 1697 3084 1428 2787 \nQ 1159 2491 1159 1978 \nL 1159 0 \nL 581 0 \nL 581 3500 \nL 1159 3500 \nL 1159 2956 \nQ 1366 3272 1645 3428 \nQ 1925 3584 2291 3584 \nQ 2894 3584 3203 3211 \nQ 3513 2838 3513 2113 \nz\n\" transform=\"scale(0.015625)\"/>\n        <path id=\"DejaVuSans-2d\" d=\"M 313 2009 \nL 1997 2009 \nL 1997 1497 \nL 313 1497 \nL 313 2009 \nz\n\" transform=\"scale(0.015625)\"/>\n        <path id=\"DejaVuSans-50\" d=\"M 1259 4147 \nL 1259 2394 \nL 2053 2394 \nQ 2494 2394 2734 2622 \nQ 2975 2850 2975 3272 \nQ 2975 3691 2734 3919 \nQ 2494 4147 2053 4147 \nL 1259 4147 \nz\nM 628 4666 \nL 2053 4666 \nQ 2838 4666 3239 4311 \nQ 3641 3956 3641 3272 \nQ 3641 2581 3239 2228 \nQ 2838 1875 2053 1875 \nL 1259 1875 \nL 1259 0 \nL 628 0 \nL 628 4666 \nz\n\" transform=\"scale(0.015625)\"/>\n        <path id=\"DejaVuSans-63\" d=\"M 3122 3366 \nL 3122 2828 \nQ 2878 2963 2633 3030 \nQ 2388 3097 2138 3097 \nQ 1578 3097 1268 2742 \nQ 959 2388 959 1747 \nQ 959 1106 1268 751 \nQ 1578 397 2138 397 \nQ 2388 397 2633 464 \nQ 2878 531 3122 666 \nL 3122 134 \nQ 2881 22 2623 -34 \nQ 2366 -91 2075 -91 \nQ 1284 -91 818 406 \nQ 353 903 353 1747 \nQ 353 2603 823 3093 \nQ 1294 3584 2113 3584 \nQ 2378 3584 2631 3529 \nQ 2884 3475 3122 3366 \nz\n\" transform=\"scale(0.015625)\"/>\n        <path id=\"DejaVuSans-49\" d=\"M 628 4666 \nL 1259 4666 \nL 1259 0 \nL 628 0 \nL 628 4666 \nz\n\" transform=\"scale(0.015625)\"/>\n       </defs>\n       <use xlink:href=\"#DejaVuSans-41\"/>\n       <use xlink:href=\"#DejaVuSans-73\" x=\"68.408203\"/>\n       <use xlink:href=\"#DejaVuSans-69\" x=\"120.507812\"/>\n       <use xlink:href=\"#DejaVuSans-61\" x=\"148.291016\"/>\n       <use xlink:href=\"#DejaVuSans-6e\" x=\"209.570312\"/>\n       <use xlink:href=\"#DejaVuSans-2d\" x=\"272.949219\"/>\n       <use xlink:href=\"#DejaVuSans-50\" x=\"309.033203\"/>\n       <use xlink:href=\"#DejaVuSans-61\" x=\"364.835938\"/>\n       <use xlink:href=\"#DejaVuSans-63\" x=\"426.115234\"/>\n       <use xlink:href=\"#DejaVuSans-2d\" x=\"481.095703\"/>\n       <use xlink:href=\"#DejaVuSans-49\" x=\"517.179688\"/>\n       <use xlink:href=\"#DejaVuSans-73\" x=\"546.671875\"/>\n       <use xlink:href=\"#DejaVuSans-6c\" x=\"598.771484\"/>\n       <use xlink:href=\"#DejaVuSans-61\" x=\"626.554688\"/>\n       <use xlink:href=\"#DejaVuSans-6e\" x=\"687.833984\"/>\n       <use xlink:href=\"#DejaVuSans-64\" x=\"751.212891\"/>\n       <use xlink:href=\"#DejaVuSans-65\" x=\"814.689453\"/>\n       <use xlink:href=\"#DejaVuSans-72\" x=\"876.212891\"/>\n      </g>\n     </g>\n    </g>\n    <g id=\"ytick_3\">\n     <g id=\"line2d_9\">\n      <g>\n       <use xlink:href=\"#m59546118d0\" x=\"99.998946\" y=\"44.629503\" style=\"stroke: #000000; stroke-width: 1.25\"/>\n      </g>\n     </g>\n     <g id=\"text_10\">\n      <!-- Amer-Indian-Eskimo -->\n      <g transform=\"translate(22.361902 47.003065)scale(0.062475 -0.062475)\">\n       <defs>\n        <path id=\"DejaVuSans-45\" d=\"M 628 4666 \nL 3578 4666 \nL 3578 4134 \nL 1259 4134 \nL 1259 2753 \nL 3481 2753 \nL 3481 2222 \nL 1259 2222 \nL 1259 531 \nL 3634 531 \nL 3634 0 \nL 628 0 \nL 628 4666 \nz\n\" transform=\"scale(0.015625)\"/>\n        <path id=\"DejaVuSans-6b\" d=\"M 581 4863 \nL 1159 4863 \nL 1159 1991 \nL 2875 3500 \nL 3609 3500 \nL 1753 1863 \nL 3688 0 \nL 2938 0 \nL 1159 1709 \nL 1159 0 \nL 581 0 \nL 581 4863 \nz\n\" transform=\"scale(0.015625)\"/>\n       </defs>\n       <use xlink:href=\"#DejaVuSans-41\"/>\n       <use xlink:href=\"#DejaVuSans-6d\" x=\"68.408203\"/>\n       <use xlink:href=\"#DejaVuSans-65\" x=\"165.820312\"/>\n       <use xlink:href=\"#DejaVuSans-72\" x=\"227.34375\"/>\n       <use xlink:href=\"#DejaVuSans-2d\" x=\"262.082031\"/>\n       <use xlink:href=\"#DejaVuSans-49\" x=\"298.166016\"/>\n       <use xlink:href=\"#DejaVuSans-6e\" x=\"327.658203\"/>\n       <use xlink:href=\"#DejaVuSans-64\" x=\"391.037109\"/>\n       <use xlink:href=\"#DejaVuSans-69\" x=\"454.513672\"/>\n       <use xlink:href=\"#DejaVuSans-61\" x=\"482.296875\"/>\n       <use xlink:href=\"#DejaVuSans-6e\" x=\"543.576172\"/>\n       <use xlink:href=\"#DejaVuSans-2d\" x=\"606.955078\"/>\n       <use xlink:href=\"#DejaVuSans-45\" x=\"643.039062\"/>\n       <use xlink:href=\"#DejaVuSans-73\" x=\"706.222656\"/>\n       <use xlink:href=\"#DejaVuSans-6b\" x=\"758.322266\"/>\n       <use xlink:href=\"#DejaVuSans-69\" x=\"816.232422\"/>\n       <use xlink:href=\"#DejaVuSans-6d\" x=\"844.015625\"/>\n       <use xlink:href=\"#DejaVuSans-6f\" x=\"941.427734\"/>\n      </g>\n     </g>\n    </g>\n    <g id=\"ytick_4\">\n     <g id=\"line2d_10\">\n      <g>\n       <use xlink:href=\"#m59546118d0\" x=\"99.998946\" y=\"52.865866\" style=\"stroke: #000000; stroke-width: 1.25\"/>\n      </g>\n     </g>\n     <g id=\"text_11\">\n      <!-- Other -->\n      <g transform=\"translate(67.259951 55.239428)scale(0.062475 -0.062475)\">\n       <defs>\n        <path id=\"DejaVuSans-4f\" d=\"M 2522 4238 \nQ 1834 4238 1429 3725 \nQ 1025 3213 1025 2328 \nQ 1025 1447 1429 934 \nQ 1834 422 2522 422 \nQ 3209 422 3611 934 \nQ 4013 1447 4013 2328 \nQ 4013 3213 3611 3725 \nQ 3209 4238 2522 4238 \nz\nM 2522 4750 \nQ 3503 4750 4090 4092 \nQ 4678 3434 4678 2328 \nQ 4678 1225 4090 567 \nQ 3503 -91 2522 -91 \nQ 1538 -91 948 565 \nQ 359 1222 359 2328 \nQ 359 3434 948 4092 \nQ 1538 4750 2522 4750 \nz\n\" transform=\"scale(0.015625)\"/>\n       </defs>\n       <use xlink:href=\"#DejaVuSans-4f\"/>\n       <use xlink:href=\"#DejaVuSans-74\" x=\"78.710938\"/>\n       <use xlink:href=\"#DejaVuSans-68\" x=\"117.919922\"/>\n       <use xlink:href=\"#DejaVuSans-65\" x=\"181.298828\"/>\n       <use xlink:href=\"#DejaVuSans-72\" x=\"242.822266\"/>\n      </g>\n     </g>\n    </g>\n    <g id=\"ytick_5\">\n     <g id=\"line2d_11\">\n      <g>\n       <use xlink:href=\"#m59546118d0\" x=\"99.998946\" y=\"61.10223\" style=\"stroke: #000000; stroke-width: 1.25\"/>\n      </g>\n     </g>\n     <g id=\"text_12\">\n      <!-- Black -->\n      <g transform=\"translate(68.095554 63.475792)scale(0.062475 -0.062475)\">\n       <defs>\n        <path id=\"DejaVuSans-42\" d=\"M 1259 2228 \nL 1259 519 \nL 2272 519 \nQ 2781 519 3026 730 \nQ 3272 941 3272 1375 \nQ 3272 1813 3026 2020 \nQ 2781 2228 2272 2228 \nL 1259 2228 \nz\nM 1259 4147 \nL 1259 2741 \nL 2194 2741 \nQ 2656 2741 2882 2914 \nQ 3109 3088 3109 3444 \nQ 3109 3797 2882 3972 \nQ 2656 4147 2194 4147 \nL 1259 4147 \nz\nM 628 4666 \nL 2241 4666 \nQ 2963 4666 3353 4366 \nQ 3744 4066 3744 3513 \nQ 3744 3084 3544 2831 \nQ 3344 2578 2956 2516 \nQ 3422 2416 3680 2098 \nQ 3938 1781 3938 1306 \nQ 3938 681 3513 340 \nQ 3088 0 2303 0 \nL 628 0 \nL 628 4666 \nz\n\" transform=\"scale(0.015625)\"/>\n       </defs>\n       <use xlink:href=\"#DejaVuSans-42\"/>\n       <use xlink:href=\"#DejaVuSans-6c\" x=\"68.603516\"/>\n       <use xlink:href=\"#DejaVuSans-61\" x=\"96.386719\"/>\n       <use xlink:href=\"#DejaVuSans-63\" x=\"157.666016\"/>\n       <use xlink:href=\"#DejaVuSans-6b\" x=\"212.646484\"/>\n      </g>\n     </g>\n    </g>\n   </g>\n   <g id=\"line2d_12\">\n    <path clip-path=\"url(#p0bad7df3bf)\" style=\"fill: none; stroke: #424242; stroke-width: 3; stroke-linecap: square\"/>\n   </g>\n   <g id=\"line2d_13\">\n    <path clip-path=\"url(#p0bad7df3bf)\" style=\"fill: none; stroke: #424242; stroke-width: 3; stroke-linecap: square\"/>\n   </g>\n   <g id=\"line2d_14\">\n    <path clip-path=\"url(#p0bad7df3bf)\" style=\"fill: none; stroke: #424242; stroke-width: 3; stroke-linecap: square\"/>\n   </g>\n   <g id=\"line2d_15\">\n    <path clip-path=\"url(#p0bad7df3bf)\" style=\"fill: none; stroke: #424242; stroke-width: 3; stroke-linecap: square\"/>\n   </g>\n   <g id=\"line2d_16\">\n    <path clip-path=\"url(#p0bad7df3bf)\" style=\"fill: none; stroke: #424242; stroke-width: 3; stroke-linecap: square\"/>\n   </g>\n   <g id=\"patch_8\">\n    <path d=\"M 99.998946 65.220412 \nL 99.998946 24.038594 \n\" style=\"fill: none; stroke: #000000; stroke-width: 1.666667; stroke-linejoin: miter; stroke-linecap: square\"/>\n   </g>\n   <g id=\"patch_9\">\n    <path d=\"M 99.998946 65.220412 \nL 378.998946 65.220412 \n\" style=\"fill: none; stroke: #000000; stroke-width: 1.666667; stroke-linejoin: miter; stroke-linecap: square\"/>\n   </g>\n   <g id=\"text_13\">\n    <!-- Data balance across race subgroups -->\n    <g transform=\"translate(157.578555 14.038594)scale(0.09 -0.09)\">\n     <defs>\n      <path id=\"DejaVuSans-44\" d=\"M 1259 4147 \nL 1259 519 \nL 2022 519 \nQ 2988 519 3436 956 \nQ 3884 1394 3884 2338 \nQ 3884 3275 3436 3711 \nQ 2988 4147 2022 4147 \nL 1259 4147 \nz\nM 628 4666 \nL 1925 4666 \nQ 3281 4666 3915 4102 \nQ 4550 3538 4550 2338 \nQ 4550 1131 3912 565 \nQ 3275 0 1925 0 \nL 628 0 \nL 628 4666 \nz\n\" transform=\"scale(0.015625)\"/>\n      <path id=\"DejaVuSans-67\" d=\"M 2906 1791 \nQ 2906 2416 2648 2759 \nQ 2391 3103 1925 3103 \nQ 1463 3103 1205 2759 \nQ 947 2416 947 1791 \nQ 947 1169 1205 825 \nQ 1463 481 1925 481 \nQ 2391 481 2648 825 \nQ 2906 1169 2906 1791 \nz\nM 3481 434 \nQ 3481 -459 3084 -895 \nQ 2688 -1331 1869 -1331 \nQ 1566 -1331 1297 -1286 \nQ 1028 -1241 775 -1147 \nL 775 -588 \nQ 1028 -725 1275 -790 \nQ 1522 -856 1778 -856 \nQ 2344 -856 2625 -561 \nQ 2906 -266 2906 331 \nL 2906 616 \nQ 2728 306 2450 153 \nQ 2172 0 1784 0 \nQ 1141 0 747 490 \nQ 353 981 353 1791 \nQ 353 2603 747 3093 \nQ 1141 3584 1784 3584 \nQ 2172 3584 2450 3431 \nQ 2728 3278 2906 2969 \nL 2906 3500 \nL 3481 3500 \nL 3481 434 \nz\n\" transform=\"scale(0.015625)\"/>\n     </defs>\n     <use xlink:href=\"#DejaVuSans-44\"/>\n     <use xlink:href=\"#DejaVuSans-61\" x=\"77.001953\"/>\n     <use xlink:href=\"#DejaVuSans-74\" x=\"138.28125\"/>\n     <use xlink:href=\"#DejaVuSans-61\" x=\"177.490234\"/>\n     <use xlink:href=\"#DejaVuSans-20\" x=\"238.769531\"/>\n     <use xlink:href=\"#DejaVuSans-62\" x=\"270.556641\"/>\n     <use xlink:href=\"#DejaVuSans-61\" x=\"334.033203\"/>\n     <use xlink:href=\"#DejaVuSans-6c\" x=\"395.3125\"/>\n     <use xlink:href=\"#DejaVuSans-61\" x=\"423.095703\"/>\n     <use xlink:href=\"#DejaVuSans-6e\" x=\"484.375\"/>\n     <use xlink:href=\"#DejaVuSans-63\" x=\"547.753906\"/>\n     <use xlink:href=\"#DejaVuSans-65\" x=\"602.734375\"/>\n     <use xlink:href=\"#DejaVuSans-20\" x=\"664.257812\"/>\n     <use xlink:href=\"#DejaVuSans-61\" x=\"696.044922\"/>\n     <use xlink:href=\"#DejaVuSans-63\" x=\"757.324219\"/>\n     <use xlink:href=\"#DejaVuSans-72\" x=\"812.304688\"/>\n     <use xlink:href=\"#DejaVuSans-6f\" x=\"851.167969\"/>\n     <use xlink:href=\"#DejaVuSans-73\" x=\"912.349609\"/>\n     <use xlink:href=\"#DejaVuSans-73\" x=\"964.449219\"/>\n     <use xlink:href=\"#DejaVuSans-20\" x=\"1016.548828\"/>\n     <use xlink:href=\"#DejaVuSans-72\" x=\"1048.335938\"/>\n     <use xlink:href=\"#DejaVuSans-61\" x=\"1089.449219\"/>\n     <use xlink:href=\"#DejaVuSans-63\" x=\"1150.728516\"/>\n     <use xlink:href=\"#DejaVuSans-65\" x=\"1205.708984\"/>\n     <use xlink:href=\"#DejaVuSans-20\" x=\"1267.232422\"/>\n     <use xlink:href=\"#DejaVuSans-73\" x=\"1299.019531\"/>\n     <use xlink:href=\"#DejaVuSans-75\" x=\"1351.119141\"/>\n     <use xlink:href=\"#DejaVuSans-62\" x=\"1414.498047\"/>\n     <use xlink:href=\"#DejaVuSans-67\" x=\"1477.974609\"/>\n     <use xlink:href=\"#DejaVuSans-72\" x=\"1541.451172\"/>\n     <use xlink:href=\"#DejaVuSans-6f\" x=\"1580.314453\"/>\n     <use xlink:href=\"#DejaVuSans-75\" x=\"1641.496094\"/>\n     <use xlink:href=\"#DejaVuSans-70\" x=\"1704.875\"/>\n     <use xlink:href=\"#DejaVuSans-73\" x=\"1768.351562\"/>\n    </g>\n   </g>\n  </g>\n  <g id=\"axes_2\">\n   <g id=\"patch_10\">\n    <path d=\"M 99.998946 180.529503 \nL 378.998946 180.529503 \nL 378.998946 139.347685 \nL 99.998946 139.347685 \nz\n\" style=\"fill: #ffffff\"/>\n   </g>\n   <g id=\"patch_11\">\n    <path d=\"M 99.998946 140.171321 \nL 365.713232 140.171321 \nL 365.713232 143.465866 \nL 99.998946 143.465866 \nz\n\" clip-path=\"url(#p1d107732fa)\" style=\"fill: #441d9e\"/>\n   </g>\n   <g id=\"patch_12\">\n    <path d=\"M 99.998946 148.407685 \nL 109.002672 148.407685 \nL 109.002672 151.70223 \nL 99.998946 151.70223 \nz\n\" clip-path=\"url(#p1d107732fa)\" style=\"fill: #441d9e\"/>\n   </g>\n   <g id=\"patch_13\">\n    <path d=\"M 99.998946 156.644048 \nL 103.505807 156.644048 \nL 103.505807 159.938594 \nL 99.998946 159.938594 \nz\n\" clip-path=\"url(#p1d107732fa)\" style=\"fill: #441d9e\"/>\n   </g>\n   <g id=\"patch_14\">\n    <path d=\"M 99.998946 164.880412 \nL 102.92133 164.880412 \nL 102.92133 168.174957 \nL 99.998946 168.174957 \nz\n\" clip-path=\"url(#p1d107732fa)\" style=\"fill: #441d9e\"/>\n   </g>\n   <g id=\"patch_15\">\n    <path d=\"M 99.998946 173.116776 \nL 134.107342 173.116776 \nL 134.107342 176.411321 \nL 99.998946 176.411321 \nz\n\" clip-path=\"url(#p1d107732fa)\" style=\"fill: #441d9e\"/>\n   </g>\n   <g id=\"patch_16\">\n    <path d=\"M 99.998946 143.465866 \nL 195.171252 143.465866 \nL 195.171252 146.760412 \nL 99.998946 146.760412 \nz\n\" clip-path=\"url(#p1d107732fa)\" style=\"fill: #e03e87\"/>\n   </g>\n   <g id=\"patch_17\">\n    <path d=\"M 99.998946 151.70223 \nL 103.450142 151.70223 \nL 103.450142 154.996776 \nL 99.998946 154.996776 \nz\n\" clip-path=\"url(#p1d107732fa)\" style=\"fill: #e03e87\"/>\n   </g>\n   <g id=\"patch_18\">\n    <path d=\"M 99.998946 159.938594 \nL 100.472094 159.938594 \nL 100.472094 163.233139 \nL 99.998946 163.233139 \nz\n\" clip-path=\"url(#p1d107732fa)\" style=\"fill: #e03e87\"/>\n   </g>\n   <g id=\"patch_19\">\n    <path d=\"M 99.998946 168.174957 \nL 100.291184 168.174957 \nL 100.291184 171.469503 \nL 99.998946 171.469503 \nz\n\" clip-path=\"url(#p1d107732fa)\" style=\"fill: #e03e87\"/>\n   </g>\n   <g id=\"patch_20\">\n    <path d=\"M 99.998946 176.411321 \nL 105.092244 176.411321 \nL 105.092244 179.705866 \nL 99.998946 179.705866 \nz\n\" clip-path=\"url(#p1d107732fa)\" style=\"fill: #e03e87\"/>\n   </g>\n   <g id=\"matplotlib.axis_3\">\n    <g id=\"xtick_7\">\n     <g id=\"line2d_17\">\n      <g>\n       <use xlink:href=\"#m6bd17a76c5\" x=\"99.998946\" y=\"180.529503\" style=\"stroke: #000000; stroke-width: 1.25\"/>\n      </g>\n     </g>\n     <g id=\"text_14\">\n      <!-- 0 -->\n      <g transform=\"translate(98.01146 200.276627)scale(0.062475 -0.062475)\">\n       <use xlink:href=\"#DejaVuSans-30\"/>\n      </g>\n     </g>\n    </g>\n    <g id=\"xtick_8\">\n     <g id=\"line2d_18\">\n      <g>\n       <use xlink:href=\"#m6bd17a76c5\" x=\"134.789232\" y=\"180.529503\" style=\"stroke: #000000; stroke-width: 1.25\"/>\n      </g>\n     </g>\n     <g id=\"text_15\">\n      <!-- 2500 -->\n      <g transform=\"translate(126.839288 200.276627)scale(0.062475 -0.062475)\">\n       <use xlink:href=\"#DejaVuSans-32\"/>\n       <use xlink:href=\"#DejaVuSans-35\" x=\"63.623047\"/>\n       <use xlink:href=\"#DejaVuSans-30\" x=\"127.246094\"/>\n       <use xlink:href=\"#DejaVuSans-30\" x=\"190.869141\"/>\n      </g>\n     </g>\n    </g>\n    <g id=\"xtick_9\">\n     <g id=\"line2d_19\">\n      <g>\n       <use xlink:href=\"#m6bd17a76c5\" x=\"169.579517\" y=\"180.529503\" style=\"stroke: #000000; stroke-width: 1.25\"/>\n      </g>\n     </g>\n     <g id=\"text_16\">\n      <!-- 5000 -->\n      <g transform=\"translate(161.629574 200.276627)scale(0.062475 -0.062475)\">\n       <use xlink:href=\"#DejaVuSans-35\"/>\n       <use xlink:href=\"#DejaVuSans-30\" x=\"63.623047\"/>\n       <use xlink:href=\"#DejaVuSans-30\" x=\"127.246094\"/>\n       <use xlink:href=\"#DejaVuSans-30\" x=\"190.869141\"/>\n      </g>\n     </g>\n    </g>\n    <g id=\"xtick_10\">\n     <g id=\"line2d_20\">\n      <g>\n       <use xlink:href=\"#m6bd17a76c5\" x=\"204.369803\" y=\"180.529503\" style=\"stroke: #000000; stroke-width: 1.25\"/>\n      </g>\n     </g>\n     <g id=\"text_17\">\n      <!-- 7500 -->\n      <g transform=\"translate(196.419859 200.276627)scale(0.062475 -0.062475)\">\n       <defs>\n        <path id=\"DejaVuSans-37\" d=\"M 525 4666 \nL 3525 4666 \nL 3525 4397 \nL 1831 0 \nL 1172 0 \nL 2766 4134 \nL 525 4134 \nL 525 4666 \nz\n\" transform=\"scale(0.015625)\"/>\n       </defs>\n       <use xlink:href=\"#DejaVuSans-37\"/>\n       <use xlink:href=\"#DejaVuSans-35\" x=\"63.623047\"/>\n       <use xlink:href=\"#DejaVuSans-30\" x=\"127.246094\"/>\n       <use xlink:href=\"#DejaVuSans-30\" x=\"190.869141\"/>\n      </g>\n     </g>\n    </g>\n    <g id=\"xtick_11\">\n     <g id=\"line2d_21\">\n      <g>\n       <use xlink:href=\"#m6bd17a76c5\" x=\"239.160089\" y=\"180.529503\" style=\"stroke: #000000; stroke-width: 1.25\"/>\n      </g>\n     </g>\n     <g id=\"text_18\">\n      <!-- 10000 -->\n      <g transform=\"translate(229.222659 200.276627)scale(0.062475 -0.062475)\">\n       <use xlink:href=\"#DejaVuSans-31\"/>\n       <use xlink:href=\"#DejaVuSans-30\" x=\"63.623047\"/>\n       <use xlink:href=\"#DejaVuSans-30\" x=\"127.246094\"/>\n       <use xlink:href=\"#DejaVuSans-30\" x=\"190.869141\"/>\n       <use xlink:href=\"#DejaVuSans-30\" x=\"254.492188\"/>\n      </g>\n     </g>\n    </g>\n    <g id=\"xtick_12\">\n     <g id=\"line2d_22\">\n      <g>\n       <use xlink:href=\"#m6bd17a76c5\" x=\"273.950374\" y=\"180.529503\" style=\"stroke: #000000; stroke-width: 1.25\"/>\n      </g>\n     </g>\n     <g id=\"text_19\">\n      <!-- 12500 -->\n      <g transform=\"translate(264.012945 200.276627)scale(0.062475 -0.062475)\">\n       <use xlink:href=\"#DejaVuSans-31\"/>\n       <use xlink:href=\"#DejaVuSans-32\" x=\"63.623047\"/>\n       <use xlink:href=\"#DejaVuSans-35\" x=\"127.246094\"/>\n       <use xlink:href=\"#DejaVuSans-30\" x=\"190.869141\"/>\n       <use xlink:href=\"#DejaVuSans-30\" x=\"254.492188\"/>\n      </g>\n     </g>\n    </g>\n    <g id=\"xtick_13\">\n     <g id=\"line2d_23\">\n      <g>\n       <use xlink:href=\"#m6bd17a76c5\" x=\"308.74066\" y=\"180.529503\" style=\"stroke: #000000; stroke-width: 1.25\"/>\n      </g>\n     </g>\n     <g id=\"text_20\">\n      <!-- 15000 -->\n      <g transform=\"translate(298.80323 200.276627)scale(0.062475 -0.062475)\">\n       <use xlink:href=\"#DejaVuSans-31\"/>\n       <use xlink:href=\"#DejaVuSans-35\" x=\"63.623047\"/>\n       <use xlink:href=\"#DejaVuSans-30\" x=\"127.246094\"/>\n       <use xlink:href=\"#DejaVuSans-30\" x=\"190.869141\"/>\n       <use xlink:href=\"#DejaVuSans-30\" x=\"254.492188\"/>\n      </g>\n     </g>\n    </g>\n    <g id=\"xtick_14\">\n     <g id=\"line2d_24\">\n      <g>\n       <use xlink:href=\"#m6bd17a76c5\" x=\"343.530946\" y=\"180.529503\" style=\"stroke: #000000; stroke-width: 1.25\"/>\n      </g>\n     </g>\n     <g id=\"text_21\">\n      <!-- 17500 -->\n      <g transform=\"translate(333.593516 200.276627)scale(0.062475 -0.062475)\">\n       <use xlink:href=\"#DejaVuSans-31\"/>\n       <use xlink:href=\"#DejaVuSans-37\" x=\"63.623047\"/>\n       <use xlink:href=\"#DejaVuSans-35\" x=\"127.246094\"/>\n       <use xlink:href=\"#DejaVuSans-30\" x=\"190.869141\"/>\n       <use xlink:href=\"#DejaVuSans-30\" x=\"254.492188\"/>\n      </g>\n     </g>\n    </g>\n    <g id=\"xtick_15\">\n     <g id=\"line2d_25\">\n      <g>\n       <use xlink:href=\"#m6bd17a76c5\" x=\"378.321231\" y=\"180.529503\" style=\"stroke: #000000; stroke-width: 1.25\"/>\n      </g>\n     </g>\n     <g id=\"text_22\">\n      <!-- 20000 -->\n      <g transform=\"translate(368.383802 200.276627)scale(0.062475 -0.062475)\">\n       <use xlink:href=\"#DejaVuSans-32\"/>\n       <use xlink:href=\"#DejaVuSans-30\" x=\"63.623047\"/>\n       <use xlink:href=\"#DejaVuSans-30\" x=\"127.246094\"/>\n       <use xlink:href=\"#DejaVuSans-30\" x=\"190.869141\"/>\n       <use xlink:href=\"#DejaVuSans-30\" x=\"254.492188\"/>\n      </g>\n     </g>\n    </g>\n    <g id=\"text_23\">\n     <!-- Number of data samples -->\n     <g transform=\"translate(193.209884 214.77474)scale(0.075 -0.075)\">\n      <use xlink:href=\"#DejaVuSans-4e\"/>\n      <use xlink:href=\"#DejaVuSans-75\" x=\"74.804688\"/>\n      <use xlink:href=\"#DejaVuSans-6d\" x=\"138.183594\"/>\n      <use xlink:href=\"#DejaVuSans-62\" x=\"235.595703\"/>\n      <use xlink:href=\"#DejaVuSans-65\" x=\"299.072266\"/>\n      <use xlink:href=\"#DejaVuSans-72\" x=\"360.595703\"/>\n      <use xlink:href=\"#DejaVuSans-20\" x=\"401.708984\"/>\n      <use xlink:href=\"#DejaVuSans-6f\" x=\"433.496094\"/>\n      <use xlink:href=\"#DejaVuSans-66\" x=\"494.677734\"/>\n      <use xlink:href=\"#DejaVuSans-20\" x=\"529.882812\"/>\n      <use xlink:href=\"#DejaVuSans-64\" x=\"561.669922\"/>\n      <use xlink:href=\"#DejaVuSans-61\" x=\"625.146484\"/>\n      <use xlink:href=\"#DejaVuSans-74\" x=\"686.425781\"/>\n      <use xlink:href=\"#DejaVuSans-61\" x=\"725.634766\"/>\n      <use xlink:href=\"#DejaVuSans-20\" x=\"786.914062\"/>\n      <use xlink:href=\"#DejaVuSans-73\" x=\"818.701172\"/>\n      <use xlink:href=\"#DejaVuSans-61\" x=\"870.800781\"/>\n      <use xlink:href=\"#DejaVuSans-6d\" x=\"932.080078\"/>\n      <use xlink:href=\"#DejaVuSans-70\" x=\"1029.492188\"/>\n      <use xlink:href=\"#DejaVuSans-6c\" x=\"1092.96875\"/>\n      <use xlink:href=\"#DejaVuSans-65\" x=\"1120.751953\"/>\n      <use xlink:href=\"#DejaVuSans-73\" x=\"1182.275391\"/>\n     </g>\n    </g>\n   </g>\n   <g id=\"matplotlib.axis_4\">\n    <g id=\"ytick_6\">\n     <g id=\"line2d_26\">\n      <g>\n       <use xlink:href=\"#m59546118d0\" x=\"99.998946\" y=\"143.465866\" style=\"stroke: #000000; stroke-width: 1.25\"/>\n      </g>\n     </g>\n     <g id=\"text_24\">\n      <!-- White -->\n      <g transform=\"translate(66.833364 145.839428)scale(0.062475 -0.062475)\">\n       <use xlink:href=\"#DejaVuSans-57\"/>\n       <use xlink:href=\"#DejaVuSans-68\" x=\"98.876953\"/>\n       <use xlink:href=\"#DejaVuSans-69\" x=\"162.255859\"/>\n       <use xlink:href=\"#DejaVuSans-74\" x=\"190.039062\"/>\n       <use xlink:href=\"#DejaVuSans-65\" x=\"229.248047\"/>\n      </g>\n     </g>\n    </g>\n    <g id=\"ytick_7\">\n     <g id=\"line2d_27\">\n      <g>\n       <use xlink:href=\"#m59546118d0\" x=\"99.998946\" y=\"151.70223\" style=\"stroke: #000000; stroke-width: 1.25\"/>\n      </g>\n     </g>\n     <g id=\"text_25\">\n      <!-- Asian-Pac-Islander -->\n      <g transform=\"translate(27.689848 154.075792)scale(0.062475 -0.062475)\">\n       <use xlink:href=\"#DejaVuSans-41\"/>\n       <use xlink:href=\"#DejaVuSans-73\" x=\"68.408203\"/>\n       <use xlink:href=\"#DejaVuSans-69\" x=\"120.507812\"/>\n       <use xlink:href=\"#DejaVuSans-61\" x=\"148.291016\"/>\n       <use xlink:href=\"#DejaVuSans-6e\" x=\"209.570312\"/>\n       <use xlink:href=\"#DejaVuSans-2d\" x=\"272.949219\"/>\n       <use xlink:href=\"#DejaVuSans-50\" x=\"309.033203\"/>\n       <use xlink:href=\"#DejaVuSans-61\" x=\"364.835938\"/>\n       <use xlink:href=\"#DejaVuSans-63\" x=\"426.115234\"/>\n       <use xlink:href=\"#DejaVuSans-2d\" x=\"481.095703\"/>\n       <use xlink:href=\"#DejaVuSans-49\" x=\"517.179688\"/>\n       <use xlink:href=\"#DejaVuSans-73\" x=\"546.671875\"/>\n       <use xlink:href=\"#DejaVuSans-6c\" x=\"598.771484\"/>\n       <use xlink:href=\"#DejaVuSans-61\" x=\"626.554688\"/>\n       <use xlink:href=\"#DejaVuSans-6e\" x=\"687.833984\"/>\n       <use xlink:href=\"#DejaVuSans-64\" x=\"751.212891\"/>\n       <use xlink:href=\"#DejaVuSans-65\" x=\"814.689453\"/>\n       <use xlink:href=\"#DejaVuSans-72\" x=\"876.212891\"/>\n      </g>\n     </g>\n    </g>\n    <g id=\"ytick_8\">\n     <g id=\"line2d_28\">\n      <g>\n       <use xlink:href=\"#m59546118d0\" x=\"99.998946\" y=\"159.938594\" style=\"stroke: #000000; stroke-width: 1.25\"/>\n      </g>\n     </g>\n     <g id=\"text_26\">\n      <!-- Amer-Indian-Eskimo -->\n      <g transform=\"translate(22.361902 162.312156)scale(0.062475 -0.062475)\">\n       <use xlink:href=\"#DejaVuSans-41\"/>\n       <use xlink:href=\"#DejaVuSans-6d\" x=\"68.408203\"/>\n       <use xlink:href=\"#DejaVuSans-65\" x=\"165.820312\"/>\n       <use xlink:href=\"#DejaVuSans-72\" x=\"227.34375\"/>\n       <use xlink:href=\"#DejaVuSans-2d\" x=\"262.082031\"/>\n       <use xlink:href=\"#DejaVuSans-49\" x=\"298.166016\"/>\n       <use xlink:href=\"#DejaVuSans-6e\" x=\"327.658203\"/>\n       <use xlink:href=\"#DejaVuSans-64\" x=\"391.037109\"/>\n       <use xlink:href=\"#DejaVuSans-69\" x=\"454.513672\"/>\n       <use xlink:href=\"#DejaVuSans-61\" x=\"482.296875\"/>\n       <use xlink:href=\"#DejaVuSans-6e\" x=\"543.576172\"/>\n       <use xlink:href=\"#DejaVuSans-2d\" x=\"606.955078\"/>\n       <use xlink:href=\"#DejaVuSans-45\" x=\"643.039062\"/>\n       <use xlink:href=\"#DejaVuSans-73\" x=\"706.222656\"/>\n       <use xlink:href=\"#DejaVuSans-6b\" x=\"758.322266\"/>\n       <use xlink:href=\"#DejaVuSans-69\" x=\"816.232422\"/>\n       <use xlink:href=\"#DejaVuSans-6d\" x=\"844.015625\"/>\n       <use xlink:href=\"#DejaVuSans-6f\" x=\"941.427734\"/>\n      </g>\n     </g>\n    </g>\n    <g id=\"ytick_9\">\n     <g id=\"line2d_29\">\n      <g>\n       <use xlink:href=\"#m59546118d0\" x=\"99.998946\" y=\"168.174957\" style=\"stroke: #000000; stroke-width: 1.25\"/>\n      </g>\n     </g>\n     <g id=\"text_27\">\n      <!-- Other -->\n      <g transform=\"translate(67.259951 170.548519)scale(0.062475 -0.062475)\">\n       <use xlink:href=\"#DejaVuSans-4f\"/>\n       <use xlink:href=\"#DejaVuSans-74\" x=\"78.710938\"/>\n       <use xlink:href=\"#DejaVuSans-68\" x=\"117.919922\"/>\n       <use xlink:href=\"#DejaVuSans-65\" x=\"181.298828\"/>\n       <use xlink:href=\"#DejaVuSans-72\" x=\"242.822266\"/>\n      </g>\n     </g>\n    </g>\n    <g id=\"ytick_10\">\n     <g id=\"line2d_30\">\n      <g>\n       <use xlink:href=\"#m59546118d0\" x=\"99.998946\" y=\"176.411321\" style=\"stroke: #000000; stroke-width: 1.25\"/>\n      </g>\n     </g>\n     <g id=\"text_28\">\n      <!-- Black -->\n      <g transform=\"translate(68.095554 178.784883)scale(0.062475 -0.062475)\">\n       <use xlink:href=\"#DejaVuSans-42\"/>\n       <use xlink:href=\"#DejaVuSans-6c\" x=\"68.603516\"/>\n       <use xlink:href=\"#DejaVuSans-61\" x=\"96.386719\"/>\n       <use xlink:href=\"#DejaVuSans-63\" x=\"157.666016\"/>\n       <use xlink:href=\"#DejaVuSans-6b\" x=\"212.646484\"/>\n      </g>\n     </g>\n    </g>\n   </g>\n   <g id=\"line2d_31\">\n    <path clip-path=\"url(#p1d107732fa)\" style=\"fill: none; stroke: #424242; stroke-width: 3; stroke-linecap: square\"/>\n   </g>\n   <g id=\"line2d_32\">\n    <path clip-path=\"url(#p1d107732fa)\" style=\"fill: none; stroke: #424242; stroke-width: 3; stroke-linecap: square\"/>\n   </g>\n   <g id=\"line2d_33\">\n    <path clip-path=\"url(#p1d107732fa)\" style=\"fill: none; stroke: #424242; stroke-width: 3; stroke-linecap: square\"/>\n   </g>\n   <g id=\"line2d_34\">\n    <path clip-path=\"url(#p1d107732fa)\" style=\"fill: none; stroke: #424242; stroke-width: 3; stroke-linecap: square\"/>\n   </g>\n   <g id=\"line2d_35\">\n    <path clip-path=\"url(#p1d107732fa)\" style=\"fill: none; stroke: #424242; stroke-width: 3; stroke-linecap: square\"/>\n   </g>\n   <g id=\"line2d_36\">\n    <path clip-path=\"url(#p1d107732fa)\" style=\"fill: none; stroke: #424242; stroke-width: 3; stroke-linecap: square\"/>\n   </g>\n   <g id=\"line2d_37\">\n    <path clip-path=\"url(#p1d107732fa)\" style=\"fill: none; stroke: #424242; stroke-width: 3; stroke-linecap: square\"/>\n   </g>\n   <g id=\"line2d_38\">\n    <path clip-path=\"url(#p1d107732fa)\" style=\"fill: none; stroke: #424242; stroke-width: 3; stroke-linecap: square\"/>\n   </g>\n   <g id=\"line2d_39\">\n    <path clip-path=\"url(#p1d107732fa)\" style=\"fill: none; stroke: #424242; stroke-width: 3; stroke-linecap: square\"/>\n   </g>\n   <g id=\"line2d_40\">\n    <path clip-path=\"url(#p1d107732fa)\" style=\"fill: none; stroke: #424242; stroke-width: 3; stroke-linecap: square\"/>\n   </g>\n   <g id=\"patch_21\">\n    <path d=\"M 99.998946 180.529503 \nL 99.998946 139.347685 \n\" style=\"fill: none; stroke: #000000; stroke-width: 1.666667; stroke-linejoin: miter; stroke-linecap: square\"/>\n   </g>\n   <g id=\"patch_22\">\n    <path d=\"M 99.998946 180.529503 \nL 378.998946 180.529503 \n\" style=\"fill: none; stroke: #000000; stroke-width: 1.666667; stroke-linejoin: miter; stroke-linecap: square\"/>\n   </g>\n   <g id=\"text_29\">\n    <!-- Data balance across race subgroups and label values -->\n    <g transform=\"translate(119.301837 129.347685)scale(0.09 -0.09)\">\n     <defs>\n      <path id=\"DejaVuSans-76\" d=\"M 191 3500 \nL 800 3500 \nL 1894 563 \nL 2988 3500 \nL 3597 3500 \nL 2284 0 \nL 1503 0 \nL 191 3500 \nz\n\" transform=\"scale(0.015625)\"/>\n     </defs>\n     <use xlink:href=\"#DejaVuSans-44\"/>\n     <use xlink:href=\"#DejaVuSans-61\" x=\"77.001953\"/>\n     <use xlink:href=\"#DejaVuSans-74\" x=\"138.28125\"/>\n     <use xlink:href=\"#DejaVuSans-61\" x=\"177.490234\"/>\n     <use xlink:href=\"#DejaVuSans-20\" x=\"238.769531\"/>\n     <use xlink:href=\"#DejaVuSans-62\" x=\"270.556641\"/>\n     <use xlink:href=\"#DejaVuSans-61\" x=\"334.033203\"/>\n     <use xlink:href=\"#DejaVuSans-6c\" x=\"395.3125\"/>\n     <use xlink:href=\"#DejaVuSans-61\" x=\"423.095703\"/>\n     <use xlink:href=\"#DejaVuSans-6e\" x=\"484.375\"/>\n     <use xlink:href=\"#DejaVuSans-63\" x=\"547.753906\"/>\n     <use xlink:href=\"#DejaVuSans-65\" x=\"602.734375\"/>\n     <use xlink:href=\"#DejaVuSans-20\" x=\"664.257812\"/>\n     <use xlink:href=\"#DejaVuSans-61\" x=\"696.044922\"/>\n     <use xlink:href=\"#DejaVuSans-63\" x=\"757.324219\"/>\n     <use xlink:href=\"#DejaVuSans-72\" x=\"812.304688\"/>\n     <use xlink:href=\"#DejaVuSans-6f\" x=\"851.167969\"/>\n     <use xlink:href=\"#DejaVuSans-73\" x=\"912.349609\"/>\n     <use xlink:href=\"#DejaVuSans-73\" x=\"964.449219\"/>\n     <use xlink:href=\"#DejaVuSans-20\" x=\"1016.548828\"/>\n     <use xlink:href=\"#DejaVuSans-72\" x=\"1048.335938\"/>\n     <use xlink:href=\"#DejaVuSans-61\" x=\"1089.449219\"/>\n     <use xlink:href=\"#DejaVuSans-63\" x=\"1150.728516\"/>\n     <use xlink:href=\"#DejaVuSans-65\" x=\"1205.708984\"/>\n     <use xlink:href=\"#DejaVuSans-20\" x=\"1267.232422\"/>\n     <use xlink:href=\"#DejaVuSans-73\" x=\"1299.019531\"/>\n     <use xlink:href=\"#DejaVuSans-75\" x=\"1351.119141\"/>\n     <use xlink:href=\"#DejaVuSans-62\" x=\"1414.498047\"/>\n     <use xlink:href=\"#DejaVuSans-67\" x=\"1477.974609\"/>\n     <use xlink:href=\"#DejaVuSans-72\" x=\"1541.451172\"/>\n     <use xlink:href=\"#DejaVuSans-6f\" x=\"1580.314453\"/>\n     <use xlink:href=\"#DejaVuSans-75\" x=\"1641.496094\"/>\n     <use xlink:href=\"#DejaVuSans-70\" x=\"1704.875\"/>\n     <use xlink:href=\"#DejaVuSans-73\" x=\"1768.351562\"/>\n     <use xlink:href=\"#DejaVuSans-20\" x=\"1820.451172\"/>\n     <use xlink:href=\"#DejaVuSans-61\" x=\"1852.238281\"/>\n     <use xlink:href=\"#DejaVuSans-6e\" x=\"1913.517578\"/>\n     <use xlink:href=\"#DejaVuSans-64\" x=\"1976.896484\"/>\n     <use xlink:href=\"#DejaVuSans-20\" x=\"2040.373047\"/>\n     <use xlink:href=\"#DejaVuSans-6c\" x=\"2072.160156\"/>\n     <use xlink:href=\"#DejaVuSans-61\" x=\"2099.943359\"/>\n     <use xlink:href=\"#DejaVuSans-62\" x=\"2161.222656\"/>\n     <use xlink:href=\"#DejaVuSans-65\" x=\"2224.699219\"/>\n     <use xlink:href=\"#DejaVuSans-6c\" x=\"2286.222656\"/>\n     <use xlink:href=\"#DejaVuSans-20\" x=\"2314.005859\"/>\n     <use xlink:href=\"#DejaVuSans-76\" x=\"2345.792969\"/>\n     <use xlink:href=\"#DejaVuSans-61\" x=\"2404.972656\"/>\n     <use xlink:href=\"#DejaVuSans-6c\" x=\"2466.251953\"/>\n     <use xlink:href=\"#DejaVuSans-75\" x=\"2494.035156\"/>\n     <use xlink:href=\"#DejaVuSans-65\" x=\"2557.414062\"/>\n     <use xlink:href=\"#DejaVuSans-73\" x=\"2618.9375\"/>\n    </g>\n   </g>\n  </g>\n  <g id=\"axes_3\">\n   <g id=\"patch_23\">\n    <path d=\"M 99.998946 295.838594 \nL 378.998946 295.838594 \nL 378.998946 254.656776 \nL 99.998946 254.656776 \nz\n\" style=\"fill: #ffffff\"/>\n   </g>\n   <g id=\"patch_24\">\n    <path d=\"M 99.998946 258.774957 \nL 365.713232 258.774957 \nL 365.713232 275.247685 \nL 99.998946 275.247685 \nz\n\" clip-path=\"url(#p750bf649fa)\" style=\"fill: #441d9e\"/>\n   </g>\n   <g id=\"patch_25\">\n    <path d=\"M 99.998946 275.247685 \nL 209.62648 275.247685 \nL 209.62648 291.720412 \nL 99.998946 291.720412 \nz\n\" clip-path=\"url(#p750bf649fa)\" style=\"fill: #e03e87\"/>\n   </g>\n   <g id=\"matplotlib.axis_5\">\n    <g id=\"xtick_16\">\n     <g id=\"line2d_41\">\n      <g>\n       <use xlink:href=\"#m6bd17a76c5\" x=\"99.998946\" y=\"295.838594\" style=\"stroke: #000000; stroke-width: 1.25\"/>\n      </g>\n     </g>\n     <g id=\"text_30\">\n      <!-- 0.0 -->\n      <g transform=\"translate(95.031207 315.585718)scale(0.062475 -0.062475)\">\n       <defs>\n        <path id=\"DejaVuSans-2e\" d=\"M 684 794 \nL 1344 794 \nL 1344 0 \nL 684 0 \nL 684 794 \nz\n\" transform=\"scale(0.015625)\"/>\n       </defs>\n       <use xlink:href=\"#DejaVuSans-30\"/>\n       <use xlink:href=\"#DejaVuSans-2e\" x=\"63.623047\"/>\n       <use xlink:href=\"#DejaVuSans-30\" x=\"95.410156\"/>\n      </g>\n     </g>\n    </g>\n    <g id=\"xtick_17\">\n     <g id=\"line2d_42\">\n      <g>\n       <use xlink:href=\"#m6bd17a76c5\" x=\"133.413908\" y=\"295.838594\" style=\"stroke: #000000; stroke-width: 1.25\"/>\n      </g>\n     </g>\n     <g id=\"text_31\">\n      <!-- 0.1 -->\n      <g transform=\"translate(128.44617 315.585718)scale(0.062475 -0.062475)\">\n       <use xlink:href=\"#DejaVuSans-30\"/>\n       <use xlink:href=\"#DejaVuSans-2e\" x=\"63.623047\"/>\n       <use xlink:href=\"#DejaVuSans-31\" x=\"95.410156\"/>\n      </g>\n     </g>\n    </g>\n    <g id=\"xtick_18\">\n     <g id=\"line2d_43\">\n      <g>\n       <use xlink:href=\"#m6bd17a76c5\" x=\"166.82887\" y=\"295.838594\" style=\"stroke: #000000; stroke-width: 1.25\"/>\n      </g>\n     </g>\n     <g id=\"text_32\">\n      <!-- 0.2 -->\n      <g transform=\"translate(161.861132 315.585718)scale(0.062475 -0.062475)\">\n       <use xlink:href=\"#DejaVuSans-30\"/>\n       <use xlink:href=\"#DejaVuSans-2e\" x=\"63.623047\"/>\n       <use xlink:href=\"#DejaVuSans-32\" x=\"95.410156\"/>\n      </g>\n     </g>\n    </g>\n    <g id=\"xtick_19\">\n     <g id=\"line2d_44\">\n      <g>\n       <use xlink:href=\"#m6bd17a76c5\" x=\"200.243833\" y=\"295.838594\" style=\"stroke: #000000; stroke-width: 1.25\"/>\n      </g>\n     </g>\n     <g id=\"text_33\">\n      <!-- 0.3 -->\n      <g transform=\"translate(195.276094 315.585718)scale(0.062475 -0.062475)\">\n       <defs>\n        <path id=\"DejaVuSans-33\" d=\"M 2597 2516 \nQ 3050 2419 3304 2112 \nQ 3559 1806 3559 1356 \nQ 3559 666 3084 287 \nQ 2609 -91 1734 -91 \nQ 1441 -91 1130 -33 \nQ 819 25 488 141 \nL 488 750 \nQ 750 597 1062 519 \nQ 1375 441 1716 441 \nQ 2309 441 2620 675 \nQ 2931 909 2931 1356 \nQ 2931 1769 2642 2001 \nQ 2353 2234 1838 2234 \nL 1294 2234 \nL 1294 2753 \nL 1863 2753 \nQ 2328 2753 2575 2939 \nQ 2822 3125 2822 3475 \nQ 2822 3834 2567 4026 \nQ 2313 4219 1838 4219 \nQ 1578 4219 1281 4162 \nQ 984 4106 628 3988 \nL 628 4550 \nQ 988 4650 1302 4700 \nQ 1616 4750 1894 4750 \nQ 2613 4750 3031 4423 \nQ 3450 4097 3450 3541 \nQ 3450 3153 3228 2886 \nQ 3006 2619 2597 2516 \nz\n\" transform=\"scale(0.015625)\"/>\n       </defs>\n       <use xlink:href=\"#DejaVuSans-30\"/>\n       <use xlink:href=\"#DejaVuSans-2e\" x=\"63.623047\"/>\n       <use xlink:href=\"#DejaVuSans-33\" x=\"95.410156\"/>\n      </g>\n     </g>\n    </g>\n    <g id=\"xtick_20\">\n     <g id=\"line2d_45\">\n      <g>\n       <use xlink:href=\"#m6bd17a76c5\" x=\"233.658795\" y=\"295.838594\" style=\"stroke: #000000; stroke-width: 1.25\"/>\n      </g>\n     </g>\n     <g id=\"text_34\">\n      <!-- 0.4 -->\n      <g transform=\"translate(228.691056 315.585718)scale(0.062475 -0.062475)\">\n       <defs>\n        <path id=\"DejaVuSans-34\" d=\"M 2419 4116 \nL 825 1625 \nL 2419 1625 \nL 2419 4116 \nz\nM 2253 4666 \nL 3047 4666 \nL 3047 1625 \nL 3713 1625 \nL 3713 1100 \nL 3047 1100 \nL 3047 0 \nL 2419 0 \nL 2419 1100 \nL 313 1100 \nL 313 1709 \nL 2253 4666 \nz\n\" transform=\"scale(0.015625)\"/>\n       </defs>\n       <use xlink:href=\"#DejaVuSans-30\"/>\n       <use xlink:href=\"#DejaVuSans-2e\" x=\"63.623047\"/>\n       <use xlink:href=\"#DejaVuSans-34\" x=\"95.410156\"/>\n      </g>\n     </g>\n    </g>\n    <g id=\"xtick_21\">\n     <g id=\"line2d_46\">\n      <g>\n       <use xlink:href=\"#m6bd17a76c5\" x=\"267.073757\" y=\"295.838594\" style=\"stroke: #000000; stroke-width: 1.25\"/>\n      </g>\n     </g>\n     <g id=\"text_35\">\n      <!-- 0.5 -->\n      <g transform=\"translate(262.106018 315.585718)scale(0.062475 -0.062475)\">\n       <use xlink:href=\"#DejaVuSans-30\"/>\n       <use xlink:href=\"#DejaVuSans-2e\" x=\"63.623047\"/>\n       <use xlink:href=\"#DejaVuSans-35\" x=\"95.410156\"/>\n      </g>\n     </g>\n    </g>\n    <g id=\"xtick_22\">\n     <g id=\"line2d_47\">\n      <g>\n       <use xlink:href=\"#m6bd17a76c5\" x=\"300.488719\" y=\"295.838594\" style=\"stroke: #000000; stroke-width: 1.25\"/>\n      </g>\n     </g>\n     <g id=\"text_36\">\n      <!-- 0.6 -->\n      <g transform=\"translate(295.52098 315.585718)scale(0.062475 -0.062475)\">\n       <defs>\n        <path id=\"DejaVuSans-36\" d=\"M 2113 2584 \nQ 1688 2584 1439 2293 \nQ 1191 2003 1191 1497 \nQ 1191 994 1439 701 \nQ 1688 409 2113 409 \nQ 2538 409 2786 701 \nQ 3034 994 3034 1497 \nQ 3034 2003 2786 2293 \nQ 2538 2584 2113 2584 \nz\nM 3366 4563 \nL 3366 3988 \nQ 3128 4100 2886 4159 \nQ 2644 4219 2406 4219 \nQ 1781 4219 1451 3797 \nQ 1122 3375 1075 2522 \nQ 1259 2794 1537 2939 \nQ 1816 3084 2150 3084 \nQ 2853 3084 3261 2657 \nQ 3669 2231 3669 1497 \nQ 3669 778 3244 343 \nQ 2819 -91 2113 -91 \nQ 1303 -91 875 529 \nQ 447 1150 447 2328 \nQ 447 3434 972 4092 \nQ 1497 4750 2381 4750 \nQ 2619 4750 2861 4703 \nQ 3103 4656 3366 4563 \nz\n\" transform=\"scale(0.015625)\"/>\n       </defs>\n       <use xlink:href=\"#DejaVuSans-30\"/>\n       <use xlink:href=\"#DejaVuSans-2e\" x=\"63.623047\"/>\n       <use xlink:href=\"#DejaVuSans-36\" x=\"95.410156\"/>\n      </g>\n     </g>\n    </g>\n    <g id=\"xtick_23\">\n     <g id=\"line2d_48\">\n      <g>\n       <use xlink:href=\"#m6bd17a76c5\" x=\"333.903681\" y=\"295.838594\" style=\"stroke: #000000; stroke-width: 1.25\"/>\n      </g>\n     </g>\n     <g id=\"text_37\">\n      <!-- 0.7 -->\n      <g transform=\"translate(328.935943 315.585718)scale(0.062475 -0.062475)\">\n       <use xlink:href=\"#DejaVuSans-30\"/>\n       <use xlink:href=\"#DejaVuSans-2e\" x=\"63.623047\"/>\n       <use xlink:href=\"#DejaVuSans-37\" x=\"95.410156\"/>\n      </g>\n     </g>\n    </g>\n    <g id=\"xtick_24\">\n     <g id=\"line2d_49\">\n      <g>\n       <use xlink:href=\"#m6bd17a76c5\" x=\"367.318643\" y=\"295.838594\" style=\"stroke: #000000; stroke-width: 1.25\"/>\n      </g>\n     </g>\n     <g id=\"text_38\">\n      <!-- 0.8 -->\n      <g transform=\"translate(362.350905 315.585718)scale(0.062475 -0.062475)\">\n       <defs>\n        <path id=\"DejaVuSans-38\" d=\"M 2034 2216 \nQ 1584 2216 1326 1975 \nQ 1069 1734 1069 1313 \nQ 1069 891 1326 650 \nQ 1584 409 2034 409 \nQ 2484 409 2743 651 \nQ 3003 894 3003 1313 \nQ 3003 1734 2745 1975 \nQ 2488 2216 2034 2216 \nz\nM 1403 2484 \nQ 997 2584 770 2862 \nQ 544 3141 544 3541 \nQ 544 4100 942 4425 \nQ 1341 4750 2034 4750 \nQ 2731 4750 3128 4425 \nQ 3525 4100 3525 3541 \nQ 3525 3141 3298 2862 \nQ 3072 2584 2669 2484 \nQ 3125 2378 3379 2068 \nQ 3634 1759 3634 1313 \nQ 3634 634 3220 271 \nQ 2806 -91 2034 -91 \nQ 1263 -91 848 271 \nQ 434 634 434 1313 \nQ 434 1759 690 2068 \nQ 947 2378 1403 2484 \nz\nM 1172 3481 \nQ 1172 3119 1398 2916 \nQ 1625 2713 2034 2713 \nQ 2441 2713 2670 2916 \nQ 2900 3119 2900 3481 \nQ 2900 3844 2670 4047 \nQ 2441 4250 2034 4250 \nQ 1625 4250 1398 4047 \nQ 1172 3844 1172 3481 \nz\n\" transform=\"scale(0.015625)\"/>\n       </defs>\n       <use xlink:href=\"#DejaVuSans-30\"/>\n       <use xlink:href=\"#DejaVuSans-2e\" x=\"63.623047\"/>\n       <use xlink:href=\"#DejaVuSans-38\" x=\"95.410156\"/>\n      </g>\n     </g>\n    </g>\n    <g id=\"text_39\">\n     <!-- Value -->\n     <g transform=\"translate(229.200509 330.08383)scale(0.075 -0.075)\">\n      <defs>\n       <path id=\"DejaVuSans-56\" d=\"M 1831 0 \nL 50 4666 \nL 709 4666 \nL 2188 738 \nL 3669 4666 \nL 4325 4666 \nL 2547 0 \nL 1831 0 \nz\n\" transform=\"scale(0.015625)\"/>\n      </defs>\n      <use xlink:href=\"#DejaVuSans-56\"/>\n      <use xlink:href=\"#DejaVuSans-61\" x=\"60.658203\"/>\n      <use xlink:href=\"#DejaVuSans-6c\" x=\"121.9375\"/>\n      <use xlink:href=\"#DejaVuSans-75\" x=\"149.720703\"/>\n      <use xlink:href=\"#DejaVuSans-65\" x=\"213.099609\"/>\n     </g>\n    </g>\n   </g>\n   <g id=\"matplotlib.axis_6\">\n    <g id=\"ytick_11\">\n     <g id=\"line2d_50\">\n      <g>\n       <use xlink:href=\"#m59546118d0\" x=\"99.998946\" y=\"275.247685\" style=\"stroke: #000000; stroke-width: 1.25\"/>\n      </g>\n     </g>\n     <g id=\"text_40\">\n      <!-- demographic parity ratio -->\n      <g transform=\"translate(7.2 277.621247)scale(0.062475 -0.062475)\">\n       <defs>\n        <path id=\"DejaVuSans-79\" d=\"M 2059 -325 \nQ 1816 -950 1584 -1140 \nQ 1353 -1331 966 -1331 \nL 506 -1331 \nL 506 -850 \nL 844 -850 \nQ 1081 -850 1212 -737 \nQ 1344 -625 1503 -206 \nL 1606 56 \nL 191 3500 \nL 800 3500 \nL 1894 763 \nL 2988 3500 \nL 3597 3500 \nL 2059 -325 \nz\n\" transform=\"scale(0.015625)\"/>\n       </defs>\n       <use xlink:href=\"#DejaVuSans-64\"/>\n       <use xlink:href=\"#DejaVuSans-65\" x=\"63.476562\"/>\n       <use xlink:href=\"#DejaVuSans-6d\" x=\"125\"/>\n       <use xlink:href=\"#DejaVuSans-6f\" x=\"222.412109\"/>\n       <use xlink:href=\"#DejaVuSans-67\" x=\"283.59375\"/>\n       <use xlink:href=\"#DejaVuSans-72\" x=\"347.070312\"/>\n       <use xlink:href=\"#DejaVuSans-61\" x=\"388.183594\"/>\n       <use xlink:href=\"#DejaVuSans-70\" x=\"449.462891\"/>\n       <use xlink:href=\"#DejaVuSans-68\" x=\"512.939453\"/>\n       <use xlink:href=\"#DejaVuSans-69\" x=\"576.318359\"/>\n       <use xlink:href=\"#DejaVuSans-63\" x=\"604.101562\"/>\n       <use xlink:href=\"#DejaVuSans-20\" x=\"659.082031\"/>\n       <use xlink:href=\"#DejaVuSans-70\" x=\"690.869141\"/>\n       <use xlink:href=\"#DejaVuSans-61\" x=\"754.345703\"/>\n       <use xlink:href=\"#DejaVuSans-72\" x=\"815.625\"/>\n       <use xlink:href=\"#DejaVuSans-69\" x=\"856.738281\"/>\n       <use xlink:href=\"#DejaVuSans-74\" x=\"884.521484\"/>\n       <use xlink:href=\"#DejaVuSans-79\" x=\"923.730469\"/>\n       <use xlink:href=\"#DejaVuSans-20\" x=\"982.910156\"/>\n       <use xlink:href=\"#DejaVuSans-72\" x=\"1014.697266\"/>\n       <use xlink:href=\"#DejaVuSans-61\" x=\"1055.810547\"/>\n       <use xlink:href=\"#DejaVuSans-74\" x=\"1117.089844\"/>\n       <use xlink:href=\"#DejaVuSans-69\" x=\"1156.298828\"/>\n       <use xlink:href=\"#DejaVuSans-6f\" x=\"1184.082031\"/>\n      </g>\n     </g>\n    </g>\n   </g>\n   <g id=\"line2d_51\">\n    <path clip-path=\"url(#p750bf649fa)\" style=\"fill: none; stroke: #424242; stroke-width: 3; stroke-linecap: square\"/>\n   </g>\n   <g id=\"line2d_52\">\n    <path clip-path=\"url(#p750bf649fa)\" style=\"fill: none; stroke: #424242; stroke-width: 3; stroke-linecap: square\"/>\n   </g>\n   <g id=\"patch_26\">\n    <path d=\"M 99.998946 295.838594 \nL 99.998946 254.656776 \n\" style=\"fill: none; stroke: #000000; stroke-width: 1.666667; stroke-linejoin: miter; stroke-linecap: square\"/>\n   </g>\n   <g id=\"patch_27\">\n    <path d=\"M 99.998946 295.838594 \nL 378.998946 295.838594 \n\" style=\"fill: none; stroke: #000000; stroke-width: 1.666667; stroke-linejoin: miter; stroke-linecap: square\"/>\n   </g>\n   <g id=\"text_41\">\n    <!-- Parity metrics for different preferred label value possibilities -->\n    <g transform=\"translate(104.159337 244.656776)scale(0.09 -0.09)\">\n     <use xlink:href=\"#DejaVuSans-50\"/>\n     <use xlink:href=\"#DejaVuSans-61\" x=\"55.802734\"/>\n     <use xlink:href=\"#DejaVuSans-72\" x=\"117.082031\"/>\n     <use xlink:href=\"#DejaVuSans-69\" x=\"158.195312\"/>\n     <use xlink:href=\"#DejaVuSans-74\" x=\"185.978516\"/>\n     <use xlink:href=\"#DejaVuSans-79\" x=\"225.1875\"/>\n     <use xlink:href=\"#DejaVuSans-20\" x=\"284.367188\"/>\n     <use xlink:href=\"#DejaVuSans-6d\" x=\"316.154297\"/>\n     <use xlink:href=\"#DejaVuSans-65\" x=\"413.566406\"/>\n     <use xlink:href=\"#DejaVuSans-74\" x=\"475.089844\"/>\n     <use xlink:href=\"#DejaVuSans-72\" x=\"514.298828\"/>\n     <use xlink:href=\"#DejaVuSans-69\" x=\"555.412109\"/>\n     <use xlink:href=\"#DejaVuSans-63\" x=\"583.195312\"/>\n     <use xlink:href=\"#DejaVuSans-73\" x=\"638.175781\"/>\n     <use xlink:href=\"#DejaVuSans-20\" x=\"690.275391\"/>\n     <use xlink:href=\"#DejaVuSans-66\" x=\"722.0625\"/>\n     <use xlink:href=\"#DejaVuSans-6f\" x=\"757.267578\"/>\n     <use xlink:href=\"#DejaVuSans-72\" x=\"818.449219\"/>\n     <use xlink:href=\"#DejaVuSans-20\" x=\"859.5625\"/>\n     <use xlink:href=\"#DejaVuSans-64\" x=\"891.349609\"/>\n     <use xlink:href=\"#DejaVuSans-69\" x=\"954.826172\"/>\n     <use xlink:href=\"#DejaVuSans-66\" x=\"982.609375\"/>\n     <use xlink:href=\"#DejaVuSans-66\" x=\"1017.814453\"/>\n     <use xlink:href=\"#DejaVuSans-65\" x=\"1053.019531\"/>\n     <use xlink:href=\"#DejaVuSans-72\" x=\"1114.542969\"/>\n     <use xlink:href=\"#DejaVuSans-65\" x=\"1153.40625\"/>\n     <use xlink:href=\"#DejaVuSans-6e\" x=\"1214.929688\"/>\n     <use xlink:href=\"#DejaVuSans-74\" x=\"1278.308594\"/>\n     <use xlink:href=\"#DejaVuSans-20\" x=\"1317.517578\"/>\n     <use xlink:href=\"#DejaVuSans-70\" x=\"1349.304688\"/>\n     <use xlink:href=\"#DejaVuSans-72\" x=\"1412.78125\"/>\n     <use xlink:href=\"#DejaVuSans-65\" x=\"1451.644531\"/>\n     <use xlink:href=\"#DejaVuSans-66\" x=\"1513.167969\"/>\n     <use xlink:href=\"#DejaVuSans-65\" x=\"1548.373047\"/>\n     <use xlink:href=\"#DejaVuSans-72\" x=\"1609.896484\"/>\n     <use xlink:href=\"#DejaVuSans-72\" x=\"1649.259766\"/>\n     <use xlink:href=\"#DejaVuSans-65\" x=\"1688.123047\"/>\n     <use xlink:href=\"#DejaVuSans-64\" x=\"1749.646484\"/>\n     <use xlink:href=\"#DejaVuSans-20\" x=\"1813.123047\"/>\n     <use xlink:href=\"#DejaVuSans-6c\" x=\"1844.910156\"/>\n     <use xlink:href=\"#DejaVuSans-61\" x=\"1872.693359\"/>\n     <use xlink:href=\"#DejaVuSans-62\" x=\"1933.972656\"/>\n     <use xlink:href=\"#DejaVuSans-65\" x=\"1997.449219\"/>\n     <use xlink:href=\"#DejaVuSans-6c\" x=\"2058.972656\"/>\n     <use xlink:href=\"#DejaVuSans-20\" x=\"2086.755859\"/>\n     <use xlink:href=\"#DejaVuSans-76\" x=\"2118.542969\"/>\n     <use xlink:href=\"#DejaVuSans-61\" x=\"2177.722656\"/>\n     <use xlink:href=\"#DejaVuSans-6c\" x=\"2239.001953\"/>\n     <use xlink:href=\"#DejaVuSans-75\" x=\"2266.785156\"/>\n     <use xlink:href=\"#DejaVuSans-65\" x=\"2330.164062\"/>\n     <use xlink:href=\"#DejaVuSans-20\" x=\"2391.6875\"/>\n     <use xlink:href=\"#DejaVuSans-70\" x=\"2423.474609\"/>\n     <use xlink:href=\"#DejaVuSans-6f\" x=\"2486.951172\"/>\n     <use xlink:href=\"#DejaVuSans-73\" x=\"2548.132812\"/>\n     <use xlink:href=\"#DejaVuSans-73\" x=\"2600.232422\"/>\n     <use xlink:href=\"#DejaVuSans-69\" x=\"2652.332031\"/>\n     <use xlink:href=\"#DejaVuSans-62\" x=\"2680.115234\"/>\n     <use xlink:href=\"#DejaVuSans-69\" x=\"2743.591797\"/>\n     <use xlink:href=\"#DejaVuSans-6c\" x=\"2771.375\"/>\n     <use xlink:href=\"#DejaVuSans-69\" x=\"2799.158203\"/>\n     <use xlink:href=\"#DejaVuSans-74\" x=\"2826.941406\"/>\n     <use xlink:href=\"#DejaVuSans-69\" x=\"2866.150391\"/>\n     <use xlink:href=\"#DejaVuSans-65\" x=\"2893.933594\"/>\n     <use xlink:href=\"#DejaVuSans-73\" x=\"2955.457031\"/>\n    </g>\n   </g>\n   <g id=\"legend_1\">\n    <g id=\"text_42\">\n     <!-- target -->\n     <g transform=\"translate(426.88572 273.496951)scale(0.05205 -0.05205)\">\n      <use xlink:href=\"#DejaVuSans-74\"/>\n      <use xlink:href=\"#DejaVuSans-61\" x=\"39.208984\"/>\n      <use xlink:href=\"#DejaVuSans-72\" x=\"100.488281\"/>\n      <use xlink:href=\"#DejaVuSans-67\" x=\"139.851562\"/>\n      <use xlink:href=\"#DejaVuSans-65\" x=\"203.328125\"/>\n      <use xlink:href=\"#DejaVuSans-74\" x=\"264.851562\"/>\n     </g>\n    </g>\n    <g id=\"patch_28\">\n     <path d=\"M 415.53453 280.0503 \nL 424.21953 280.0503 \nL 424.21953 277.01055 \nL 415.53453 277.01055 \nz\n\" style=\"fill: #441d9e\"/>\n    </g>\n    <g id=\"text_43\">\n     <!-- 0 -->\n     <g transform=\"translate(427.69353 280.0503)scale(0.043425 -0.043425)\">\n      <use xlink:href=\"#DejaVuSans-30\"/>\n     </g>\n    </g>\n    <g id=\"patch_29\">\n     <path d=\"M 439.141446 280.0503 \nL 447.826446 280.0503 \nL 447.826446 277.01055 \nL 439.141446 277.01055 \nz\n\" style=\"fill: #e03e87\"/>\n    </g>\n    <g id=\"text_44\">\n     <!-- 1 -->\n     <g transform=\"translate(451.300446 280.0503)scale(0.043425 -0.043425)\">\n      <use xlink:href=\"#DejaVuSans-31\"/>\n     </g>\n    </g>\n   </g>\n  </g>\n </g>\n <defs>\n  <clipPath id=\"p0bad7df3bf\">\n   <rect x=\"99.998946\" y=\"24.038594\" width=\"279\" height=\"41.181818\"/>\n  </clipPath>\n  <clipPath id=\"p1d107732fa\">\n   <rect x=\"99.998946\" y=\"139.347685\" width=\"279\" height=\"41.181818\"/>\n  </clipPath>\n  <clipPath id=\"p750bf649fa\">\n   <rect x=\"99.998946\" y=\"254.656776\" width=\"279\" height=\"41.181818\"/>\n  </clipPath>\n </defs>\n</svg>\n",
      "text/plain": [
       "<Figure size 1500x1500 with 3 Axes>"
      ]
     },
     "metadata": {},
     "output_type": "display_data"
    },
    {
     "data": {
      "image/svg+xml": "<?xml version=\"1.0\" encoding=\"utf-8\" standalone=\"no\"?>\n<!DOCTYPE svg PUBLIC \"-//W3C//DTD SVG 1.1//EN\"\n  \"http://www.w3.org/Graphics/SVG/1.1/DTD/svg11.dtd\">\n<svg xmlns:xlink=\"http://www.w3.org/1999/xlink\" width=\"370.588596pt\" height=\"359.011668pt\" viewBox=\"0 0 370.588596 359.011668\" xmlns=\"http://www.w3.org/2000/svg\" version=\"1.1\">\n <metadata>\n  <rdf:RDF xmlns:dc=\"http://purl.org/dc/elements/1.1/\" xmlns:cc=\"http://creativecommons.org/ns#\" xmlns:rdf=\"http://www.w3.org/1999/02/22-rdf-syntax-ns#\">\n   <cc:Work>\n    <dc:type rdf:resource=\"http://purl.org/dc/dcmitype/StillImage\"/>\n    <dc:date>2022-03-15T21:00:21.096421</dc:date>\n    <dc:format>image/svg+xml</dc:format>\n    <dc:creator>\n     <cc:Agent>\n      <dc:title>Matplotlib v3.5.1, https://matplotlib.org/</dc:title>\n     </cc:Agent>\n    </dc:creator>\n   </cc:Work>\n  </rdf:RDF>\n </metadata>\n <defs>\n  <style type=\"text/css\">*{stroke-linejoin: round; stroke-linecap: butt}</style>\n </defs>\n <g id=\"figure_1\">\n  <g id=\"patch_1\">\n   <path d=\"M 0 359.011668 \nL 370.588596 359.011668 \nL 370.588596 0 \nL 0 0 \nz\n\" style=\"fill: #ffffff\"/>\n  </g>\n  <g id=\"axes_1\">\n   <g id=\"patch_2\">\n    <path d=\"M 79.939221 241.29325 \nL 358.939221 241.29325 \nL 358.939221 51.03325 \nL 79.939221 51.03325 \nz\n\" style=\"fill: #ffffff\"/>\n   </g>\n   <g id=\"patch_3\">\n    <path d=\"M 82.264221 241.29325 \nL 100.864221 241.29325 \nL 100.864221 207.041504 \nL 82.264221 207.041504 \nz\n\" clip-path=\"url(#p024e373b1e)\" style=\"fill: #441d9e\"/>\n   </g>\n   <g id=\"patch_4\">\n    <path d=\"M 105.514221 241.29325 \nL 124.114221 241.29325 \nL 124.114221 235.459544 \nL 105.514221 235.459544 \nz\n\" clip-path=\"url(#p024e373b1e)\" style=\"fill: #441d9e\"/>\n   </g>\n   <g id=\"patch_5\">\n    <path d=\"M 128.764221 241.29325 \nL 147.364221 241.29325 \nL 147.364221 236.545808 \nL 128.764221 236.545808 \nz\n\" clip-path=\"url(#p024e373b1e)\" style=\"fill: #441d9e\"/>\n   </g>\n   <g id=\"patch_6\">\n    <path d=\"M 152.014221 241.29325 \nL 170.614221 241.29325 \nL 170.614221 236.842656 \nL 152.014221 236.842656 \nz\n\" clip-path=\"url(#p024e373b1e)\" style=\"fill: #441d9e\"/>\n   </g>\n   <g id=\"patch_7\">\n    <path d=\"M 175.264221 241.29325 \nL 193.864221 241.29325 \nL 193.864221 237.646162 \nL 175.264221 237.646162 \nz\n\" clip-path=\"url(#p024e373b1e)\" style=\"fill: #441d9e\"/>\n   </g>\n   <g id=\"patch_8\">\n    <path d=\"M 198.514221 241.29325 \nL 217.114221 241.29325 \nL 217.114221 238.730416 \nL 198.514221 238.730416 \nz\n\" clip-path=\"url(#p024e373b1e)\" style=\"fill: #441d9e\"/>\n   </g>\n   <g id=\"patch_9\">\n    <path d=\"M 221.764221 241.29325 \nL 240.364221 241.29325 \nL 240.364221 238.881831 \nL 221.764221 238.881831 \nz\n\" clip-path=\"url(#p024e373b1e)\" style=\"fill: #441d9e\"/>\n   </g>\n   <g id=\"patch_10\">\n    <path d=\"M 0 0 \nz\n\" clip-path=\"url(#p024e373b1e)\" style=\"fill: #441d9e\"/>\n   </g>\n   <g id=\"patch_11\">\n    <path d=\"M 0 0 \nz\n\" clip-path=\"url(#p024e373b1e)\" style=\"fill: #441d9e\"/>\n   </g>\n   <g id=\"patch_12\">\n    <path d=\"M 0 0 \nz\n\" clip-path=\"url(#p024e373b1e)\" style=\"fill: #441d9e\"/>\n   </g>\n   <g id=\"patch_13\">\n    <path d=\"M 0 0 \nz\n\" clip-path=\"url(#p024e373b1e)\" style=\"fill: #441d9e\"/>\n   </g>\n   <g id=\"patch_14\">\n    <path d=\"M 0 0 \nz\n\" clip-path=\"url(#p024e373b1e)\" style=\"fill: #441d9e\"/>\n   </g>\n   <g id=\"patch_15\">\n    <path d=\"M 0 0 \nz\n\" clip-path=\"url(#p024e373b1e)\" style=\"fill: #e03e87\"/>\n   </g>\n   <g id=\"patch_16\">\n    <path d=\"M 0 0 \nz\n\" clip-path=\"url(#p024e373b1e)\" style=\"fill: #e03e87\"/>\n   </g>\n   <g id=\"patch_17\">\n    <path d=\"M 0 0 \nz\n\" clip-path=\"url(#p024e373b1e)\" style=\"fill: #e03e87\"/>\n   </g>\n   <g id=\"patch_18\">\n    <path d=\"M 0 0 \nz\n\" clip-path=\"url(#p024e373b1e)\" style=\"fill: #e03e87\"/>\n   </g>\n   <g id=\"patch_19\">\n    <path d=\"M 0 0 \nz\n\" clip-path=\"url(#p024e373b1e)\" style=\"fill: #e03e87\"/>\n   </g>\n   <g id=\"patch_20\">\n    <path d=\"M 0 0 \nz\n\" clip-path=\"url(#p024e373b1e)\" style=\"fill: #e03e87\"/>\n   </g>\n   <g id=\"patch_21\">\n    <path d=\"M 0 0 \nz\n\" clip-path=\"url(#p024e373b1e)\" style=\"fill: #e03e87\"/>\n   </g>\n   <g id=\"patch_22\">\n    <path d=\"M 245.014221 241.29325 \nL 263.614221 241.29325 \nL 263.614221 237.351877 \nL 245.014221 237.351877 \nz\n\" clip-path=\"url(#p024e373b1e)\" style=\"fill: #e03e87\"/>\n   </g>\n   <g id=\"patch_23\">\n    <path d=\"M 268.264221 241.29325 \nL 286.864221 241.29325 \nL 286.864221 237.360009 \nL 268.264221 237.360009 \nz\n\" clip-path=\"url(#p024e373b1e)\" style=\"fill: #e03e87\"/>\n   </g>\n   <g id=\"patch_24\">\n    <path d=\"M 291.514221 241.29325 \nL 310.114221 241.29325 \nL 310.114221 240.69611 \nL 291.514221 240.69611 \nz\n\" clip-path=\"url(#p024e373b1e)\" style=\"fill: #e03e87\"/>\n   </g>\n   <g id=\"patch_25\">\n    <path d=\"M 314.764221 241.29325 \nL 333.364221 241.29325 \nL 333.364221 240.768013 \nL 314.764221 240.768013 \nz\n\" clip-path=\"url(#p024e373b1e)\" style=\"fill: #e03e87\"/>\n   </g>\n   <g id=\"patch_26\">\n    <path d=\"M 338.014221 241.29325 \nL 356.614221 241.29325 \nL 356.614221 241.29325 \nL 338.014221 241.29325 \nz\n\" clip-path=\"url(#p024e373b1e)\" style=\"fill: #e03e87\"/>\n   </g>\n   <g id=\"matplotlib.axis_1\">\n    <g id=\"xtick_1\">\n     <g id=\"line2d_1\">\n      <defs>\n       <path id=\"m541035d960\" d=\"M 0 0 \nL 0 10 \n\" style=\"stroke: #000000; stroke-width: 1.25\"/>\n      </defs>\n      <g>\n       <use xlink:href=\"#m541035d960\" x=\"91.564221\" y=\"241.29325\" style=\"stroke: #000000; stroke-width: 1.25\"/>\n      </g>\n     </g>\n     <g id=\"text_1\">\n      <!-- native.country -->\n      <g transform=\"translate(95.01206 347.077234)rotate(-90)scale(0.12495 -0.12495)\">\n       <defs>\n        <path id=\"DejaVuSans-6e\" d=\"M 3513 2113 \nL 3513 0 \nL 2938 0 \nL 2938 2094 \nQ 2938 2591 2744 2837 \nQ 2550 3084 2163 3084 \nQ 1697 3084 1428 2787 \nQ 1159 2491 1159 1978 \nL 1159 0 \nL 581 0 \nL 581 3500 \nL 1159 3500 \nL 1159 2956 \nQ 1366 3272 1645 3428 \nQ 1925 3584 2291 3584 \nQ 2894 3584 3203 3211 \nQ 3513 2838 3513 2113 \nz\n\" transform=\"scale(0.015625)\"/>\n        <path id=\"DejaVuSans-61\" d=\"M 2194 1759 \nQ 1497 1759 1228 1600 \nQ 959 1441 959 1056 \nQ 959 750 1161 570 \nQ 1363 391 1709 391 \nQ 2188 391 2477 730 \nQ 2766 1069 2766 1631 \nL 2766 1759 \nL 2194 1759 \nz\nM 3341 1997 \nL 3341 0 \nL 2766 0 \nL 2766 531 \nQ 2569 213 2275 61 \nQ 1981 -91 1556 -91 \nQ 1019 -91 701 211 \nQ 384 513 384 1019 \nQ 384 1609 779 1909 \nQ 1175 2209 1959 2209 \nL 2766 2209 \nL 2766 2266 \nQ 2766 2663 2505 2880 \nQ 2244 3097 1772 3097 \nQ 1472 3097 1187 3025 \nQ 903 2953 641 2809 \nL 641 3341 \nQ 956 3463 1253 3523 \nQ 1550 3584 1831 3584 \nQ 2591 3584 2966 3190 \nQ 3341 2797 3341 1997 \nz\n\" transform=\"scale(0.015625)\"/>\n        <path id=\"DejaVuSans-74\" d=\"M 1172 4494 \nL 1172 3500 \nL 2356 3500 \nL 2356 3053 \nL 1172 3053 \nL 1172 1153 \nQ 1172 725 1289 603 \nQ 1406 481 1766 481 \nL 2356 481 \nL 2356 0 \nL 1766 0 \nQ 1100 0 847 248 \nQ 594 497 594 1153 \nL 594 3053 \nL 172 3053 \nL 172 3500 \nL 594 3500 \nL 594 4494 \nL 1172 4494 \nz\n\" transform=\"scale(0.015625)\"/>\n        <path id=\"DejaVuSans-69\" d=\"M 603 3500 \nL 1178 3500 \nL 1178 0 \nL 603 0 \nL 603 3500 \nz\nM 603 4863 \nL 1178 4863 \nL 1178 4134 \nL 603 4134 \nL 603 4863 \nz\n\" transform=\"scale(0.015625)\"/>\n        <path id=\"DejaVuSans-76\" d=\"M 191 3500 \nL 800 3500 \nL 1894 563 \nL 2988 3500 \nL 3597 3500 \nL 2284 0 \nL 1503 0 \nL 191 3500 \nz\n\" transform=\"scale(0.015625)\"/>\n        <path id=\"DejaVuSans-65\" d=\"M 3597 1894 \nL 3597 1613 \nL 953 1613 \nQ 991 1019 1311 708 \nQ 1631 397 2203 397 \nQ 2534 397 2845 478 \nQ 3156 559 3463 722 \nL 3463 178 \nQ 3153 47 2828 -22 \nQ 2503 -91 2169 -91 \nQ 1331 -91 842 396 \nQ 353 884 353 1716 \nQ 353 2575 817 3079 \nQ 1281 3584 2069 3584 \nQ 2775 3584 3186 3129 \nQ 3597 2675 3597 1894 \nz\nM 3022 2063 \nQ 3016 2534 2758 2815 \nQ 2500 3097 2075 3097 \nQ 1594 3097 1305 2825 \nQ 1016 2553 972 2059 \nL 3022 2063 \nz\n\" transform=\"scale(0.015625)\"/>\n        <path id=\"DejaVuSans-2e\" d=\"M 684 794 \nL 1344 794 \nL 1344 0 \nL 684 0 \nL 684 794 \nz\n\" transform=\"scale(0.015625)\"/>\n        <path id=\"DejaVuSans-63\" d=\"M 3122 3366 \nL 3122 2828 \nQ 2878 2963 2633 3030 \nQ 2388 3097 2138 3097 \nQ 1578 3097 1268 2742 \nQ 959 2388 959 1747 \nQ 959 1106 1268 751 \nQ 1578 397 2138 397 \nQ 2388 397 2633 464 \nQ 2878 531 3122 666 \nL 3122 134 \nQ 2881 22 2623 -34 \nQ 2366 -91 2075 -91 \nQ 1284 -91 818 406 \nQ 353 903 353 1747 \nQ 353 2603 823 3093 \nQ 1294 3584 2113 3584 \nQ 2378 3584 2631 3529 \nQ 2884 3475 3122 3366 \nz\n\" transform=\"scale(0.015625)\"/>\n        <path id=\"DejaVuSans-6f\" d=\"M 1959 3097 \nQ 1497 3097 1228 2736 \nQ 959 2375 959 1747 \nQ 959 1119 1226 758 \nQ 1494 397 1959 397 \nQ 2419 397 2687 759 \nQ 2956 1122 2956 1747 \nQ 2956 2369 2687 2733 \nQ 2419 3097 1959 3097 \nz\nM 1959 3584 \nQ 2709 3584 3137 3096 \nQ 3566 2609 3566 1747 \nQ 3566 888 3137 398 \nQ 2709 -91 1959 -91 \nQ 1206 -91 779 398 \nQ 353 888 353 1747 \nQ 353 2609 779 3096 \nQ 1206 3584 1959 3584 \nz\n\" transform=\"scale(0.015625)\"/>\n        <path id=\"DejaVuSans-75\" d=\"M 544 1381 \nL 544 3500 \nL 1119 3500 \nL 1119 1403 \nQ 1119 906 1312 657 \nQ 1506 409 1894 409 \nQ 2359 409 2629 706 \nQ 2900 1003 2900 1516 \nL 2900 3500 \nL 3475 3500 \nL 3475 0 \nL 2900 0 \nL 2900 538 \nQ 2691 219 2414 64 \nQ 2138 -91 1772 -91 \nQ 1169 -91 856 284 \nQ 544 659 544 1381 \nz\nM 1991 3584 \nL 1991 3584 \nz\n\" transform=\"scale(0.015625)\"/>\n        <path id=\"DejaVuSans-72\" d=\"M 2631 2963 \nQ 2534 3019 2420 3045 \nQ 2306 3072 2169 3072 \nQ 1681 3072 1420 2755 \nQ 1159 2438 1159 1844 \nL 1159 0 \nL 581 0 \nL 581 3500 \nL 1159 3500 \nL 1159 2956 \nQ 1341 3275 1631 3429 \nQ 1922 3584 2338 3584 \nQ 2397 3584 2469 3576 \nQ 2541 3569 2628 3553 \nL 2631 2963 \nz\n\" transform=\"scale(0.015625)\"/>\n        <path id=\"DejaVuSans-79\" d=\"M 2059 -325 \nQ 1816 -950 1584 -1140 \nQ 1353 -1331 966 -1331 \nL 506 -1331 \nL 506 -850 \nL 844 -850 \nQ 1081 -850 1212 -737 \nQ 1344 -625 1503 -206 \nL 1606 56 \nL 191 3500 \nL 800 3500 \nL 1894 763 \nL 2988 3500 \nL 3597 3500 \nL 2059 -325 \nz\n\" transform=\"scale(0.015625)\"/>\n       </defs>\n       <use xlink:href=\"#DejaVuSans-6e\"/>\n       <use xlink:href=\"#DejaVuSans-61\" x=\"63.378906\"/>\n       <use xlink:href=\"#DejaVuSans-74\" x=\"124.658203\"/>\n       <use xlink:href=\"#DejaVuSans-69\" x=\"163.867188\"/>\n       <use xlink:href=\"#DejaVuSans-76\" x=\"191.650391\"/>\n       <use xlink:href=\"#DejaVuSans-65\" x=\"250.830078\"/>\n       <use xlink:href=\"#DejaVuSans-2e\" x=\"312.353516\"/>\n       <use xlink:href=\"#DejaVuSans-63\" x=\"344.140625\"/>\n       <use xlink:href=\"#DejaVuSans-6f\" x=\"399.121094\"/>\n       <use xlink:href=\"#DejaVuSans-75\" x=\"460.302734\"/>\n       <use xlink:href=\"#DejaVuSans-6e\" x=\"523.681641\"/>\n       <use xlink:href=\"#DejaVuSans-74\" x=\"587.060547\"/>\n       <use xlink:href=\"#DejaVuSans-72\" x=\"626.269531\"/>\n       <use xlink:href=\"#DejaVuSans-79\" x=\"667.382812\"/>\n      </g>\n     </g>\n    </g>\n    <g id=\"xtick_2\">\n     <g id=\"line2d_2\">\n      <g>\n       <use xlink:href=\"#m541035d960\" x=\"114.814221\" y=\"241.29325\" style=\"stroke: #000000; stroke-width: 1.25\"/>\n      </g>\n     </g>\n     <g id=\"text_2\">\n      <!-- relationship -->\n      <g transform=\"translate(118.26206 329.73066)rotate(-90)scale(0.12495 -0.12495)\">\n       <defs>\n        <path id=\"DejaVuSans-6c\" d=\"M 603 4863 \nL 1178 4863 \nL 1178 0 \nL 603 0 \nL 603 4863 \nz\n\" transform=\"scale(0.015625)\"/>\n        <path id=\"DejaVuSans-73\" d=\"M 2834 3397 \nL 2834 2853 \nQ 2591 2978 2328 3040 \nQ 2066 3103 1784 3103 \nQ 1356 3103 1142 2972 \nQ 928 2841 928 2578 \nQ 928 2378 1081 2264 \nQ 1234 2150 1697 2047 \nL 1894 2003 \nQ 2506 1872 2764 1633 \nQ 3022 1394 3022 966 \nQ 3022 478 2636 193 \nQ 2250 -91 1575 -91 \nQ 1294 -91 989 -36 \nQ 684 19 347 128 \nL 347 722 \nQ 666 556 975 473 \nQ 1284 391 1588 391 \nQ 1994 391 2212 530 \nQ 2431 669 2431 922 \nQ 2431 1156 2273 1281 \nQ 2116 1406 1581 1522 \nL 1381 1569 \nQ 847 1681 609 1914 \nQ 372 2147 372 2553 \nQ 372 3047 722 3315 \nQ 1072 3584 1716 3584 \nQ 2034 3584 2315 3537 \nQ 2597 3491 2834 3397 \nz\n\" transform=\"scale(0.015625)\"/>\n        <path id=\"DejaVuSans-68\" d=\"M 3513 2113 \nL 3513 0 \nL 2938 0 \nL 2938 2094 \nQ 2938 2591 2744 2837 \nQ 2550 3084 2163 3084 \nQ 1697 3084 1428 2787 \nQ 1159 2491 1159 1978 \nL 1159 0 \nL 581 0 \nL 581 4863 \nL 1159 4863 \nL 1159 2956 \nQ 1366 3272 1645 3428 \nQ 1925 3584 2291 3584 \nQ 2894 3584 3203 3211 \nQ 3513 2838 3513 2113 \nz\n\" transform=\"scale(0.015625)\"/>\n        <path id=\"DejaVuSans-70\" d=\"M 1159 525 \nL 1159 -1331 \nL 581 -1331 \nL 581 3500 \nL 1159 3500 \nL 1159 2969 \nQ 1341 3281 1617 3432 \nQ 1894 3584 2278 3584 \nQ 2916 3584 3314 3078 \nQ 3713 2572 3713 1747 \nQ 3713 922 3314 415 \nQ 2916 -91 2278 -91 \nQ 1894 -91 1617 61 \nQ 1341 213 1159 525 \nz\nM 3116 1747 \nQ 3116 2381 2855 2742 \nQ 2594 3103 2138 3103 \nQ 1681 3103 1420 2742 \nQ 1159 2381 1159 1747 \nQ 1159 1113 1420 752 \nQ 1681 391 2138 391 \nQ 2594 391 2855 752 \nQ 3116 1113 3116 1747 \nz\n\" transform=\"scale(0.015625)\"/>\n       </defs>\n       <use xlink:href=\"#DejaVuSans-72\"/>\n       <use xlink:href=\"#DejaVuSans-65\" x=\"38.863281\"/>\n       <use xlink:href=\"#DejaVuSans-6c\" x=\"100.386719\"/>\n       <use xlink:href=\"#DejaVuSans-61\" x=\"128.169922\"/>\n       <use xlink:href=\"#DejaVuSans-74\" x=\"189.449219\"/>\n       <use xlink:href=\"#DejaVuSans-69\" x=\"228.658203\"/>\n       <use xlink:href=\"#DejaVuSans-6f\" x=\"256.441406\"/>\n       <use xlink:href=\"#DejaVuSans-6e\" x=\"317.623047\"/>\n       <use xlink:href=\"#DejaVuSans-73\" x=\"381.001953\"/>\n       <use xlink:href=\"#DejaVuSans-68\" x=\"433.101562\"/>\n       <use xlink:href=\"#DejaVuSans-69\" x=\"496.480469\"/>\n       <use xlink:href=\"#DejaVuSans-70\" x=\"524.263672\"/>\n      </g>\n     </g>\n    </g>\n    <g id=\"xtick_3\">\n     <g id=\"line2d_3\">\n      <g>\n       <use xlink:href=\"#m541035d960\" x=\"138.064221\" y=\"241.29325\" style=\"stroke: #000000; stroke-width: 1.25\"/>\n      </g>\n     </g>\n     <g id=\"text_3\">\n      <!-- occupation -->\n      <g transform=\"translate(141.51206 325.121177)rotate(-90)scale(0.12495 -0.12495)\">\n       <use xlink:href=\"#DejaVuSans-6f\"/>\n       <use xlink:href=\"#DejaVuSans-63\" x=\"61.181641\"/>\n       <use xlink:href=\"#DejaVuSans-63\" x=\"116.162109\"/>\n       <use xlink:href=\"#DejaVuSans-75\" x=\"171.142578\"/>\n       <use xlink:href=\"#DejaVuSans-70\" x=\"234.521484\"/>\n       <use xlink:href=\"#DejaVuSans-61\" x=\"297.998047\"/>\n       <use xlink:href=\"#DejaVuSans-74\" x=\"359.277344\"/>\n       <use xlink:href=\"#DejaVuSans-69\" x=\"398.486328\"/>\n       <use xlink:href=\"#DejaVuSans-6f\" x=\"426.269531\"/>\n       <use xlink:href=\"#DejaVuSans-6e\" x=\"487.451172\"/>\n      </g>\n     </g>\n    </g>\n    <g id=\"xtick_4\">\n     <g id=\"line2d_4\">\n      <g>\n       <use xlink:href=\"#m541035d960\" x=\"161.314221\" y=\"241.29325\" style=\"stroke: #000000; stroke-width: 1.25\"/>\n      </g>\n     </g>\n     <g id=\"text_4\">\n      <!-- marital.status -->\n      <g transform=\"translate(164.76206 343.117881)rotate(-90)scale(0.12495 -0.12495)\">\n       <defs>\n        <path id=\"DejaVuSans-6d\" d=\"M 3328 2828 \nQ 3544 3216 3844 3400 \nQ 4144 3584 4550 3584 \nQ 5097 3584 5394 3201 \nQ 5691 2819 5691 2113 \nL 5691 0 \nL 5113 0 \nL 5113 2094 \nQ 5113 2597 4934 2840 \nQ 4756 3084 4391 3084 \nQ 3944 3084 3684 2787 \nQ 3425 2491 3425 1978 \nL 3425 0 \nL 2847 0 \nL 2847 2094 \nQ 2847 2600 2669 2842 \nQ 2491 3084 2119 3084 \nQ 1678 3084 1418 2786 \nQ 1159 2488 1159 1978 \nL 1159 0 \nL 581 0 \nL 581 3500 \nL 1159 3500 \nL 1159 2956 \nQ 1356 3278 1631 3431 \nQ 1906 3584 2284 3584 \nQ 2666 3584 2933 3390 \nQ 3200 3197 3328 2828 \nz\n\" transform=\"scale(0.015625)\"/>\n       </defs>\n       <use xlink:href=\"#DejaVuSans-6d\"/>\n       <use xlink:href=\"#DejaVuSans-61\" x=\"97.412109\"/>\n       <use xlink:href=\"#DejaVuSans-72\" x=\"158.691406\"/>\n       <use xlink:href=\"#DejaVuSans-69\" x=\"199.804688\"/>\n       <use xlink:href=\"#DejaVuSans-74\" x=\"227.587891\"/>\n       <use xlink:href=\"#DejaVuSans-61\" x=\"266.796875\"/>\n       <use xlink:href=\"#DejaVuSans-6c\" x=\"328.076172\"/>\n       <use xlink:href=\"#DejaVuSans-2e\" x=\"355.859375\"/>\n       <use xlink:href=\"#DejaVuSans-73\" x=\"387.646484\"/>\n       <use xlink:href=\"#DejaVuSans-74\" x=\"439.746094\"/>\n       <use xlink:href=\"#DejaVuSans-61\" x=\"478.955078\"/>\n       <use xlink:href=\"#DejaVuSans-74\" x=\"540.234375\"/>\n       <use xlink:href=\"#DejaVuSans-75\" x=\"579.443359\"/>\n       <use xlink:href=\"#DejaVuSans-73\" x=\"642.822266\"/>\n      </g>\n     </g>\n    </g>\n    <g id=\"xtick_5\">\n     <g id=\"line2d_5\">\n      <g>\n       <use xlink:href=\"#m541035d960\" x=\"184.564221\" y=\"241.29325\" style=\"stroke: #000000; stroke-width: 1.25\"/>\n      </g>\n     </g>\n     <g id=\"text_5\">\n      <!-- education -->\n      <g transform=\"translate(188.01206 318.29383)rotate(-90)scale(0.12495 -0.12495)\">\n       <defs>\n        <path id=\"DejaVuSans-64\" d=\"M 2906 2969 \nL 2906 4863 \nL 3481 4863 \nL 3481 0 \nL 2906 0 \nL 2906 525 \nQ 2725 213 2448 61 \nQ 2172 -91 1784 -91 \nQ 1150 -91 751 415 \nQ 353 922 353 1747 \nQ 353 2572 751 3078 \nQ 1150 3584 1784 3584 \nQ 2172 3584 2448 3432 \nQ 2725 3281 2906 2969 \nz\nM 947 1747 \nQ 947 1113 1208 752 \nQ 1469 391 1925 391 \nQ 2381 391 2643 752 \nQ 2906 1113 2906 1747 \nQ 2906 2381 2643 2742 \nQ 2381 3103 1925 3103 \nQ 1469 3103 1208 2742 \nQ 947 2381 947 1747 \nz\n\" transform=\"scale(0.015625)\"/>\n       </defs>\n       <use xlink:href=\"#DejaVuSans-65\"/>\n       <use xlink:href=\"#DejaVuSans-64\" x=\"61.523438\"/>\n       <use xlink:href=\"#DejaVuSans-75\" x=\"125\"/>\n       <use xlink:href=\"#DejaVuSans-63\" x=\"188.378906\"/>\n       <use xlink:href=\"#DejaVuSans-61\" x=\"243.359375\"/>\n       <use xlink:href=\"#DejaVuSans-74\" x=\"304.638672\"/>\n       <use xlink:href=\"#DejaVuSans-69\" x=\"343.847656\"/>\n       <use xlink:href=\"#DejaVuSans-6f\" x=\"371.630859\"/>\n       <use xlink:href=\"#DejaVuSans-6e\" x=\"432.8125\"/>\n      </g>\n     </g>\n    </g>\n    <g id=\"xtick_6\">\n     <g id=\"line2d_6\">\n      <g>\n       <use xlink:href=\"#m541035d960\" x=\"207.814221\" y=\"241.29325\" style=\"stroke: #000000; stroke-width: 1.25\"/>\n      </g>\n     </g>\n     <g id=\"text_6\">\n      <!-- workclass -->\n      <g transform=\"translate(211.26206 317.546083)rotate(-90)scale(0.12495 -0.12495)\">\n       <defs>\n        <path id=\"DejaVuSans-77\" d=\"M 269 3500 \nL 844 3500 \nL 1563 769 \nL 2278 3500 \nL 2956 3500 \nL 3675 769 \nL 4391 3500 \nL 4966 3500 \nL 4050 0 \nL 3372 0 \nL 2619 2869 \nL 1863 0 \nL 1184 0 \nL 269 3500 \nz\n\" transform=\"scale(0.015625)\"/>\n        <path id=\"DejaVuSans-6b\" d=\"M 581 4863 \nL 1159 4863 \nL 1159 1991 \nL 2875 3500 \nL 3609 3500 \nL 1753 1863 \nL 3688 0 \nL 2938 0 \nL 1159 1709 \nL 1159 0 \nL 581 0 \nL 581 4863 \nz\n\" transform=\"scale(0.015625)\"/>\n       </defs>\n       <use xlink:href=\"#DejaVuSans-77\"/>\n       <use xlink:href=\"#DejaVuSans-6f\" x=\"81.787109\"/>\n       <use xlink:href=\"#DejaVuSans-72\" x=\"142.96875\"/>\n       <use xlink:href=\"#DejaVuSans-6b\" x=\"184.082031\"/>\n       <use xlink:href=\"#DejaVuSans-63\" x=\"241.992188\"/>\n       <use xlink:href=\"#DejaVuSans-6c\" x=\"296.972656\"/>\n       <use xlink:href=\"#DejaVuSans-61\" x=\"324.755859\"/>\n       <use xlink:href=\"#DejaVuSans-73\" x=\"386.035156\"/>\n       <use xlink:href=\"#DejaVuSans-73\" x=\"438.134766\"/>\n      </g>\n     </g>\n    </g>\n    <g id=\"xtick_7\">\n     <g id=\"line2d_7\">\n      <g>\n       <use xlink:href=\"#m541035d960\" x=\"231.064221\" y=\"241.29325\" style=\"stroke: #000000; stroke-width: 1.25\"/>\n      </g>\n     </g>\n     <g id=\"text_7\">\n      <!-- sex -->\n      <g transform=\"translate(234.51206 277.667509)rotate(-90)scale(0.12495 -0.12495)\">\n       <defs>\n        <path id=\"DejaVuSans-78\" d=\"M 3513 3500 \nL 2247 1797 \nL 3578 0 \nL 2900 0 \nL 1881 1375 \nL 863 0 \nL 184 0 \nL 1544 1831 \nL 300 3500 \nL 978 3500 \nL 1906 2253 \nL 2834 3500 \nL 3513 3500 \nz\n\" transform=\"scale(0.015625)\"/>\n       </defs>\n       <use xlink:href=\"#DejaVuSans-73\"/>\n       <use xlink:href=\"#DejaVuSans-65\" x=\"52.099609\"/>\n       <use xlink:href=\"#DejaVuSans-78\" x=\"111.873047\"/>\n      </g>\n     </g>\n    </g>\n    <g id=\"xtick_8\">\n     <g id=\"line2d_8\">\n      <g>\n       <use xlink:href=\"#m541035d960\" x=\"254.314221\" y=\"241.29325\" style=\"stroke: #000000; stroke-width: 1.25\"/>\n      </g>\n     </g>\n     <g id=\"text_8\">\n      <!-- hours.per.week -->\n      <g transform=\"translate(257.76206 351.811668)rotate(-90)scale(0.12495 -0.12495)\">\n       <use xlink:href=\"#DejaVuSans-68\"/>\n       <use xlink:href=\"#DejaVuSans-6f\" x=\"63.378906\"/>\n       <use xlink:href=\"#DejaVuSans-75\" x=\"124.560547\"/>\n       <use xlink:href=\"#DejaVuSans-72\" x=\"187.939453\"/>\n       <use xlink:href=\"#DejaVuSans-73\" x=\"229.052734\"/>\n       <use xlink:href=\"#DejaVuSans-2e\" x=\"281.152344\"/>\n       <use xlink:href=\"#DejaVuSans-70\" x=\"312.939453\"/>\n       <use xlink:href=\"#DejaVuSans-65\" x=\"376.416016\"/>\n       <use xlink:href=\"#DejaVuSans-72\" x=\"437.939453\"/>\n       <use xlink:href=\"#DejaVuSans-2e\" x=\"469.927734\"/>\n       <use xlink:href=\"#DejaVuSans-77\" x=\"501.714844\"/>\n       <use xlink:href=\"#DejaVuSans-65\" x=\"583.501953\"/>\n       <use xlink:href=\"#DejaVuSans-65\" x=\"645.025391\"/>\n       <use xlink:href=\"#DejaVuSans-6b\" x=\"706.548828\"/>\n      </g>\n     </g>\n    </g>\n    <g id=\"xtick_9\">\n     <g id=\"line2d_9\">\n      <g>\n       <use xlink:href=\"#m541035d960\" x=\"277.564221\" y=\"241.29325\" style=\"stroke: #000000; stroke-width: 1.25\"/>\n      </g>\n     </g>\n     <g id=\"text_9\">\n      <!-- education.num -->\n      <g transform=\"translate(281.01206 350.273221)rotate(-90)scale(0.12495 -0.12495)\">\n       <use xlink:href=\"#DejaVuSans-65\"/>\n       <use xlink:href=\"#DejaVuSans-64\" x=\"61.523438\"/>\n       <use xlink:href=\"#DejaVuSans-75\" x=\"125\"/>\n       <use xlink:href=\"#DejaVuSans-63\" x=\"188.378906\"/>\n       <use xlink:href=\"#DejaVuSans-61\" x=\"243.359375\"/>\n       <use xlink:href=\"#DejaVuSans-74\" x=\"304.638672\"/>\n       <use xlink:href=\"#DejaVuSans-69\" x=\"343.847656\"/>\n       <use xlink:href=\"#DejaVuSans-6f\" x=\"371.630859\"/>\n       <use xlink:href=\"#DejaVuSans-6e\" x=\"432.8125\"/>\n       <use xlink:href=\"#DejaVuSans-2e\" x=\"496.191406\"/>\n       <use xlink:href=\"#DejaVuSans-6e\" x=\"527.978516\"/>\n       <use xlink:href=\"#DejaVuSans-75\" x=\"591.357422\"/>\n       <use xlink:href=\"#DejaVuSans-6d\" x=\"654.736328\"/>\n      </g>\n     </g>\n    </g>\n    <g id=\"xtick_10\">\n     <g id=\"line2d_10\">\n      <g>\n       <use xlink:href=\"#m541035d960\" x=\"300.814221\" y=\"241.29325\" style=\"stroke: #000000; stroke-width: 1.25\"/>\n      </g>\n     </g>\n     <g id=\"text_10\">\n      <!-- age -->\n      <g transform=\"translate(304.26206 279.571045)rotate(-90)scale(0.12495 -0.12495)\">\n       <defs>\n        <path id=\"DejaVuSans-67\" d=\"M 2906 1791 \nQ 2906 2416 2648 2759 \nQ 2391 3103 1925 3103 \nQ 1463 3103 1205 2759 \nQ 947 2416 947 1791 \nQ 947 1169 1205 825 \nQ 1463 481 1925 481 \nQ 2391 481 2648 825 \nQ 2906 1169 2906 1791 \nz\nM 3481 434 \nQ 3481 -459 3084 -895 \nQ 2688 -1331 1869 -1331 \nQ 1566 -1331 1297 -1286 \nQ 1028 -1241 775 -1147 \nL 775 -588 \nQ 1028 -725 1275 -790 \nQ 1522 -856 1778 -856 \nQ 2344 -856 2625 -561 \nQ 2906 -266 2906 331 \nL 2906 616 \nQ 2728 306 2450 153 \nQ 2172 0 1784 0 \nQ 1141 0 747 490 \nQ 353 981 353 1791 \nQ 353 2603 747 3093 \nQ 1141 3584 1784 3584 \nQ 2172 3584 2450 3431 \nQ 2728 3278 2906 2969 \nL 2906 3500 \nL 3481 3500 \nL 3481 434 \nz\n\" transform=\"scale(0.015625)\"/>\n       </defs>\n       <use xlink:href=\"#DejaVuSans-61\"/>\n       <use xlink:href=\"#DejaVuSans-67\" x=\"61.279297\"/>\n       <use xlink:href=\"#DejaVuSans-65\" x=\"124.755859\"/>\n      </g>\n     </g>\n    </g>\n    <g id=\"xtick_11\">\n     <g id=\"line2d_11\">\n      <g>\n       <use xlink:href=\"#m541035d960\" x=\"324.064221\" y=\"241.29325\" style=\"stroke: #000000; stroke-width: 1.25\"/>\n      </g>\n     </g>\n     <g id=\"text_11\">\n      <!-- capital.loss -->\n      <g transform=\"translate(327.51206 326.35701)rotate(-90)scale(0.12495 -0.12495)\">\n       <use xlink:href=\"#DejaVuSans-63\"/>\n       <use xlink:href=\"#DejaVuSans-61\" x=\"54.980469\"/>\n       <use xlink:href=\"#DejaVuSans-70\" x=\"116.259766\"/>\n       <use xlink:href=\"#DejaVuSans-69\" x=\"179.736328\"/>\n       <use xlink:href=\"#DejaVuSans-74\" x=\"207.519531\"/>\n       <use xlink:href=\"#DejaVuSans-61\" x=\"246.728516\"/>\n       <use xlink:href=\"#DejaVuSans-6c\" x=\"308.007812\"/>\n       <use xlink:href=\"#DejaVuSans-2e\" x=\"335.791016\"/>\n       <use xlink:href=\"#DejaVuSans-6c\" x=\"367.578125\"/>\n       <use xlink:href=\"#DejaVuSans-6f\" x=\"395.361328\"/>\n       <use xlink:href=\"#DejaVuSans-73\" x=\"456.542969\"/>\n       <use xlink:href=\"#DejaVuSans-73\" x=\"508.642578\"/>\n      </g>\n     </g>\n    </g>\n    <g id=\"xtick_12\">\n     <g id=\"line2d_12\">\n      <g>\n       <use xlink:href=\"#m541035d960\" x=\"347.314221\" y=\"241.29325\" style=\"stroke: #000000; stroke-width: 1.25\"/>\n      </g>\n     </g>\n     <g id=\"text_12\">\n      <!-- capital.gain -->\n      <g transform=\"translate(350.76206 329.201575)rotate(-90)scale(0.12495 -0.12495)\">\n       <use xlink:href=\"#DejaVuSans-63\"/>\n       <use xlink:href=\"#DejaVuSans-61\" x=\"54.980469\"/>\n       <use xlink:href=\"#DejaVuSans-70\" x=\"116.259766\"/>\n       <use xlink:href=\"#DejaVuSans-69\" x=\"179.736328\"/>\n       <use xlink:href=\"#DejaVuSans-74\" x=\"207.519531\"/>\n       <use xlink:href=\"#DejaVuSans-61\" x=\"246.728516\"/>\n       <use xlink:href=\"#DejaVuSans-6c\" x=\"308.007812\"/>\n       <use xlink:href=\"#DejaVuSans-2e\" x=\"335.791016\"/>\n       <use xlink:href=\"#DejaVuSans-67\" x=\"367.578125\"/>\n       <use xlink:href=\"#DejaVuSans-61\" x=\"431.054688\"/>\n       <use xlink:href=\"#DejaVuSans-69\" x=\"492.333984\"/>\n       <use xlink:href=\"#DejaVuSans-6e\" x=\"520.117188\"/>\n      </g>\n     </g>\n    </g>\n   </g>\n   <g id=\"matplotlib.axis_2\">\n    <g id=\"ytick_1\">\n     <g id=\"line2d_13\">\n      <defs>\n       <path id=\"m72ba1f43ce\" d=\"M 0 0 \nL -10 0 \n\" style=\"stroke: #000000; stroke-width: 1.25\"/>\n      </defs>\n      <g>\n       <use xlink:href=\"#m72ba1f43ce\" x=\"79.939221\" y=\"241.29325\" style=\"stroke: #000000; stroke-width: 1.25\"/>\n      </g>\n     </g>\n     <g id=\"text_13\">\n      <!-- 0% -->\n      <g transform=\"translate(45.117075 246.040374)scale(0.12495 -0.12495)\">\n       <defs>\n        <path id=\"DejaVuSans-30\" d=\"M 2034 4250 \nQ 1547 4250 1301 3770 \nQ 1056 3291 1056 2328 \nQ 1056 1369 1301 889 \nQ 1547 409 2034 409 \nQ 2525 409 2770 889 \nQ 3016 1369 3016 2328 \nQ 3016 3291 2770 3770 \nQ 2525 4250 2034 4250 \nz\nM 2034 4750 \nQ 2819 4750 3233 4129 \nQ 3647 3509 3647 2328 \nQ 3647 1150 3233 529 \nQ 2819 -91 2034 -91 \nQ 1250 -91 836 529 \nQ 422 1150 422 2328 \nQ 422 3509 836 4129 \nQ 1250 4750 2034 4750 \nz\n\" transform=\"scale(0.015625)\"/>\n        <path id=\"DejaVuSans-25\" d=\"M 4653 2053 \nQ 4381 2053 4226 1822 \nQ 4072 1591 4072 1178 \nQ 4072 772 4226 539 \nQ 4381 306 4653 306 \nQ 4919 306 5073 539 \nQ 5228 772 5228 1178 \nQ 5228 1588 5073 1820 \nQ 4919 2053 4653 2053 \nz\nM 4653 2450 \nQ 5147 2450 5437 2106 \nQ 5728 1763 5728 1178 \nQ 5728 594 5436 251 \nQ 5144 -91 4653 -91 \nQ 4153 -91 3862 251 \nQ 3572 594 3572 1178 \nQ 3572 1766 3864 2108 \nQ 4156 2450 4653 2450 \nz\nM 1428 4353 \nQ 1159 4353 1004 4120 \nQ 850 3888 850 3481 \nQ 850 3069 1003 2837 \nQ 1156 2606 1428 2606 \nQ 1700 2606 1854 2837 \nQ 2009 3069 2009 3481 \nQ 2009 3884 1853 4118 \nQ 1697 4353 1428 4353 \nz\nM 4250 4750 \nL 4750 4750 \nL 1831 -91 \nL 1331 -91 \nL 4250 4750 \nz\nM 1428 4750 \nQ 1922 4750 2215 4408 \nQ 2509 4066 2509 3481 \nQ 2509 2891 2217 2550 \nQ 1925 2209 1428 2209 \nQ 931 2209 642 2551 \nQ 353 2894 353 3481 \nQ 353 4063 643 4406 \nQ 934 4750 1428 4750 \nz\n\" transform=\"scale(0.015625)\"/>\n       </defs>\n       <use xlink:href=\"#DejaVuSans-30\"/>\n       <use xlink:href=\"#DejaVuSans-25\" x=\"63.623047\"/>\n      </g>\n     </g>\n    </g>\n    <g id=\"ytick_2\">\n     <g id=\"line2d_14\">\n      <g>\n       <use xlink:href=\"#m72ba1f43ce\" x=\"79.939221\" y=\"203.24125\" style=\"stroke: #000000; stroke-width: 1.25\"/>\n      </g>\n     </g>\n     <g id=\"text_14\">\n      <!-- 20% -->\n      <g transform=\"translate(37.167131 207.988374)scale(0.12495 -0.12495)\">\n       <defs>\n        <path id=\"DejaVuSans-32\" d=\"M 1228 531 \nL 3431 531 \nL 3431 0 \nL 469 0 \nL 469 531 \nQ 828 903 1448 1529 \nQ 2069 2156 2228 2338 \nQ 2531 2678 2651 2914 \nQ 2772 3150 2772 3378 \nQ 2772 3750 2511 3984 \nQ 2250 4219 1831 4219 \nQ 1534 4219 1204 4116 \nQ 875 4013 500 3803 \nL 500 4441 \nQ 881 4594 1212 4672 \nQ 1544 4750 1819 4750 \nQ 2544 4750 2975 4387 \nQ 3406 4025 3406 3419 \nQ 3406 3131 3298 2873 \nQ 3191 2616 2906 2266 \nQ 2828 2175 2409 1742 \nQ 1991 1309 1228 531 \nz\n\" transform=\"scale(0.015625)\"/>\n       </defs>\n       <use xlink:href=\"#DejaVuSans-32\"/>\n       <use xlink:href=\"#DejaVuSans-30\" x=\"63.623047\"/>\n       <use xlink:href=\"#DejaVuSans-25\" x=\"127.246094\"/>\n      </g>\n     </g>\n    </g>\n    <g id=\"ytick_3\">\n     <g id=\"line2d_15\">\n      <g>\n       <use xlink:href=\"#m72ba1f43ce\" x=\"79.939221\" y=\"165.18925\" style=\"stroke: #000000; stroke-width: 1.25\"/>\n      </g>\n     </g>\n     <g id=\"text_15\">\n      <!-- 40% -->\n      <g transform=\"translate(37.167131 169.936374)scale(0.12495 -0.12495)\">\n       <defs>\n        <path id=\"DejaVuSans-34\" d=\"M 2419 4116 \nL 825 1625 \nL 2419 1625 \nL 2419 4116 \nz\nM 2253 4666 \nL 3047 4666 \nL 3047 1625 \nL 3713 1625 \nL 3713 1100 \nL 3047 1100 \nL 3047 0 \nL 2419 0 \nL 2419 1100 \nL 313 1100 \nL 313 1709 \nL 2253 4666 \nz\n\" transform=\"scale(0.015625)\"/>\n       </defs>\n       <use xlink:href=\"#DejaVuSans-34\"/>\n       <use xlink:href=\"#DejaVuSans-30\" x=\"63.623047\"/>\n       <use xlink:href=\"#DejaVuSans-25\" x=\"127.246094\"/>\n      </g>\n     </g>\n    </g>\n    <g id=\"ytick_4\">\n     <g id=\"line2d_16\">\n      <g>\n       <use xlink:href=\"#m72ba1f43ce\" x=\"79.939221\" y=\"127.13725\" style=\"stroke: #000000; stroke-width: 1.25\"/>\n      </g>\n     </g>\n     <g id=\"text_16\">\n      <!-- 60% -->\n      <g transform=\"translate(37.167131 131.884374)scale(0.12495 -0.12495)\">\n       <defs>\n        <path id=\"DejaVuSans-36\" d=\"M 2113 2584 \nQ 1688 2584 1439 2293 \nQ 1191 2003 1191 1497 \nQ 1191 994 1439 701 \nQ 1688 409 2113 409 \nQ 2538 409 2786 701 \nQ 3034 994 3034 1497 \nQ 3034 2003 2786 2293 \nQ 2538 2584 2113 2584 \nz\nM 3366 4563 \nL 3366 3988 \nQ 3128 4100 2886 4159 \nQ 2644 4219 2406 4219 \nQ 1781 4219 1451 3797 \nQ 1122 3375 1075 2522 \nQ 1259 2794 1537 2939 \nQ 1816 3084 2150 3084 \nQ 2853 3084 3261 2657 \nQ 3669 2231 3669 1497 \nQ 3669 778 3244 343 \nQ 2819 -91 2113 -91 \nQ 1303 -91 875 529 \nQ 447 1150 447 2328 \nQ 447 3434 972 4092 \nQ 1497 4750 2381 4750 \nQ 2619 4750 2861 4703 \nQ 3103 4656 3366 4563 \nz\n\" transform=\"scale(0.015625)\"/>\n       </defs>\n       <use xlink:href=\"#DejaVuSans-36\"/>\n       <use xlink:href=\"#DejaVuSans-30\" x=\"63.623047\"/>\n       <use xlink:href=\"#DejaVuSans-25\" x=\"127.246094\"/>\n      </g>\n     </g>\n    </g>\n    <g id=\"ytick_5\">\n     <g id=\"line2d_17\">\n      <g>\n       <use xlink:href=\"#m72ba1f43ce\" x=\"79.939221\" y=\"89.08525\" style=\"stroke: #000000; stroke-width: 1.25\"/>\n      </g>\n     </g>\n     <g id=\"text_17\">\n      <!-- 80% -->\n      <g transform=\"translate(37.167131 93.832374)scale(0.12495 -0.12495)\">\n       <defs>\n        <path id=\"DejaVuSans-38\" d=\"M 2034 2216 \nQ 1584 2216 1326 1975 \nQ 1069 1734 1069 1313 \nQ 1069 891 1326 650 \nQ 1584 409 2034 409 \nQ 2484 409 2743 651 \nQ 3003 894 3003 1313 \nQ 3003 1734 2745 1975 \nQ 2488 2216 2034 2216 \nz\nM 1403 2484 \nQ 997 2584 770 2862 \nQ 544 3141 544 3541 \nQ 544 4100 942 4425 \nQ 1341 4750 2034 4750 \nQ 2731 4750 3128 4425 \nQ 3525 4100 3525 3541 \nQ 3525 3141 3298 2862 \nQ 3072 2584 2669 2484 \nQ 3125 2378 3379 2068 \nQ 3634 1759 3634 1313 \nQ 3634 634 3220 271 \nQ 2806 -91 2034 -91 \nQ 1263 -91 848 271 \nQ 434 634 434 1313 \nQ 434 1759 690 2068 \nQ 947 2378 1403 2484 \nz\nM 1172 3481 \nQ 1172 3119 1398 2916 \nQ 1625 2713 2034 2713 \nQ 2441 2713 2670 2916 \nQ 2900 3119 2900 3481 \nQ 2900 3844 2670 4047 \nQ 2441 4250 2034 4250 \nQ 1625 4250 1398 4047 \nQ 1172 3844 1172 3481 \nz\n\" transform=\"scale(0.015625)\"/>\n       </defs>\n       <use xlink:href=\"#DejaVuSans-38\"/>\n       <use xlink:href=\"#DejaVuSans-30\" x=\"63.623047\"/>\n       <use xlink:href=\"#DejaVuSans-25\" x=\"127.246094\"/>\n      </g>\n     </g>\n    </g>\n    <g id=\"ytick_6\">\n     <g id=\"line2d_18\">\n      <g>\n       <use xlink:href=\"#m72ba1f43ce\" x=\"79.939221\" y=\"51.03325\" style=\"stroke: #000000; stroke-width: 1.25\"/>\n      </g>\n     </g>\n     <g id=\"text_18\">\n      <!-- 100% -->\n      <g transform=\"translate(29.217188 55.780374)scale(0.12495 -0.12495)\">\n       <defs>\n        <path id=\"DejaVuSans-31\" d=\"M 794 531 \nL 1825 531 \nL 1825 4091 \nL 703 3866 \nL 703 4441 \nL 1819 4666 \nL 2450 4666 \nL 2450 531 \nL 3481 531 \nL 3481 0 \nL 794 0 \nL 794 531 \nz\n\" transform=\"scale(0.015625)\"/>\n       </defs>\n       <use xlink:href=\"#DejaVuSans-31\"/>\n       <use xlink:href=\"#DejaVuSans-30\" x=\"63.623047\"/>\n       <use xlink:href=\"#DejaVuSans-30\" x=\"127.246094\"/>\n       <use xlink:href=\"#DejaVuSans-25\" x=\"190.869141\"/>\n      </g>\n     </g>\n    </g>\n    <g id=\"text_19\">\n     <!-- Normalized mutual information -->\n     <g transform=\"translate(18.597656 263.180828)rotate(-90)scale(0.15 -0.15)\">\n      <defs>\n       <path id=\"DejaVuSans-4e\" d=\"M 628 4666 \nL 1478 4666 \nL 3547 763 \nL 3547 4666 \nL 4159 4666 \nL 4159 0 \nL 3309 0 \nL 1241 3903 \nL 1241 0 \nL 628 0 \nL 628 4666 \nz\n\" transform=\"scale(0.015625)\"/>\n       <path id=\"DejaVuSans-7a\" d=\"M 353 3500 \nL 3084 3500 \nL 3084 2975 \nL 922 459 \nL 3084 459 \nL 3084 0 \nL 275 0 \nL 275 525 \nL 2438 3041 \nL 353 3041 \nL 353 3500 \nz\n\" transform=\"scale(0.015625)\"/>\n       <path id=\"DejaVuSans-20\" transform=\"scale(0.015625)\"/>\n       <path id=\"DejaVuSans-66\" d=\"M 2375 4863 \nL 2375 4384 \nL 1825 4384 \nQ 1516 4384 1395 4259 \nQ 1275 4134 1275 3809 \nL 1275 3500 \nL 2222 3500 \nL 2222 3053 \nL 1275 3053 \nL 1275 0 \nL 697 0 \nL 697 3053 \nL 147 3053 \nL 147 3500 \nL 697 3500 \nL 697 3744 \nQ 697 4328 969 4595 \nQ 1241 4863 1831 4863 \nL 2375 4863 \nz\n\" transform=\"scale(0.015625)\"/>\n      </defs>\n      <use xlink:href=\"#DejaVuSans-4e\"/>\n      <use xlink:href=\"#DejaVuSans-6f\" x=\"74.804688\"/>\n      <use xlink:href=\"#DejaVuSans-72\" x=\"135.986328\"/>\n      <use xlink:href=\"#DejaVuSans-6d\" x=\"175.349609\"/>\n      <use xlink:href=\"#DejaVuSans-61\" x=\"272.761719\"/>\n      <use xlink:href=\"#DejaVuSans-6c\" x=\"334.041016\"/>\n      <use xlink:href=\"#DejaVuSans-69\" x=\"361.824219\"/>\n      <use xlink:href=\"#DejaVuSans-7a\" x=\"389.607422\"/>\n      <use xlink:href=\"#DejaVuSans-65\" x=\"442.097656\"/>\n      <use xlink:href=\"#DejaVuSans-64\" x=\"503.621094\"/>\n      <use xlink:href=\"#DejaVuSans-20\" x=\"567.097656\"/>\n      <use xlink:href=\"#DejaVuSans-6d\" x=\"598.884766\"/>\n      <use xlink:href=\"#DejaVuSans-75\" x=\"696.296875\"/>\n      <use xlink:href=\"#DejaVuSans-74\" x=\"759.675781\"/>\n      <use xlink:href=\"#DejaVuSans-75\" x=\"798.884766\"/>\n      <use xlink:href=\"#DejaVuSans-61\" x=\"862.263672\"/>\n      <use xlink:href=\"#DejaVuSans-6c\" x=\"923.542969\"/>\n      <use xlink:href=\"#DejaVuSans-20\" x=\"951.326172\"/>\n      <use xlink:href=\"#DejaVuSans-69\" x=\"983.113281\"/>\n      <use xlink:href=\"#DejaVuSans-6e\" x=\"1010.896484\"/>\n      <use xlink:href=\"#DejaVuSans-66\" x=\"1074.275391\"/>\n      <use xlink:href=\"#DejaVuSans-6f\" x=\"1109.480469\"/>\n      <use xlink:href=\"#DejaVuSans-72\" x=\"1170.662109\"/>\n      <use xlink:href=\"#DejaVuSans-6d\" x=\"1210.025391\"/>\n      <use xlink:href=\"#DejaVuSans-61\" x=\"1307.4375\"/>\n      <use xlink:href=\"#DejaVuSans-74\" x=\"1368.716797\"/>\n      <use xlink:href=\"#DejaVuSans-69\" x=\"1407.925781\"/>\n      <use xlink:href=\"#DejaVuSans-6f\" x=\"1435.708984\"/>\n      <use xlink:href=\"#DejaVuSans-6e\" x=\"1496.890625\"/>\n     </g>\n    </g>\n   </g>\n   <g id=\"line2d_19\">\n    <path clip-path=\"url(#p024e373b1e)\" style=\"fill: none; stroke: #424242; stroke-width: 3; stroke-linecap: square\"/>\n   </g>\n   <g id=\"line2d_20\">\n    <path clip-path=\"url(#p024e373b1e)\" style=\"fill: none; stroke: #424242; stroke-width: 3; stroke-linecap: square\"/>\n   </g>\n   <g id=\"line2d_21\">\n    <path clip-path=\"url(#p024e373b1e)\" style=\"fill: none; stroke: #424242; stroke-width: 3; stroke-linecap: square\"/>\n   </g>\n   <g id=\"line2d_22\">\n    <path clip-path=\"url(#p024e373b1e)\" style=\"fill: none; stroke: #424242; stroke-width: 3; stroke-linecap: square\"/>\n   </g>\n   <g id=\"line2d_23\">\n    <path clip-path=\"url(#p024e373b1e)\" style=\"fill: none; stroke: #424242; stroke-width: 3; stroke-linecap: square\"/>\n   </g>\n   <g id=\"line2d_24\">\n    <path clip-path=\"url(#p024e373b1e)\" style=\"fill: none; stroke: #424242; stroke-width: 3; stroke-linecap: square\"/>\n   </g>\n   <g id=\"line2d_25\">\n    <path clip-path=\"url(#p024e373b1e)\" style=\"fill: none; stroke: #424242; stroke-width: 3; stroke-linecap: square\"/>\n   </g>\n   <g id=\"line2d_26\">\n    <path clip-path=\"url(#p024e373b1e)\" style=\"fill: none; stroke: #424242; stroke-width: 3; stroke-linecap: square\"/>\n   </g>\n   <g id=\"line2d_27\">\n    <path clip-path=\"url(#p024e373b1e)\" style=\"fill: none; stroke: #424242; stroke-width: 3; stroke-linecap: square\"/>\n   </g>\n   <g id=\"line2d_28\">\n    <path clip-path=\"url(#p024e373b1e)\" style=\"fill: none; stroke: #424242; stroke-width: 3; stroke-linecap: square\"/>\n   </g>\n   <g id=\"line2d_29\">\n    <path clip-path=\"url(#p024e373b1e)\" style=\"fill: none; stroke: #424242; stroke-width: 3; stroke-linecap: square\"/>\n   </g>\n   <g id=\"line2d_30\">\n    <path clip-path=\"url(#p024e373b1e)\" style=\"fill: none; stroke: #424242; stroke-width: 3; stroke-linecap: square\"/>\n   </g>\n   <g id=\"line2d_31\">\n    <path clip-path=\"url(#p024e373b1e)\" style=\"fill: none; stroke: #424242; stroke-width: 3; stroke-linecap: square\"/>\n   </g>\n   <g id=\"line2d_32\">\n    <path clip-path=\"url(#p024e373b1e)\" style=\"fill: none; stroke: #424242; stroke-width: 3; stroke-linecap: square\"/>\n   </g>\n   <g id=\"line2d_33\">\n    <path clip-path=\"url(#p024e373b1e)\" style=\"fill: none; stroke: #424242; stroke-width: 3; stroke-linecap: square\"/>\n   </g>\n   <g id=\"line2d_34\">\n    <path clip-path=\"url(#p024e373b1e)\" style=\"fill: none; stroke: #424242; stroke-width: 3; stroke-linecap: square\"/>\n   </g>\n   <g id=\"line2d_35\">\n    <path clip-path=\"url(#p024e373b1e)\" style=\"fill: none; stroke: #424242; stroke-width: 3; stroke-linecap: square\"/>\n   </g>\n   <g id=\"line2d_36\">\n    <path clip-path=\"url(#p024e373b1e)\" style=\"fill: none; stroke: #424242; stroke-width: 3; stroke-linecap: square\"/>\n   </g>\n   <g id=\"line2d_37\">\n    <path clip-path=\"url(#p024e373b1e)\" style=\"fill: none; stroke: #424242; stroke-width: 3; stroke-linecap: square\"/>\n   </g>\n   <g id=\"line2d_38\">\n    <path clip-path=\"url(#p024e373b1e)\" style=\"fill: none; stroke: #424242; stroke-width: 3; stroke-linecap: square\"/>\n   </g>\n   <g id=\"line2d_39\">\n    <path clip-path=\"url(#p024e373b1e)\" style=\"fill: none; stroke: #424242; stroke-width: 3; stroke-linecap: square\"/>\n   </g>\n   <g id=\"line2d_40\">\n    <path clip-path=\"url(#p024e373b1e)\" style=\"fill: none; stroke: #424242; stroke-width: 3; stroke-linecap: square\"/>\n   </g>\n   <g id=\"line2d_41\">\n    <path clip-path=\"url(#p024e373b1e)\" style=\"fill: none; stroke: #424242; stroke-width: 3; stroke-linecap: square\"/>\n   </g>\n   <g id=\"line2d_42\">\n    <path clip-path=\"url(#p024e373b1e)\" style=\"fill: none; stroke: #424242; stroke-width: 3; stroke-linecap: square\"/>\n   </g>\n   <g id=\"line2d_43\">\n    <path d=\"M 79.939221 241.29325 \nL 358.939221 241.29325 \n\" clip-path=\"url(#p024e373b1e)\" style=\"fill: none; stroke: #000000; stroke-width: 0.833333; stroke-linecap: square\"/>\n   </g>\n   <g id=\"patch_27\">\n    <path d=\"M 79.939221 241.29325 \nL 79.939221 51.03325 \n\" style=\"fill: none; stroke: #000000; stroke-width: 1.666667; stroke-linejoin: miter; stroke-linecap: square\"/>\n   </g>\n   <g id=\"patch_28\">\n    <path d=\"M 79.939221 241.29325 \nL 358.939221 241.29325 \n\" style=\"fill: none; stroke: #000000; stroke-width: 1.666667; stroke-linejoin: miter; stroke-linecap: square\"/>\n   </g>\n   <g id=\"text_20\">\n    <!-- Normalized mututal information -->\n    <g transform=\"translate(75.489846 20.877187)scale(0.18 -0.18)\">\n     <use xlink:href=\"#DejaVuSans-4e\"/>\n     <use xlink:href=\"#DejaVuSans-6f\" x=\"74.804688\"/>\n     <use xlink:href=\"#DejaVuSans-72\" x=\"135.986328\"/>\n     <use xlink:href=\"#DejaVuSans-6d\" x=\"175.349609\"/>\n     <use xlink:href=\"#DejaVuSans-61\" x=\"272.761719\"/>\n     <use xlink:href=\"#DejaVuSans-6c\" x=\"334.041016\"/>\n     <use xlink:href=\"#DejaVuSans-69\" x=\"361.824219\"/>\n     <use xlink:href=\"#DejaVuSans-7a\" x=\"389.607422\"/>\n     <use xlink:href=\"#DejaVuSans-65\" x=\"442.097656\"/>\n     <use xlink:href=\"#DejaVuSans-64\" x=\"503.621094\"/>\n     <use xlink:href=\"#DejaVuSans-20\" x=\"567.097656\"/>\n     <use xlink:href=\"#DejaVuSans-6d\" x=\"598.884766\"/>\n     <use xlink:href=\"#DejaVuSans-75\" x=\"696.296875\"/>\n     <use xlink:href=\"#DejaVuSans-74\" x=\"759.675781\"/>\n     <use xlink:href=\"#DejaVuSans-75\" x=\"798.884766\"/>\n     <use xlink:href=\"#DejaVuSans-74\" x=\"862.263672\"/>\n     <use xlink:href=\"#DejaVuSans-61\" x=\"901.472656\"/>\n     <use xlink:href=\"#DejaVuSans-6c\" x=\"962.751953\"/>\n     <use xlink:href=\"#DejaVuSans-20\" x=\"990.535156\"/>\n     <use xlink:href=\"#DejaVuSans-69\" x=\"1022.322266\"/>\n     <use xlink:href=\"#DejaVuSans-6e\" x=\"1050.105469\"/>\n     <use xlink:href=\"#DejaVuSans-66\" x=\"1113.484375\"/>\n     <use xlink:href=\"#DejaVuSans-6f\" x=\"1148.689453\"/>\n     <use xlink:href=\"#DejaVuSans-72\" x=\"1209.871094\"/>\n     <use xlink:href=\"#DejaVuSans-6d\" x=\"1249.234375\"/>\n     <use xlink:href=\"#DejaVuSans-61\" x=\"1346.646484\"/>\n     <use xlink:href=\"#DejaVuSans-74\" x=\"1407.925781\"/>\n     <use xlink:href=\"#DejaVuSans-69\" x=\"1447.134766\"/>\n     <use xlink:href=\"#DejaVuSans-6f\" x=\"1474.917969\"/>\n     <use xlink:href=\"#DejaVuSans-6e\" x=\"1536.099609\"/>\n    </g>\n    <!--  with feature: race -->\n    <g transform=\"translate(136.543596 41.03325)scale(0.18 -0.18)\">\n     <defs>\n      <path id=\"DejaVuSans-3a\" d=\"M 750 794 \nL 1409 794 \nL 1409 0 \nL 750 0 \nL 750 794 \nz\nM 750 3309 \nL 1409 3309 \nL 1409 2516 \nL 750 2516 \nL 750 3309 \nz\n\" transform=\"scale(0.015625)\"/>\n     </defs>\n     <use xlink:href=\"#DejaVuSans-20\"/>\n     <use xlink:href=\"#DejaVuSans-77\" x=\"31.787109\"/>\n     <use xlink:href=\"#DejaVuSans-69\" x=\"113.574219\"/>\n     <use xlink:href=\"#DejaVuSans-74\" x=\"141.357422\"/>\n     <use xlink:href=\"#DejaVuSans-68\" x=\"180.566406\"/>\n     <use xlink:href=\"#DejaVuSans-20\" x=\"243.945312\"/>\n     <use xlink:href=\"#DejaVuSans-66\" x=\"275.732422\"/>\n     <use xlink:href=\"#DejaVuSans-65\" x=\"310.9375\"/>\n     <use xlink:href=\"#DejaVuSans-61\" x=\"372.460938\"/>\n     <use xlink:href=\"#DejaVuSans-74\" x=\"433.740234\"/>\n     <use xlink:href=\"#DejaVuSans-75\" x=\"472.949219\"/>\n     <use xlink:href=\"#DejaVuSans-72\" x=\"536.328125\"/>\n     <use xlink:href=\"#DejaVuSans-65\" x=\"575.191406\"/>\n     <use xlink:href=\"#DejaVuSans-3a\" x=\"636.714844\"/>\n     <use xlink:href=\"#DejaVuSans-20\" x=\"670.40625\"/>\n     <use xlink:href=\"#DejaVuSans-72\" x=\"702.193359\"/>\n     <use xlink:href=\"#DejaVuSans-61\" x=\"743.306641\"/>\n     <use xlink:href=\"#DejaVuSans-63\" x=\"804.585938\"/>\n     <use xlink:href=\"#DejaVuSans-65\" x=\"859.566406\"/>\n    </g>\n   </g>\n   <g id=\"legend_1\">\n    <g id=\"patch_29\">\n     <path d=\"M 276.899897 83.477153 \nL 352.859721 83.477153 \nQ 354.596721 83.477153 354.596721 81.740153 \nL 354.596721 57.11275 \nQ 354.596721 55.37575 352.859721 55.37575 \nL 276.899897 55.37575 \nQ 275.162897 55.37575 275.162897 57.11275 \nL 275.162897 81.740153 \nQ 275.162897 83.477153 276.899897 83.477153 \nz\n\" style=\"fill: #ffffff; opacity: 0.8; stroke: #cccccc; stroke-linejoin: miter\"/>\n    </g>\n    <g id=\"patch_30\">\n     <path d=\"M 278.636897 65.448993 \nL 296.006897 65.448993 \nL 296.006897 59.369493 \nL 278.636897 59.369493 \nz\n\" style=\"fill: #441d9e\"/>\n    </g>\n    <g id=\"text_21\">\n     <!-- categorical -->\n     <g transform=\"translate(302.954897 65.448993)scale(0.08685 -0.08685)\">\n      <use xlink:href=\"#DejaVuSans-63\"/>\n      <use xlink:href=\"#DejaVuSans-61\" x=\"54.980469\"/>\n      <use xlink:href=\"#DejaVuSans-74\" x=\"116.259766\"/>\n      <use xlink:href=\"#DejaVuSans-65\" x=\"155.46875\"/>\n      <use xlink:href=\"#DejaVuSans-67\" x=\"216.992188\"/>\n      <use xlink:href=\"#DejaVuSans-6f\" x=\"280.46875\"/>\n      <use xlink:href=\"#DejaVuSans-72\" x=\"341.650391\"/>\n      <use xlink:href=\"#DejaVuSans-69\" x=\"382.763672\"/>\n      <use xlink:href=\"#DejaVuSans-63\" x=\"410.546875\"/>\n      <use xlink:href=\"#DejaVuSans-61\" x=\"465.527344\"/>\n      <use xlink:href=\"#DejaVuSans-6c\" x=\"526.806641\"/>\n     </g>\n    </g>\n    <g id=\"patch_31\">\n     <path d=\"M 278.636897 78.196945 \nL 296.006897 78.196945 \nL 296.006897 72.117445 \nL 278.636897 72.117445 \nz\n\" style=\"fill: #e03e87\"/>\n    </g>\n    <g id=\"text_22\">\n     <!-- continuous -->\n     <g transform=\"translate(302.954897 78.196945)scale(0.08685 -0.08685)\">\n      <use xlink:href=\"#DejaVuSans-63\"/>\n      <use xlink:href=\"#DejaVuSans-6f\" x=\"54.980469\"/>\n      <use xlink:href=\"#DejaVuSans-6e\" x=\"116.162109\"/>\n      <use xlink:href=\"#DejaVuSans-74\" x=\"179.541016\"/>\n      <use xlink:href=\"#DejaVuSans-69\" x=\"218.75\"/>\n      <use xlink:href=\"#DejaVuSans-6e\" x=\"246.533203\"/>\n      <use xlink:href=\"#DejaVuSans-75\" x=\"309.912109\"/>\n      <use xlink:href=\"#DejaVuSans-6f\" x=\"373.291016\"/>\n      <use xlink:href=\"#DejaVuSans-75\" x=\"434.472656\"/>\n      <use xlink:href=\"#DejaVuSans-73\" x=\"497.851562\"/>\n     </g>\n    </g>\n   </g>\n  </g>\n </g>\n <defs>\n  <clipPath id=\"p024e373b1e\">\n   <rect x=\"79.939221\" y=\"51.03325\" width=\"279\" height=\"190.26\"/>\n  </clipPath>\n </defs>\n</svg>\n",
      "text/plain": [
       "<Figure size 1500x1050 with 1 Axes>"
      ]
     },
     "metadata": {},
     "output_type": "display_data"
    }
   ],
   "source": [
    "lens = cl.Lens(data=credo_data).run_assessments().display_results()"
   ]
  },
  {
   "cell_type": "markdown",
   "metadata": {},
   "source": [
    "The results can be interpreted similarly to `sex` features. There are, however, some noteworthy differences.\n",
    "\n",
    "There are more than two groups in this feature. The data imbalance is more significant. When there are more than two groups, like here, the demographic parity metrics can be calculated for different group combinations. Lens visualizes the maximum values only, but the values can be accessed in the output `results` variable above.\n",
    "\n",
    "Similarly, the group differences for the group combination with the maximum total absolute value is visualized. The output `results` variable contains values for all the combinations.\n",
    "\n",
    "`native.country` has the highest normalized mutual information with `race`. The `race` predictability ROC-AUC score is 0.763. Since `race` feature here is multi-class, one-vs-one configuration is used here for the calculations and is also insensitive to class imbalance. It computes the average ROC-AUC of all possible pairwise combinations of classes. See [here](https://scikit-learn.org/stable/modules/generated/sklearn.metrics.roc_auc_score.html) for more details."
   ]
  }
 ],
 "metadata": {
  "interpreter": {
   "hash": "8d7eb8a87bb83596f4cd5aeb66d856dad2a9bb65fe804cea051250e36746a46f"
  },
  "kernelspec": {
   "display_name": "Python 3.9.7 64-bit ('pip_dev': conda)",
   "name": "python3"
  },
  "language_info": {
   "name": "python",
   "version": ""
  }
 },
 "nbformat": 4,
 "nbformat_minor": 4
}