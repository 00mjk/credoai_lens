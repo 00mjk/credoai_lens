{
 "cells": [
  {
   "cell_type": "markdown",
   "id": "48b2cf0c-9a00-46e7-b59d-4591c2aeface",
   "metadata": {
    "tags": []
   },
   "source": [
    "# NLP Generator Analysis with Lens\n",
    "\n",
    "### Find the code\n",
    "This notebook can be found on [github](https://github.com/credo-ai/credoai_lens/blob/develop/docs/notebooks/lens_demos/nlp_generatr_demo.ipynb)."
   ]
  },
  {
   "cell_type": "code",
   "execution_count": null,
   "id": "d8423743-017a-4b8e-abb7-85bac0c96fd7",
   "metadata": {},
   "outputs": [],
   "source": [
    "from credoai.lens import Lens, CredoModel, CredoData\n",
    "from credoai.assessment import NLPGeneratorAssessment\n",
    "from credoai.utils.nlp_utils import gpt1_text_generator"
   ]
  },
  {
   "cell_type": "code",
   "execution_count": null,
   "id": "d9d16a70-1428-4d1e-ac81-f1d2be554395",
   "metadata": {},
   "outputs": [],
   "source": [
    "credo_model = CredoModel(name='gpt1',\n",
    "           model_config = {'generator_fun': gpt1_text_generator})\n",
    "\n",
    "assessment_spec = {'NLPGenerator': {'prompts': 'realtoxicityprompts_challenging_20'}}\n",
    "lens = Lens(model = credo_model,\n",
    "            spec = assessment_spec)"
   ]
  },
  {
   "cell_type": "code",
   "execution_count": null,
   "id": "74ad656d-f8b8-4607-874a-e736e55a93af",
   "metadata": {},
   "outputs": [],
   "source": [
    "results = lens.run_assessments()"
   ]
  },
  {
   "cell_type": "code",
   "execution_count": null,
   "id": "3e29975e-c0c7-4c64-86c3-87742a971529",
   "metadata": {},
   "outputs": [],
   "source": [
    "lens.create_reports()"
   ]
  }
 ],
 "metadata": {
  "kernelspec": {
   "display_name": "Python 3 (ipykernel)",
   "language": "python",
   "name": "python3"
  },
  "language_info": {
   "codemirror_mode": {
    "name": "ipython",
    "version": 3
   },
   "file_extension": ".py",
   "mimetype": "text/x-python",
   "name": "python",
   "nbconvert_exporter": "python",
   "pygments_lexer": "ipython3",
   "version": "3.9.9"
  }
 },
 "nbformat": 4,
 "nbformat_minor": 5
}
