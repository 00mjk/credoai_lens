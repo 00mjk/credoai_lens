{
 "cells": [
  {
   "cell_type": "markdown",
   "metadata": {},
   "source": [
    "# Structured Dataset Profiling with Lens\n",
    "\n",
    "### Find the code\n",
    "This notebook can be found on [github](https://github.com/credo-ai/credoai_lens/blob/develop/docs/notebooks/lens_demos/dataset_profiling.ipynb).\n",
    "```"
   ]
  },
  {
   "cell_type": "markdown",
   "metadata": {},
   "source": [
    "## Contents\n",
    "\n",
    "1. [What is Covered](#What-is-Covered)\n",
    "2. [Introduction](#Introduction)\n",
    "3. [Dataset](#Dataset)\n",
    "4. [Running Lens](#Running-Lens)"
   ]
  },
  {
   "cell_type": "markdown",
   "metadata": {},
   "source": [
    "## What is Covered <a name=\"What-is-Covered\"></a>\n",
    "* **Domain:**\n",
    "  * Applications that rely on structured datasets.\n",
    "\n",
    "\n",
    "* **ML task:**\n",
    "  * Exploratory data analysis for model training, validation, and testing with structured datasets."
   ]
  },
  {
   "cell_type": "markdown",
   "metadata": {},
   "source": [
    "## Introduction <a name=\"Introduction\"></a>\n",
    "Structured data conforms to a tabular format with relationship between the different rows and columns. Many machine learning models are trained, validated, and tested on structured datasets.\n",
    "\n",
    "Exploratory analysis of a structured dataset provides insights for a more informed assessment of the ML model. Lens Dataset Profiling module uses pandas_profiling to enable this analysis through generating data profiles."
   ]
  },
  {
   "cell_type": "markdown",
   "metadata": {},
   "source": [
    "## Dataset <a name=\"Dataset\"></a>\n",
    "The [Census Adult Dataset](https://archive.ics.uci.edu/ml/datasets/adult) is from the Census Bureau and the label is whether a given adult makes more than $50K a year based attributes such as sex and education.\n",
    "\n",
    "The dataset provides 13 input variables that are a mixture of categorical, ordinal, and numerical data types. The complete list of variables is as follows:\n",
    "\n",
    "Age, Workclass, Education, Education Number of Years, Marital-status, Occupation, Relationship, Race, Sex, Capital-gain, Capital-loss, Hours-per-week, and Native-country."
   ]
  },
  {
   "cell_type": "code",
   "execution_count": null,
   "metadata": {},
   "outputs": [],
   "source": [
    "import numpy as np\n",
    "# Imports for demo data\n",
    "from credoai.data import fetch_censusincome\n",
    "\n",
    "# Base Lens imports\n",
    "import credoai.lens as cl\n",
    "import credoai.assessment as assess\n",
    "\n",
    "cl.set_logging_level('info')\n",
    "# set default format for image displays. Change to 'png' if 'svg' is failing\n",
    "%config InlineBackend.figure_formats = ['svg']"
   ]
  },
  {
   "cell_type": "code",
   "execution_count": null,
   "metadata": {},
   "outputs": [],
   "source": [
    "data = fetch_censusincome()\n",
    "df = data['data'].copy()\n",
    "df['target'] = data['target']"
   ]
  },
  {
   "cell_type": "code",
   "execution_count": null,
   "metadata": {},
   "outputs": [],
   "source": [
    "df.head(3)"
   ]
  },
  {
   "cell_type": "code",
   "execution_count": null,
   "metadata": {},
   "outputs": [],
   "source": [
    "# Prepare missing values\n",
    "df = df.replace(\"\\\\?\", np.nan, regex=True)"
   ]
  },
  {
   "cell_type": "code",
   "execution_count": null,
   "metadata": {},
   "outputs": [],
   "source": [
    "import credoai.modules as mod\n",
    "dp = mod.DatasetProfiling(X=df[['education', 'occupation']], y=df['target'])\n",
    "dp.profile_data()"
   ]
  },
  {
   "cell_type": "markdown",
   "metadata": {},
   "source": [
    "## Running Lens <a name=\"Running-Lens\"></a>\n",
    "First step is creating a Lens CredoData artifact. This will hold the structured dataset and the meta information needed for doing the assessment. CredoData has the following paramters:\n",
    "\n",
    "`name` : an arbitrary name that you want to assign to the object (str)\n",
    "\n",
    "\n",
    "`data` : dataset dataframe that includes all features and labels (pd.DataFrame)\n",
    "\n",
    "\n",
    "`sensitive_feature_key` : name of the sensitive feature column in your data, like 'race' or 'gender' (str)\n",
    "\n",
    "\n",
    "`label_key` : name of the label column in your data, like 'label' (str)"
   ]
  },
  {
   "cell_type": "code",
   "execution_count": null,
   "metadata": {},
   "outputs": [],
   "source": [
    "label_key = 'target'\n",
    "categorical_features_keys = ['workclass', 'education', 'marital.status', 'occupation', 'relationship', 'race', 'sex', 'native.country']\n",
    "\n",
    "# Set up the data artifact\n",
    "credo_data = cl.CredoData(name='census-income',\n",
    "                          data=df, \n",
    "                          label_key=label_key)"
   ]
  },
  {
   "cell_type": "code",
   "execution_count": null,
   "metadata": {},
   "outputs": [],
   "source": [
    "lens = cl.Lens(data=credo_data, assessments=[assess.DatasetProfilingAssessment()])\n",
    "results = lens.run_assessments().get_results()"
   ]
  },
  {
   "cell_type": "code",
   "execution_count": null,
   "metadata": {
    "tags": []
   },
   "outputs": [],
   "source": [
    "lens.create_report()"
   ]
  }
 ],
 "metadata": {
  "interpreter": {
   "hash": "bfed37b8eebe305cb17fbe24f92dd8aecd9d868267c58122a74dc367fe2a67cf"
  },
  "kernelspec": {
   "display_name": "Python 3 (ipykernel)",
   "language": "python",
   "name": "python3"
  },
  "language_info": {
   "codemirror_mode": {
    "name": "ipython",
    "version": 3
   },
   "file_extension": ".py",
   "mimetype": "text/x-python",
   "name": "python",
   "nbconvert_exporter": "python",
   "pygments_lexer": "ipython3",
   "version": "3.9.7"
  }
 },
 "nbformat": 4,
 "nbformat_minor": 4
}
