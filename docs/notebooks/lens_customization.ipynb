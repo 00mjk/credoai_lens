{
 "cells": [
  {
   "cell_type": "markdown",
   "id": "a7f04a56",
   "metadata": {
    "tags": []
   },
   "source": [
    "# Customizing Lens\n",
    "\n",
    "Lens strives to give you sensible defaults and automatically do the proper assessments whenever possible. However, there are many times where you'll want to change, select, or extend the functionality. Lens is intended to be an _extensible framework_ that can accomodate your own analysis plan.\n",
    "\n",
    "In this document we will describe a number of ways you can customize Lens:\n",
    "* Setting up CredoModels\n",
    "* Selecting which assessments to run\n",
    "* Parameterizing assessments\n",
    "* Creating new modules and assessments\n",
    "* Incorporating new metrics"
   ]
  },
  {
   "cell_type": "code",
   "execution_count": 1,
   "id": "cc375cac",
   "metadata": {},
   "outputs": [
    {
     "name": "stdout",
     "output_type": "stream",
     "text": [
      "\n",
      "\n",
      "Failed to import tensorflow. Please note that tensorflow is not installed by default when you install tensorflow_hub. This is so that users can decide which tensorflow package to use. To use tensorflow_hub, please install a current version of tensorflow by following the instructions at https://tensorflow.org/install and https://tensorflow.org/hub/installation.\n",
      "\n",
      "\n"
     ]
    }
   ],
   "source": [
    "import credoai.lens as cl\n",
    "from copy import deepcopy"
   ]
  },
  {
   "cell_type": "markdown",
   "id": "00ae86b4",
   "metadata": {
    "tags": []
   },
   "source": [
    "## Setup\n",
    "\n",
    "We'll set up data and a model to run through some customization options. See `quickstart` for more information on this code."
   ]
  },
  {
   "cell_type": "code",
   "execution_count": 2,
   "id": "b3273569",
   "metadata": {},
   "outputs": [
    {
     "data": {
      "text/plain": [
       "GradientBoostingClassifier()"
      ]
     },
     "execution_count": 2,
     "metadata": {},
     "output_type": "execute_result"
    }
   ],
   "source": [
    "# imports for example data and model training\n",
    "from credoai.data import fetch_creditdefault\n",
    "from sklearn.ensemble import GradientBoostingClassifier\n",
    "# data\n",
    "data = fetch_creditdefault(as_frame=True)\n",
    "X = data['data'].drop(columns=['SEX'])\n",
    "y = data['target']\n",
    "sensitive_feature = data['data']['SEX']\n",
    "# model\n",
    "model = GradientBoostingClassifier()\n",
    "model.fit(X,y)"
   ]
  },
  {
   "cell_type": "code",
   "execution_count": 3,
   "id": "a9648c76",
   "metadata": {},
   "outputs": [],
   "source": [
    "credo_model = cl.CredoModel(name='credit_default_classifier',\n",
    "                            model=model)\n",
    "\n",
    "credo_data = cl.CredoData(name='UCI-credit-default',\n",
    "                          X=X, \n",
    "                          y=y.astype(int),\n",
    "                          sensitive_features=sensitive_feature)\n",
    "alignment_spec = {'FairnessBase': {'metrics': ['precision_score']}}"
   ]
  },
  {
   "cell_type": "markdown",
   "id": "82ead658",
   "metadata": {
    "tags": []
   },
   "source": [
    "## Creating a CredoModel\n",
    "\n",
    "Above the CredoModel functionality was inferred from the fact that the model (GraidentBoostingClassifier) is a scikit-learn model. But CredoModels are generic wrappers around functions and can be created from scratch.\n",
    "\n",
    "The below \"custom_model\" instantiates two custom functions: `foo` and `bar`. Specific functionality is required by different assessments (see below). For instance, some assessments require that the CredoModel instantiates a `prob_fun`.\n",
    "\n",
    "Bottom line - CredoModels instantiate certain functionality, and this functionality determines which assessments can be run successfully."
   ]
  },
  {
   "cell_type": "code",
   "execution_count": 4,
   "id": "6c95f0dc",
   "metadata": {},
   "outputs": [
    {
     "data": {
      "text/plain": [
       "'foo response'"
      ]
     },
     "execution_count": 4,
     "metadata": {},
     "output_type": "execute_result"
    }
   ],
   "source": [
    "model_config = {'foo': lambda: 'foo response', 'bar': lambda: 'bar response'}\n",
    "custom_model = cl.CredoModel(name = 'example',\n",
    "                             model_config = model_config)\n",
    "\n",
    "custom_model.foo()"
   ]
  },
  {
   "cell_type": "markdown",
   "id": "897a5bb3",
   "metadata": {
    "tags": []
   },
   "source": [
    "## Selecting Assessments\n",
    "\n",
    "**Automatic selection of assessments**\n",
    "\n",
    "Lens has a number of assessments available, each of which works with different kinds of models or datasets. By default, Lens will automatically run every assessment that has its prerequesites met. The prerequesities can be queried by calling the `get_requirements` function on an assessment. These indicate the set of features or functions your model and data must instantiate in order for the assessment to be run. \n",
    "\n",
    "These requirements are specific for the model and the data. Each requirement is either a single requirements or a tuple. If a tuple, only one of the requirements within the tuple must be met. For instance, the FairnessBaseAssessment needs *either* `prob_fun` OR `pred_fun`. See `credoai.assessments.credo_assessment.AssessmentRequirements` for more."
   ]
  },
  {
   "cell_type": "code",
   "execution_count": 5,
   "id": "22c7ae2c",
   "metadata": {},
   "outputs": [
    {
     "data": {
      "text/plain": [
       "{'model_requirements': [('prob_fun', 'pred_fun')],\n",
       " 'data_requirements': ['X', 'y', 'sensitive_features']}"
      ]
     },
     "execution_count": 5,
     "metadata": {},
     "output_type": "execute_result"
    }
   ],
   "source": [
    "from credoai.assessment import FairnessBaseAssessment\n",
    "assessment = FairnessBaseAssessment()\n",
    "assessment.get_requirements()"
   ]
  },
  {
   "cell_type": "markdown",
   "id": "319e8546",
   "metadata": {},
   "source": [
    "You can also get the requirements for all assessments."
   ]
  },
  {
   "cell_type": "code",
   "execution_count": 6,
   "id": "b57c9911",
   "metadata": {},
   "outputs": [
    {
     "data": {
      "text/plain": [
       "{'DatasetAssessment': {'model_requirements': [],\n",
       "  'data_requirements': ['X', 'y', 'sensitive_features']},\n",
       " 'FairnessBaseAssessment': {'model_requirements': [('prob_fun', 'pred_fun')],\n",
       "  'data_requirements': ['X', 'y', 'sensitive_features']},\n",
       " 'NLPEmbeddingBiasAssessment': {'model_requirements': ['embedding_fun'],\n",
       "  'data_requirements': []},\n",
       " 'NLPGeneratorAssessment': {'model_requirements': ['generation_fun',\n",
       "   'assessment_config'],\n",
       "  'data_requirements': []}}"
      ]
     },
     "execution_count": 6,
     "metadata": {},
     "output_type": "execute_result"
    }
   ],
   "source": [
    "from credoai.assessment import get_assessment_requirements\n",
    "get_assessment_requirements()"
   ]
  },
  {
   "cell_type": "markdown",
   "id": "214995ea",
   "metadata": {},
   "source": [
    "**Selecting a subset of assessments**\n",
    "\n",
    "But what if you don't want all of those assessments? No problem! Just pass the assessments you do want to Lens. "
   ]
  },
  {
   "cell_type": "code",
   "execution_count": 7,
   "id": "8482703b",
   "metadata": {},
   "outputs": [],
   "source": [
    "# Note: Remember to instantiate the assessment!\n",
    "selected_assessments = [FairnessBaseAssessment()]\n",
    "lens = cl.Lens(model=credo_model,\n",
    "               data=credo_data,\n",
    "               assessments=selected_assessments,\n",
    "               spec=alignment_spec)"
   ]
  },
  {
   "cell_type": "markdown",
   "id": "5ff66a35",
   "metadata": {},
   "source": [
    "## Parameterizing Assessments\n",
    "\n",
    "Now that we can select assessments, how about customizing them? There are two places where assessments can be customized: (1) when their underlying module is initialized and (2) when they are ran (which runs the underlying module).\n",
    "\n",
    "### Customizing initialization\n",
    "Below we can see how to customize the initialization of the assessment. We use something we've already seen before - the `alignment spec`! The parameters that can be passed at this stage are the same parameters passed to the assessment's `init_module` function."
   ]
  },
  {
   "cell_type": "code",
   "execution_count": 8,
   "id": "59f2bd93",
   "metadata": {},
   "outputs": [],
   "source": [
    "# Note: Remember to instantiate the assessment!\n",
    "selected_assessments = [FairnessBaseAssessment()]\n",
    "init_kwargs = deepcopy(alignment_spec)\n",
    "init_kwargs['FairnessBase']['metrics'].append('recall_score')\n",
    "lens = cl.Lens(model=credo_model,\n",
    "               data=credo_data,\n",
    "               assessments=selected_assessments,\n",
    "               spec=init_kwargs)"
   ]
  },
  {
   "cell_type": "code",
   "execution_count": 9,
   "id": "59a15ce5",
   "metadata": {},
   "outputs": [
    {
     "data": {
      "text/html": [
       "<div>\n",
       "<style scoped>\n",
       "    .dataframe tbody tr th:only-of-type {\n",
       "        vertical-align: middle;\n",
       "    }\n",
       "\n",
       "    .dataframe tbody tr th {\n",
       "        vertical-align: top;\n",
       "    }\n",
       "\n",
       "    .dataframe thead th {\n",
       "        text-align: right;\n",
       "    }\n",
       "</style>\n",
       "<table border=\"1\" class=\"dataframe\">\n",
       "  <thead>\n",
       "    <tr style=\"text-align: right;\">\n",
       "      <th></th>\n",
       "      <th>value</th>\n",
       "    </tr>\n",
       "  </thead>\n",
       "  <tbody>\n",
       "    <tr>\n",
       "      <th>precision_score</th>\n",
       "      <td>0.000543</td>\n",
       "    </tr>\n",
       "    <tr>\n",
       "      <th>recall_score</th>\n",
       "      <td>0.01676</td>\n",
       "    </tr>\n",
       "  </tbody>\n",
       "</table>\n",
       "</div>"
      ],
      "text/plain": [
       "                    value\n",
       "precision_score  0.000543\n",
       "recall_score      0.01676"
      ]
     },
     "execution_count": 9,
     "metadata": {},
     "output_type": "execute_result"
    }
   ],
   "source": [
    "lens.run_assessments()['FairnessBase']['fairness']"
   ]
  },
  {
   "cell_type": "markdown",
   "id": "1d36e749",
   "metadata": {},
   "source": [
    "### Customizing running assessments \n",
    "\n",
    "The other way of parameterizing the assessments is by passing arguments to the assessment's `run` function. These kwargs are passed to `lens.run_assessments`, which are, in turn passed to the assessment's initialized module.\n",
    "\n",
    "For instance, the `FairnessBase` assessment initializes `mod.FairnessBase`, whose `run` argument can take a `method` parameter which controls how fairness scores are calculated. The default is \"between_groups\", but we can change it like so:"
   ]
  },
  {
   "cell_type": "code",
   "execution_count": 10,
   "id": "cd883d82",
   "metadata": {},
   "outputs": [
    {
     "data": {
      "text/html": [
       "<div>\n",
       "<style scoped>\n",
       "    .dataframe tbody tr th:only-of-type {\n",
       "        vertical-align: middle;\n",
       "    }\n",
       "\n",
       "    .dataframe tbody tr th {\n",
       "        vertical-align: top;\n",
       "    }\n",
       "\n",
       "    .dataframe thead th {\n",
       "        text-align: right;\n",
       "    }\n",
       "</style>\n",
       "<table border=\"1\" class=\"dataframe\">\n",
       "  <thead>\n",
       "    <tr style=\"text-align: right;\">\n",
       "      <th></th>\n",
       "      <th>value</th>\n",
       "    </tr>\n",
       "  </thead>\n",
       "  <tbody>\n",
       "    <tr>\n",
       "      <th>precision_score</th>\n",
       "      <td>0.000302</td>\n",
       "    </tr>\n",
       "    <tr>\n",
       "      <th>recall_score</th>\n",
       "      <td>0.009504</td>\n",
       "    </tr>\n",
       "  </tbody>\n",
       "</table>\n",
       "</div>"
      ],
      "text/plain": [
       "                    value\n",
       "precision_score  0.000302\n",
       "recall_score     0.009504"
      ]
     },
     "execution_count": 10,
     "metadata": {},
     "output_type": "execute_result"
    }
   ],
   "source": [
    "run_kwargs = {'FairnessBase': {'method': 'to_overall'}}\n",
    "lens.run_assessments(assessment_kwargs = run_kwargs)['FairnessBase']['fairness']"
   ]
  },
  {
   "cell_type": "markdown",
   "id": "310142ba",
   "metadata": {},
   "source": [
    "## Creating New Modules & Assessments\n",
    "\n",
    "WIP section!"
   ]
  },
  {
   "cell_type": "markdown",
   "id": "5b1b8e13",
   "metadata": {},
   "source": [
    "## Module Specific Customization - Custom Metrics for Fairness Base\n",
    "\n",
    "Each module has different parameterization options, as discused above. The FairnessModule takes a set of metrics to calculate on the model and data. Many metrics are supported out-of-the-box. These metrics can be referenced by string. However, custom metrics can be created as well. Doing so will allow you to calculate any metric that takes in a `y_true` and some kind of prediction\n",
    "\n",
    "Custom metrics can be incorporated by creating a `FairnessFunction`. The `FairnessFunction` is a lightweight wrapper class that defines a few characteristics of the custom function needed by the module. \n",
    "\n",
    "**Example: Confidence Intervals**\n",
    "\n",
    "We will create custom metrics that reflect the lower and upper 95th percentile confidence bound on the true positive rate.\n",
    "\n",
    "Confidence intervals are not generically supported. However, they can be derived for metrics derived from a confusion matrix using the `wilson confidence interval`. A convenience function called `confusion_wilson` is supplied which returns an array: [lower, upper] bound for the metric. \n",
    "\n",
    "Wrapping the confusion wilson function in a `FairnessFunction` allows us to pass it as a metric to the FairnessModule."
   ]
  },
  {
   "cell_type": "code",
   "execution_count": 15,
   "id": "fd3b6886",
   "metadata": {},
   "outputs": [],
   "source": [
    "from credoai.utils.metrics import confusion_wilson\n",
    "from credoai.modules import FairnessFunction, FairnessModule\n",
    "\n",
    "# define partial functions for the true positive rate lower bound\n",
    "def lower_bound_tpr(y_true, y_pred):\n",
    "    return confusion_wilson(y_true, y_pred, metric='true_positive_rate', confidence=0.95)[0]\n",
    "\n",
    "# and upper bound\n",
    "def upper_bound_tpr(y_true, y_pred):\n",
    "    return confusion_wilson(y_true, y_pred, metric='true_positive_rate', confidence=0.95)[1]\n",
    "\n",
    "# wrap the functions in fairness functions\n",
    "lower_metric = FairnessFunction(name = 'lower_bound_tpr', \n",
    "                          func = lower_bound_tpr, \n",
    "                          takes_sensitive_features = False, \n",
    "                          takes_prob = False)\n",
    "\n",
    "upper_metric = FairnessFunction(name = 'upper_bound_tpr', \n",
    "                          func = upper_bound_tpr, \n",
    "                          takes_sensitive_features = False, \n",
    "                          takes_prob = False)"
   ]
  },
  {
   "cell_type": "code",
   "execution_count": 19,
   "id": "2d55efb6",
   "metadata": {},
   "outputs": [
    {
     "data": {
      "text/html": [
       "<div>\n",
       "<style scoped>\n",
       "    .dataframe tbody tr th:only-of-type {\n",
       "        vertical-align: middle;\n",
       "    }\n",
       "\n",
       "    .dataframe tbody tr th {\n",
       "        vertical-align: top;\n",
       "    }\n",
       "\n",
       "    .dataframe thead th {\n",
       "        text-align: right;\n",
       "    }\n",
       "</style>\n",
       "<table border=\"1\" class=\"dataframe\">\n",
       "  <thead>\n",
       "    <tr style=\"text-align: right;\">\n",
       "      <th></th>\n",
       "      <th>lower_bound_tpr</th>\n",
       "      <th>tpr</th>\n",
       "      <th>upper_bound_tpr</th>\n",
       "    </tr>\n",
       "    <tr>\n",
       "      <th>SEX</th>\n",
       "      <th></th>\n",
       "      <th></th>\n",
       "      <th></th>\n",
       "    </tr>\n",
       "  </thead>\n",
       "  <tbody>\n",
       "    <tr>\n",
       "      <th>1.0</th>\n",
       "      <td>0.365613</td>\n",
       "      <td>0.383223</td>\n",
       "      <td>0.401145</td>\n",
       "    </tr>\n",
       "    <tr>\n",
       "      <th>2.0</th>\n",
       "      <td>0.351211</td>\n",
       "      <td>0.366463</td>\n",
       "      <td>0.381987</td>\n",
       "    </tr>\n",
       "    <tr>\n",
       "      <th>overall</th>\n",
       "      <td>0.362155</td>\n",
       "      <td>0.373719</td>\n",
       "      <td>0.385429</td>\n",
       "    </tr>\n",
       "  </tbody>\n",
       "</table>\n",
       "</div>"
      ],
      "text/plain": [
       "         lower_bound_tpr       tpr  upper_bound_tpr\n",
       "SEX                                                \n",
       "1.0             0.365613  0.383223         0.401145\n",
       "2.0             0.351211  0.366463         0.381987\n",
       "overall         0.362155  0.373719         0.385429"
      ]
     },
     "execution_count": 19,
     "metadata": {},
     "output_type": "execute_result"
    }
   ],
   "source": [
    "# Note: Remember to instantiate the assessment!\n",
    "selected_assessments = [FairnessBaseAssessment()]\n",
    "init_kwargs = deepcopy(alignment_spec)\n",
    "init_kwargs['FairnessBase']['metrics'] = [lower_metric, 'tpr', upper_metric]\n",
    "custom_lens = cl.Lens(model=credo_model,\n",
    "               data=credo_data,\n",
    "               assessments=selected_assessments,\n",
    "               spec=init_kwargs)\n",
    "output = custom_lens.run_assessments()\n",
    "output['FairnessBase']['disaggregated_results']"
   ]
  }
 ],
 "metadata": {
  "kernelspec": {
   "display_name": "Python 3",
   "language": "python",
   "name": "python3"
  },
  "language_info": {
   "codemirror_mode": {
    "name": "ipython",
    "version": 3
   },
   "file_extension": ".py",
   "mimetype": "text/x-python",
   "name": "python",
   "nbconvert_exporter": "python",
   "pygments_lexer": "ipython3",
   "version": "3.9.7"
  }
 },
 "nbformat": 4,
 "nbformat_minor": 5
}
