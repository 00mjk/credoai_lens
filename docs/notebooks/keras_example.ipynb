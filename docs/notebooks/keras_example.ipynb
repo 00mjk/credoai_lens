{
    "cells": [
        {
            "cell_type": "markdown",
            "metadata": {},
            "source": [
                "## Multiclass TensoFlow Model Assessment with Lens\n",
                "This notebook builds and assessed a digit-classification model with TensorFlow and Lens"
            ]
        },
        {
            "cell_type": "code",
            "execution_count": 1,
            "metadata": {},
            "outputs": [],
            "source": [
                "%load_ext autoreload\n",
                "%autoreload 2"
            ]
        },
        {
            "cell_type": "markdown",
            "metadata": {},
            "source": [
                "### TensorFlow"
            ]
        },
        {
            "cell_type": "code",
            "execution_count": 2,
            "metadata": {},
            "outputs": [
                {
                    "name": "stdout",
                    "output_type": "stream",
                    "text": [
                        "TensorFlow version: 2.10.0\n"
                    ]
                }
            ],
            "source": [
                "import tensorflow as tf\n",
                "import numpy as np\n",
                "from sklearn.metrics import ConfusionMatrixDisplay\n",
                "from sklearn.metrics import accuracy_score\n",
                "print(\"TensorFlow version:\", tf.__version__)\n",
                " "
            ]
        },
        {
            "cell_type": "code",
            "execution_count": 3,
            "metadata": {},
            "outputs": [],
            "source": [
                "mnist = tf.keras.datasets.mnist\n",
                "\n",
                "(x_train, y_train), (x_test, y_test) = mnist.load_data()\n",
                "x_train, x_test = x_train / 255.0, x_test / 255.0"
            ]
        },
        {
            "cell_type": "code",
            "execution_count": 4,
            "metadata": {},
            "outputs": [],
            "source": [
                "from credoai.artifacts import KerasData"
            ]
        },
        {
            "cell_type": "code",
            "execution_count": 5,
            "metadata": {},
            "outputs": [],
            "source": [
                "my_data = KerasData('keras', x_train, y_train)"
            ]
        },
        {
            "cell_type": "code",
            "execution_count": 6,
            "metadata": {},
            "outputs": [
                {
                    "name": "stdout",
                    "output_type": "stream",
                    "text": [
                        "Model: \"sequential\"\n",
                        "_________________________________________________________________\n",
                        " Layer (type)                Output Shape              Param #   \n",
                        "=================================================================\n",
                        " flatten (Flatten)           (None, 784)               0         \n",
                        "                                                                 \n",
                        " dense (Dense)               (None, 128)               100480    \n",
                        "                                                                 \n",
                        " dropout (Dropout)           (None, 128)               0         \n",
                        "                                                                 \n",
                        " dense_1 (Dense)             (None, 10)                1290      \n",
                        "                                                                 \n",
                        "=================================================================\n",
                        "Total params: 101,770\n",
                        "Trainable params: 101,770\n",
                        "Non-trainable params: 0\n",
                        "_________________________________________________________________\n"
                    ]
                }
            ],
            "source": [
                "model = tf.keras.models.Sequential([\n",
                "  tf.keras.layers.Flatten(input_shape=(28, 28)),\n",
                "  tf.keras.layers.Dense(128, activation='relu'),\n",
                "  tf.keras.layers.Dropout(0.2),\n",
                "  tf.keras.layers.Dense(10)\n",
                "])\n",
                "\n",
                "model.run_eagerly = False\n",
                "\n",
                "model.summary()"
            ]
        },
        {
            "cell_type": "code",
            "execution_count": 7,
            "metadata": {},
            "outputs": [
                {
                    "data": {
                        "text/plain": [
                            "'keras.engine.sequential'"
                        ]
                    },
                    "execution_count": 7,
                    "metadata": {},
                    "output_type": "execute_result"
                }
            ],
            "source": [
                "model.__class__.__module__"
            ]
        },
        {
            "cell_type": "code",
            "execution_count": 8,
            "metadata": {},
            "outputs": [],
            "source": [
                "loss_fn = tf.keras.losses.SparseCategoricalCrossentropy(from_logits=True)"
            ]
        },
        {
            "cell_type": "code",
            "execution_count": 9,
            "metadata": {},
            "outputs": [],
            "source": [
                "model.compile(optimizer='adam',\n",
                "              loss=loss_fn,\n",
                "              metrics=['accuracy'])"
            ]
        },
        {
            "cell_type": "code",
            "execution_count": 10,
            "metadata": {},
            "outputs": [
                {
                    "name": "stdout",
                    "output_type": "stream",
                    "text": [
                        "Train on 60000 samples\n",
                        "Epoch 1/3\n",
                        " 4992/60000 [=>............................] - ETA: 1s - loss: 0.8465 - accuracy: 0.7476"
                    ]
                },
                {
                    "name": "stderr",
                    "output_type": "stream",
                    "text": [
                        "2022-12-07 14:26:06.584779: I tensorflow/compiler/mlir/mlir_graph_optimization_pass.cc:354] MLIR V1 optimization pass is not enabled\n",
                        "2022-12-07 14:26:06.588121: W tensorflow/core/platform/profile_utils/cpu_utils.cc:128] Failed to get CPU frequency: 0 Hz\n"
                    ]
                },
                {
                    "name": "stdout",
                    "output_type": "stream",
                    "text": [
                        "60000/60000 [==============================] - 1s 17us/sample - loss: 0.3010 - accuracy: 0.9127\n",
                        "Epoch 2/3\n",
                        "60000/60000 [==============================] - 1s 14us/sample - loss: 0.1435 - accuracy: 0.9572\n",
                        "Epoch 3/3\n",
                        "60000/60000 [==============================] - 1s 14us/sample - loss: 0.1078 - accuracy: 0.9671\n"
                    ]
                },
                {
                    "data": {
                        "text/plain": [
                            "<keras.callbacks.History at 0x16a62e230>"
                        ]
                    },
                    "execution_count": 10,
                    "metadata": {},
                    "output_type": "execute_result"
                }
            ],
            "source": [
                "model.fit(x_train, y_train, epochs=3)"
            ]
        },
        {
            "cell_type": "code",
            "execution_count": 11,
            "metadata": {},
            "outputs": [
                {
                    "name": "stderr",
                    "output_type": "stream",
                    "text": [
                        "/Users/eli/anaconda3/envs/dev_gini/lib/python3.10/site-packages/keras/engine/training_v1.py:2356: UserWarning: `Model.state_updates` will be removed in a future version. This property should not be used in TensorFlow 2.0, as `updates` are applied automatically.\n",
                        "  updates=self.state_updates,\n"
                    ]
                },
                {
                    "data": {
                        "text/plain": [
                            "array([7, 2, 1, ..., 4, 5, 6])"
                        ]
                    },
                    "execution_count": 11,
                    "metadata": {},
                    "output_type": "execute_result"
                }
            ],
            "source": [
                "y_prob = model.predict(x_test)\n",
                "np.argmax(y_prob, axis=1)"
            ]
        },
        {
            "cell_type": "code",
            "execution_count": 12,
            "metadata": {},
            "outputs": [],
            "source": [
                "from credoai.artifacts import KerasClassificationModel"
            ]
        },
        {
            "cell_type": "code",
            "execution_count": 13,
            "metadata": {},
            "outputs": [],
            "source": [
                "my_model = KerasClassificationModel(\"keras_test\", model)"
            ]
        },
        {
            "cell_type": "code",
            "execution_count": 14,
            "metadata": {},
            "outputs": [
                {
                    "data": {
                        "text/plain": [
                            "array([5, 0, 4, ..., 5, 6, 8])"
                        ]
                    },
                    "execution_count": 14,
                    "metadata": {},
                    "output_type": "execute_result"
                }
            ],
            "source": [
                "my_model.predict(my_data.X)"
            ]
        },
        {
            "cell_type": "markdown",
            "metadata": {},
            "source": [
                "### Lens"
            ]
        },
        {
            "cell_type": "code",
            "execution_count": 19,
            "metadata": {},
            "outputs": [],
            "source": [
                "from credoai.lens import Lens\n",
                "from credoai.evaluators import Performance, DataProfiler"
            ]
        },
        {
            "cell_type": "code",
            "execution_count": 26,
            "metadata": {},
            "outputs": [],
            "source": [
                "lens = Lens(\n",
                "    model=my_model,\n",
                "    assessment_data=my_data,\n",
                ")"
            ]
        },
        {
            "cell_type": "code",
            "execution_count": 27,
            "metadata": {},
            "outputs": [
                {
                    "name": "stdout",
                    "output_type": "stream",
                    "text": [
                        "2022-12-07 14:29:08,605 - lens - INFO - Evaluator Performance added to pipeline. \n"
                    ]
                },
                {
                    "data": {
                        "text/plain": [
                            "<credoai.lens.lens.Lens at 0x2dcbe3eb0>"
                        ]
                    },
                    "execution_count": 27,
                    "metadata": {},
                    "output_type": "execute_result"
                }
            ],
            "source": [
                "metrics = ['accuracy_score']\n",
                "lens.add(Performance(metrics=metrics))"
            ]
        },
        {
            "cell_type": "code",
            "execution_count": 28,
            "metadata": {},
            "outputs": [
                {
                    "ename": "IndexError",
                    "evalue": "list index out of range",
                    "output_type": "error",
                    "traceback": [
                        "\u001b[0;31m---------------------------------------------------------------------------\u001b[0m",
                        "\u001b[0;31mIndexError\u001b[0m                                Traceback (most recent call last)",
                        "\u001b[0;32m/var/folders/78/yrd98kzs0379d654hnvdwrb80000gn/T/ipykernel_95069/1800228733.py\u001b[0m in \u001b[0;36m<cell line: 1>\u001b[0;34m()\u001b[0m\n\u001b[0;32m----> 1\u001b[0;31m \u001b[0mlens\u001b[0m\u001b[0;34m.\u001b[0m\u001b[0madd\u001b[0m\u001b[0;34m(\u001b[0m\u001b[0mDataProfiler\u001b[0m\u001b[0;34m(\u001b[0m\u001b[0;34m)\u001b[0m\u001b[0;34m)\u001b[0m  \u001b[0;31m# errors out\u001b[0m\u001b[0;34m\u001b[0m\u001b[0;34m\u001b[0m\u001b[0m\n\u001b[0m",
                        "\u001b[0;32m~/credoai_lens/credoai/lens/lens.py\u001b[0m in \u001b[0;36madd\u001b[0;34m(self, evaluator, metadata)\u001b[0m\n\u001b[1;32m    146\u001b[0m                 \u001b[0mfeatures_to_eval\u001b[0m \u001b[0;34m=\u001b[0m \u001b[0mself\u001b[0m\u001b[0;34m.\u001b[0m\u001b[0msens_feat_names\u001b[0m\u001b[0;34m\u001b[0m\u001b[0;34m\u001b[0m\u001b[0m\n\u001b[1;32m    147\u001b[0m             \u001b[0;32melse\u001b[0m\u001b[0;34m:\u001b[0m\u001b[0;34m\u001b[0m\u001b[0;34m\u001b[0m\u001b[0m\n\u001b[0;32m--> 148\u001b[0;31m                 \u001b[0mfeatures_to_eval\u001b[0m \u001b[0;34m=\u001b[0m \u001b[0;34m[\u001b[0m\u001b[0mself\u001b[0m\u001b[0;34m.\u001b[0m\u001b[0msens_feat_names\u001b[0m\u001b[0;34m[\u001b[0m\u001b[0;36m0\u001b[0m\u001b[0;34m]\u001b[0m\u001b[0;34m]\u001b[0m  \u001b[0;31m# Cycle only once\u001b[0m\u001b[0;34m\u001b[0m\u001b[0;34m\u001b[0m\u001b[0m\n\u001b[0m\u001b[1;32m    149\u001b[0m \u001b[0;34m\u001b[0m\u001b[0m\n\u001b[1;32m    150\u001b[0m             self._cycle_add_through_ds_feat(\n",
                        "\u001b[0;31mIndexError\u001b[0m: list index out of range"
                    ]
                }
            ],
            "source": [
                "lens.add(DataProfiler())  # errors out"
            ]
        },
        {
            "cell_type": "code",
            "execution_count": 22,
            "metadata": {},
            "outputs": [
                {
                    "name": "stdout",
                    "output_type": "stream",
                    "text": [
                        "[Parallel(n_jobs=1)]: Using backend SequentialBackend with 1 concurrent workers.\n",
                        "[Parallel(n_jobs=1)]: Done   1 out of   1 | elapsed:    0.0s remaining:    0.0s\n",
                        "[Parallel(n_jobs=1)]: Done   1 out of   1 | elapsed:    0.0s finished\n"
                    ]
                },
                {
                    "data": {
                        "text/plain": [
                            "<credoai.lens.lens.Lens at 0x2dcbe3b50>"
                        ]
                    },
                    "execution_count": 22,
                    "metadata": {},
                    "output_type": "execute_result"
                }
            ],
            "source": [
                "lens.run()"
            ]
        },
        {
            "cell_type": "code",
            "execution_count": 25,
            "metadata": {},
            "outputs": [
                {
                    "data": {
                        "text/html": [
                            "<div>\n",
                            "<style scoped>\n",
                            "    .dataframe tbody tr th:only-of-type {\n",
                            "        vertical-align: middle;\n",
                            "    }\n",
                            "\n",
                            "    .dataframe tbody tr th {\n",
                            "        vertical-align: top;\n",
                            "    }\n",
                            "\n",
                            "    .dataframe thead th {\n",
                            "        text-align: right;\n",
                            "    }\n",
                            "</style>\n",
                            "<table border=\"1\" class=\"dataframe\">\n",
                            "  <thead>\n",
                            "    <tr style=\"text-align: right;\">\n",
                            "      <th></th>\n",
                            "      <th>true_label</th>\n",
                            "      <th>predicted_label</th>\n",
                            "      <th>value</th>\n",
                            "    </tr>\n",
                            "  </thead>\n",
                            "  <tbody>\n",
                            "    <tr>\n",
                            "      <th>0</th>\n",
                            "      <td>0</td>\n",
                            "      <td>0</td>\n",
                            "      <td>0.990883</td>\n",
                            "    </tr>\n",
                            "    <tr>\n",
                            "      <th>1</th>\n",
                            "      <td>1</td>\n",
                            "      <td>0</td>\n",
                            "      <td>0.000148</td>\n",
                            "    </tr>\n",
                            "    <tr>\n",
                            "      <th>2</th>\n",
                            "      <td>2</td>\n",
                            "      <td>0</td>\n",
                            "      <td>0.001511</td>\n",
                            "    </tr>\n",
                            "    <tr>\n",
                            "      <th>3</th>\n",
                            "      <td>3</td>\n",
                            "      <td>0</td>\n",
                            "      <td>0.000163</td>\n",
                            "    </tr>\n",
                            "    <tr>\n",
                            "      <th>4</th>\n",
                            "      <td>4</td>\n",
                            "      <td>0</td>\n",
                            "      <td>0.000514</td>\n",
                            "    </tr>\n",
                            "    <tr>\n",
                            "      <th>...</th>\n",
                            "      <td>...</td>\n",
                            "      <td>...</td>\n",
                            "      <td>...</td>\n",
                            "    </tr>\n",
                            "    <tr>\n",
                            "      <th>95</th>\n",
                            "      <td>5</td>\n",
                            "      <td>9</td>\n",
                            "      <td>0.002029</td>\n",
                            "    </tr>\n",
                            "    <tr>\n",
                            "      <th>96</th>\n",
                            "      <td>6</td>\n",
                            "      <td>9</td>\n",
                            "      <td>0.000000</td>\n",
                            "    </tr>\n",
                            "    <tr>\n",
                            "      <th>97</th>\n",
                            "      <td>7</td>\n",
                            "      <td>9</td>\n",
                            "      <td>0.001277</td>\n",
                            "    </tr>\n",
                            "    <tr>\n",
                            "      <th>98</th>\n",
                            "      <td>8</td>\n",
                            "      <td>9</td>\n",
                            "      <td>0.001367</td>\n",
                            "    </tr>\n",
                            "    <tr>\n",
                            "      <th>99</th>\n",
                            "      <td>9</td>\n",
                            "      <td>9</td>\n",
                            "      <td>0.956127</td>\n",
                            "    </tr>\n",
                            "  </tbody>\n",
                            "</table>\n",
                            "<p>100 rows × 3 columns</p>\n",
                            "</div>"
                        ],
                        "text/plain": [
                            "    true_label predicted_label     value\n",
                            "0            0               0  0.990883\n",
                            "1            1               0  0.000148\n",
                            "2            2               0  0.001511\n",
                            "3            3               0  0.000163\n",
                            "4            4               0  0.000514\n",
                            "..         ...             ...       ...\n",
                            "95           5               9  0.002029\n",
                            "96           6               9  0.000000\n",
                            "97           7               9  0.001277\n",
                            "98           8               9  0.001367\n",
                            "99           9               9  0.956127\n",
                            "\n",
                            "[100 rows x 3 columns]"
                        ]
                    },
                    "execution_count": 25,
                    "metadata": {},
                    "output_type": "execute_result"
                }
            ],
            "source": [
                "lens.get_results()[0]['results'][1]"
            ]
        },
        {
            "cell_type": "code",
            "execution_count": null,
            "metadata": {},
            "outputs": [],
            "source": []
        }
    ],
    "metadata": {
        "kernelspec": {
            "display_name": "Python 3.10.6 ('dev_gini')",
            "language": "python",
            "name": "python3"
        },
        "language_info": {
            "codemirror_mode": {
                "name": "ipython",
                "version": 3
            },
            "file_extension": ".py",
            "mimetype": "text/x-python",
            "name": "python",
            "nbconvert_exporter": "python",
            "pygments_lexer": "ipython3",
            "version": "3.10.6"
        },
        "orig_nbformat": 4,
        "vscode": {
            "interpreter": {
                "hash": "975a088070882147f8de9db5a531bf41cdbf56f68ebdbe6c3f86024c84ce6dc0"
            }
        }
    },
    "nbformat": 4,
    "nbformat_minor": 2
}
