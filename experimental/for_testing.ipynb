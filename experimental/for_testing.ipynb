{
 "cells": [
  {
   "cell_type": "code",
   "execution_count": null,
   "id": "0a5635aa",
   "metadata": {},
   "outputs": [],
   "source": [
    "# imports for example data and model training\n",
    "from credoai.data import fetch_creditdefault\n",
    "from credoai.assessment import *\n",
    "from sklearn.ensemble import GradientBoostingClassifier\n",
    "\n",
    "# Base Lens imports\n",
    "import credoai.lens as cl\n",
    "\n",
    "# set default format for image displays. Change to 'png' if 'svg' is failing\n",
    "%config InlineBackend.figure_formats = ['svg']"
   ]
  },
  {
   "cell_type": "code",
   "execution_count": null,
   "id": "43dc297e",
   "metadata": {},
   "outputs": [],
   "source": [
    "data = fetch_creditdefault()\n",
    "df = data['data']\n",
    "df['target'] = data['target'].astype(int)\n",
    "\n",
    "model = GradientBoostingClassifier()\n",
    "X = df.drop(columns=['SEX', 'target'])\n",
    "y = df['target']\n",
    "model.fit(X,y)"
   ]
  },
  {
   "cell_type": "code",
   "execution_count": null,
   "id": "7ac7f734",
   "metadata": {
    "tags": []
   },
   "outputs": [],
   "source": [
    "# set up moden and data artifacts\n",
    "credo_model = cl.CredoModel(name='credit_default_classifier',\n",
    "                            model=model)\n",
    "\n",
    "credo_data = cl.CredoData(name='UCI-credit-default',\n",
    "                          data=df,\n",
    "                          sensitive_feature_key='SEX',\n",
    "                          label_key='target'\n",
    "                          )\n",
    "gov = cl.CredoGovernance(use_case_id='8KV2XFBmE6SfXDQn8AZ3Yf',\n",
    "                         model_id='2ok8h2aDFkTgounyzrPyiF')\n",
    "\n",
    "# specify the metrics that will be used by the FairnessBase assessment\n",
    "alignment_spec = {'FairnessBase': {'metrics': ['precision_score', 'recall_score', 'equal_opportunity']}}\n",
    "# run lens\n",
    "lens = cl.Lens(model=credo_model,\n",
    "               data=credo_data,\n",
    "               spec=alignment_spec,\n",
    "               governance=gov,\n",
    "               assessments = [FairnessBaseAssessment()],\n",
    "               dev_mode=True)\n",
    "               \n",
    "lens.run_assessments()\n",
    "# visualize the report\n",
    "reporters, lens_report = lens.create_reports(display_results=False)\n",
    "\n",
    "## Uncomment to test.\n",
    "# # export the report to disk\n",
    "# import os\n",
    "# output_directory = os.path.join(os.path.expanduser('~'), 'credoai_test_location')\n",
    "# # save as a jupyter notebook\n",
    "# report.write_notebook(os.path.join(output_directory, 'my_report.ipynb'))"
   ]
  },
  {
   "cell_type": "code",
   "execution_count": null,
   "id": "0665b3a5-6be8-4c6b-a363-72dba009acfb",
   "metadata": {},
   "outputs": [],
   "source": [
    "request_out = lens.export_assessments(report=lens_report)"
   ]
  }
 ],
 "metadata": {
  "kernelspec": {
   "display_name": "Python 3 (ipykernel)",
   "language": "python",
   "name": "python3"
  },
  "language_info": {
   "codemirror_mode": {
    "name": "ipython",
    "version": 3
   },
   "file_extension": ".py",
   "mimetype": "text/x-python",
   "name": "python",
   "nbconvert_exporter": "python",
   "pygments_lexer": "ipython3",
   "version": "3.9.10"
  }
 },
 "nbformat": 4,
 "nbformat_minor": 5
}
