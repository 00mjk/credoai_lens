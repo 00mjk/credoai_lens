{
 "cells": [
  {
   "cell_type": "markdown",
   "id": "47af8471",
   "metadata": {},
   "source": [
    "# Quickstart"
   ]
  },
  {
   "cell_type": "markdown",
   "id": "9615d6df",
   "metadata": {},
   "source": [
    "## Installation\n",
    "\n",
    "CredoAI Lens can be installed with pip from PyPI as follows:\n",
    "\n",
    "`pip install credoai`\n",
    "\n",
    "Optional dependencies can be installed as follows:\n",
    "\n",
    "`pip install credoai[extras]`"
   ]
  },
  {
   "cell_type": "markdown",
   "id": "a1ec8249",
   "metadata": {},
   "source": [
    "## Overview\n",
    "\n",
    "CredoAI Lens is the assessment framework component of the broader CredoAI suite.\n",
    "It is usable as a standalone gateway to assessments or in combination\n",
    "with CredoAI's Governance Platform. \n",
    "\n",
    "Understanding how your AI systems are operating is the most important step in intervening upon your system. From the technically compliated questions of improving a system to the business-relevant questions of whether to deploy a system - everything is fundamentally founded upon good observability. Lens strives to make assessment comprehensive, easy, and adaptable.\n",
    "\n",
    "### Assessments\n",
    "\n",
    "CredoAI Lens is an entrypoint to asssessments developed by CredoAI, as well as the broader ecosystem of open source assessments. Custom analytics can also be folded in easily (see the `lens customization` notebook)\n",
    "\n",
    "AI system assessment starts with verifying standard performance metrics to an evolving set of assessments falling under the banner of *Responsible AI*. A non-exhaustive list includes\n",
    "\n",
    "* Fairness\n",
    "* Explainability\n",
    "* Performance\n",
    "* Robustness\n",
    "\n",
    "These different categories of assessment differ substantially based on whether one is \n",
    "evaluating datasets or models, what kind of model (e.g., tabular, NLP, computer vision), and the use-case. As the ecosystem develops, Lens will support assessing a broader range of AI systems. Currently, we are focused on Fairness.\n",
    "\n",
    "### Governance\n",
    "\n",
    "While Lens is a stand alone assessment framework, it's value is increased when combined with the CredoAI Governance Platform. The platform supports multi-stakeholder `Alignment` on how to assess your AI systems (e.g., what does good look like for this system?). It also supports translating assessment results into a Risk perspective that is scalable across your organization and understandable to diverse stakeholders.\n",
    "\n"
   ]
  },
  {
   "cell_type": "markdown",
   "id": "533ef956",
   "metadata": {},
   "source": [
    "## Lens in 5 minutes"
   ]
  },
  {
   "cell_type": "markdown",
   "id": "0c7a6339",
   "metadata": {},
   "source": [
    "Get your data and models together! Here we have an support vector machine trained on the Iris Dataset. No train/test split needed for this tutorial!"
   ]
  },
  {
   "cell_type": "code",
   "execution_count": 1,
   "id": "03871155",
   "metadata": {},
   "outputs": [],
   "source": [
    "from credoai.data import fetch_creditdefault\n",
    "from sklearn.ensemble import GradientBoostingClassifier"
   ]
  },
  {
   "cell_type": "code",
   "execution_count": 2,
   "id": "80fa56cd",
   "metadata": {},
   "outputs": [
    {
     "name": "stdout",
     "output_type": "stream",
     "text": [
      "\n",
      "\n",
      "Failed to import tensorflow. Please note that tensorflow is not installed by default when you install tensorflow_hub. This is so that users can decide which tensorflow package to use. To use tensorflow_hub, please install a current version of tensorflow by following the instructions at https://tensorflow.org/install and https://tensorflow.org/hub/installation.\n",
      "\n",
      "\n"
     ]
    }
   ],
   "source": [
    "data = fetch_creditdefault(as_frame=True)\n",
    "X = data['data'].drop(columns=['SEX'])\n",
    "y = data['target']\n",
    "sensitive_feature = data['data']['SEX']"
   ]
  },
  {
   "cell_type": "code",
   "execution_count": 3,
   "id": "436ede22",
   "metadata": {},
   "outputs": [
    {
     "data": {
      "text/plain": [
       "GradientBoostingClassifier()"
      ]
     },
     "execution_count": 3,
     "metadata": {},
     "output_type": "execute_result"
    }
   ],
   "source": [
    "model = GradientBoostingClassifier()\n",
    "model.fit(X,y)"
   ]
  },
  {
   "cell_type": "markdown",
   "id": "6478fe1d",
   "metadata": {},
   "source": [
    "### Using Lens\n",
    "\n",
    "Lens interacts with Credo Artifacts which wrap models and datasets and standardizes them for use by different assessments."
   ]
  },
  {
   "cell_type": "code",
   "execution_count": 4,
   "id": "ccc25be8",
   "metadata": {},
   "outputs": [],
   "source": [
    "from credoai.lens import Lens, CredoModel, CredoData\n",
    "from credoai.assessment.assessments import FairnessAssessment"
   ]
  },
  {
   "cell_type": "code",
   "execution_count": 5,
   "id": "6e7b31a8",
   "metadata": {},
   "outputs": [],
   "source": [
    "credo_model = CredoModel(name='credit_default_classifier',\n",
    "                         model=model)\n",
    "\n",
    "# no sensitive feature! need to correct. Better dataset needed\n",
    "credo_data = CredoData(name='UCI-credit-default',\n",
    "                       X=X, \n",
    "                       y=y.astype(int),\n",
    "                       sensitive_features=sensitive_feature)"
   ]
  },
  {
   "cell_type": "markdown",
   "id": "e816298b",
   "metadata": {},
   "source": [
    "The Alignment Manifest describes how the assesments should be run at a high level. It should be thought of as the output of a multi-stakeholder alignment session on \"how we should assess this AI system\".\n",
    "\n",
    "It is essentially a subset of all possible parameterizations of the different assessments you will run."
   ]
  },
  {
   "cell_type": "code",
   "execution_count": 6,
   "id": "46d49525",
   "metadata": {},
   "outputs": [],
   "source": [
    "alignment_manifest = {'metrics': ['precision_score']}"
   ]
  },
  {
   "cell_type": "code",
   "execution_count": 7,
   "id": "c4ac6ca8",
   "metadata": {},
   "outputs": [],
   "source": [
    "lens = Lens(model=credo_model,\n",
    "            data=credo_data,\n",
    "            assessments=[FairnessAssessment()],\n",
    "            manifest=alignment_manifest)"
   ]
  },
  {
   "cell_type": "code",
   "execution_count": 8,
   "id": "af8b0952",
   "metadata": {},
   "outputs": [],
   "source": [
    "results = lens.run_assessments()"
   ]
  },
  {
   "cell_type": "code",
   "execution_count": 9,
   "id": "b23af665",
   "metadata": {},
   "outputs": [
    {
     "data": {
      "text/html": [
       "<div>\n",
       "<style scoped>\n",
       "    .dataframe tbody tr th:only-of-type {\n",
       "        vertical-align: middle;\n",
       "    }\n",
       "\n",
       "    .dataframe tbody tr th {\n",
       "        vertical-align: top;\n",
       "    }\n",
       "\n",
       "    .dataframe thead th {\n",
       "        text-align: right;\n",
       "    }\n",
       "</style>\n",
       "<table border=\"1\" class=\"dataframe\">\n",
       "  <thead>\n",
       "    <tr style=\"text-align: right;\">\n",
       "      <th></th>\n",
       "      <th>value</th>\n",
       "    </tr>\n",
       "  </thead>\n",
       "  <tbody>\n",
       "    <tr>\n",
       "      <th>precision_score</th>\n",
       "      <td>0.000543</td>\n",
       "    </tr>\n",
       "  </tbody>\n",
       "</table>\n",
       "</div>"
      ],
      "text/plain": [
       "                    value\n",
       "precision_score  0.000543"
      ]
     },
     "execution_count": 9,
     "metadata": {},
     "output_type": "execute_result"
    }
   ],
   "source": [
    "results['FairnessBase']['fairness']"
   ]
  }
 ],
 "metadata": {
  "kernelspec": {
   "display_name": "Python 3",
   "language": "python",
   "name": "python3"
  },
  "language_info": {
   "codemirror_mode": {
    "name": "ipython",
    "version": 3
   },
   "file_extension": ".py",
   "mimetype": "text/x-python",
   "name": "python",
   "nbconvert_exporter": "python",
   "pygments_lexer": "ipython3",
   "version": "3.9.7"
  }
 },
 "nbformat": 4,
 "nbformat_minor": 5
}
