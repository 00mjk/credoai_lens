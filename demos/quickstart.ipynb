{
 "cells": [
  {
   "cell_type": "markdown",
   "id": "fa3cc0c0",
   "metadata": {},
   "source": [
    "# Quickstart"
   ]
  },
  {
   "cell_type": "markdown",
   "id": "8a1377e9",
   "metadata": {},
   "source": [
    "## Installation\n",
    "\n",
    "CredoAI Lens can be installed with pip from PyPI as follows:\n",
    "\n",
    "`pip install credoai`\n",
    "\n",
    "Optional dependencies can be installed as follows:\n",
    "\n",
    "`pip install credoai[extras]`"
   ]
  },
  {
   "cell_type": "markdown",
   "id": "51c2f288",
   "metadata": {},
   "source": [
    "## Overview\n",
    "\n",
    "CredoAI Lens is the assessment framework component of the broader CredoAI suite.\n",
    "It is usable as a standalone gateway to assessments or in combination\n",
    "with CredoAI's Governance Platform. \n",
    "\n",
    "Understanding how your AI systems are operating is the most important step in intervening upon your system. From the technically compliated questions of improving a system to the business-relevant questions of whether to deploy a system - everything is fundamentally founded upon good observability. Lens strives to make assessment comprehensive, easy, and adaptable.\n",
    "\n",
    "### Assessments\n",
    "\n",
    "CredoAI Lens is an entrypoint to asssessments developed by CredoAI, as well as the broader ecosystem of open source assessments. Custom analytics can also be folded in easily (see the `lens customization` notebook)\n",
    "\n",
    "AI system assessment starts with verifying standard performance metrics to an evolving set of assessments falling under the banner of *Responsible AI*. A non-exhaustive list includes\n",
    "\n",
    "* Fairness\n",
    "* Explainability\n",
    "* Performance\n",
    "* Robustness\n",
    "\n",
    "These different categories of assessment differ substantially based on whether one is \n",
    "evaluating datasets or models, what kind of model (e.g., tabular, NLP, computer vision), and the use-case. As the ecosystem develops, Lens will support assessing a broader range of AI systems. Currently, we are focused on Fairness.\n",
    "\n",
    "### Governance\n",
    "\n",
    "While Lens is a stand alone assessment framework, it's value is increased when combined with the CredoAI Governance Platform. The platform supports multi-stakeholder `Alignment` on how to assess your AI systems (e.g., what does good look like for this system?). It also supports translating assessment results into a Risk perspective that is scalable across your organization and understandable to diverse stakeholders.\n",
    "\n"
   ]
  },
  {
   "cell_type": "markdown",
   "id": "739357cd",
   "metadata": {},
   "source": [
    "## Lens in 5 minutes"
   ]
  },
  {
   "cell_type": "markdown",
   "id": "60ee2c95",
   "metadata": {},
   "source": [
    "Get your data and models together! Here we have an support vector machine trained on the Iris Dataset. No train/test split needed for this tutorial!"
   ]
  },
  {
   "cell_type": "code",
   "execution_count": 1,
   "id": "16155497",
   "metadata": {},
   "outputs": [
    {
     "data": {
      "text/plain": [
       "SVC(probability=True)"
      ]
     },
     "execution_count": 1,
     "metadata": {},
     "output_type": "execute_result"
    }
   ],
   "source": [
    "from sklearn.datasets import load_iris\n",
    "from sklearn.svm import SVC\n",
    "# load data\n",
    "iris = load_iris(as_frame=True)\n",
    "X, y = iris['frame'], iris['target']\n",
    "# make model\n",
    "model = SVC(probability=True)\n",
    "model.fit(X, y)"
   ]
  },
  {
   "cell_type": "markdown",
   "id": "cdbf3a34",
   "metadata": {},
   "source": [
    "### Using Lens\n",
    "\n",
    "Lens interacts with Credo Artifacts which wrap models and datasets and standardizes them for use by different assessments."
   ]
  },
  {
   "cell_type": "code",
   "execution_count": 2,
   "id": "4836bebb",
   "metadata": {},
   "outputs": [],
   "source": [
    "from credoai.lens import Lens, CredoModel, CredoData"
   ]
  },
  {
   "cell_type": "code",
   "execution_count": 7,
   "id": "62bc79bd",
   "metadata": {},
   "outputs": [],
   "source": [
    "credo_model = CredoModel(name='iris_classifier',\n",
    "                         model=model)\n",
    "\n",
    "# no sensitive feature! need to correct. Better dataset needed\n",
    "credo_data = CredoData(name='iris',\n",
    "                       X=X, \n",
    "                       y=y,\n",
    "                      sensitive_features=y)"
   ]
  },
  {
   "cell_type": "code",
   "execution_count": 5,
   "id": "151dc537",
   "metadata": {},
   "outputs": [],
   "source": [
    "lens = Lens(model=credo_model,\n",
    "            data=credo_data)"
   ]
  }
 ],
 "metadata": {
  "kernelspec": {
   "display_name": "Python 3",
   "language": "python",
   "name": "python3"
  },
  "language_info": {
   "codemirror_mode": {
    "name": "ipython",
    "version": 3
   },
   "file_extension": ".py",
   "mimetype": "text/x-python",
   "name": "python",
   "nbconvert_exporter": "python",
   "pygments_lexer": "ipython3",
   "version": "3.9.7"
  }
 },
 "nbformat": 4,
 "nbformat_minor": 5
}
