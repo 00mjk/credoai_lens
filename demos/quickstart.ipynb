{
 "cells": [
  {
   "cell_type": "markdown",
   "id": "94929ad5",
   "metadata": {},
   "source": [
    "# Quickstart"
   ]
  },
  {
   "cell_type": "markdown",
   "id": "101b7f0c",
   "metadata": {},
   "source": [
    "## Installation\n",
    "\n",
    "CredoAI Lens can be installed with pip from PyPI as follows:\n",
    "\n",
    "`pip install credoai`\n",
    "\n",
    "Optional dependencies can be installed as follows:\n",
    "\n",
    "`pip install credoai[extras]`"
   ]
  },
  {
   "cell_type": "markdown",
   "id": "5ca613bd",
   "metadata": {},
   "source": [
    "## Overview\n",
    "\n",
    "CredoAI Lens is the assessment framework component of the broader CredoAI suite.\n",
    "It is usable as a standalone gateway to assessments or in combination\n",
    "with CredoAI's Governance Platform. \n",
    "\n",
    "Understanding how your AI systems are operating is the most important step in intervening upon your system. From the technically compliated questions of improving a system to the business-relevant questions of whether to deploy a system - everything is fundamentally founded upon good observability. Lens strives to make assessment comprehensive, easy, and adaptable.\n",
    "\n",
    "### Assessments\n",
    "\n",
    "CredoAI Lens is an entrypoint to asssessments developed by CredoAI, as well as the broader ecosystem of open source assessments. Custom analytics can also be folded in easily (see the `lens customization` notebook)\n",
    "\n",
    "AI system assessment starts with verifying standard performance metrics to an evolving set of assessments falling under the banner of *Responsible AI*. A non-exhaustive list includes\n",
    "\n",
    "* Fairness\n",
    "* Explainability\n",
    "* Performance\n",
    "* Robustness\n",
    "\n",
    "These different categories of assessment differ substantially based on whether one is \n",
    "evaluating datasets or models, what kind of model (e.g., tabular, NLP, computer vision), and the use-case. As the ecosystem develops, Lens will support assessing a broader range of AI systems. Currently, we are focused on Fairness.\n",
    "\n",
    "### Governance\n",
    "\n",
    "While Lens is a stand alone assessment framework, it's value is increased when combined with the CredoAI Governance Platform. The platform supports multi-stakeholder `Alignment` on how to assess your AI systems (e.g., what does good look like for this system?). It also supports translating assessment results into a Risk perspective that is scalable across your organization and understandable to diverse stakeholders.\n",
    "\n"
   ]
  },
  {
   "cell_type": "markdown",
   "id": "00ebdcaf",
   "metadata": {},
   "source": [
    "## Lens in 5 minutes"
   ]
  },
  {
   "cell_type": "markdown",
   "id": "730f17ab",
   "metadata": {},
   "source": [
    "Get your data and models together! Here we have an support vector machine trained on the Iris Dataset. No train/test split needed for this tutorial!"
   ]
  },
  {
   "cell_type": "code",
   "execution_count": 1,
   "id": "6fbd1b21",
   "metadata": {},
   "outputs": [],
   "source": [
    "from credoai.data import fetch_creditdefault\n",
    "from credoai.utils.model_utils import get_gradient_boost_model\n",
    "from sklearn.ensemble import GradientBoostingClassifier\n",
    "from sklearn.linear_model import LogisticRegression"
   ]
  },
  {
   "cell_type": "code",
   "execution_count": 3,
   "id": "6837c4f5",
   "metadata": {},
   "outputs": [],
   "source": [
    "data = fetch_creditdefault(as_frame=True)\n",
    "X = data['data'].drop(columns=['SEX'])\n",
    "y = data['target']\n",
    "sensitive_feature = data['data']['SEX']"
   ]
  },
  {
   "cell_type": "code",
   "execution_count": null,
   "id": "d23598d2",
   "metadata": {},
   "outputs": [],
   "source": [
    "model = GradientBoostingClassifier()\n",
    "model.fit(X,y)"
   ]
  },
  {
   "cell_type": "markdown",
   "id": "dd8f706f",
   "metadata": {},
   "source": [
    "### Using Lens\n",
    "\n",
    "Lens interacts with Credo Artifacts which wrap models and datasets and standardizes them for use by different assessments."
   ]
  },
  {
   "cell_type": "code",
   "execution_count": null,
   "id": "446c8aaa",
   "metadata": {},
   "outputs": [],
   "source": [
    "from credoai.lens import Lens, CredoModel, CredoData\n",
    "from credoai.assessment.assessments import FairnessAssessment"
   ]
  },
  {
   "cell_type": "code",
   "execution_count": null,
   "id": "41898d7b",
   "metadata": {},
   "outputs": [],
   "source": [
    "credo_model = CredoModel(name='credit_default_classifier',\n",
    "                         model=model)\n",
    "\n",
    "# no sensitive feature! need to correct. Better dataset needed\n",
    "credo_data = CredoData(name='UCI-credit-default',\n",
    "                       X=X, \n",
    "                       y=y.astype(int),\n",
    "                       sensitive_features=sensitive_feature)"
   ]
  },
  {
   "cell_type": "code",
   "execution_count": null,
   "id": "421f0f7e",
   "metadata": {},
   "outputs": [],
   "source": [
    "scope = {'metrics': ['precision_score']}"
   ]
  },
  {
   "cell_type": "code",
   "execution_count": null,
   "id": "de442f54",
   "metadata": {},
   "outputs": [],
   "source": [
    "lens = Lens(model=credo_model,\n",
    "            data=credo_data,\n",
    "            assessments=[FairnessAssessment()],\n",
    "            scope=scope)"
   ]
  },
  {
   "cell_type": "code",
   "execution_count": null,
   "id": "2cd09850",
   "metadata": {},
   "outputs": [],
   "source": [
    "results = lens.run_assessments()"
   ]
  },
  {
   "cell_type": "code",
   "execution_count": null,
   "id": "28175c5a",
   "metadata": {},
   "outputs": [],
   "source": [
    "results['FairnessBase']['fairness']"
   ]
  },
  {
   "cell_type": "code",
   "execution_count": null,
   "id": "8bcce4da",
   "metadata": {},
   "outputs": [],
   "source": []
  }
 ],
 "metadata": {
  "kernelspec": {
   "display_name": "Python 3",
   "language": "python",
   "name": "python3"
  },
  "language_info": {
   "codemirror_mode": {
    "name": "ipython",
    "version": 3
   },
   "file_extension": ".py",
   "mimetype": "text/x-python",
   "name": "python",
   "nbconvert_exporter": "python",
   "pygments_lexer": "ipython3",
   "version": "3.9.7"
  }
 },
 "nbformat": 4,
 "nbformat_minor": 5
}
